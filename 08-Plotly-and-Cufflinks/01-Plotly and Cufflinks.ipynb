{
 "cells": [
  {
   "cell_type": "markdown",
   "metadata": {},
   "source": [
    "___\n",
    "\n",
    "\n",
    "___\n",
    "# Plotly and Cufflinks"
   ]
  },
  {
   "cell_type": "markdown",
   "metadata": {},
   "source": [
    "Plotly adalah perpustakaan yang memungkinkan Anda membuat plot interaktif yang dapat Anda gunakan di dasbor atau situs web (Anda dapat menyimpannya sebagai file html atau gambar statis).\n",
    "\n",
    "## Instalasi\n",
    "\n",
    "Agar semua ini berfungsi, Anda harus menginstal plotly dan manset untuk memanggil plot langsung dari kerangka data panda. Perpustakaan-perpustakaan ini saat ini tidak tersedia melalui ** conda ** tetapi tersedia melalui ** pip **. Instal perpustakaan di baris perintah / terminal Anda menggunakan:\n",
    "\n",
    "    pip install plotly\n",
    "    pip install cufflinks\n",
    "    \n",
    "    atau\n",
    "    \n",
    "    Conda install plotly\n",
    "    Cond install cufflinks\n",
    "\n",
    "** CATATAN: Pastikan Anda hanya memiliki satu instalasi Python di komputer Anda ketika Anda melakukan ini, jika tidak instalasi mungkin tidak berfungsi. **\n",
    "\n",
    "## Impor dan Pengaturan"
   ]
  },
  {
   "cell_type": "code",
   "execution_count": 5,
   "metadata": {},
   "outputs": [],
   "source": [
    "import pandas as pd\n",
    "import numpy as np\n",
    "%matplotlib inline"
   ]
  },
  {
   "cell_type": "code",
   "execution_count": 6,
   "metadata": {},
   "outputs": [
    {
     "name": "stdout",
     "output_type": "stream",
     "text": [
      "4.5.0\n"
     ]
    }
   ],
   "source": [
    "from plotly import __version__\n",
    "from plotly.offline import download_plotlyjs, init_notebook_mode, plot, iplot\n",
    "\n",
    "print(__version__) # requires version >= 1.9.0"
   ]
  },
  {
   "cell_type": "code",
   "execution_count": 7,
   "metadata": {},
   "outputs": [],
   "source": [
    "import cufflinks as cf"
   ]
  },
  {
   "cell_type": "code",
   "execution_count": 8,
   "metadata": {},
   "outputs": [
    {
     "data": {
      "text/html": [
       "        <script type=\"text/javascript\">\n",
       "        window.PlotlyConfig = {MathJaxConfig: 'local'};\n",
       "        if (window.MathJax) {MathJax.Hub.Config({SVG: {font: \"STIX-Web\"}});}\n",
       "        if (typeof require !== 'undefined') {\n",
       "        require.undef(\"plotly\");\n",
       "        requirejs.config({\n",
       "            paths: {\n",
       "                'plotly': ['https://cdn.plot.ly/plotly-latest.min']\n",
       "            }\n",
       "        });\n",
       "        require(['plotly'], function(Plotly) {\n",
       "            window._Plotly = Plotly;\n",
       "        });\n",
       "        }\n",
       "        </script>\n",
       "        "
      ]
     },
     "metadata": {},
     "output_type": "display_data"
    }
   ],
   "source": [
    "# For Notebooks\n",
    "init_notebook_mode(connected=True)"
   ]
  },
  {
   "cell_type": "code",
   "execution_count": 9,
   "metadata": {},
   "outputs": [
    {
     "data": {
      "text/html": [
       "        <script type=\"text/javascript\">\n",
       "        window.PlotlyConfig = {MathJaxConfig: 'local'};\n",
       "        if (window.MathJax) {MathJax.Hub.Config({SVG: {font: \"STIX-Web\"}});}\n",
       "        if (typeof require !== 'undefined') {\n",
       "        require.undef(\"plotly\");\n",
       "        requirejs.config({\n",
       "            paths: {\n",
       "                'plotly': ['https://cdn.plot.ly/plotly-latest.min']\n",
       "            }\n",
       "        });\n",
       "        require(['plotly'], function(Plotly) {\n",
       "            window._Plotly = Plotly;\n",
       "        });\n",
       "        }\n",
       "        </script>\n",
       "        "
      ]
     },
     "metadata": {},
     "output_type": "display_data"
    }
   ],
   "source": [
    "# For offline use\n",
    "cf.go_offline()"
   ]
  },
  {
   "cell_type": "markdown",
   "metadata": {},
   "source": [
    "### Fake Data"
   ]
  },
  {
   "cell_type": "code",
   "execution_count": 10,
   "metadata": {},
   "outputs": [],
   "source": [
    "df = pd.DataFrame(np.random.randn(100,4),columns='A B C D'.split())"
   ]
  },
  {
   "cell_type": "code",
   "execution_count": 11,
   "metadata": {},
   "outputs": [
    {
     "data": {
      "text/html": [
       "<div>\n",
       "<style scoped>\n",
       "    .dataframe tbody tr th:only-of-type {\n",
       "        vertical-align: middle;\n",
       "    }\n",
       "\n",
       "    .dataframe tbody tr th {\n",
       "        vertical-align: top;\n",
       "    }\n",
       "\n",
       "    .dataframe thead th {\n",
       "        text-align: right;\n",
       "    }\n",
       "</style>\n",
       "<table border=\"1\" class=\"dataframe\">\n",
       "  <thead>\n",
       "    <tr style=\"text-align: right;\">\n",
       "      <th></th>\n",
       "      <th>A</th>\n",
       "      <th>B</th>\n",
       "      <th>C</th>\n",
       "      <th>D</th>\n",
       "    </tr>\n",
       "  </thead>\n",
       "  <tbody>\n",
       "    <tr>\n",
       "      <td>0</td>\n",
       "      <td>-1.737558</td>\n",
       "      <td>-0.613464</td>\n",
       "      <td>0.042942</td>\n",
       "      <td>-0.316562</td>\n",
       "    </tr>\n",
       "    <tr>\n",
       "      <td>1</td>\n",
       "      <td>2.979843</td>\n",
       "      <td>-0.589394</td>\n",
       "      <td>0.001626</td>\n",
       "      <td>-1.170697</td>\n",
       "    </tr>\n",
       "    <tr>\n",
       "      <td>2</td>\n",
       "      <td>-1.054557</td>\n",
       "      <td>0.081340</td>\n",
       "      <td>1.063304</td>\n",
       "      <td>-1.289346</td>\n",
       "    </tr>\n",
       "    <tr>\n",
       "      <td>3</td>\n",
       "      <td>0.433900</td>\n",
       "      <td>0.539820</td>\n",
       "      <td>-0.026630</td>\n",
       "      <td>-2.881828</td>\n",
       "    </tr>\n",
       "    <tr>\n",
       "      <td>4</td>\n",
       "      <td>0.858952</td>\n",
       "      <td>-1.286750</td>\n",
       "      <td>-1.555666</td>\n",
       "      <td>0.311487</td>\n",
       "    </tr>\n",
       "  </tbody>\n",
       "</table>\n",
       "</div>"
      ],
      "text/plain": [
       "          A         B         C         D\n",
       "0 -1.737558 -0.613464  0.042942 -0.316562\n",
       "1  2.979843 -0.589394  0.001626 -1.170697\n",
       "2 -1.054557  0.081340  1.063304 -1.289346\n",
       "3  0.433900  0.539820 -0.026630 -2.881828\n",
       "4  0.858952 -1.286750 -1.555666  0.311487"
      ]
     },
     "execution_count": 11,
     "metadata": {},
     "output_type": "execute_result"
    }
   ],
   "source": [
    "df.head()"
   ]
  },
  {
   "cell_type": "code",
   "execution_count": 12,
   "metadata": {},
   "outputs": [],
   "source": [
    "df2 = pd.DataFrame({'Category':['A','B','C'],'Values':[32,43,50]})"
   ]
  },
  {
   "cell_type": "code",
   "execution_count": 13,
   "metadata": {},
   "outputs": [
    {
     "data": {
      "text/html": [
       "<div>\n",
       "<style scoped>\n",
       "    .dataframe tbody tr th:only-of-type {\n",
       "        vertical-align: middle;\n",
       "    }\n",
       "\n",
       "    .dataframe tbody tr th {\n",
       "        vertical-align: top;\n",
       "    }\n",
       "\n",
       "    .dataframe thead th {\n",
       "        text-align: right;\n",
       "    }\n",
       "</style>\n",
       "<table border=\"1\" class=\"dataframe\">\n",
       "  <thead>\n",
       "    <tr style=\"text-align: right;\">\n",
       "      <th></th>\n",
       "      <th>Category</th>\n",
       "      <th>Values</th>\n",
       "    </tr>\n",
       "  </thead>\n",
       "  <tbody>\n",
       "    <tr>\n",
       "      <td>0</td>\n",
       "      <td>A</td>\n",
       "      <td>32</td>\n",
       "    </tr>\n",
       "    <tr>\n",
       "      <td>1</td>\n",
       "      <td>B</td>\n",
       "      <td>43</td>\n",
       "    </tr>\n",
       "    <tr>\n",
       "      <td>2</td>\n",
       "      <td>C</td>\n",
       "      <td>50</td>\n",
       "    </tr>\n",
       "  </tbody>\n",
       "</table>\n",
       "</div>"
      ],
      "text/plain": [
       "  Category  Values\n",
       "0        A      32\n",
       "1        B      43\n",
       "2        C      50"
      ]
     },
     "execution_count": 13,
     "metadata": {},
     "output_type": "execute_result"
    }
   ],
   "source": [
    "df2.head()"
   ]
  },
  {
   "cell_type": "markdown",
   "metadata": {},
   "source": [
    "## Using Cufflinks and iplot()\n",
    "\n",
    "* scatter\n",
    "* bar\n",
    "* box\n",
    "* spread\n",
    "* ratio\n",
    "* heatmap\n",
    "* surface\n",
    "* histogram\n",
    "* bubble"
   ]
  },
  {
   "cell_type": "markdown",
   "metadata": {},
   "source": [
    "## Scatter"
   ]
  },
  {
   "cell_type": "code",
   "execution_count": 14,
   "metadata": {},
   "outputs": [
    {
     "data": {
      "application/vnd.plotly.v1+json": {
       "config": {
        "linkText": "Export to plot.ly",
        "plotlyServerURL": "https://plot.ly",
        "showLink": true
       },
       "data": [
        {
         "line": {
          "color": "rgba(255, 153, 51, 1.0)",
          "dash": "solid",
          "shape": "linear",
          "width": 1.3
         },
         "marker": {
          "size": 10,
          "symbol": "circle"
         },
         "mode": "markers",
         "name": "B",
         "text": "",
         "type": "scatter",
         "x": [
          -1.7375580925953535,
          2.9798425210708013,
          -1.0545567985659783,
          0.43389954846861545,
          0.8589522332349308,
          -0.3616114246746602,
          0.08129228111193294,
          -0.03170409927917186,
          -0.07583003895429322,
          -0.6170785337602537,
          0.42007342224209826,
          0.7540336618917531,
          -1.6267688839452992,
          -0.08424646600581756,
          1.0709970757483533,
          0.5344614223479325,
          0.5216582988407987,
          0.2902307834729736,
          0.7713333875300337,
          0.09970764861362018,
          -0.41312988541264173,
          0.23725117555436426,
          0.45540014559384057,
          1.3437792550907464,
          1.6371399457193123,
          -0.23440245785819436,
          -0.48637618154310797,
          -0.579834773798158,
          0.8680435160846539,
          0.7551041963764679,
          -0.08772136484334801,
          0.23371341703090623,
          -1.888646992185423,
          0.5940755907760089,
          1.163188230279187,
          -0.3558795302103094,
          0.4718600454918289,
          -0.35910477190998,
          0.061048874961931045,
          -0.8558643812248122,
          -1.5357472961911194,
          -0.8504932576852609,
          -0.6133178054476308,
          0.9491908322184918,
          0.1776564608865159,
          -0.5718821378304894,
          1.65243316834657,
          -0.11087061947532537,
          0.4910980324309401,
          1.0764950552633994,
          -1.975933995127861,
          0.718412236621663,
          1.0187483843386271,
          -0.4126656589335081,
          -0.5094811755581428,
          1.7238104909238607,
          1.0072177937726334,
          -0.9928195231370098,
          -0.004184549781906393,
          -2.206243361106769,
          -0.34148567476745917,
          -0.3599903270515361,
          0.2785410168023459,
          0.8266359753344356,
          -1.3400718186115126,
          -0.71604405770814,
          -0.9467350650309536,
          1.7565657592263497,
          -1.3808407040749415,
          0.8249918219638933,
          0.5923865214093382,
          0.5489722527089953,
          0.2510612143960188,
          0.5770236369391516,
          -0.9603380055434259,
          2.204799410979961,
          0.41105016526569715,
          0.683944392199121,
          -0.11000348830948538,
          0.6414176378270837,
          1.0266347930797186,
          -1.388195851084029,
          0.8182178748924435,
          -1.3204232028558036,
          -0.5545671097481487,
          0.4039389218568765,
          2.202724388868758,
          -0.9633456260593918,
          -0.21789950334872957,
          -0.22701260850651195,
          1.1924378269478273,
          -0.7278425474496786,
          0.004091598726279457,
          0.7057661322179745,
          1.5454160265945245,
          -0.8387144737436726,
          -0.9116345050477735,
          0.22195334624997998,
          -0.28163161499145284,
          -1.2385386113755583
         ],
         "y": [
          -0.6134635286282765,
          -0.5893938086424193,
          0.08133950161229865,
          0.5398200529846118,
          -1.286750376942333,
          -0.6788265991475018,
          0.6422798598704085,
          -1.1326000096188251,
          -1.4089405831255573,
          -0.1696111304011945,
          -0.8359408788600723,
          -0.056670528140848435,
          -0.10987441558624364,
          1.2252867700864356,
          0.9736400059389726,
          -0.8950702416491216,
          0.5849635299220757,
          -0.5591568492862687,
          1.093907468885399,
          -0.04032620964770699,
          -1.8570080445362416,
          1.063435867461458,
          0.30940121247962055,
          0.20356504119969962,
          0.5413491586427932,
          -0.9985516843900909,
          -0.38598464007661815,
          -2.470204057674452,
          -1.5660784847207427,
          0.6995069319307801,
          0.16873701963464874,
          -2.0917394748944713,
          -0.7018420852463064,
          -0.5091045350909177,
          0.5365362801017167,
          0.268070152134566,
          0.16998613045411123,
          -0.2814630034389793,
          -0.6881656758762982,
          0.3353977553560339,
          -0.4122357782615829,
          0.0713069113135744,
          0.5152980887432727,
          0.1173874661122881,
          0.6291036361334134,
          -0.6239223136538199,
          -0.7908673470758846,
          -0.20854907806217174,
          -0.7554356412524142,
          0.5691658659371732,
          0.4872906627660704,
          -0.6568931090902709,
          -1.4697893098691848,
          0.7939963167521176,
          -0.5037514809518796,
          0.6925055921857803,
          -0.6636143919009947,
          -1.1972565402094348,
          0.7669709172631989,
          0.01664548860746999,
          -0.6201746376242857,
          0.18102028476958157,
          -1.3667500115858608,
          0.016728165945960598,
          1.4575891285742022,
          1.2241908183776857,
          -0.5199035148221082,
          0.9460580315295726,
          -0.24901303381143025,
          -1.1865166471453603,
          1.0594004271570268,
          -0.2271596090232071,
          -0.05009216598693693,
          -0.8742984971963792,
          -1.1035731765413361,
          1.5995978451621455,
          0.07624149161800622,
          -2.056466491887705,
          0.30959943849236954,
          0.5178775860951798,
          -0.10432507962391788,
          -0.17333177878384695,
          0.07609787115295705,
          -0.24644274238062452,
          -0.9241119671704282,
          -0.3624764326414089,
          -1.7236405281460883,
          0.4343231101268886,
          -0.15107912354535877,
          0.36364520144806667,
          -0.45587589815606516,
          -0.6584898542975601,
          -0.15310964482626382,
          0.13819890641935403,
          1.2455627682266015,
          1.8450891467052408,
          -0.616506351567455,
          0.954727000301093,
          -0.7673822279347278,
          -0.5754065115109609
         ]
        }
       ],
       "layout": {
        "legend": {
         "bgcolor": "#F5F6F9",
         "font": {
          "color": "#4D5663"
         }
        },
        "paper_bgcolor": "#F5F6F9",
        "plot_bgcolor": "#F5F6F9",
        "template": {
         "data": {
          "bar": [
           {
            "error_x": {
             "color": "#2a3f5f"
            },
            "error_y": {
             "color": "#2a3f5f"
            },
            "marker": {
             "line": {
              "color": "#E5ECF6",
              "width": 0.5
             }
            },
            "type": "bar"
           }
          ],
          "barpolar": [
           {
            "marker": {
             "line": {
              "color": "#E5ECF6",
              "width": 0.5
             }
            },
            "type": "barpolar"
           }
          ],
          "carpet": [
           {
            "aaxis": {
             "endlinecolor": "#2a3f5f",
             "gridcolor": "white",
             "linecolor": "white",
             "minorgridcolor": "white",
             "startlinecolor": "#2a3f5f"
            },
            "baxis": {
             "endlinecolor": "#2a3f5f",
             "gridcolor": "white",
             "linecolor": "white",
             "minorgridcolor": "white",
             "startlinecolor": "#2a3f5f"
            },
            "type": "carpet"
           }
          ],
          "choropleth": [
           {
            "colorbar": {
             "outlinewidth": 0,
             "ticks": ""
            },
            "type": "choropleth"
           }
          ],
          "contour": [
           {
            "colorbar": {
             "outlinewidth": 0,
             "ticks": ""
            },
            "colorscale": [
             [
              0,
              "#0d0887"
             ],
             [
              0.1111111111111111,
              "#46039f"
             ],
             [
              0.2222222222222222,
              "#7201a8"
             ],
             [
              0.3333333333333333,
              "#9c179e"
             ],
             [
              0.4444444444444444,
              "#bd3786"
             ],
             [
              0.5555555555555556,
              "#d8576b"
             ],
             [
              0.6666666666666666,
              "#ed7953"
             ],
             [
              0.7777777777777778,
              "#fb9f3a"
             ],
             [
              0.8888888888888888,
              "#fdca26"
             ],
             [
              1,
              "#f0f921"
             ]
            ],
            "type": "contour"
           }
          ],
          "contourcarpet": [
           {
            "colorbar": {
             "outlinewidth": 0,
             "ticks": ""
            },
            "type": "contourcarpet"
           }
          ],
          "heatmap": [
           {
            "colorbar": {
             "outlinewidth": 0,
             "ticks": ""
            },
            "colorscale": [
             [
              0,
              "#0d0887"
             ],
             [
              0.1111111111111111,
              "#46039f"
             ],
             [
              0.2222222222222222,
              "#7201a8"
             ],
             [
              0.3333333333333333,
              "#9c179e"
             ],
             [
              0.4444444444444444,
              "#bd3786"
             ],
             [
              0.5555555555555556,
              "#d8576b"
             ],
             [
              0.6666666666666666,
              "#ed7953"
             ],
             [
              0.7777777777777778,
              "#fb9f3a"
             ],
             [
              0.8888888888888888,
              "#fdca26"
             ],
             [
              1,
              "#f0f921"
             ]
            ],
            "type": "heatmap"
           }
          ],
          "heatmapgl": [
           {
            "colorbar": {
             "outlinewidth": 0,
             "ticks": ""
            },
            "colorscale": [
             [
              0,
              "#0d0887"
             ],
             [
              0.1111111111111111,
              "#46039f"
             ],
             [
              0.2222222222222222,
              "#7201a8"
             ],
             [
              0.3333333333333333,
              "#9c179e"
             ],
             [
              0.4444444444444444,
              "#bd3786"
             ],
             [
              0.5555555555555556,
              "#d8576b"
             ],
             [
              0.6666666666666666,
              "#ed7953"
             ],
             [
              0.7777777777777778,
              "#fb9f3a"
             ],
             [
              0.8888888888888888,
              "#fdca26"
             ],
             [
              1,
              "#f0f921"
             ]
            ],
            "type": "heatmapgl"
           }
          ],
          "histogram": [
           {
            "marker": {
             "colorbar": {
              "outlinewidth": 0,
              "ticks": ""
             }
            },
            "type": "histogram"
           }
          ],
          "histogram2d": [
           {
            "colorbar": {
             "outlinewidth": 0,
             "ticks": ""
            },
            "colorscale": [
             [
              0,
              "#0d0887"
             ],
             [
              0.1111111111111111,
              "#46039f"
             ],
             [
              0.2222222222222222,
              "#7201a8"
             ],
             [
              0.3333333333333333,
              "#9c179e"
             ],
             [
              0.4444444444444444,
              "#bd3786"
             ],
             [
              0.5555555555555556,
              "#d8576b"
             ],
             [
              0.6666666666666666,
              "#ed7953"
             ],
             [
              0.7777777777777778,
              "#fb9f3a"
             ],
             [
              0.8888888888888888,
              "#fdca26"
             ],
             [
              1,
              "#f0f921"
             ]
            ],
            "type": "histogram2d"
           }
          ],
          "histogram2dcontour": [
           {
            "colorbar": {
             "outlinewidth": 0,
             "ticks": ""
            },
            "colorscale": [
             [
              0,
              "#0d0887"
             ],
             [
              0.1111111111111111,
              "#46039f"
             ],
             [
              0.2222222222222222,
              "#7201a8"
             ],
             [
              0.3333333333333333,
              "#9c179e"
             ],
             [
              0.4444444444444444,
              "#bd3786"
             ],
             [
              0.5555555555555556,
              "#d8576b"
             ],
             [
              0.6666666666666666,
              "#ed7953"
             ],
             [
              0.7777777777777778,
              "#fb9f3a"
             ],
             [
              0.8888888888888888,
              "#fdca26"
             ],
             [
              1,
              "#f0f921"
             ]
            ],
            "type": "histogram2dcontour"
           }
          ],
          "mesh3d": [
           {
            "colorbar": {
             "outlinewidth": 0,
             "ticks": ""
            },
            "type": "mesh3d"
           }
          ],
          "parcoords": [
           {
            "line": {
             "colorbar": {
              "outlinewidth": 0,
              "ticks": ""
             }
            },
            "type": "parcoords"
           }
          ],
          "pie": [
           {
            "automargin": true,
            "type": "pie"
           }
          ],
          "scatter": [
           {
            "marker": {
             "colorbar": {
              "outlinewidth": 0,
              "ticks": ""
             }
            },
            "type": "scatter"
           }
          ],
          "scatter3d": [
           {
            "line": {
             "colorbar": {
              "outlinewidth": 0,
              "ticks": ""
             }
            },
            "marker": {
             "colorbar": {
              "outlinewidth": 0,
              "ticks": ""
             }
            },
            "type": "scatter3d"
           }
          ],
          "scattercarpet": [
           {
            "marker": {
             "colorbar": {
              "outlinewidth": 0,
              "ticks": ""
             }
            },
            "type": "scattercarpet"
           }
          ],
          "scattergeo": [
           {
            "marker": {
             "colorbar": {
              "outlinewidth": 0,
              "ticks": ""
             }
            },
            "type": "scattergeo"
           }
          ],
          "scattergl": [
           {
            "marker": {
             "colorbar": {
              "outlinewidth": 0,
              "ticks": ""
             }
            },
            "type": "scattergl"
           }
          ],
          "scattermapbox": [
           {
            "marker": {
             "colorbar": {
              "outlinewidth": 0,
              "ticks": ""
             }
            },
            "type": "scattermapbox"
           }
          ],
          "scatterpolar": [
           {
            "marker": {
             "colorbar": {
              "outlinewidth": 0,
              "ticks": ""
             }
            },
            "type": "scatterpolar"
           }
          ],
          "scatterpolargl": [
           {
            "marker": {
             "colorbar": {
              "outlinewidth": 0,
              "ticks": ""
             }
            },
            "type": "scatterpolargl"
           }
          ],
          "scatterternary": [
           {
            "marker": {
             "colorbar": {
              "outlinewidth": 0,
              "ticks": ""
             }
            },
            "type": "scatterternary"
           }
          ],
          "surface": [
           {
            "colorbar": {
             "outlinewidth": 0,
             "ticks": ""
            },
            "colorscale": [
             [
              0,
              "#0d0887"
             ],
             [
              0.1111111111111111,
              "#46039f"
             ],
             [
              0.2222222222222222,
              "#7201a8"
             ],
             [
              0.3333333333333333,
              "#9c179e"
             ],
             [
              0.4444444444444444,
              "#bd3786"
             ],
             [
              0.5555555555555556,
              "#d8576b"
             ],
             [
              0.6666666666666666,
              "#ed7953"
             ],
             [
              0.7777777777777778,
              "#fb9f3a"
             ],
             [
              0.8888888888888888,
              "#fdca26"
             ],
             [
              1,
              "#f0f921"
             ]
            ],
            "type": "surface"
           }
          ],
          "table": [
           {
            "cells": {
             "fill": {
              "color": "#EBF0F8"
             },
             "line": {
              "color": "white"
             }
            },
            "header": {
             "fill": {
              "color": "#C8D4E3"
             },
             "line": {
              "color": "white"
             }
            },
            "type": "table"
           }
          ]
         },
         "layout": {
          "annotationdefaults": {
           "arrowcolor": "#2a3f5f",
           "arrowhead": 0,
           "arrowwidth": 1
          },
          "coloraxis": {
           "colorbar": {
            "outlinewidth": 0,
            "ticks": ""
           }
          },
          "colorscale": {
           "diverging": [
            [
             0,
             "#8e0152"
            ],
            [
             0.1,
             "#c51b7d"
            ],
            [
             0.2,
             "#de77ae"
            ],
            [
             0.3,
             "#f1b6da"
            ],
            [
             0.4,
             "#fde0ef"
            ],
            [
             0.5,
             "#f7f7f7"
            ],
            [
             0.6,
             "#e6f5d0"
            ],
            [
             0.7,
             "#b8e186"
            ],
            [
             0.8,
             "#7fbc41"
            ],
            [
             0.9,
             "#4d9221"
            ],
            [
             1,
             "#276419"
            ]
           ],
           "sequential": [
            [
             0,
             "#0d0887"
            ],
            [
             0.1111111111111111,
             "#46039f"
            ],
            [
             0.2222222222222222,
             "#7201a8"
            ],
            [
             0.3333333333333333,
             "#9c179e"
            ],
            [
             0.4444444444444444,
             "#bd3786"
            ],
            [
             0.5555555555555556,
             "#d8576b"
            ],
            [
             0.6666666666666666,
             "#ed7953"
            ],
            [
             0.7777777777777778,
             "#fb9f3a"
            ],
            [
             0.8888888888888888,
             "#fdca26"
            ],
            [
             1,
             "#f0f921"
            ]
           ],
           "sequentialminus": [
            [
             0,
             "#0d0887"
            ],
            [
             0.1111111111111111,
             "#46039f"
            ],
            [
             0.2222222222222222,
             "#7201a8"
            ],
            [
             0.3333333333333333,
             "#9c179e"
            ],
            [
             0.4444444444444444,
             "#bd3786"
            ],
            [
             0.5555555555555556,
             "#d8576b"
            ],
            [
             0.6666666666666666,
             "#ed7953"
            ],
            [
             0.7777777777777778,
             "#fb9f3a"
            ],
            [
             0.8888888888888888,
             "#fdca26"
            ],
            [
             1,
             "#f0f921"
            ]
           ]
          },
          "colorway": [
           "#636efa",
           "#EF553B",
           "#00cc96",
           "#ab63fa",
           "#FFA15A",
           "#19d3f3",
           "#FF6692",
           "#B6E880",
           "#FF97FF",
           "#FECB52"
          ],
          "font": {
           "color": "#2a3f5f"
          },
          "geo": {
           "bgcolor": "white",
           "lakecolor": "white",
           "landcolor": "#E5ECF6",
           "showlakes": true,
           "showland": true,
           "subunitcolor": "white"
          },
          "hoverlabel": {
           "align": "left"
          },
          "hovermode": "closest",
          "mapbox": {
           "style": "light"
          },
          "paper_bgcolor": "white",
          "plot_bgcolor": "#E5ECF6",
          "polar": {
           "angularaxis": {
            "gridcolor": "white",
            "linecolor": "white",
            "ticks": ""
           },
           "bgcolor": "#E5ECF6",
           "radialaxis": {
            "gridcolor": "white",
            "linecolor": "white",
            "ticks": ""
           }
          },
          "scene": {
           "xaxis": {
            "backgroundcolor": "#E5ECF6",
            "gridcolor": "white",
            "gridwidth": 2,
            "linecolor": "white",
            "showbackground": true,
            "ticks": "",
            "zerolinecolor": "white"
           },
           "yaxis": {
            "backgroundcolor": "#E5ECF6",
            "gridcolor": "white",
            "gridwidth": 2,
            "linecolor": "white",
            "showbackground": true,
            "ticks": "",
            "zerolinecolor": "white"
           },
           "zaxis": {
            "backgroundcolor": "#E5ECF6",
            "gridcolor": "white",
            "gridwidth": 2,
            "linecolor": "white",
            "showbackground": true,
            "ticks": "",
            "zerolinecolor": "white"
           }
          },
          "shapedefaults": {
           "line": {
            "color": "#2a3f5f"
           }
          },
          "ternary": {
           "aaxis": {
            "gridcolor": "white",
            "linecolor": "white",
            "ticks": ""
           },
           "baxis": {
            "gridcolor": "white",
            "linecolor": "white",
            "ticks": ""
           },
           "bgcolor": "#E5ECF6",
           "caxis": {
            "gridcolor": "white",
            "linecolor": "white",
            "ticks": ""
           }
          },
          "title": {
           "x": 0.05
          },
          "xaxis": {
           "automargin": true,
           "gridcolor": "white",
           "linecolor": "white",
           "ticks": "",
           "title": {
            "standoff": 15
           },
           "zerolinecolor": "white",
           "zerolinewidth": 2
          },
          "yaxis": {
           "automargin": true,
           "gridcolor": "white",
           "linecolor": "white",
           "ticks": "",
           "title": {
            "standoff": 15
           },
           "zerolinecolor": "white",
           "zerolinewidth": 2
          }
         }
        },
        "title": {
         "font": {
          "color": "#4D5663"
         }
        },
        "xaxis": {
         "gridcolor": "#E1E5ED",
         "showgrid": true,
         "tickfont": {
          "color": "#4D5663"
         },
         "title": {
          "font": {
           "color": "#4D5663"
          },
          "text": ""
         },
         "zerolinecolor": "#E1E5ED"
        },
        "yaxis": {
         "gridcolor": "#E1E5ED",
         "showgrid": true,
         "tickfont": {
          "color": "#4D5663"
         },
         "title": {
          "font": {
           "color": "#4D5663"
          },
          "text": ""
         },
         "zerolinecolor": "#E1E5ED"
        }
       }
      },
      "text/html": [
       "<div>\n",
       "        \n",
       "        \n",
       "            <div id=\"f65c6a9a-46ff-4a04-8289-1bf3ac68f9c9\" class=\"plotly-graph-div\" style=\"height:525px; width:100%;\"></div>\n",
       "            <script type=\"text/javascript\">\n",
       "                require([\"plotly\"], function(Plotly) {\n",
       "                    window.PLOTLYENV=window.PLOTLYENV || {};\n",
       "                    window.PLOTLYENV.BASE_URL='https://plot.ly';\n",
       "                    \n",
       "                if (document.getElementById(\"f65c6a9a-46ff-4a04-8289-1bf3ac68f9c9\")) {\n",
       "                    Plotly.newPlot(\n",
       "                        'f65c6a9a-46ff-4a04-8289-1bf3ac68f9c9',\n",
       "                        [{\"line\": {\"color\": \"rgba(255, 153, 51, 1.0)\", \"dash\": \"solid\", \"shape\": \"linear\", \"width\": 1.3}, \"marker\": {\"size\": 10, \"symbol\": \"circle\"}, \"mode\": \"markers\", \"name\": \"B\", \"text\": \"\", \"type\": \"scatter\", \"x\": [-1.7375580925953535, 2.9798425210708013, -1.0545567985659783, 0.43389954846861545, 0.8589522332349308, -0.3616114246746602, 0.08129228111193294, -0.03170409927917186, -0.07583003895429322, -0.6170785337602537, 0.42007342224209826, 0.7540336618917531, -1.6267688839452992, -0.08424646600581756, 1.0709970757483533, 0.5344614223479325, 0.5216582988407987, 0.2902307834729736, 0.7713333875300337, 0.09970764861362018, -0.41312988541264173, 0.23725117555436426, 0.45540014559384057, 1.3437792550907464, 1.6371399457193123, -0.23440245785819436, -0.48637618154310797, -0.579834773798158, 0.8680435160846539, 0.7551041963764679, -0.08772136484334801, 0.23371341703090623, -1.888646992185423, 0.5940755907760089, 1.163188230279187, -0.3558795302103094, 0.4718600454918289, -0.35910477190998, 0.061048874961931045, -0.8558643812248122, -1.5357472961911194, -0.8504932576852609, -0.6133178054476308, 0.9491908322184918, 0.1776564608865159, -0.5718821378304894, 1.65243316834657, -0.11087061947532537, 0.4910980324309401, 1.0764950552633994, -1.975933995127861, 0.718412236621663, 1.0187483843386271, -0.4126656589335081, -0.5094811755581428, 1.7238104909238607, 1.0072177937726334, -0.9928195231370098, -0.004184549781906393, -2.206243361106769, -0.34148567476745917, -0.3599903270515361, 0.2785410168023459, 0.8266359753344356, -1.3400718186115126, -0.71604405770814, -0.9467350650309536, 1.7565657592263497, -1.3808407040749415, 0.8249918219638933, 0.5923865214093382, 0.5489722527089953, 0.2510612143960188, 0.5770236369391516, -0.9603380055434259, 2.204799410979961, 0.41105016526569715, 0.683944392199121, -0.11000348830948538, 0.6414176378270837, 1.0266347930797186, -1.388195851084029, 0.8182178748924435, -1.3204232028558036, -0.5545671097481487, 0.4039389218568765, 2.202724388868758, -0.9633456260593918, -0.21789950334872957, -0.22701260850651195, 1.1924378269478273, -0.7278425474496786, 0.004091598726279457, 0.7057661322179745, 1.5454160265945245, -0.8387144737436726, -0.9116345050477735, 0.22195334624997998, -0.28163161499145284, -1.2385386113755583], \"y\": [-0.6134635286282765, -0.5893938086424193, 0.08133950161229865, 0.5398200529846118, -1.286750376942333, -0.6788265991475018, 0.6422798598704085, -1.1326000096188251, -1.4089405831255573, -0.1696111304011945, -0.8359408788600723, -0.056670528140848435, -0.10987441558624364, 1.2252867700864356, 0.9736400059389726, -0.8950702416491216, 0.5849635299220757, -0.5591568492862687, 1.093907468885399, -0.04032620964770699, -1.8570080445362416, 1.063435867461458, 0.30940121247962055, 0.20356504119969962, 0.5413491586427932, -0.9985516843900909, -0.38598464007661815, -2.470204057674452, -1.5660784847207427, 0.6995069319307801, 0.16873701963464874, -2.0917394748944713, -0.7018420852463064, -0.5091045350909177, 0.5365362801017167, 0.268070152134566, 0.16998613045411123, -0.2814630034389793, -0.6881656758762982, 0.3353977553560339, -0.4122357782615829, 0.0713069113135744, 0.5152980887432727, 0.1173874661122881, 0.6291036361334134, -0.6239223136538199, -0.7908673470758846, -0.20854907806217174, -0.7554356412524142, 0.5691658659371732, 0.4872906627660704, -0.6568931090902709, -1.4697893098691848, 0.7939963167521176, -0.5037514809518796, 0.6925055921857803, -0.6636143919009947, -1.1972565402094348, 0.7669709172631989, 0.01664548860746999, -0.6201746376242857, 0.18102028476958157, -1.3667500115858608, 0.016728165945960598, 1.4575891285742022, 1.2241908183776857, -0.5199035148221082, 0.9460580315295726, -0.24901303381143025, -1.1865166471453603, 1.0594004271570268, -0.2271596090232071, -0.05009216598693693, -0.8742984971963792, -1.1035731765413361, 1.5995978451621455, 0.07624149161800622, -2.056466491887705, 0.30959943849236954, 0.5178775860951798, -0.10432507962391788, -0.17333177878384695, 0.07609787115295705, -0.24644274238062452, -0.9241119671704282, -0.3624764326414089, -1.7236405281460883, 0.4343231101268886, -0.15107912354535877, 0.36364520144806667, -0.45587589815606516, -0.6584898542975601, -0.15310964482626382, 0.13819890641935403, 1.2455627682266015, 1.8450891467052408, -0.616506351567455, 0.954727000301093, -0.7673822279347278, -0.5754065115109609]}],\n",
       "                        {\"legend\": {\"bgcolor\": \"#F5F6F9\", \"font\": {\"color\": \"#4D5663\"}}, \"paper_bgcolor\": \"#F5F6F9\", \"plot_bgcolor\": \"#F5F6F9\", \"template\": {\"data\": {\"bar\": [{\"error_x\": {\"color\": \"#2a3f5f\"}, \"error_y\": {\"color\": \"#2a3f5f\"}, \"marker\": {\"line\": {\"color\": \"#E5ECF6\", \"width\": 0.5}}, \"type\": \"bar\"}], \"barpolar\": [{\"marker\": {\"line\": {\"color\": \"#E5ECF6\", \"width\": 0.5}}, \"type\": \"barpolar\"}], \"carpet\": [{\"aaxis\": {\"endlinecolor\": \"#2a3f5f\", \"gridcolor\": \"white\", \"linecolor\": \"white\", \"minorgridcolor\": \"white\", \"startlinecolor\": \"#2a3f5f\"}, \"baxis\": {\"endlinecolor\": \"#2a3f5f\", \"gridcolor\": \"white\", \"linecolor\": \"white\", \"minorgridcolor\": \"white\", \"startlinecolor\": \"#2a3f5f\"}, \"type\": \"carpet\"}], \"choropleth\": [{\"colorbar\": {\"outlinewidth\": 0, \"ticks\": \"\"}, \"type\": \"choropleth\"}], \"contour\": [{\"colorbar\": {\"outlinewidth\": 0, \"ticks\": \"\"}, \"colorscale\": [[0.0, \"#0d0887\"], [0.1111111111111111, \"#46039f\"], [0.2222222222222222, \"#7201a8\"], [0.3333333333333333, \"#9c179e\"], [0.4444444444444444, \"#bd3786\"], [0.5555555555555556, \"#d8576b\"], [0.6666666666666666, \"#ed7953\"], [0.7777777777777778, \"#fb9f3a\"], [0.8888888888888888, \"#fdca26\"], [1.0, \"#f0f921\"]], \"type\": \"contour\"}], \"contourcarpet\": [{\"colorbar\": {\"outlinewidth\": 0, \"ticks\": \"\"}, \"type\": \"contourcarpet\"}], \"heatmap\": [{\"colorbar\": {\"outlinewidth\": 0, \"ticks\": \"\"}, \"colorscale\": [[0.0, \"#0d0887\"], [0.1111111111111111, \"#46039f\"], [0.2222222222222222, \"#7201a8\"], [0.3333333333333333, \"#9c179e\"], [0.4444444444444444, \"#bd3786\"], [0.5555555555555556, \"#d8576b\"], [0.6666666666666666, \"#ed7953\"], [0.7777777777777778, \"#fb9f3a\"], [0.8888888888888888, \"#fdca26\"], [1.0, \"#f0f921\"]], \"type\": \"heatmap\"}], \"heatmapgl\": [{\"colorbar\": {\"outlinewidth\": 0, \"ticks\": \"\"}, \"colorscale\": [[0.0, \"#0d0887\"], [0.1111111111111111, \"#46039f\"], [0.2222222222222222, \"#7201a8\"], [0.3333333333333333, \"#9c179e\"], [0.4444444444444444, \"#bd3786\"], [0.5555555555555556, \"#d8576b\"], [0.6666666666666666, \"#ed7953\"], [0.7777777777777778, \"#fb9f3a\"], [0.8888888888888888, \"#fdca26\"], [1.0, \"#f0f921\"]], \"type\": \"heatmapgl\"}], \"histogram\": [{\"marker\": {\"colorbar\": {\"outlinewidth\": 0, \"ticks\": \"\"}}, \"type\": \"histogram\"}], \"histogram2d\": [{\"colorbar\": {\"outlinewidth\": 0, \"ticks\": \"\"}, \"colorscale\": [[0.0, \"#0d0887\"], [0.1111111111111111, \"#46039f\"], [0.2222222222222222, \"#7201a8\"], [0.3333333333333333, \"#9c179e\"], [0.4444444444444444, \"#bd3786\"], [0.5555555555555556, \"#d8576b\"], [0.6666666666666666, \"#ed7953\"], [0.7777777777777778, \"#fb9f3a\"], [0.8888888888888888, \"#fdca26\"], [1.0, \"#f0f921\"]], \"type\": \"histogram2d\"}], \"histogram2dcontour\": [{\"colorbar\": {\"outlinewidth\": 0, \"ticks\": \"\"}, \"colorscale\": [[0.0, \"#0d0887\"], [0.1111111111111111, \"#46039f\"], [0.2222222222222222, \"#7201a8\"], [0.3333333333333333, \"#9c179e\"], [0.4444444444444444, \"#bd3786\"], [0.5555555555555556, \"#d8576b\"], [0.6666666666666666, \"#ed7953\"], [0.7777777777777778, \"#fb9f3a\"], [0.8888888888888888, \"#fdca26\"], [1.0, \"#f0f921\"]], \"type\": \"histogram2dcontour\"}], \"mesh3d\": [{\"colorbar\": {\"outlinewidth\": 0, \"ticks\": \"\"}, \"type\": \"mesh3d\"}], \"parcoords\": [{\"line\": {\"colorbar\": {\"outlinewidth\": 0, \"ticks\": \"\"}}, \"type\": \"parcoords\"}], \"pie\": [{\"automargin\": true, \"type\": \"pie\"}], \"scatter\": [{\"marker\": {\"colorbar\": {\"outlinewidth\": 0, \"ticks\": \"\"}}, \"type\": \"scatter\"}], \"scatter3d\": [{\"line\": {\"colorbar\": {\"outlinewidth\": 0, \"ticks\": \"\"}}, \"marker\": {\"colorbar\": {\"outlinewidth\": 0, \"ticks\": \"\"}}, \"type\": \"scatter3d\"}], \"scattercarpet\": [{\"marker\": {\"colorbar\": {\"outlinewidth\": 0, \"ticks\": \"\"}}, \"type\": \"scattercarpet\"}], \"scattergeo\": [{\"marker\": {\"colorbar\": {\"outlinewidth\": 0, \"ticks\": \"\"}}, \"type\": \"scattergeo\"}], \"scattergl\": [{\"marker\": {\"colorbar\": {\"outlinewidth\": 0, \"ticks\": \"\"}}, \"type\": \"scattergl\"}], \"scattermapbox\": [{\"marker\": {\"colorbar\": {\"outlinewidth\": 0, \"ticks\": \"\"}}, \"type\": \"scattermapbox\"}], \"scatterpolar\": [{\"marker\": {\"colorbar\": {\"outlinewidth\": 0, \"ticks\": \"\"}}, \"type\": \"scatterpolar\"}], \"scatterpolargl\": [{\"marker\": {\"colorbar\": {\"outlinewidth\": 0, \"ticks\": \"\"}}, \"type\": \"scatterpolargl\"}], \"scatterternary\": [{\"marker\": {\"colorbar\": {\"outlinewidth\": 0, \"ticks\": \"\"}}, \"type\": \"scatterternary\"}], \"surface\": [{\"colorbar\": {\"outlinewidth\": 0, \"ticks\": \"\"}, \"colorscale\": [[0.0, \"#0d0887\"], [0.1111111111111111, \"#46039f\"], [0.2222222222222222, \"#7201a8\"], [0.3333333333333333, \"#9c179e\"], [0.4444444444444444, \"#bd3786\"], [0.5555555555555556, \"#d8576b\"], [0.6666666666666666, \"#ed7953\"], [0.7777777777777778, \"#fb9f3a\"], [0.8888888888888888, \"#fdca26\"], [1.0, \"#f0f921\"]], \"type\": \"surface\"}], \"table\": [{\"cells\": {\"fill\": {\"color\": \"#EBF0F8\"}, \"line\": {\"color\": \"white\"}}, \"header\": {\"fill\": {\"color\": \"#C8D4E3\"}, \"line\": {\"color\": \"white\"}}, \"type\": \"table\"}]}, \"layout\": {\"annotationdefaults\": {\"arrowcolor\": \"#2a3f5f\", \"arrowhead\": 0, \"arrowwidth\": 1}, \"coloraxis\": {\"colorbar\": {\"outlinewidth\": 0, \"ticks\": \"\"}}, \"colorscale\": {\"diverging\": [[0, \"#8e0152\"], [0.1, \"#c51b7d\"], [0.2, \"#de77ae\"], [0.3, \"#f1b6da\"], [0.4, \"#fde0ef\"], [0.5, \"#f7f7f7\"], [0.6, \"#e6f5d0\"], [0.7, \"#b8e186\"], [0.8, \"#7fbc41\"], [0.9, \"#4d9221\"], [1, \"#276419\"]], \"sequential\": [[0.0, \"#0d0887\"], [0.1111111111111111, \"#46039f\"], [0.2222222222222222, \"#7201a8\"], [0.3333333333333333, \"#9c179e\"], [0.4444444444444444, \"#bd3786\"], [0.5555555555555556, \"#d8576b\"], [0.6666666666666666, \"#ed7953\"], [0.7777777777777778, \"#fb9f3a\"], [0.8888888888888888, \"#fdca26\"], [1.0, \"#f0f921\"]], \"sequentialminus\": [[0.0, \"#0d0887\"], [0.1111111111111111, \"#46039f\"], [0.2222222222222222, \"#7201a8\"], [0.3333333333333333, \"#9c179e\"], [0.4444444444444444, \"#bd3786\"], [0.5555555555555556, \"#d8576b\"], [0.6666666666666666, \"#ed7953\"], [0.7777777777777778, \"#fb9f3a\"], [0.8888888888888888, \"#fdca26\"], [1.0, \"#f0f921\"]]}, \"colorway\": [\"#636efa\", \"#EF553B\", \"#00cc96\", \"#ab63fa\", \"#FFA15A\", \"#19d3f3\", \"#FF6692\", \"#B6E880\", \"#FF97FF\", \"#FECB52\"], \"font\": {\"color\": \"#2a3f5f\"}, \"geo\": {\"bgcolor\": \"white\", \"lakecolor\": \"white\", \"landcolor\": \"#E5ECF6\", \"showlakes\": true, \"showland\": true, \"subunitcolor\": \"white\"}, \"hoverlabel\": {\"align\": \"left\"}, \"hovermode\": \"closest\", \"mapbox\": {\"style\": \"light\"}, \"paper_bgcolor\": \"white\", \"plot_bgcolor\": \"#E5ECF6\", \"polar\": {\"angularaxis\": {\"gridcolor\": \"white\", \"linecolor\": \"white\", \"ticks\": \"\"}, \"bgcolor\": \"#E5ECF6\", \"radialaxis\": {\"gridcolor\": \"white\", \"linecolor\": \"white\", \"ticks\": \"\"}}, \"scene\": {\"xaxis\": {\"backgroundcolor\": \"#E5ECF6\", \"gridcolor\": \"white\", \"gridwidth\": 2, \"linecolor\": \"white\", \"showbackground\": true, \"ticks\": \"\", \"zerolinecolor\": \"white\"}, \"yaxis\": {\"backgroundcolor\": \"#E5ECF6\", \"gridcolor\": \"white\", \"gridwidth\": 2, \"linecolor\": \"white\", \"showbackground\": true, \"ticks\": \"\", \"zerolinecolor\": \"white\"}, \"zaxis\": {\"backgroundcolor\": \"#E5ECF6\", \"gridcolor\": \"white\", \"gridwidth\": 2, \"linecolor\": \"white\", \"showbackground\": true, \"ticks\": \"\", \"zerolinecolor\": \"white\"}}, \"shapedefaults\": {\"line\": {\"color\": \"#2a3f5f\"}}, \"ternary\": {\"aaxis\": {\"gridcolor\": \"white\", \"linecolor\": \"white\", \"ticks\": \"\"}, \"baxis\": {\"gridcolor\": \"white\", \"linecolor\": \"white\", \"ticks\": \"\"}, \"bgcolor\": \"#E5ECF6\", \"caxis\": {\"gridcolor\": \"white\", \"linecolor\": \"white\", \"ticks\": \"\"}}, \"title\": {\"x\": 0.05}, \"xaxis\": {\"automargin\": true, \"gridcolor\": \"white\", \"linecolor\": \"white\", \"ticks\": \"\", \"title\": {\"standoff\": 15}, \"zerolinecolor\": \"white\", \"zerolinewidth\": 2}, \"yaxis\": {\"automargin\": true, \"gridcolor\": \"white\", \"linecolor\": \"white\", \"ticks\": \"\", \"title\": {\"standoff\": 15}, \"zerolinecolor\": \"white\", \"zerolinewidth\": 2}}}, \"title\": {\"font\": {\"color\": \"#4D5663\"}}, \"xaxis\": {\"gridcolor\": \"#E1E5ED\", \"showgrid\": true, \"tickfont\": {\"color\": \"#4D5663\"}, \"title\": {\"font\": {\"color\": \"#4D5663\"}, \"text\": \"\"}, \"zerolinecolor\": \"#E1E5ED\"}, \"yaxis\": {\"gridcolor\": \"#E1E5ED\", \"showgrid\": true, \"tickfont\": {\"color\": \"#4D5663\"}, \"title\": {\"font\": {\"color\": \"#4D5663\"}, \"text\": \"\"}, \"zerolinecolor\": \"#E1E5ED\"}},\n",
       "                        {\"showLink\": true, \"linkText\": \"Export to plot.ly\", \"plotlyServerURL\": \"https://plot.ly\", \"responsive\": true}\n",
       "                    ).then(function(){\n",
       "                            \n",
       "var gd = document.getElementById('f65c6a9a-46ff-4a04-8289-1bf3ac68f9c9');\n",
       "var x = new MutationObserver(function (mutations, observer) {{\n",
       "        var display = window.getComputedStyle(gd).display;\n",
       "        if (!display || display === 'none') {{\n",
       "            console.log([gd, 'removed!']);\n",
       "            Plotly.purge(gd);\n",
       "            observer.disconnect();\n",
       "        }}\n",
       "}});\n",
       "\n",
       "// Listen for the removal of the full notebook cells\n",
       "var notebookContainer = gd.closest('#notebook-container');\n",
       "if (notebookContainer) {{\n",
       "    x.observe(notebookContainer, {childList: true});\n",
       "}}\n",
       "\n",
       "// Listen for the clearing of the current output cell\n",
       "var outputEl = gd.closest('.output');\n",
       "if (outputEl) {{\n",
       "    x.observe(outputEl, {childList: true});\n",
       "}}\n",
       "\n",
       "                        })\n",
       "                };\n",
       "                });\n",
       "            </script>\n",
       "        </div>"
      ]
     },
     "metadata": {},
     "output_type": "display_data"
    }
   ],
   "source": [
    "df.iplot(kind='scatter',x='A',y='B',mode='markers',size=10)"
   ]
  },
  {
   "cell_type": "markdown",
   "metadata": {},
   "source": [
    "## Bar Plots"
   ]
  },
  {
   "cell_type": "code",
   "execution_count": 15,
   "metadata": {},
   "outputs": [
    {
     "data": {
      "application/vnd.plotly.v1+json": {
       "config": {
        "linkText": "Export to plot.ly",
        "plotlyServerURL": "https://plot.ly",
        "showLink": true
       },
       "data": [
        {
         "marker": {
          "color": "rgba(255, 153, 51, 0.6)",
          "line": {
           "color": "rgba(255, 153, 51, 1.0)",
           "width": 1
          }
         },
         "name": "Values",
         "orientation": "v",
         "text": "",
         "type": "bar",
         "x": [
          "A",
          "B",
          "C"
         ],
         "y": [
          32,
          43,
          50
         ]
        }
       ],
       "layout": {
        "legend": {
         "bgcolor": "#F5F6F9",
         "font": {
          "color": "#4D5663"
         }
        },
        "paper_bgcolor": "#F5F6F9",
        "plot_bgcolor": "#F5F6F9",
        "template": {
         "data": {
          "bar": [
           {
            "error_x": {
             "color": "#2a3f5f"
            },
            "error_y": {
             "color": "#2a3f5f"
            },
            "marker": {
             "line": {
              "color": "#E5ECF6",
              "width": 0.5
             }
            },
            "type": "bar"
           }
          ],
          "barpolar": [
           {
            "marker": {
             "line": {
              "color": "#E5ECF6",
              "width": 0.5
             }
            },
            "type": "barpolar"
           }
          ],
          "carpet": [
           {
            "aaxis": {
             "endlinecolor": "#2a3f5f",
             "gridcolor": "white",
             "linecolor": "white",
             "minorgridcolor": "white",
             "startlinecolor": "#2a3f5f"
            },
            "baxis": {
             "endlinecolor": "#2a3f5f",
             "gridcolor": "white",
             "linecolor": "white",
             "minorgridcolor": "white",
             "startlinecolor": "#2a3f5f"
            },
            "type": "carpet"
           }
          ],
          "choropleth": [
           {
            "colorbar": {
             "outlinewidth": 0,
             "ticks": ""
            },
            "type": "choropleth"
           }
          ],
          "contour": [
           {
            "colorbar": {
             "outlinewidth": 0,
             "ticks": ""
            },
            "colorscale": [
             [
              0,
              "#0d0887"
             ],
             [
              0.1111111111111111,
              "#46039f"
             ],
             [
              0.2222222222222222,
              "#7201a8"
             ],
             [
              0.3333333333333333,
              "#9c179e"
             ],
             [
              0.4444444444444444,
              "#bd3786"
             ],
             [
              0.5555555555555556,
              "#d8576b"
             ],
             [
              0.6666666666666666,
              "#ed7953"
             ],
             [
              0.7777777777777778,
              "#fb9f3a"
             ],
             [
              0.8888888888888888,
              "#fdca26"
             ],
             [
              1,
              "#f0f921"
             ]
            ],
            "type": "contour"
           }
          ],
          "contourcarpet": [
           {
            "colorbar": {
             "outlinewidth": 0,
             "ticks": ""
            },
            "type": "contourcarpet"
           }
          ],
          "heatmap": [
           {
            "colorbar": {
             "outlinewidth": 0,
             "ticks": ""
            },
            "colorscale": [
             [
              0,
              "#0d0887"
             ],
             [
              0.1111111111111111,
              "#46039f"
             ],
             [
              0.2222222222222222,
              "#7201a8"
             ],
             [
              0.3333333333333333,
              "#9c179e"
             ],
             [
              0.4444444444444444,
              "#bd3786"
             ],
             [
              0.5555555555555556,
              "#d8576b"
             ],
             [
              0.6666666666666666,
              "#ed7953"
             ],
             [
              0.7777777777777778,
              "#fb9f3a"
             ],
             [
              0.8888888888888888,
              "#fdca26"
             ],
             [
              1,
              "#f0f921"
             ]
            ],
            "type": "heatmap"
           }
          ],
          "heatmapgl": [
           {
            "colorbar": {
             "outlinewidth": 0,
             "ticks": ""
            },
            "colorscale": [
             [
              0,
              "#0d0887"
             ],
             [
              0.1111111111111111,
              "#46039f"
             ],
             [
              0.2222222222222222,
              "#7201a8"
             ],
             [
              0.3333333333333333,
              "#9c179e"
             ],
             [
              0.4444444444444444,
              "#bd3786"
             ],
             [
              0.5555555555555556,
              "#d8576b"
             ],
             [
              0.6666666666666666,
              "#ed7953"
             ],
             [
              0.7777777777777778,
              "#fb9f3a"
             ],
             [
              0.8888888888888888,
              "#fdca26"
             ],
             [
              1,
              "#f0f921"
             ]
            ],
            "type": "heatmapgl"
           }
          ],
          "histogram": [
           {
            "marker": {
             "colorbar": {
              "outlinewidth": 0,
              "ticks": ""
             }
            },
            "type": "histogram"
           }
          ],
          "histogram2d": [
           {
            "colorbar": {
             "outlinewidth": 0,
             "ticks": ""
            },
            "colorscale": [
             [
              0,
              "#0d0887"
             ],
             [
              0.1111111111111111,
              "#46039f"
             ],
             [
              0.2222222222222222,
              "#7201a8"
             ],
             [
              0.3333333333333333,
              "#9c179e"
             ],
             [
              0.4444444444444444,
              "#bd3786"
             ],
             [
              0.5555555555555556,
              "#d8576b"
             ],
             [
              0.6666666666666666,
              "#ed7953"
             ],
             [
              0.7777777777777778,
              "#fb9f3a"
             ],
             [
              0.8888888888888888,
              "#fdca26"
             ],
             [
              1,
              "#f0f921"
             ]
            ],
            "type": "histogram2d"
           }
          ],
          "histogram2dcontour": [
           {
            "colorbar": {
             "outlinewidth": 0,
             "ticks": ""
            },
            "colorscale": [
             [
              0,
              "#0d0887"
             ],
             [
              0.1111111111111111,
              "#46039f"
             ],
             [
              0.2222222222222222,
              "#7201a8"
             ],
             [
              0.3333333333333333,
              "#9c179e"
             ],
             [
              0.4444444444444444,
              "#bd3786"
             ],
             [
              0.5555555555555556,
              "#d8576b"
             ],
             [
              0.6666666666666666,
              "#ed7953"
             ],
             [
              0.7777777777777778,
              "#fb9f3a"
             ],
             [
              0.8888888888888888,
              "#fdca26"
             ],
             [
              1,
              "#f0f921"
             ]
            ],
            "type": "histogram2dcontour"
           }
          ],
          "mesh3d": [
           {
            "colorbar": {
             "outlinewidth": 0,
             "ticks": ""
            },
            "type": "mesh3d"
           }
          ],
          "parcoords": [
           {
            "line": {
             "colorbar": {
              "outlinewidth": 0,
              "ticks": ""
             }
            },
            "type": "parcoords"
           }
          ],
          "pie": [
           {
            "automargin": true,
            "type": "pie"
           }
          ],
          "scatter": [
           {
            "marker": {
             "colorbar": {
              "outlinewidth": 0,
              "ticks": ""
             }
            },
            "type": "scatter"
           }
          ],
          "scatter3d": [
           {
            "line": {
             "colorbar": {
              "outlinewidth": 0,
              "ticks": ""
             }
            },
            "marker": {
             "colorbar": {
              "outlinewidth": 0,
              "ticks": ""
             }
            },
            "type": "scatter3d"
           }
          ],
          "scattercarpet": [
           {
            "marker": {
             "colorbar": {
              "outlinewidth": 0,
              "ticks": ""
             }
            },
            "type": "scattercarpet"
           }
          ],
          "scattergeo": [
           {
            "marker": {
             "colorbar": {
              "outlinewidth": 0,
              "ticks": ""
             }
            },
            "type": "scattergeo"
           }
          ],
          "scattergl": [
           {
            "marker": {
             "colorbar": {
              "outlinewidth": 0,
              "ticks": ""
             }
            },
            "type": "scattergl"
           }
          ],
          "scattermapbox": [
           {
            "marker": {
             "colorbar": {
              "outlinewidth": 0,
              "ticks": ""
             }
            },
            "type": "scattermapbox"
           }
          ],
          "scatterpolar": [
           {
            "marker": {
             "colorbar": {
              "outlinewidth": 0,
              "ticks": ""
             }
            },
            "type": "scatterpolar"
           }
          ],
          "scatterpolargl": [
           {
            "marker": {
             "colorbar": {
              "outlinewidth": 0,
              "ticks": ""
             }
            },
            "type": "scatterpolargl"
           }
          ],
          "scatterternary": [
           {
            "marker": {
             "colorbar": {
              "outlinewidth": 0,
              "ticks": ""
             }
            },
            "type": "scatterternary"
           }
          ],
          "surface": [
           {
            "colorbar": {
             "outlinewidth": 0,
             "ticks": ""
            },
            "colorscale": [
             [
              0,
              "#0d0887"
             ],
             [
              0.1111111111111111,
              "#46039f"
             ],
             [
              0.2222222222222222,
              "#7201a8"
             ],
             [
              0.3333333333333333,
              "#9c179e"
             ],
             [
              0.4444444444444444,
              "#bd3786"
             ],
             [
              0.5555555555555556,
              "#d8576b"
             ],
             [
              0.6666666666666666,
              "#ed7953"
             ],
             [
              0.7777777777777778,
              "#fb9f3a"
             ],
             [
              0.8888888888888888,
              "#fdca26"
             ],
             [
              1,
              "#f0f921"
             ]
            ],
            "type": "surface"
           }
          ],
          "table": [
           {
            "cells": {
             "fill": {
              "color": "#EBF0F8"
             },
             "line": {
              "color": "white"
             }
            },
            "header": {
             "fill": {
              "color": "#C8D4E3"
             },
             "line": {
              "color": "white"
             }
            },
            "type": "table"
           }
          ]
         },
         "layout": {
          "annotationdefaults": {
           "arrowcolor": "#2a3f5f",
           "arrowhead": 0,
           "arrowwidth": 1
          },
          "coloraxis": {
           "colorbar": {
            "outlinewidth": 0,
            "ticks": ""
           }
          },
          "colorscale": {
           "diverging": [
            [
             0,
             "#8e0152"
            ],
            [
             0.1,
             "#c51b7d"
            ],
            [
             0.2,
             "#de77ae"
            ],
            [
             0.3,
             "#f1b6da"
            ],
            [
             0.4,
             "#fde0ef"
            ],
            [
             0.5,
             "#f7f7f7"
            ],
            [
             0.6,
             "#e6f5d0"
            ],
            [
             0.7,
             "#b8e186"
            ],
            [
             0.8,
             "#7fbc41"
            ],
            [
             0.9,
             "#4d9221"
            ],
            [
             1,
             "#276419"
            ]
           ],
           "sequential": [
            [
             0,
             "#0d0887"
            ],
            [
             0.1111111111111111,
             "#46039f"
            ],
            [
             0.2222222222222222,
             "#7201a8"
            ],
            [
             0.3333333333333333,
             "#9c179e"
            ],
            [
             0.4444444444444444,
             "#bd3786"
            ],
            [
             0.5555555555555556,
             "#d8576b"
            ],
            [
             0.6666666666666666,
             "#ed7953"
            ],
            [
             0.7777777777777778,
             "#fb9f3a"
            ],
            [
             0.8888888888888888,
             "#fdca26"
            ],
            [
             1,
             "#f0f921"
            ]
           ],
           "sequentialminus": [
            [
             0,
             "#0d0887"
            ],
            [
             0.1111111111111111,
             "#46039f"
            ],
            [
             0.2222222222222222,
             "#7201a8"
            ],
            [
             0.3333333333333333,
             "#9c179e"
            ],
            [
             0.4444444444444444,
             "#bd3786"
            ],
            [
             0.5555555555555556,
             "#d8576b"
            ],
            [
             0.6666666666666666,
             "#ed7953"
            ],
            [
             0.7777777777777778,
             "#fb9f3a"
            ],
            [
             0.8888888888888888,
             "#fdca26"
            ],
            [
             1,
             "#f0f921"
            ]
           ]
          },
          "colorway": [
           "#636efa",
           "#EF553B",
           "#00cc96",
           "#ab63fa",
           "#FFA15A",
           "#19d3f3",
           "#FF6692",
           "#B6E880",
           "#FF97FF",
           "#FECB52"
          ],
          "font": {
           "color": "#2a3f5f"
          },
          "geo": {
           "bgcolor": "white",
           "lakecolor": "white",
           "landcolor": "#E5ECF6",
           "showlakes": true,
           "showland": true,
           "subunitcolor": "white"
          },
          "hoverlabel": {
           "align": "left"
          },
          "hovermode": "closest",
          "mapbox": {
           "style": "light"
          },
          "paper_bgcolor": "white",
          "plot_bgcolor": "#E5ECF6",
          "polar": {
           "angularaxis": {
            "gridcolor": "white",
            "linecolor": "white",
            "ticks": ""
           },
           "bgcolor": "#E5ECF6",
           "radialaxis": {
            "gridcolor": "white",
            "linecolor": "white",
            "ticks": ""
           }
          },
          "scene": {
           "xaxis": {
            "backgroundcolor": "#E5ECF6",
            "gridcolor": "white",
            "gridwidth": 2,
            "linecolor": "white",
            "showbackground": true,
            "ticks": "",
            "zerolinecolor": "white"
           },
           "yaxis": {
            "backgroundcolor": "#E5ECF6",
            "gridcolor": "white",
            "gridwidth": 2,
            "linecolor": "white",
            "showbackground": true,
            "ticks": "",
            "zerolinecolor": "white"
           },
           "zaxis": {
            "backgroundcolor": "#E5ECF6",
            "gridcolor": "white",
            "gridwidth": 2,
            "linecolor": "white",
            "showbackground": true,
            "ticks": "",
            "zerolinecolor": "white"
           }
          },
          "shapedefaults": {
           "line": {
            "color": "#2a3f5f"
           }
          },
          "ternary": {
           "aaxis": {
            "gridcolor": "white",
            "linecolor": "white",
            "ticks": ""
           },
           "baxis": {
            "gridcolor": "white",
            "linecolor": "white",
            "ticks": ""
           },
           "bgcolor": "#E5ECF6",
           "caxis": {
            "gridcolor": "white",
            "linecolor": "white",
            "ticks": ""
           }
          },
          "title": {
           "x": 0.05
          },
          "xaxis": {
           "automargin": true,
           "gridcolor": "white",
           "linecolor": "white",
           "ticks": "",
           "title": {
            "standoff": 15
           },
           "zerolinecolor": "white",
           "zerolinewidth": 2
          },
          "yaxis": {
           "automargin": true,
           "gridcolor": "white",
           "linecolor": "white",
           "ticks": "",
           "title": {
            "standoff": 15
           },
           "zerolinecolor": "white",
           "zerolinewidth": 2
          }
         }
        },
        "title": {
         "font": {
          "color": "#4D5663"
         }
        },
        "xaxis": {
         "gridcolor": "#E1E5ED",
         "showgrid": true,
         "tickfont": {
          "color": "#4D5663"
         },
         "title": {
          "font": {
           "color": "#4D5663"
          },
          "text": ""
         },
         "zerolinecolor": "#E1E5ED"
        },
        "yaxis": {
         "gridcolor": "#E1E5ED",
         "showgrid": true,
         "tickfont": {
          "color": "#4D5663"
         },
         "title": {
          "font": {
           "color": "#4D5663"
          },
          "text": ""
         },
         "zerolinecolor": "#E1E5ED"
        }
       }
      },
      "text/html": [
       "<div>\n",
       "        \n",
       "        \n",
       "            <div id=\"da99f8b2-9db7-47e8-961f-9d95a5474769\" class=\"plotly-graph-div\" style=\"height:525px; width:100%;\"></div>\n",
       "            <script type=\"text/javascript\">\n",
       "                require([\"plotly\"], function(Plotly) {\n",
       "                    window.PLOTLYENV=window.PLOTLYENV || {};\n",
       "                    window.PLOTLYENV.BASE_URL='https://plot.ly';\n",
       "                    \n",
       "                if (document.getElementById(\"da99f8b2-9db7-47e8-961f-9d95a5474769\")) {\n",
       "                    Plotly.newPlot(\n",
       "                        'da99f8b2-9db7-47e8-961f-9d95a5474769',\n",
       "                        [{\"marker\": {\"color\": \"rgba(255, 153, 51, 0.6)\", \"line\": {\"color\": \"rgba(255, 153, 51, 1.0)\", \"width\": 1}}, \"name\": \"Values\", \"orientation\": \"v\", \"text\": \"\", \"type\": \"bar\", \"x\": [\"A\", \"B\", \"C\"], \"y\": [32, 43, 50]}],\n",
       "                        {\"legend\": {\"bgcolor\": \"#F5F6F9\", \"font\": {\"color\": \"#4D5663\"}}, \"paper_bgcolor\": \"#F5F6F9\", \"plot_bgcolor\": \"#F5F6F9\", \"template\": {\"data\": {\"bar\": [{\"error_x\": {\"color\": \"#2a3f5f\"}, \"error_y\": {\"color\": \"#2a3f5f\"}, \"marker\": {\"line\": {\"color\": \"#E5ECF6\", \"width\": 0.5}}, \"type\": \"bar\"}], \"barpolar\": [{\"marker\": {\"line\": {\"color\": \"#E5ECF6\", \"width\": 0.5}}, \"type\": \"barpolar\"}], \"carpet\": [{\"aaxis\": {\"endlinecolor\": \"#2a3f5f\", \"gridcolor\": \"white\", \"linecolor\": \"white\", \"minorgridcolor\": \"white\", \"startlinecolor\": \"#2a3f5f\"}, \"baxis\": {\"endlinecolor\": \"#2a3f5f\", \"gridcolor\": \"white\", \"linecolor\": \"white\", \"minorgridcolor\": \"white\", \"startlinecolor\": \"#2a3f5f\"}, \"type\": \"carpet\"}], \"choropleth\": [{\"colorbar\": {\"outlinewidth\": 0, \"ticks\": \"\"}, \"type\": \"choropleth\"}], \"contour\": [{\"colorbar\": {\"outlinewidth\": 0, \"ticks\": \"\"}, \"colorscale\": [[0.0, \"#0d0887\"], [0.1111111111111111, \"#46039f\"], [0.2222222222222222, \"#7201a8\"], [0.3333333333333333, \"#9c179e\"], [0.4444444444444444, \"#bd3786\"], [0.5555555555555556, \"#d8576b\"], [0.6666666666666666, \"#ed7953\"], [0.7777777777777778, \"#fb9f3a\"], [0.8888888888888888, \"#fdca26\"], [1.0, \"#f0f921\"]], \"type\": \"contour\"}], \"contourcarpet\": [{\"colorbar\": {\"outlinewidth\": 0, \"ticks\": \"\"}, \"type\": \"contourcarpet\"}], \"heatmap\": [{\"colorbar\": {\"outlinewidth\": 0, \"ticks\": \"\"}, \"colorscale\": [[0.0, \"#0d0887\"], [0.1111111111111111, \"#46039f\"], [0.2222222222222222, \"#7201a8\"], [0.3333333333333333, \"#9c179e\"], [0.4444444444444444, \"#bd3786\"], [0.5555555555555556, \"#d8576b\"], [0.6666666666666666, \"#ed7953\"], [0.7777777777777778, \"#fb9f3a\"], [0.8888888888888888, \"#fdca26\"], [1.0, \"#f0f921\"]], \"type\": \"heatmap\"}], \"heatmapgl\": [{\"colorbar\": {\"outlinewidth\": 0, \"ticks\": \"\"}, \"colorscale\": [[0.0, \"#0d0887\"], [0.1111111111111111, \"#46039f\"], [0.2222222222222222, \"#7201a8\"], [0.3333333333333333, \"#9c179e\"], [0.4444444444444444, \"#bd3786\"], [0.5555555555555556, \"#d8576b\"], [0.6666666666666666, \"#ed7953\"], [0.7777777777777778, \"#fb9f3a\"], [0.8888888888888888, \"#fdca26\"], [1.0, \"#f0f921\"]], \"type\": \"heatmapgl\"}], \"histogram\": [{\"marker\": {\"colorbar\": {\"outlinewidth\": 0, \"ticks\": \"\"}}, \"type\": \"histogram\"}], \"histogram2d\": [{\"colorbar\": {\"outlinewidth\": 0, \"ticks\": \"\"}, \"colorscale\": [[0.0, \"#0d0887\"], [0.1111111111111111, \"#46039f\"], [0.2222222222222222, \"#7201a8\"], [0.3333333333333333, \"#9c179e\"], [0.4444444444444444, \"#bd3786\"], [0.5555555555555556, \"#d8576b\"], [0.6666666666666666, \"#ed7953\"], [0.7777777777777778, \"#fb9f3a\"], [0.8888888888888888, \"#fdca26\"], [1.0, \"#f0f921\"]], \"type\": \"histogram2d\"}], \"histogram2dcontour\": [{\"colorbar\": {\"outlinewidth\": 0, \"ticks\": \"\"}, \"colorscale\": [[0.0, \"#0d0887\"], [0.1111111111111111, \"#46039f\"], [0.2222222222222222, \"#7201a8\"], [0.3333333333333333, \"#9c179e\"], [0.4444444444444444, \"#bd3786\"], [0.5555555555555556, \"#d8576b\"], [0.6666666666666666, \"#ed7953\"], [0.7777777777777778, \"#fb9f3a\"], [0.8888888888888888, \"#fdca26\"], [1.0, \"#f0f921\"]], \"type\": \"histogram2dcontour\"}], \"mesh3d\": [{\"colorbar\": {\"outlinewidth\": 0, \"ticks\": \"\"}, \"type\": \"mesh3d\"}], \"parcoords\": [{\"line\": {\"colorbar\": {\"outlinewidth\": 0, \"ticks\": \"\"}}, \"type\": \"parcoords\"}], \"pie\": [{\"automargin\": true, \"type\": \"pie\"}], \"scatter\": [{\"marker\": {\"colorbar\": {\"outlinewidth\": 0, \"ticks\": \"\"}}, \"type\": \"scatter\"}], \"scatter3d\": [{\"line\": {\"colorbar\": {\"outlinewidth\": 0, \"ticks\": \"\"}}, \"marker\": {\"colorbar\": {\"outlinewidth\": 0, \"ticks\": \"\"}}, \"type\": \"scatter3d\"}], \"scattercarpet\": [{\"marker\": {\"colorbar\": {\"outlinewidth\": 0, \"ticks\": \"\"}}, \"type\": \"scattercarpet\"}], \"scattergeo\": [{\"marker\": {\"colorbar\": {\"outlinewidth\": 0, \"ticks\": \"\"}}, \"type\": \"scattergeo\"}], \"scattergl\": [{\"marker\": {\"colorbar\": {\"outlinewidth\": 0, \"ticks\": \"\"}}, \"type\": \"scattergl\"}], \"scattermapbox\": [{\"marker\": {\"colorbar\": {\"outlinewidth\": 0, \"ticks\": \"\"}}, \"type\": \"scattermapbox\"}], \"scatterpolar\": [{\"marker\": {\"colorbar\": {\"outlinewidth\": 0, \"ticks\": \"\"}}, \"type\": \"scatterpolar\"}], \"scatterpolargl\": [{\"marker\": {\"colorbar\": {\"outlinewidth\": 0, \"ticks\": \"\"}}, \"type\": \"scatterpolargl\"}], \"scatterternary\": [{\"marker\": {\"colorbar\": {\"outlinewidth\": 0, \"ticks\": \"\"}}, \"type\": \"scatterternary\"}], \"surface\": [{\"colorbar\": {\"outlinewidth\": 0, \"ticks\": \"\"}, \"colorscale\": [[0.0, \"#0d0887\"], [0.1111111111111111, \"#46039f\"], [0.2222222222222222, \"#7201a8\"], [0.3333333333333333, \"#9c179e\"], [0.4444444444444444, \"#bd3786\"], [0.5555555555555556, \"#d8576b\"], [0.6666666666666666, \"#ed7953\"], [0.7777777777777778, \"#fb9f3a\"], [0.8888888888888888, \"#fdca26\"], [1.0, \"#f0f921\"]], \"type\": \"surface\"}], \"table\": [{\"cells\": {\"fill\": {\"color\": \"#EBF0F8\"}, \"line\": {\"color\": \"white\"}}, \"header\": {\"fill\": {\"color\": \"#C8D4E3\"}, \"line\": {\"color\": \"white\"}}, \"type\": \"table\"}]}, \"layout\": {\"annotationdefaults\": {\"arrowcolor\": \"#2a3f5f\", \"arrowhead\": 0, \"arrowwidth\": 1}, \"coloraxis\": {\"colorbar\": {\"outlinewidth\": 0, \"ticks\": \"\"}}, \"colorscale\": {\"diverging\": [[0, \"#8e0152\"], [0.1, \"#c51b7d\"], [0.2, \"#de77ae\"], [0.3, \"#f1b6da\"], [0.4, \"#fde0ef\"], [0.5, \"#f7f7f7\"], [0.6, \"#e6f5d0\"], [0.7, \"#b8e186\"], [0.8, \"#7fbc41\"], [0.9, \"#4d9221\"], [1, \"#276419\"]], \"sequential\": [[0.0, \"#0d0887\"], [0.1111111111111111, \"#46039f\"], [0.2222222222222222, \"#7201a8\"], [0.3333333333333333, \"#9c179e\"], [0.4444444444444444, \"#bd3786\"], [0.5555555555555556, \"#d8576b\"], [0.6666666666666666, \"#ed7953\"], [0.7777777777777778, \"#fb9f3a\"], [0.8888888888888888, \"#fdca26\"], [1.0, \"#f0f921\"]], \"sequentialminus\": [[0.0, \"#0d0887\"], [0.1111111111111111, \"#46039f\"], [0.2222222222222222, \"#7201a8\"], [0.3333333333333333, \"#9c179e\"], [0.4444444444444444, \"#bd3786\"], [0.5555555555555556, \"#d8576b\"], [0.6666666666666666, \"#ed7953\"], [0.7777777777777778, \"#fb9f3a\"], [0.8888888888888888, \"#fdca26\"], [1.0, \"#f0f921\"]]}, \"colorway\": [\"#636efa\", \"#EF553B\", \"#00cc96\", \"#ab63fa\", \"#FFA15A\", \"#19d3f3\", \"#FF6692\", \"#B6E880\", \"#FF97FF\", \"#FECB52\"], \"font\": {\"color\": \"#2a3f5f\"}, \"geo\": {\"bgcolor\": \"white\", \"lakecolor\": \"white\", \"landcolor\": \"#E5ECF6\", \"showlakes\": true, \"showland\": true, \"subunitcolor\": \"white\"}, \"hoverlabel\": {\"align\": \"left\"}, \"hovermode\": \"closest\", \"mapbox\": {\"style\": \"light\"}, \"paper_bgcolor\": \"white\", \"plot_bgcolor\": \"#E5ECF6\", \"polar\": {\"angularaxis\": {\"gridcolor\": \"white\", \"linecolor\": \"white\", \"ticks\": \"\"}, \"bgcolor\": \"#E5ECF6\", \"radialaxis\": {\"gridcolor\": \"white\", \"linecolor\": \"white\", \"ticks\": \"\"}}, \"scene\": {\"xaxis\": {\"backgroundcolor\": \"#E5ECF6\", \"gridcolor\": \"white\", \"gridwidth\": 2, \"linecolor\": \"white\", \"showbackground\": true, \"ticks\": \"\", \"zerolinecolor\": \"white\"}, \"yaxis\": {\"backgroundcolor\": \"#E5ECF6\", \"gridcolor\": \"white\", \"gridwidth\": 2, \"linecolor\": \"white\", \"showbackground\": true, \"ticks\": \"\", \"zerolinecolor\": \"white\"}, \"zaxis\": {\"backgroundcolor\": \"#E5ECF6\", \"gridcolor\": \"white\", \"gridwidth\": 2, \"linecolor\": \"white\", \"showbackground\": true, \"ticks\": \"\", \"zerolinecolor\": \"white\"}}, \"shapedefaults\": {\"line\": {\"color\": \"#2a3f5f\"}}, \"ternary\": {\"aaxis\": {\"gridcolor\": \"white\", \"linecolor\": \"white\", \"ticks\": \"\"}, \"baxis\": {\"gridcolor\": \"white\", \"linecolor\": \"white\", \"ticks\": \"\"}, \"bgcolor\": \"#E5ECF6\", \"caxis\": {\"gridcolor\": \"white\", \"linecolor\": \"white\", \"ticks\": \"\"}}, \"title\": {\"x\": 0.05}, \"xaxis\": {\"automargin\": true, \"gridcolor\": \"white\", \"linecolor\": \"white\", \"ticks\": \"\", \"title\": {\"standoff\": 15}, \"zerolinecolor\": \"white\", \"zerolinewidth\": 2}, \"yaxis\": {\"automargin\": true, \"gridcolor\": \"white\", \"linecolor\": \"white\", \"ticks\": \"\", \"title\": {\"standoff\": 15}, \"zerolinecolor\": \"white\", \"zerolinewidth\": 2}}}, \"title\": {\"font\": {\"color\": \"#4D5663\"}}, \"xaxis\": {\"gridcolor\": \"#E1E5ED\", \"showgrid\": true, \"tickfont\": {\"color\": \"#4D5663\"}, \"title\": {\"font\": {\"color\": \"#4D5663\"}, \"text\": \"\"}, \"zerolinecolor\": \"#E1E5ED\"}, \"yaxis\": {\"gridcolor\": \"#E1E5ED\", \"showgrid\": true, \"tickfont\": {\"color\": \"#4D5663\"}, \"title\": {\"font\": {\"color\": \"#4D5663\"}, \"text\": \"\"}, \"zerolinecolor\": \"#E1E5ED\"}},\n",
       "                        {\"showLink\": true, \"linkText\": \"Export to plot.ly\", \"plotlyServerURL\": \"https://plot.ly\", \"responsive\": true}\n",
       "                    ).then(function(){\n",
       "                            \n",
       "var gd = document.getElementById('da99f8b2-9db7-47e8-961f-9d95a5474769');\n",
       "var x = new MutationObserver(function (mutations, observer) {{\n",
       "        var display = window.getComputedStyle(gd).display;\n",
       "        if (!display || display === 'none') {{\n",
       "            console.log([gd, 'removed!']);\n",
       "            Plotly.purge(gd);\n",
       "            observer.disconnect();\n",
       "        }}\n",
       "}});\n",
       "\n",
       "// Listen for the removal of the full notebook cells\n",
       "var notebookContainer = gd.closest('#notebook-container');\n",
       "if (notebookContainer) {{\n",
       "    x.observe(notebookContainer, {childList: true});\n",
       "}}\n",
       "\n",
       "// Listen for the clearing of the current output cell\n",
       "var outputEl = gd.closest('.output');\n",
       "if (outputEl) {{\n",
       "    x.observe(outputEl, {childList: true});\n",
       "}}\n",
       "\n",
       "                        })\n",
       "                };\n",
       "                });\n",
       "            </script>\n",
       "        </div>"
      ]
     },
     "metadata": {},
     "output_type": "display_data"
    }
   ],
   "source": [
    "df2.iplot(kind='bar',x='Category',y='Values')"
   ]
  },
  {
   "cell_type": "code",
   "execution_count": 16,
   "metadata": {},
   "outputs": [
    {
     "data": {
      "application/vnd.plotly.v1+json": {
       "config": {
        "linkText": "Export to plot.ly",
        "plotlyServerURL": "https://plot.ly",
        "showLink": true
       },
       "data": [
        {
         "marker": {
          "color": "rgba(255, 153, 51, 0.6)",
          "line": {
           "color": "rgba(255, 153, 51, 1.0)",
           "width": 1
          }
         },
         "name": "None",
         "orientation": "v",
         "text": "",
         "type": "bar",
         "x": [
          "A",
          "B",
          "C",
          "D"
         ],
         "y": [
          100,
          100,
          100,
          100
         ]
        }
       ],
       "layout": {
        "legend": {
         "bgcolor": "#F5F6F9",
         "font": {
          "color": "#4D5663"
         }
        },
        "paper_bgcolor": "#F5F6F9",
        "plot_bgcolor": "#F5F6F9",
        "template": {
         "data": {
          "bar": [
           {
            "error_x": {
             "color": "#2a3f5f"
            },
            "error_y": {
             "color": "#2a3f5f"
            },
            "marker": {
             "line": {
              "color": "#E5ECF6",
              "width": 0.5
             }
            },
            "type": "bar"
           }
          ],
          "barpolar": [
           {
            "marker": {
             "line": {
              "color": "#E5ECF6",
              "width": 0.5
             }
            },
            "type": "barpolar"
           }
          ],
          "carpet": [
           {
            "aaxis": {
             "endlinecolor": "#2a3f5f",
             "gridcolor": "white",
             "linecolor": "white",
             "minorgridcolor": "white",
             "startlinecolor": "#2a3f5f"
            },
            "baxis": {
             "endlinecolor": "#2a3f5f",
             "gridcolor": "white",
             "linecolor": "white",
             "minorgridcolor": "white",
             "startlinecolor": "#2a3f5f"
            },
            "type": "carpet"
           }
          ],
          "choropleth": [
           {
            "colorbar": {
             "outlinewidth": 0,
             "ticks": ""
            },
            "type": "choropleth"
           }
          ],
          "contour": [
           {
            "colorbar": {
             "outlinewidth": 0,
             "ticks": ""
            },
            "colorscale": [
             [
              0,
              "#0d0887"
             ],
             [
              0.1111111111111111,
              "#46039f"
             ],
             [
              0.2222222222222222,
              "#7201a8"
             ],
             [
              0.3333333333333333,
              "#9c179e"
             ],
             [
              0.4444444444444444,
              "#bd3786"
             ],
             [
              0.5555555555555556,
              "#d8576b"
             ],
             [
              0.6666666666666666,
              "#ed7953"
             ],
             [
              0.7777777777777778,
              "#fb9f3a"
             ],
             [
              0.8888888888888888,
              "#fdca26"
             ],
             [
              1,
              "#f0f921"
             ]
            ],
            "type": "contour"
           }
          ],
          "contourcarpet": [
           {
            "colorbar": {
             "outlinewidth": 0,
             "ticks": ""
            },
            "type": "contourcarpet"
           }
          ],
          "heatmap": [
           {
            "colorbar": {
             "outlinewidth": 0,
             "ticks": ""
            },
            "colorscale": [
             [
              0,
              "#0d0887"
             ],
             [
              0.1111111111111111,
              "#46039f"
             ],
             [
              0.2222222222222222,
              "#7201a8"
             ],
             [
              0.3333333333333333,
              "#9c179e"
             ],
             [
              0.4444444444444444,
              "#bd3786"
             ],
             [
              0.5555555555555556,
              "#d8576b"
             ],
             [
              0.6666666666666666,
              "#ed7953"
             ],
             [
              0.7777777777777778,
              "#fb9f3a"
             ],
             [
              0.8888888888888888,
              "#fdca26"
             ],
             [
              1,
              "#f0f921"
             ]
            ],
            "type": "heatmap"
           }
          ],
          "heatmapgl": [
           {
            "colorbar": {
             "outlinewidth": 0,
             "ticks": ""
            },
            "colorscale": [
             [
              0,
              "#0d0887"
             ],
             [
              0.1111111111111111,
              "#46039f"
             ],
             [
              0.2222222222222222,
              "#7201a8"
             ],
             [
              0.3333333333333333,
              "#9c179e"
             ],
             [
              0.4444444444444444,
              "#bd3786"
             ],
             [
              0.5555555555555556,
              "#d8576b"
             ],
             [
              0.6666666666666666,
              "#ed7953"
             ],
             [
              0.7777777777777778,
              "#fb9f3a"
             ],
             [
              0.8888888888888888,
              "#fdca26"
             ],
             [
              1,
              "#f0f921"
             ]
            ],
            "type": "heatmapgl"
           }
          ],
          "histogram": [
           {
            "marker": {
             "colorbar": {
              "outlinewidth": 0,
              "ticks": ""
             }
            },
            "type": "histogram"
           }
          ],
          "histogram2d": [
           {
            "colorbar": {
             "outlinewidth": 0,
             "ticks": ""
            },
            "colorscale": [
             [
              0,
              "#0d0887"
             ],
             [
              0.1111111111111111,
              "#46039f"
             ],
             [
              0.2222222222222222,
              "#7201a8"
             ],
             [
              0.3333333333333333,
              "#9c179e"
             ],
             [
              0.4444444444444444,
              "#bd3786"
             ],
             [
              0.5555555555555556,
              "#d8576b"
             ],
             [
              0.6666666666666666,
              "#ed7953"
             ],
             [
              0.7777777777777778,
              "#fb9f3a"
             ],
             [
              0.8888888888888888,
              "#fdca26"
             ],
             [
              1,
              "#f0f921"
             ]
            ],
            "type": "histogram2d"
           }
          ],
          "histogram2dcontour": [
           {
            "colorbar": {
             "outlinewidth": 0,
             "ticks": ""
            },
            "colorscale": [
             [
              0,
              "#0d0887"
             ],
             [
              0.1111111111111111,
              "#46039f"
             ],
             [
              0.2222222222222222,
              "#7201a8"
             ],
             [
              0.3333333333333333,
              "#9c179e"
             ],
             [
              0.4444444444444444,
              "#bd3786"
             ],
             [
              0.5555555555555556,
              "#d8576b"
             ],
             [
              0.6666666666666666,
              "#ed7953"
             ],
             [
              0.7777777777777778,
              "#fb9f3a"
             ],
             [
              0.8888888888888888,
              "#fdca26"
             ],
             [
              1,
              "#f0f921"
             ]
            ],
            "type": "histogram2dcontour"
           }
          ],
          "mesh3d": [
           {
            "colorbar": {
             "outlinewidth": 0,
             "ticks": ""
            },
            "type": "mesh3d"
           }
          ],
          "parcoords": [
           {
            "line": {
             "colorbar": {
              "outlinewidth": 0,
              "ticks": ""
             }
            },
            "type": "parcoords"
           }
          ],
          "pie": [
           {
            "automargin": true,
            "type": "pie"
           }
          ],
          "scatter": [
           {
            "marker": {
             "colorbar": {
              "outlinewidth": 0,
              "ticks": ""
             }
            },
            "type": "scatter"
           }
          ],
          "scatter3d": [
           {
            "line": {
             "colorbar": {
              "outlinewidth": 0,
              "ticks": ""
             }
            },
            "marker": {
             "colorbar": {
              "outlinewidth": 0,
              "ticks": ""
             }
            },
            "type": "scatter3d"
           }
          ],
          "scattercarpet": [
           {
            "marker": {
             "colorbar": {
              "outlinewidth": 0,
              "ticks": ""
             }
            },
            "type": "scattercarpet"
           }
          ],
          "scattergeo": [
           {
            "marker": {
             "colorbar": {
              "outlinewidth": 0,
              "ticks": ""
             }
            },
            "type": "scattergeo"
           }
          ],
          "scattergl": [
           {
            "marker": {
             "colorbar": {
              "outlinewidth": 0,
              "ticks": ""
             }
            },
            "type": "scattergl"
           }
          ],
          "scattermapbox": [
           {
            "marker": {
             "colorbar": {
              "outlinewidth": 0,
              "ticks": ""
             }
            },
            "type": "scattermapbox"
           }
          ],
          "scatterpolar": [
           {
            "marker": {
             "colorbar": {
              "outlinewidth": 0,
              "ticks": ""
             }
            },
            "type": "scatterpolar"
           }
          ],
          "scatterpolargl": [
           {
            "marker": {
             "colorbar": {
              "outlinewidth": 0,
              "ticks": ""
             }
            },
            "type": "scatterpolargl"
           }
          ],
          "scatterternary": [
           {
            "marker": {
             "colorbar": {
              "outlinewidth": 0,
              "ticks": ""
             }
            },
            "type": "scatterternary"
           }
          ],
          "surface": [
           {
            "colorbar": {
             "outlinewidth": 0,
             "ticks": ""
            },
            "colorscale": [
             [
              0,
              "#0d0887"
             ],
             [
              0.1111111111111111,
              "#46039f"
             ],
             [
              0.2222222222222222,
              "#7201a8"
             ],
             [
              0.3333333333333333,
              "#9c179e"
             ],
             [
              0.4444444444444444,
              "#bd3786"
             ],
             [
              0.5555555555555556,
              "#d8576b"
             ],
             [
              0.6666666666666666,
              "#ed7953"
             ],
             [
              0.7777777777777778,
              "#fb9f3a"
             ],
             [
              0.8888888888888888,
              "#fdca26"
             ],
             [
              1,
              "#f0f921"
             ]
            ],
            "type": "surface"
           }
          ],
          "table": [
           {
            "cells": {
             "fill": {
              "color": "#EBF0F8"
             },
             "line": {
              "color": "white"
             }
            },
            "header": {
             "fill": {
              "color": "#C8D4E3"
             },
             "line": {
              "color": "white"
             }
            },
            "type": "table"
           }
          ]
         },
         "layout": {
          "annotationdefaults": {
           "arrowcolor": "#2a3f5f",
           "arrowhead": 0,
           "arrowwidth": 1
          },
          "coloraxis": {
           "colorbar": {
            "outlinewidth": 0,
            "ticks": ""
           }
          },
          "colorscale": {
           "diverging": [
            [
             0,
             "#8e0152"
            ],
            [
             0.1,
             "#c51b7d"
            ],
            [
             0.2,
             "#de77ae"
            ],
            [
             0.3,
             "#f1b6da"
            ],
            [
             0.4,
             "#fde0ef"
            ],
            [
             0.5,
             "#f7f7f7"
            ],
            [
             0.6,
             "#e6f5d0"
            ],
            [
             0.7,
             "#b8e186"
            ],
            [
             0.8,
             "#7fbc41"
            ],
            [
             0.9,
             "#4d9221"
            ],
            [
             1,
             "#276419"
            ]
           ],
           "sequential": [
            [
             0,
             "#0d0887"
            ],
            [
             0.1111111111111111,
             "#46039f"
            ],
            [
             0.2222222222222222,
             "#7201a8"
            ],
            [
             0.3333333333333333,
             "#9c179e"
            ],
            [
             0.4444444444444444,
             "#bd3786"
            ],
            [
             0.5555555555555556,
             "#d8576b"
            ],
            [
             0.6666666666666666,
             "#ed7953"
            ],
            [
             0.7777777777777778,
             "#fb9f3a"
            ],
            [
             0.8888888888888888,
             "#fdca26"
            ],
            [
             1,
             "#f0f921"
            ]
           ],
           "sequentialminus": [
            [
             0,
             "#0d0887"
            ],
            [
             0.1111111111111111,
             "#46039f"
            ],
            [
             0.2222222222222222,
             "#7201a8"
            ],
            [
             0.3333333333333333,
             "#9c179e"
            ],
            [
             0.4444444444444444,
             "#bd3786"
            ],
            [
             0.5555555555555556,
             "#d8576b"
            ],
            [
             0.6666666666666666,
             "#ed7953"
            ],
            [
             0.7777777777777778,
             "#fb9f3a"
            ],
            [
             0.8888888888888888,
             "#fdca26"
            ],
            [
             1,
             "#f0f921"
            ]
           ]
          },
          "colorway": [
           "#636efa",
           "#EF553B",
           "#00cc96",
           "#ab63fa",
           "#FFA15A",
           "#19d3f3",
           "#FF6692",
           "#B6E880",
           "#FF97FF",
           "#FECB52"
          ],
          "font": {
           "color": "#2a3f5f"
          },
          "geo": {
           "bgcolor": "white",
           "lakecolor": "white",
           "landcolor": "#E5ECF6",
           "showlakes": true,
           "showland": true,
           "subunitcolor": "white"
          },
          "hoverlabel": {
           "align": "left"
          },
          "hovermode": "closest",
          "mapbox": {
           "style": "light"
          },
          "paper_bgcolor": "white",
          "plot_bgcolor": "#E5ECF6",
          "polar": {
           "angularaxis": {
            "gridcolor": "white",
            "linecolor": "white",
            "ticks": ""
           },
           "bgcolor": "#E5ECF6",
           "radialaxis": {
            "gridcolor": "white",
            "linecolor": "white",
            "ticks": ""
           }
          },
          "scene": {
           "xaxis": {
            "backgroundcolor": "#E5ECF6",
            "gridcolor": "white",
            "gridwidth": 2,
            "linecolor": "white",
            "showbackground": true,
            "ticks": "",
            "zerolinecolor": "white"
           },
           "yaxis": {
            "backgroundcolor": "#E5ECF6",
            "gridcolor": "white",
            "gridwidth": 2,
            "linecolor": "white",
            "showbackground": true,
            "ticks": "",
            "zerolinecolor": "white"
           },
           "zaxis": {
            "backgroundcolor": "#E5ECF6",
            "gridcolor": "white",
            "gridwidth": 2,
            "linecolor": "white",
            "showbackground": true,
            "ticks": "",
            "zerolinecolor": "white"
           }
          },
          "shapedefaults": {
           "line": {
            "color": "#2a3f5f"
           }
          },
          "ternary": {
           "aaxis": {
            "gridcolor": "white",
            "linecolor": "white",
            "ticks": ""
           },
           "baxis": {
            "gridcolor": "white",
            "linecolor": "white",
            "ticks": ""
           },
           "bgcolor": "#E5ECF6",
           "caxis": {
            "gridcolor": "white",
            "linecolor": "white",
            "ticks": ""
           }
          },
          "title": {
           "x": 0.05
          },
          "xaxis": {
           "automargin": true,
           "gridcolor": "white",
           "linecolor": "white",
           "ticks": "",
           "title": {
            "standoff": 15
           },
           "zerolinecolor": "white",
           "zerolinewidth": 2
          },
          "yaxis": {
           "automargin": true,
           "gridcolor": "white",
           "linecolor": "white",
           "ticks": "",
           "title": {
            "standoff": 15
           },
           "zerolinecolor": "white",
           "zerolinewidth": 2
          }
         }
        },
        "title": {
         "font": {
          "color": "#4D5663"
         }
        },
        "xaxis": {
         "gridcolor": "#E1E5ED",
         "showgrid": true,
         "tickfont": {
          "color": "#4D5663"
         },
         "title": {
          "font": {
           "color": "#4D5663"
          },
          "text": ""
         },
         "zerolinecolor": "#E1E5ED"
        },
        "yaxis": {
         "gridcolor": "#E1E5ED",
         "showgrid": true,
         "tickfont": {
          "color": "#4D5663"
         },
         "title": {
          "font": {
           "color": "#4D5663"
          },
          "text": ""
         },
         "zerolinecolor": "#E1E5ED"
        }
       }
      },
      "text/html": [
       "<div>\n",
       "        \n",
       "        \n",
       "            <div id=\"574fe174-e481-4eae-b724-3aea8e05187f\" class=\"plotly-graph-div\" style=\"height:525px; width:100%;\"></div>\n",
       "            <script type=\"text/javascript\">\n",
       "                require([\"plotly\"], function(Plotly) {\n",
       "                    window.PLOTLYENV=window.PLOTLYENV || {};\n",
       "                    window.PLOTLYENV.BASE_URL='https://plot.ly';\n",
       "                    \n",
       "                if (document.getElementById(\"574fe174-e481-4eae-b724-3aea8e05187f\")) {\n",
       "                    Plotly.newPlot(\n",
       "                        '574fe174-e481-4eae-b724-3aea8e05187f',\n",
       "                        [{\"marker\": {\"color\": \"rgba(255, 153, 51, 0.6)\", \"line\": {\"color\": \"rgba(255, 153, 51, 1.0)\", \"width\": 1}}, \"name\": \"None\", \"orientation\": \"v\", \"text\": \"\", \"type\": \"bar\", \"x\": [\"A\", \"B\", \"C\", \"D\"], \"y\": [100, 100, 100, 100]}],\n",
       "                        {\"legend\": {\"bgcolor\": \"#F5F6F9\", \"font\": {\"color\": \"#4D5663\"}}, \"paper_bgcolor\": \"#F5F6F9\", \"plot_bgcolor\": \"#F5F6F9\", \"template\": {\"data\": {\"bar\": [{\"error_x\": {\"color\": \"#2a3f5f\"}, \"error_y\": {\"color\": \"#2a3f5f\"}, \"marker\": {\"line\": {\"color\": \"#E5ECF6\", \"width\": 0.5}}, \"type\": \"bar\"}], \"barpolar\": [{\"marker\": {\"line\": {\"color\": \"#E5ECF6\", \"width\": 0.5}}, \"type\": \"barpolar\"}], \"carpet\": [{\"aaxis\": {\"endlinecolor\": \"#2a3f5f\", \"gridcolor\": \"white\", \"linecolor\": \"white\", \"minorgridcolor\": \"white\", \"startlinecolor\": \"#2a3f5f\"}, \"baxis\": {\"endlinecolor\": \"#2a3f5f\", \"gridcolor\": \"white\", \"linecolor\": \"white\", \"minorgridcolor\": \"white\", \"startlinecolor\": \"#2a3f5f\"}, \"type\": \"carpet\"}], \"choropleth\": [{\"colorbar\": {\"outlinewidth\": 0, \"ticks\": \"\"}, \"type\": \"choropleth\"}], \"contour\": [{\"colorbar\": {\"outlinewidth\": 0, \"ticks\": \"\"}, \"colorscale\": [[0.0, \"#0d0887\"], [0.1111111111111111, \"#46039f\"], [0.2222222222222222, \"#7201a8\"], [0.3333333333333333, \"#9c179e\"], [0.4444444444444444, \"#bd3786\"], [0.5555555555555556, \"#d8576b\"], [0.6666666666666666, \"#ed7953\"], [0.7777777777777778, \"#fb9f3a\"], [0.8888888888888888, \"#fdca26\"], [1.0, \"#f0f921\"]], \"type\": \"contour\"}], \"contourcarpet\": [{\"colorbar\": {\"outlinewidth\": 0, \"ticks\": \"\"}, \"type\": \"contourcarpet\"}], \"heatmap\": [{\"colorbar\": {\"outlinewidth\": 0, \"ticks\": \"\"}, \"colorscale\": [[0.0, \"#0d0887\"], [0.1111111111111111, \"#46039f\"], [0.2222222222222222, \"#7201a8\"], [0.3333333333333333, \"#9c179e\"], [0.4444444444444444, \"#bd3786\"], [0.5555555555555556, \"#d8576b\"], [0.6666666666666666, \"#ed7953\"], [0.7777777777777778, \"#fb9f3a\"], [0.8888888888888888, \"#fdca26\"], [1.0, \"#f0f921\"]], \"type\": \"heatmap\"}], \"heatmapgl\": [{\"colorbar\": {\"outlinewidth\": 0, \"ticks\": \"\"}, \"colorscale\": [[0.0, \"#0d0887\"], [0.1111111111111111, \"#46039f\"], [0.2222222222222222, \"#7201a8\"], [0.3333333333333333, \"#9c179e\"], [0.4444444444444444, \"#bd3786\"], [0.5555555555555556, \"#d8576b\"], [0.6666666666666666, \"#ed7953\"], [0.7777777777777778, \"#fb9f3a\"], [0.8888888888888888, \"#fdca26\"], [1.0, \"#f0f921\"]], \"type\": \"heatmapgl\"}], \"histogram\": [{\"marker\": {\"colorbar\": {\"outlinewidth\": 0, \"ticks\": \"\"}}, \"type\": \"histogram\"}], \"histogram2d\": [{\"colorbar\": {\"outlinewidth\": 0, \"ticks\": \"\"}, \"colorscale\": [[0.0, \"#0d0887\"], [0.1111111111111111, \"#46039f\"], [0.2222222222222222, \"#7201a8\"], [0.3333333333333333, \"#9c179e\"], [0.4444444444444444, \"#bd3786\"], [0.5555555555555556, \"#d8576b\"], [0.6666666666666666, \"#ed7953\"], [0.7777777777777778, \"#fb9f3a\"], [0.8888888888888888, \"#fdca26\"], [1.0, \"#f0f921\"]], \"type\": \"histogram2d\"}], \"histogram2dcontour\": [{\"colorbar\": {\"outlinewidth\": 0, \"ticks\": \"\"}, \"colorscale\": [[0.0, \"#0d0887\"], [0.1111111111111111, \"#46039f\"], [0.2222222222222222, \"#7201a8\"], [0.3333333333333333, \"#9c179e\"], [0.4444444444444444, \"#bd3786\"], [0.5555555555555556, \"#d8576b\"], [0.6666666666666666, \"#ed7953\"], [0.7777777777777778, \"#fb9f3a\"], [0.8888888888888888, \"#fdca26\"], [1.0, \"#f0f921\"]], \"type\": \"histogram2dcontour\"}], \"mesh3d\": [{\"colorbar\": {\"outlinewidth\": 0, \"ticks\": \"\"}, \"type\": \"mesh3d\"}], \"parcoords\": [{\"line\": {\"colorbar\": {\"outlinewidth\": 0, \"ticks\": \"\"}}, \"type\": \"parcoords\"}], \"pie\": [{\"automargin\": true, \"type\": \"pie\"}], \"scatter\": [{\"marker\": {\"colorbar\": {\"outlinewidth\": 0, \"ticks\": \"\"}}, \"type\": \"scatter\"}], \"scatter3d\": [{\"line\": {\"colorbar\": {\"outlinewidth\": 0, \"ticks\": \"\"}}, \"marker\": {\"colorbar\": {\"outlinewidth\": 0, \"ticks\": \"\"}}, \"type\": \"scatter3d\"}], \"scattercarpet\": [{\"marker\": {\"colorbar\": {\"outlinewidth\": 0, \"ticks\": \"\"}}, \"type\": \"scattercarpet\"}], \"scattergeo\": [{\"marker\": {\"colorbar\": {\"outlinewidth\": 0, \"ticks\": \"\"}}, \"type\": \"scattergeo\"}], \"scattergl\": [{\"marker\": {\"colorbar\": {\"outlinewidth\": 0, \"ticks\": \"\"}}, \"type\": \"scattergl\"}], \"scattermapbox\": [{\"marker\": {\"colorbar\": {\"outlinewidth\": 0, \"ticks\": \"\"}}, \"type\": \"scattermapbox\"}], \"scatterpolar\": [{\"marker\": {\"colorbar\": {\"outlinewidth\": 0, \"ticks\": \"\"}}, \"type\": \"scatterpolar\"}], \"scatterpolargl\": [{\"marker\": {\"colorbar\": {\"outlinewidth\": 0, \"ticks\": \"\"}}, \"type\": \"scatterpolargl\"}], \"scatterternary\": [{\"marker\": {\"colorbar\": {\"outlinewidth\": 0, \"ticks\": \"\"}}, \"type\": \"scatterternary\"}], \"surface\": [{\"colorbar\": {\"outlinewidth\": 0, \"ticks\": \"\"}, \"colorscale\": [[0.0, \"#0d0887\"], [0.1111111111111111, \"#46039f\"], [0.2222222222222222, \"#7201a8\"], [0.3333333333333333, \"#9c179e\"], [0.4444444444444444, \"#bd3786\"], [0.5555555555555556, \"#d8576b\"], [0.6666666666666666, \"#ed7953\"], [0.7777777777777778, \"#fb9f3a\"], [0.8888888888888888, \"#fdca26\"], [1.0, \"#f0f921\"]], \"type\": \"surface\"}], \"table\": [{\"cells\": {\"fill\": {\"color\": \"#EBF0F8\"}, \"line\": {\"color\": \"white\"}}, \"header\": {\"fill\": {\"color\": \"#C8D4E3\"}, \"line\": {\"color\": \"white\"}}, \"type\": \"table\"}]}, \"layout\": {\"annotationdefaults\": {\"arrowcolor\": \"#2a3f5f\", \"arrowhead\": 0, \"arrowwidth\": 1}, \"coloraxis\": {\"colorbar\": {\"outlinewidth\": 0, \"ticks\": \"\"}}, \"colorscale\": {\"diverging\": [[0, \"#8e0152\"], [0.1, \"#c51b7d\"], [0.2, \"#de77ae\"], [0.3, \"#f1b6da\"], [0.4, \"#fde0ef\"], [0.5, \"#f7f7f7\"], [0.6, \"#e6f5d0\"], [0.7, \"#b8e186\"], [0.8, \"#7fbc41\"], [0.9, \"#4d9221\"], [1, \"#276419\"]], \"sequential\": [[0.0, \"#0d0887\"], [0.1111111111111111, \"#46039f\"], [0.2222222222222222, \"#7201a8\"], [0.3333333333333333, \"#9c179e\"], [0.4444444444444444, \"#bd3786\"], [0.5555555555555556, \"#d8576b\"], [0.6666666666666666, \"#ed7953\"], [0.7777777777777778, \"#fb9f3a\"], [0.8888888888888888, \"#fdca26\"], [1.0, \"#f0f921\"]], \"sequentialminus\": [[0.0, \"#0d0887\"], [0.1111111111111111, \"#46039f\"], [0.2222222222222222, \"#7201a8\"], [0.3333333333333333, \"#9c179e\"], [0.4444444444444444, \"#bd3786\"], [0.5555555555555556, \"#d8576b\"], [0.6666666666666666, \"#ed7953\"], [0.7777777777777778, \"#fb9f3a\"], [0.8888888888888888, \"#fdca26\"], [1.0, \"#f0f921\"]]}, \"colorway\": [\"#636efa\", \"#EF553B\", \"#00cc96\", \"#ab63fa\", \"#FFA15A\", \"#19d3f3\", \"#FF6692\", \"#B6E880\", \"#FF97FF\", \"#FECB52\"], \"font\": {\"color\": \"#2a3f5f\"}, \"geo\": {\"bgcolor\": \"white\", \"lakecolor\": \"white\", \"landcolor\": \"#E5ECF6\", \"showlakes\": true, \"showland\": true, \"subunitcolor\": \"white\"}, \"hoverlabel\": {\"align\": \"left\"}, \"hovermode\": \"closest\", \"mapbox\": {\"style\": \"light\"}, \"paper_bgcolor\": \"white\", \"plot_bgcolor\": \"#E5ECF6\", \"polar\": {\"angularaxis\": {\"gridcolor\": \"white\", \"linecolor\": \"white\", \"ticks\": \"\"}, \"bgcolor\": \"#E5ECF6\", \"radialaxis\": {\"gridcolor\": \"white\", \"linecolor\": \"white\", \"ticks\": \"\"}}, \"scene\": {\"xaxis\": {\"backgroundcolor\": \"#E5ECF6\", \"gridcolor\": \"white\", \"gridwidth\": 2, \"linecolor\": \"white\", \"showbackground\": true, \"ticks\": \"\", \"zerolinecolor\": \"white\"}, \"yaxis\": {\"backgroundcolor\": \"#E5ECF6\", \"gridcolor\": \"white\", \"gridwidth\": 2, \"linecolor\": \"white\", \"showbackground\": true, \"ticks\": \"\", \"zerolinecolor\": \"white\"}, \"zaxis\": {\"backgroundcolor\": \"#E5ECF6\", \"gridcolor\": \"white\", \"gridwidth\": 2, \"linecolor\": \"white\", \"showbackground\": true, \"ticks\": \"\", \"zerolinecolor\": \"white\"}}, \"shapedefaults\": {\"line\": {\"color\": \"#2a3f5f\"}}, \"ternary\": {\"aaxis\": {\"gridcolor\": \"white\", \"linecolor\": \"white\", \"ticks\": \"\"}, \"baxis\": {\"gridcolor\": \"white\", \"linecolor\": \"white\", \"ticks\": \"\"}, \"bgcolor\": \"#E5ECF6\", \"caxis\": {\"gridcolor\": \"white\", \"linecolor\": \"white\", \"ticks\": \"\"}}, \"title\": {\"x\": 0.05}, \"xaxis\": {\"automargin\": true, \"gridcolor\": \"white\", \"linecolor\": \"white\", \"ticks\": \"\", \"title\": {\"standoff\": 15}, \"zerolinecolor\": \"white\", \"zerolinewidth\": 2}, \"yaxis\": {\"automargin\": true, \"gridcolor\": \"white\", \"linecolor\": \"white\", \"ticks\": \"\", \"title\": {\"standoff\": 15}, \"zerolinecolor\": \"white\", \"zerolinewidth\": 2}}}, \"title\": {\"font\": {\"color\": \"#4D5663\"}}, \"xaxis\": {\"gridcolor\": \"#E1E5ED\", \"showgrid\": true, \"tickfont\": {\"color\": \"#4D5663\"}, \"title\": {\"font\": {\"color\": \"#4D5663\"}, \"text\": \"\"}, \"zerolinecolor\": \"#E1E5ED\"}, \"yaxis\": {\"gridcolor\": \"#E1E5ED\", \"showgrid\": true, \"tickfont\": {\"color\": \"#4D5663\"}, \"title\": {\"font\": {\"color\": \"#4D5663\"}, \"text\": \"\"}, \"zerolinecolor\": \"#E1E5ED\"}},\n",
       "                        {\"showLink\": true, \"linkText\": \"Export to plot.ly\", \"plotlyServerURL\": \"https://plot.ly\", \"responsive\": true}\n",
       "                    ).then(function(){\n",
       "                            \n",
       "var gd = document.getElementById('574fe174-e481-4eae-b724-3aea8e05187f');\n",
       "var x = new MutationObserver(function (mutations, observer) {{\n",
       "        var display = window.getComputedStyle(gd).display;\n",
       "        if (!display || display === 'none') {{\n",
       "            console.log([gd, 'removed!']);\n",
       "            Plotly.purge(gd);\n",
       "            observer.disconnect();\n",
       "        }}\n",
       "}});\n",
       "\n",
       "// Listen for the removal of the full notebook cells\n",
       "var notebookContainer = gd.closest('#notebook-container');\n",
       "if (notebookContainer) {{\n",
       "    x.observe(notebookContainer, {childList: true});\n",
       "}}\n",
       "\n",
       "// Listen for the clearing of the current output cell\n",
       "var outputEl = gd.closest('.output');\n",
       "if (outputEl) {{\n",
       "    x.observe(outputEl, {childList: true});\n",
       "}}\n",
       "\n",
       "                        })\n",
       "                };\n",
       "                });\n",
       "            </script>\n",
       "        </div>"
      ]
     },
     "metadata": {},
     "output_type": "display_data"
    }
   ],
   "source": [
    "df.count().iplot(kind='bar')"
   ]
  },
  {
   "cell_type": "markdown",
   "metadata": {},
   "source": [
    "## Boxplots"
   ]
  },
  {
   "cell_type": "code",
   "execution_count": 17,
   "metadata": {},
   "outputs": [
    {
     "data": {
      "application/vnd.plotly.v1+json": {
       "config": {
        "linkText": "Export to plot.ly",
        "plotlyServerURL": "https://plot.ly",
        "showLink": true
       },
       "data": [
        {
         "boxpoints": false,
         "line": {
          "width": 1.3
         },
         "marker": {
          "color": "rgba(255, 153, 51, 1.0)"
         },
         "name": "A",
         "orientation": "v",
         "type": "box",
         "y": [
          -1.7375580925953535,
          2.9798425210708013,
          -1.0545567985659783,
          0.43389954846861545,
          0.8589522332349308,
          -0.3616114246746602,
          0.08129228111193294,
          -0.03170409927917186,
          -0.07583003895429322,
          -0.6170785337602537,
          0.42007342224209826,
          0.7540336618917531,
          -1.6267688839452992,
          -0.08424646600581756,
          1.0709970757483533,
          0.5344614223479325,
          0.5216582988407987,
          0.2902307834729736,
          0.7713333875300337,
          0.09970764861362018,
          -0.41312988541264173,
          0.23725117555436426,
          0.45540014559384057,
          1.3437792550907464,
          1.6371399457193123,
          -0.23440245785819436,
          -0.48637618154310797,
          -0.579834773798158,
          0.8680435160846539,
          0.7551041963764679,
          -0.08772136484334801,
          0.23371341703090623,
          -1.888646992185423,
          0.5940755907760089,
          1.163188230279187,
          -0.3558795302103094,
          0.4718600454918289,
          -0.35910477190998,
          0.061048874961931045,
          -0.8558643812248122,
          -1.5357472961911194,
          -0.8504932576852609,
          -0.6133178054476308,
          0.9491908322184918,
          0.1776564608865159,
          -0.5718821378304894,
          1.65243316834657,
          -0.11087061947532537,
          0.4910980324309401,
          1.0764950552633994,
          -1.975933995127861,
          0.718412236621663,
          1.0187483843386271,
          -0.4126656589335081,
          -0.5094811755581428,
          1.7238104909238607,
          1.0072177937726334,
          -0.9928195231370098,
          -0.004184549781906393,
          -2.206243361106769,
          -0.34148567476745917,
          -0.3599903270515361,
          0.2785410168023459,
          0.8266359753344356,
          -1.3400718186115126,
          -0.71604405770814,
          -0.9467350650309536,
          1.7565657592263497,
          -1.3808407040749415,
          0.8249918219638933,
          0.5923865214093382,
          0.5489722527089953,
          0.2510612143960188,
          0.5770236369391516,
          -0.9603380055434259,
          2.204799410979961,
          0.41105016526569715,
          0.683944392199121,
          -0.11000348830948538,
          0.6414176378270837,
          1.0266347930797186,
          -1.388195851084029,
          0.8182178748924435,
          -1.3204232028558036,
          -0.5545671097481487,
          0.4039389218568765,
          2.202724388868758,
          -0.9633456260593918,
          -0.21789950334872957,
          -0.22701260850651195,
          1.1924378269478273,
          -0.7278425474496786,
          0.004091598726279457,
          0.7057661322179745,
          1.5454160265945245,
          -0.8387144737436726,
          -0.9116345050477735,
          0.22195334624997998,
          -0.28163161499145284,
          -1.2385386113755583
         ]
        },
        {
         "boxpoints": false,
         "line": {
          "width": 1.3
         },
         "marker": {
          "color": "rgba(55, 128, 191, 1.0)"
         },
         "name": "B",
         "orientation": "v",
         "type": "box",
         "y": [
          -0.6134635286282765,
          -0.5893938086424193,
          0.08133950161229865,
          0.5398200529846118,
          -1.286750376942333,
          -0.6788265991475018,
          0.6422798598704085,
          -1.1326000096188251,
          -1.4089405831255573,
          -0.1696111304011945,
          -0.8359408788600723,
          -0.056670528140848435,
          -0.10987441558624364,
          1.2252867700864356,
          0.9736400059389726,
          -0.8950702416491216,
          0.5849635299220757,
          -0.5591568492862687,
          1.093907468885399,
          -0.04032620964770699,
          -1.8570080445362416,
          1.063435867461458,
          0.30940121247962055,
          0.20356504119969962,
          0.5413491586427932,
          -0.9985516843900909,
          -0.38598464007661815,
          -2.470204057674452,
          -1.5660784847207427,
          0.6995069319307801,
          0.16873701963464874,
          -2.0917394748944713,
          -0.7018420852463064,
          -0.5091045350909177,
          0.5365362801017167,
          0.268070152134566,
          0.16998613045411123,
          -0.2814630034389793,
          -0.6881656758762982,
          0.3353977553560339,
          -0.4122357782615829,
          0.0713069113135744,
          0.5152980887432727,
          0.1173874661122881,
          0.6291036361334134,
          -0.6239223136538199,
          -0.7908673470758846,
          -0.20854907806217174,
          -0.7554356412524142,
          0.5691658659371732,
          0.4872906627660704,
          -0.6568931090902709,
          -1.4697893098691848,
          0.7939963167521176,
          -0.5037514809518796,
          0.6925055921857803,
          -0.6636143919009947,
          -1.1972565402094348,
          0.7669709172631989,
          0.01664548860746999,
          -0.6201746376242857,
          0.18102028476958157,
          -1.3667500115858608,
          0.016728165945960598,
          1.4575891285742022,
          1.2241908183776857,
          -0.5199035148221082,
          0.9460580315295726,
          -0.24901303381143025,
          -1.1865166471453603,
          1.0594004271570268,
          -0.2271596090232071,
          -0.05009216598693693,
          -0.8742984971963792,
          -1.1035731765413361,
          1.5995978451621455,
          0.07624149161800622,
          -2.056466491887705,
          0.30959943849236954,
          0.5178775860951798,
          -0.10432507962391788,
          -0.17333177878384695,
          0.07609787115295705,
          -0.24644274238062452,
          -0.9241119671704282,
          -0.3624764326414089,
          -1.7236405281460883,
          0.4343231101268886,
          -0.15107912354535877,
          0.36364520144806667,
          -0.45587589815606516,
          -0.6584898542975601,
          -0.15310964482626382,
          0.13819890641935403,
          1.2455627682266015,
          1.8450891467052408,
          -0.616506351567455,
          0.954727000301093,
          -0.7673822279347278,
          -0.5754065115109609
         ]
        },
        {
         "boxpoints": false,
         "line": {
          "width": 1.3
         },
         "marker": {
          "color": "rgba(50, 171, 96, 1.0)"
         },
         "name": "C",
         "orientation": "v",
         "type": "box",
         "y": [
          0.04294231755449757,
          0.0016255541636022565,
          1.0633037389992772,
          -0.026630432851273155,
          -1.5556655822882433,
          -0.5233751955800335,
          -1.10462745108137,
          0.8355234046011989,
          -0.8438953733979512,
          -0.6641179049714775,
          -0.9734875472206643,
          -0.7768174815056599,
          0.27554064479249163,
          -0.3024757658279942,
          -1.0976834431974287,
          -0.7703564359330498,
          1.9015799608432125,
          2.0752316899514813,
          -0.8862517117671875,
          0.2618475196772164,
          -0.8670430613068909,
          0.08835292833627718,
          2.0600098211599347,
          -1.1845061472783125,
          -1.5992122998776026,
          -2.2170558135672453,
          1.0516791054057524,
          -0.11741173262108721,
          -1.2526093499549895,
          0.9400986057368945,
          0.7679628956308497,
          0.596622048956618,
          -0.49493106599838155,
          0.5201345132112551,
          -2.3013382435109695,
          1.335108038613449,
          -1.027241850647683,
          1.9988925267865527,
          0.8071788045680959,
          -0.009285898706600118,
          1.605230239239615,
          -0.6047978275642666,
          0.187073881048798,
          -0.5046854108820417,
          0.09227216164042197,
          -1.1757007615391473,
          0.6989947188886104,
          -1.9157015899651557,
          0.10331093131786909,
          1.065594763433154,
          -0.08306135197681556,
          0.3775847683756019,
          0.014430982363700657,
          -0.6902753183947125,
          0.979864573025324,
          -0.01275931512582157,
          -0.07085675267078606,
          -2.0314021598243612,
          1.4177996619195425,
          -0.866894125523792,
          0.36472689438075,
          -1.1418009053536204,
          0.3865458117776289,
          -0.30042295557836146,
          -0.22396665650551628,
          0.19063343358187418,
          0.44964734438667286,
          -2.450304991008352,
          -1.3299754652415339,
          -0.6790195652604617,
          -0.029941698701764687,
          0.7613245938738966,
          -2.424908205088992,
          1.304577583345698,
          -0.20690292391698215,
          -0.49373298178075686,
          -0.9096320628030712,
          -0.26228394878681877,
          0.028248899667591972,
          -1.1749312934435592,
          -0.5042259487205529,
          -0.18523070123388996,
          -0.03417040825507492,
          -0.6804075406392612,
          1.2939035721728152,
          -1.8031529416561671,
          2.272703009136275,
          0.760256350736582,
          -1.1176958436190807,
          0.06550378234003361,
          1.1596490852794357,
          0.5228476319095402,
          -0.4734525232911263,
          1.0976024034607583,
          -0.4735641707398458,
          -1.8451887986991764,
          0.12716030934466405,
          0.12878402008470755,
          -1.5034147610863922,
          1.9984882818761998
         ]
        },
        {
         "boxpoints": false,
         "line": {
          "width": 1.3
         },
         "marker": {
          "color": "rgba(128, 0, 128, 1.0)"
         },
         "name": "D",
         "orientation": "v",
         "type": "box",
         "y": [
          -0.31656178469447194,
          -1.1706967933878085,
          -1.2893456027463885,
          -2.8818284349185928,
          0.31148716789928654,
          0.9264662521929483,
          0.3636327971508756,
          0.22162943482489686,
          3.0845149484546908,
          1.073412122755287,
          0.9474758278565716,
          -1.11574234722627,
          0.27947138997466686,
          -0.280225093600264,
          0.31508387033346885,
          0.21624633916344593,
          0.2057194026937669,
          -0.4096538937736879,
          -0.5882035732256841,
          0.19601269329957235,
          0.04577184904838376,
          -0.7904452637070005,
          1.05491825253922,
          0.09558045199381039,
          -0.9826810243472383,
          0.28434332780836874,
          0.8201651577190678,
          0.8501454569321909,
          2.2004398583318068,
          0.7177361222656636,
          -0.5602615487876851,
          1.752652084524186,
          1.8644361521715207,
          -0.20187130019840654,
          0.5186915557751215,
          -0.29953831404799136,
          -0.5762365243115933,
          -0.7603650239947474,
          1.4642484612337887,
          -0.9805539172376848,
          -0.6783189576607888,
          0.5640921819890312,
          -0.10337921693083645,
          2.423304915591704,
          -0.21439210110824206,
          -1.0214831629412096,
          1.4599222802563263,
          -0.7712384608468587,
          0.22857558116316434,
          -0.8375141203645532,
          -0.8681094351854624,
          0.28290227043248184,
          0.34181014382868335,
          0.10989562714181866,
          -1.0282569263052668,
          -0.9653338890731807,
          -0.24237741309364294,
          0.2715572703337933,
          -0.5857864485650293,
          -0.7263200095095875,
          -0.1379761787319353,
          0.12119783309110436,
          -0.34585601451629316,
          0.9934846569376848,
          -1.25727792940195,
          -1.7859323517025896,
          0.2578578794185799,
          -0.3170155607400926,
          -1.3655294026417917,
          0.06156146878944502,
          -2.128410604868576,
          -0.5712142596974494,
          0.5884068859664306,
          1.2521654063312586,
          -0.06662641503507422,
          -0.33417346772552825,
          -0.704448261708184,
          0.3013164041951132,
          0.11617224879270775,
          0.050193526210996604,
          -1.854797407465776,
          -0.17542935253082104,
          0.15689068325524133,
          -0.5154210005282159,
          0.021209695934381715,
          0.446970836320688,
          -1.2469578081844763,
          -2.167492489322819,
          0.048853097947676845,
          -1.422588041875594,
          2.224352683190004,
          -0.16306204777210062,
          0.4270416207109376,
          0.004516686923604023,
          0.1961514658961023,
          0.3164909546480894,
          -0.03904406981262113,
          0.8462309192033494,
          0.07370223526765363,
          -0.4637638612680175
         ]
        }
       ],
       "layout": {
        "legend": {
         "bgcolor": "#F5F6F9",
         "font": {
          "color": "#4D5663"
         }
        },
        "paper_bgcolor": "#F5F6F9",
        "plot_bgcolor": "#F5F6F9",
        "template": {
         "data": {
          "bar": [
           {
            "error_x": {
             "color": "#2a3f5f"
            },
            "error_y": {
             "color": "#2a3f5f"
            },
            "marker": {
             "line": {
              "color": "#E5ECF6",
              "width": 0.5
             }
            },
            "type": "bar"
           }
          ],
          "barpolar": [
           {
            "marker": {
             "line": {
              "color": "#E5ECF6",
              "width": 0.5
             }
            },
            "type": "barpolar"
           }
          ],
          "carpet": [
           {
            "aaxis": {
             "endlinecolor": "#2a3f5f",
             "gridcolor": "white",
             "linecolor": "white",
             "minorgridcolor": "white",
             "startlinecolor": "#2a3f5f"
            },
            "baxis": {
             "endlinecolor": "#2a3f5f",
             "gridcolor": "white",
             "linecolor": "white",
             "minorgridcolor": "white",
             "startlinecolor": "#2a3f5f"
            },
            "type": "carpet"
           }
          ],
          "choropleth": [
           {
            "colorbar": {
             "outlinewidth": 0,
             "ticks": ""
            },
            "type": "choropleth"
           }
          ],
          "contour": [
           {
            "colorbar": {
             "outlinewidth": 0,
             "ticks": ""
            },
            "colorscale": [
             [
              0,
              "#0d0887"
             ],
             [
              0.1111111111111111,
              "#46039f"
             ],
             [
              0.2222222222222222,
              "#7201a8"
             ],
             [
              0.3333333333333333,
              "#9c179e"
             ],
             [
              0.4444444444444444,
              "#bd3786"
             ],
             [
              0.5555555555555556,
              "#d8576b"
             ],
             [
              0.6666666666666666,
              "#ed7953"
             ],
             [
              0.7777777777777778,
              "#fb9f3a"
             ],
             [
              0.8888888888888888,
              "#fdca26"
             ],
             [
              1,
              "#f0f921"
             ]
            ],
            "type": "contour"
           }
          ],
          "contourcarpet": [
           {
            "colorbar": {
             "outlinewidth": 0,
             "ticks": ""
            },
            "type": "contourcarpet"
           }
          ],
          "heatmap": [
           {
            "colorbar": {
             "outlinewidth": 0,
             "ticks": ""
            },
            "colorscale": [
             [
              0,
              "#0d0887"
             ],
             [
              0.1111111111111111,
              "#46039f"
             ],
             [
              0.2222222222222222,
              "#7201a8"
             ],
             [
              0.3333333333333333,
              "#9c179e"
             ],
             [
              0.4444444444444444,
              "#bd3786"
             ],
             [
              0.5555555555555556,
              "#d8576b"
             ],
             [
              0.6666666666666666,
              "#ed7953"
             ],
             [
              0.7777777777777778,
              "#fb9f3a"
             ],
             [
              0.8888888888888888,
              "#fdca26"
             ],
             [
              1,
              "#f0f921"
             ]
            ],
            "type": "heatmap"
           }
          ],
          "heatmapgl": [
           {
            "colorbar": {
             "outlinewidth": 0,
             "ticks": ""
            },
            "colorscale": [
             [
              0,
              "#0d0887"
             ],
             [
              0.1111111111111111,
              "#46039f"
             ],
             [
              0.2222222222222222,
              "#7201a8"
             ],
             [
              0.3333333333333333,
              "#9c179e"
             ],
             [
              0.4444444444444444,
              "#bd3786"
             ],
             [
              0.5555555555555556,
              "#d8576b"
             ],
             [
              0.6666666666666666,
              "#ed7953"
             ],
             [
              0.7777777777777778,
              "#fb9f3a"
             ],
             [
              0.8888888888888888,
              "#fdca26"
             ],
             [
              1,
              "#f0f921"
             ]
            ],
            "type": "heatmapgl"
           }
          ],
          "histogram": [
           {
            "marker": {
             "colorbar": {
              "outlinewidth": 0,
              "ticks": ""
             }
            },
            "type": "histogram"
           }
          ],
          "histogram2d": [
           {
            "colorbar": {
             "outlinewidth": 0,
             "ticks": ""
            },
            "colorscale": [
             [
              0,
              "#0d0887"
             ],
             [
              0.1111111111111111,
              "#46039f"
             ],
             [
              0.2222222222222222,
              "#7201a8"
             ],
             [
              0.3333333333333333,
              "#9c179e"
             ],
             [
              0.4444444444444444,
              "#bd3786"
             ],
             [
              0.5555555555555556,
              "#d8576b"
             ],
             [
              0.6666666666666666,
              "#ed7953"
             ],
             [
              0.7777777777777778,
              "#fb9f3a"
             ],
             [
              0.8888888888888888,
              "#fdca26"
             ],
             [
              1,
              "#f0f921"
             ]
            ],
            "type": "histogram2d"
           }
          ],
          "histogram2dcontour": [
           {
            "colorbar": {
             "outlinewidth": 0,
             "ticks": ""
            },
            "colorscale": [
             [
              0,
              "#0d0887"
             ],
             [
              0.1111111111111111,
              "#46039f"
             ],
             [
              0.2222222222222222,
              "#7201a8"
             ],
             [
              0.3333333333333333,
              "#9c179e"
             ],
             [
              0.4444444444444444,
              "#bd3786"
             ],
             [
              0.5555555555555556,
              "#d8576b"
             ],
             [
              0.6666666666666666,
              "#ed7953"
             ],
             [
              0.7777777777777778,
              "#fb9f3a"
             ],
             [
              0.8888888888888888,
              "#fdca26"
             ],
             [
              1,
              "#f0f921"
             ]
            ],
            "type": "histogram2dcontour"
           }
          ],
          "mesh3d": [
           {
            "colorbar": {
             "outlinewidth": 0,
             "ticks": ""
            },
            "type": "mesh3d"
           }
          ],
          "parcoords": [
           {
            "line": {
             "colorbar": {
              "outlinewidth": 0,
              "ticks": ""
             }
            },
            "type": "parcoords"
           }
          ],
          "pie": [
           {
            "automargin": true,
            "type": "pie"
           }
          ],
          "scatter": [
           {
            "marker": {
             "colorbar": {
              "outlinewidth": 0,
              "ticks": ""
             }
            },
            "type": "scatter"
           }
          ],
          "scatter3d": [
           {
            "line": {
             "colorbar": {
              "outlinewidth": 0,
              "ticks": ""
             }
            },
            "marker": {
             "colorbar": {
              "outlinewidth": 0,
              "ticks": ""
             }
            },
            "type": "scatter3d"
           }
          ],
          "scattercarpet": [
           {
            "marker": {
             "colorbar": {
              "outlinewidth": 0,
              "ticks": ""
             }
            },
            "type": "scattercarpet"
           }
          ],
          "scattergeo": [
           {
            "marker": {
             "colorbar": {
              "outlinewidth": 0,
              "ticks": ""
             }
            },
            "type": "scattergeo"
           }
          ],
          "scattergl": [
           {
            "marker": {
             "colorbar": {
              "outlinewidth": 0,
              "ticks": ""
             }
            },
            "type": "scattergl"
           }
          ],
          "scattermapbox": [
           {
            "marker": {
             "colorbar": {
              "outlinewidth": 0,
              "ticks": ""
             }
            },
            "type": "scattermapbox"
           }
          ],
          "scatterpolar": [
           {
            "marker": {
             "colorbar": {
              "outlinewidth": 0,
              "ticks": ""
             }
            },
            "type": "scatterpolar"
           }
          ],
          "scatterpolargl": [
           {
            "marker": {
             "colorbar": {
              "outlinewidth": 0,
              "ticks": ""
             }
            },
            "type": "scatterpolargl"
           }
          ],
          "scatterternary": [
           {
            "marker": {
             "colorbar": {
              "outlinewidth": 0,
              "ticks": ""
             }
            },
            "type": "scatterternary"
           }
          ],
          "surface": [
           {
            "colorbar": {
             "outlinewidth": 0,
             "ticks": ""
            },
            "colorscale": [
             [
              0,
              "#0d0887"
             ],
             [
              0.1111111111111111,
              "#46039f"
             ],
             [
              0.2222222222222222,
              "#7201a8"
             ],
             [
              0.3333333333333333,
              "#9c179e"
             ],
             [
              0.4444444444444444,
              "#bd3786"
             ],
             [
              0.5555555555555556,
              "#d8576b"
             ],
             [
              0.6666666666666666,
              "#ed7953"
             ],
             [
              0.7777777777777778,
              "#fb9f3a"
             ],
             [
              0.8888888888888888,
              "#fdca26"
             ],
             [
              1,
              "#f0f921"
             ]
            ],
            "type": "surface"
           }
          ],
          "table": [
           {
            "cells": {
             "fill": {
              "color": "#EBF0F8"
             },
             "line": {
              "color": "white"
             }
            },
            "header": {
             "fill": {
              "color": "#C8D4E3"
             },
             "line": {
              "color": "white"
             }
            },
            "type": "table"
           }
          ]
         },
         "layout": {
          "annotationdefaults": {
           "arrowcolor": "#2a3f5f",
           "arrowhead": 0,
           "arrowwidth": 1
          },
          "coloraxis": {
           "colorbar": {
            "outlinewidth": 0,
            "ticks": ""
           }
          },
          "colorscale": {
           "diverging": [
            [
             0,
             "#8e0152"
            ],
            [
             0.1,
             "#c51b7d"
            ],
            [
             0.2,
             "#de77ae"
            ],
            [
             0.3,
             "#f1b6da"
            ],
            [
             0.4,
             "#fde0ef"
            ],
            [
             0.5,
             "#f7f7f7"
            ],
            [
             0.6,
             "#e6f5d0"
            ],
            [
             0.7,
             "#b8e186"
            ],
            [
             0.8,
             "#7fbc41"
            ],
            [
             0.9,
             "#4d9221"
            ],
            [
             1,
             "#276419"
            ]
           ],
           "sequential": [
            [
             0,
             "#0d0887"
            ],
            [
             0.1111111111111111,
             "#46039f"
            ],
            [
             0.2222222222222222,
             "#7201a8"
            ],
            [
             0.3333333333333333,
             "#9c179e"
            ],
            [
             0.4444444444444444,
             "#bd3786"
            ],
            [
             0.5555555555555556,
             "#d8576b"
            ],
            [
             0.6666666666666666,
             "#ed7953"
            ],
            [
             0.7777777777777778,
             "#fb9f3a"
            ],
            [
             0.8888888888888888,
             "#fdca26"
            ],
            [
             1,
             "#f0f921"
            ]
           ],
           "sequentialminus": [
            [
             0,
             "#0d0887"
            ],
            [
             0.1111111111111111,
             "#46039f"
            ],
            [
             0.2222222222222222,
             "#7201a8"
            ],
            [
             0.3333333333333333,
             "#9c179e"
            ],
            [
             0.4444444444444444,
             "#bd3786"
            ],
            [
             0.5555555555555556,
             "#d8576b"
            ],
            [
             0.6666666666666666,
             "#ed7953"
            ],
            [
             0.7777777777777778,
             "#fb9f3a"
            ],
            [
             0.8888888888888888,
             "#fdca26"
            ],
            [
             1,
             "#f0f921"
            ]
           ]
          },
          "colorway": [
           "#636efa",
           "#EF553B",
           "#00cc96",
           "#ab63fa",
           "#FFA15A",
           "#19d3f3",
           "#FF6692",
           "#B6E880",
           "#FF97FF",
           "#FECB52"
          ],
          "font": {
           "color": "#2a3f5f"
          },
          "geo": {
           "bgcolor": "white",
           "lakecolor": "white",
           "landcolor": "#E5ECF6",
           "showlakes": true,
           "showland": true,
           "subunitcolor": "white"
          },
          "hoverlabel": {
           "align": "left"
          },
          "hovermode": "closest",
          "mapbox": {
           "style": "light"
          },
          "paper_bgcolor": "white",
          "plot_bgcolor": "#E5ECF6",
          "polar": {
           "angularaxis": {
            "gridcolor": "white",
            "linecolor": "white",
            "ticks": ""
           },
           "bgcolor": "#E5ECF6",
           "radialaxis": {
            "gridcolor": "white",
            "linecolor": "white",
            "ticks": ""
           }
          },
          "scene": {
           "xaxis": {
            "backgroundcolor": "#E5ECF6",
            "gridcolor": "white",
            "gridwidth": 2,
            "linecolor": "white",
            "showbackground": true,
            "ticks": "",
            "zerolinecolor": "white"
           },
           "yaxis": {
            "backgroundcolor": "#E5ECF6",
            "gridcolor": "white",
            "gridwidth": 2,
            "linecolor": "white",
            "showbackground": true,
            "ticks": "",
            "zerolinecolor": "white"
           },
           "zaxis": {
            "backgroundcolor": "#E5ECF6",
            "gridcolor": "white",
            "gridwidth": 2,
            "linecolor": "white",
            "showbackground": true,
            "ticks": "",
            "zerolinecolor": "white"
           }
          },
          "shapedefaults": {
           "line": {
            "color": "#2a3f5f"
           }
          },
          "ternary": {
           "aaxis": {
            "gridcolor": "white",
            "linecolor": "white",
            "ticks": ""
           },
           "baxis": {
            "gridcolor": "white",
            "linecolor": "white",
            "ticks": ""
           },
           "bgcolor": "#E5ECF6",
           "caxis": {
            "gridcolor": "white",
            "linecolor": "white",
            "ticks": ""
           }
          },
          "title": {
           "x": 0.05
          },
          "xaxis": {
           "automargin": true,
           "gridcolor": "white",
           "linecolor": "white",
           "ticks": "",
           "title": {
            "standoff": 15
           },
           "zerolinecolor": "white",
           "zerolinewidth": 2
          },
          "yaxis": {
           "automargin": true,
           "gridcolor": "white",
           "linecolor": "white",
           "ticks": "",
           "title": {
            "standoff": 15
           },
           "zerolinecolor": "white",
           "zerolinewidth": 2
          }
         }
        },
        "title": {
         "font": {
          "color": "#4D5663"
         }
        },
        "xaxis": {
         "gridcolor": "#E1E5ED",
         "showgrid": true,
         "tickfont": {
          "color": "#4D5663"
         },
         "title": {
          "font": {
           "color": "#4D5663"
          },
          "text": ""
         },
         "zerolinecolor": "#E1E5ED"
        },
        "yaxis": {
         "gridcolor": "#E1E5ED",
         "showgrid": true,
         "tickfont": {
          "color": "#4D5663"
         },
         "title": {
          "font": {
           "color": "#4D5663"
          },
          "text": ""
         },
         "zerolinecolor": "#E1E5ED"
        }
       }
      },
      "text/html": [
       "<div>\n",
       "        \n",
       "        \n",
       "            <div id=\"7c356159-dd58-4a2e-8a51-7fe0e3813e1c\" class=\"plotly-graph-div\" style=\"height:525px; width:100%;\"></div>\n",
       "            <script type=\"text/javascript\">\n",
       "                require([\"plotly\"], function(Plotly) {\n",
       "                    window.PLOTLYENV=window.PLOTLYENV || {};\n",
       "                    window.PLOTLYENV.BASE_URL='https://plot.ly';\n",
       "                    \n",
       "                if (document.getElementById(\"7c356159-dd58-4a2e-8a51-7fe0e3813e1c\")) {\n",
       "                    Plotly.newPlot(\n",
       "                        '7c356159-dd58-4a2e-8a51-7fe0e3813e1c',\n",
       "                        [{\"boxpoints\": false, \"line\": {\"width\": 1.3}, \"marker\": {\"color\": \"rgba(255, 153, 51, 1.0)\"}, \"name\": \"A\", \"orientation\": \"v\", \"type\": \"box\", \"y\": [-1.7375580925953535, 2.9798425210708013, -1.0545567985659783, 0.43389954846861545, 0.8589522332349308, -0.3616114246746602, 0.08129228111193294, -0.03170409927917186, -0.07583003895429322, -0.6170785337602537, 0.42007342224209826, 0.7540336618917531, -1.6267688839452992, -0.08424646600581756, 1.0709970757483533, 0.5344614223479325, 0.5216582988407987, 0.2902307834729736, 0.7713333875300337, 0.09970764861362018, -0.41312988541264173, 0.23725117555436426, 0.45540014559384057, 1.3437792550907464, 1.6371399457193123, -0.23440245785819436, -0.48637618154310797, -0.579834773798158, 0.8680435160846539, 0.7551041963764679, -0.08772136484334801, 0.23371341703090623, -1.888646992185423, 0.5940755907760089, 1.163188230279187, -0.3558795302103094, 0.4718600454918289, -0.35910477190998, 0.061048874961931045, -0.8558643812248122, -1.5357472961911194, -0.8504932576852609, -0.6133178054476308, 0.9491908322184918, 0.1776564608865159, -0.5718821378304894, 1.65243316834657, -0.11087061947532537, 0.4910980324309401, 1.0764950552633994, -1.975933995127861, 0.718412236621663, 1.0187483843386271, -0.4126656589335081, -0.5094811755581428, 1.7238104909238607, 1.0072177937726334, -0.9928195231370098, -0.004184549781906393, -2.206243361106769, -0.34148567476745917, -0.3599903270515361, 0.2785410168023459, 0.8266359753344356, -1.3400718186115126, -0.71604405770814, -0.9467350650309536, 1.7565657592263497, -1.3808407040749415, 0.8249918219638933, 0.5923865214093382, 0.5489722527089953, 0.2510612143960188, 0.5770236369391516, -0.9603380055434259, 2.204799410979961, 0.41105016526569715, 0.683944392199121, -0.11000348830948538, 0.6414176378270837, 1.0266347930797186, -1.388195851084029, 0.8182178748924435, -1.3204232028558036, -0.5545671097481487, 0.4039389218568765, 2.202724388868758, -0.9633456260593918, -0.21789950334872957, -0.22701260850651195, 1.1924378269478273, -0.7278425474496786, 0.004091598726279457, 0.7057661322179745, 1.5454160265945245, -0.8387144737436726, -0.9116345050477735, 0.22195334624997998, -0.28163161499145284, -1.2385386113755583]}, {\"boxpoints\": false, \"line\": {\"width\": 1.3}, \"marker\": {\"color\": \"rgba(55, 128, 191, 1.0)\"}, \"name\": \"B\", \"orientation\": \"v\", \"type\": \"box\", \"y\": [-0.6134635286282765, -0.5893938086424193, 0.08133950161229865, 0.5398200529846118, -1.286750376942333, -0.6788265991475018, 0.6422798598704085, -1.1326000096188251, -1.4089405831255573, -0.1696111304011945, -0.8359408788600723, -0.056670528140848435, -0.10987441558624364, 1.2252867700864356, 0.9736400059389726, -0.8950702416491216, 0.5849635299220757, -0.5591568492862687, 1.093907468885399, -0.04032620964770699, -1.8570080445362416, 1.063435867461458, 0.30940121247962055, 0.20356504119969962, 0.5413491586427932, -0.9985516843900909, -0.38598464007661815, -2.470204057674452, -1.5660784847207427, 0.6995069319307801, 0.16873701963464874, -2.0917394748944713, -0.7018420852463064, -0.5091045350909177, 0.5365362801017167, 0.268070152134566, 0.16998613045411123, -0.2814630034389793, -0.6881656758762982, 0.3353977553560339, -0.4122357782615829, 0.0713069113135744, 0.5152980887432727, 0.1173874661122881, 0.6291036361334134, -0.6239223136538199, -0.7908673470758846, -0.20854907806217174, -0.7554356412524142, 0.5691658659371732, 0.4872906627660704, -0.6568931090902709, -1.4697893098691848, 0.7939963167521176, -0.5037514809518796, 0.6925055921857803, -0.6636143919009947, -1.1972565402094348, 0.7669709172631989, 0.01664548860746999, -0.6201746376242857, 0.18102028476958157, -1.3667500115858608, 0.016728165945960598, 1.4575891285742022, 1.2241908183776857, -0.5199035148221082, 0.9460580315295726, -0.24901303381143025, -1.1865166471453603, 1.0594004271570268, -0.2271596090232071, -0.05009216598693693, -0.8742984971963792, -1.1035731765413361, 1.5995978451621455, 0.07624149161800622, -2.056466491887705, 0.30959943849236954, 0.5178775860951798, -0.10432507962391788, -0.17333177878384695, 0.07609787115295705, -0.24644274238062452, -0.9241119671704282, -0.3624764326414089, -1.7236405281460883, 0.4343231101268886, -0.15107912354535877, 0.36364520144806667, -0.45587589815606516, -0.6584898542975601, -0.15310964482626382, 0.13819890641935403, 1.2455627682266015, 1.8450891467052408, -0.616506351567455, 0.954727000301093, -0.7673822279347278, -0.5754065115109609]}, {\"boxpoints\": false, \"line\": {\"width\": 1.3}, \"marker\": {\"color\": \"rgba(50, 171, 96, 1.0)\"}, \"name\": \"C\", \"orientation\": \"v\", \"type\": \"box\", \"y\": [0.04294231755449757, 0.0016255541636022565, 1.0633037389992772, -0.026630432851273155, -1.5556655822882433, -0.5233751955800335, -1.10462745108137, 0.8355234046011989, -0.8438953733979512, -0.6641179049714775, -0.9734875472206643, -0.7768174815056599, 0.27554064479249163, -0.3024757658279942, -1.0976834431974287, -0.7703564359330498, 1.9015799608432125, 2.0752316899514813, -0.8862517117671875, 0.2618475196772164, -0.8670430613068909, 0.08835292833627718, 2.0600098211599347, -1.1845061472783125, -1.5992122998776026, -2.2170558135672453, 1.0516791054057524, -0.11741173262108721, -1.2526093499549895, 0.9400986057368945, 0.7679628956308497, 0.596622048956618, -0.49493106599838155, 0.5201345132112551, -2.3013382435109695, 1.335108038613449, -1.027241850647683, 1.9988925267865527, 0.8071788045680959, -0.009285898706600118, 1.605230239239615, -0.6047978275642666, 0.187073881048798, -0.5046854108820417, 0.09227216164042197, -1.1757007615391473, 0.6989947188886104, -1.9157015899651557, 0.10331093131786909, 1.065594763433154, -0.08306135197681556, 0.3775847683756019, 0.014430982363700657, -0.6902753183947125, 0.979864573025324, -0.01275931512582157, -0.07085675267078606, -2.0314021598243612, 1.4177996619195425, -0.866894125523792, 0.36472689438075, -1.1418009053536204, 0.3865458117776289, -0.30042295557836146, -0.22396665650551628, 0.19063343358187418, 0.44964734438667286, -2.450304991008352, -1.3299754652415339, -0.6790195652604617, -0.029941698701764687, 0.7613245938738966, -2.424908205088992, 1.304577583345698, -0.20690292391698215, -0.49373298178075686, -0.9096320628030712, -0.26228394878681877, 0.028248899667591972, -1.1749312934435592, -0.5042259487205529, -0.18523070123388996, -0.03417040825507492, -0.6804075406392612, 1.2939035721728152, -1.8031529416561671, 2.272703009136275, 0.760256350736582, -1.1176958436190807, 0.06550378234003361, 1.1596490852794357, 0.5228476319095402, -0.4734525232911263, 1.0976024034607583, -0.4735641707398458, -1.8451887986991764, 0.12716030934466405, 0.12878402008470755, -1.5034147610863922, 1.9984882818761998]}, {\"boxpoints\": false, \"line\": {\"width\": 1.3}, \"marker\": {\"color\": \"rgba(128, 0, 128, 1.0)\"}, \"name\": \"D\", \"orientation\": \"v\", \"type\": \"box\", \"y\": [-0.31656178469447194, -1.1706967933878085, -1.2893456027463885, -2.8818284349185928, 0.31148716789928654, 0.9264662521929483, 0.3636327971508756, 0.22162943482489686, 3.0845149484546908, 1.073412122755287, 0.9474758278565716, -1.11574234722627, 0.27947138997466686, -0.280225093600264, 0.31508387033346885, 0.21624633916344593, 0.2057194026937669, -0.4096538937736879, -0.5882035732256841, 0.19601269329957235, 0.04577184904838376, -0.7904452637070005, 1.05491825253922, 0.09558045199381039, -0.9826810243472383, 0.28434332780836874, 0.8201651577190678, 0.8501454569321909, 2.2004398583318068, 0.7177361222656636, -0.5602615487876851, 1.752652084524186, 1.8644361521715207, -0.20187130019840654, 0.5186915557751215, -0.29953831404799136, -0.5762365243115933, -0.7603650239947474, 1.4642484612337887, -0.9805539172376848, -0.6783189576607888, 0.5640921819890312, -0.10337921693083645, 2.423304915591704, -0.21439210110824206, -1.0214831629412096, 1.4599222802563263, -0.7712384608468587, 0.22857558116316434, -0.8375141203645532, -0.8681094351854624, 0.28290227043248184, 0.34181014382868335, 0.10989562714181866, -1.0282569263052668, -0.9653338890731807, -0.24237741309364294, 0.2715572703337933, -0.5857864485650293, -0.7263200095095875, -0.1379761787319353, 0.12119783309110436, -0.34585601451629316, 0.9934846569376848, -1.25727792940195, -1.7859323517025896, 0.2578578794185799, -0.3170155607400926, -1.3655294026417917, 0.06156146878944502, -2.128410604868576, -0.5712142596974494, 0.5884068859664306, 1.2521654063312586, -0.06662641503507422, -0.33417346772552825, -0.704448261708184, 0.3013164041951132, 0.11617224879270775, 0.050193526210996604, -1.854797407465776, -0.17542935253082104, 0.15689068325524133, -0.5154210005282159, 0.021209695934381715, 0.446970836320688, -1.2469578081844763, -2.167492489322819, 0.048853097947676845, -1.422588041875594, 2.224352683190004, -0.16306204777210062, 0.4270416207109376, 0.004516686923604023, 0.1961514658961023, 0.3164909546480894, -0.03904406981262113, 0.8462309192033494, 0.07370223526765363, -0.4637638612680175]}],\n",
       "                        {\"legend\": {\"bgcolor\": \"#F5F6F9\", \"font\": {\"color\": \"#4D5663\"}}, \"paper_bgcolor\": \"#F5F6F9\", \"plot_bgcolor\": \"#F5F6F9\", \"template\": {\"data\": {\"bar\": [{\"error_x\": {\"color\": \"#2a3f5f\"}, \"error_y\": {\"color\": \"#2a3f5f\"}, \"marker\": {\"line\": {\"color\": \"#E5ECF6\", \"width\": 0.5}}, \"type\": \"bar\"}], \"barpolar\": [{\"marker\": {\"line\": {\"color\": \"#E5ECF6\", \"width\": 0.5}}, \"type\": \"barpolar\"}], \"carpet\": [{\"aaxis\": {\"endlinecolor\": \"#2a3f5f\", \"gridcolor\": \"white\", \"linecolor\": \"white\", \"minorgridcolor\": \"white\", \"startlinecolor\": \"#2a3f5f\"}, \"baxis\": {\"endlinecolor\": \"#2a3f5f\", \"gridcolor\": \"white\", \"linecolor\": \"white\", \"minorgridcolor\": \"white\", \"startlinecolor\": \"#2a3f5f\"}, \"type\": \"carpet\"}], \"choropleth\": [{\"colorbar\": {\"outlinewidth\": 0, \"ticks\": \"\"}, \"type\": \"choropleth\"}], \"contour\": [{\"colorbar\": {\"outlinewidth\": 0, \"ticks\": \"\"}, \"colorscale\": [[0.0, \"#0d0887\"], [0.1111111111111111, \"#46039f\"], [0.2222222222222222, \"#7201a8\"], [0.3333333333333333, \"#9c179e\"], [0.4444444444444444, \"#bd3786\"], [0.5555555555555556, \"#d8576b\"], [0.6666666666666666, \"#ed7953\"], [0.7777777777777778, \"#fb9f3a\"], [0.8888888888888888, \"#fdca26\"], [1.0, \"#f0f921\"]], \"type\": \"contour\"}], \"contourcarpet\": [{\"colorbar\": {\"outlinewidth\": 0, \"ticks\": \"\"}, \"type\": \"contourcarpet\"}], \"heatmap\": [{\"colorbar\": {\"outlinewidth\": 0, \"ticks\": \"\"}, \"colorscale\": [[0.0, \"#0d0887\"], [0.1111111111111111, \"#46039f\"], [0.2222222222222222, \"#7201a8\"], [0.3333333333333333, \"#9c179e\"], [0.4444444444444444, \"#bd3786\"], [0.5555555555555556, \"#d8576b\"], [0.6666666666666666, \"#ed7953\"], [0.7777777777777778, \"#fb9f3a\"], [0.8888888888888888, \"#fdca26\"], [1.0, \"#f0f921\"]], \"type\": \"heatmap\"}], \"heatmapgl\": [{\"colorbar\": {\"outlinewidth\": 0, \"ticks\": \"\"}, \"colorscale\": [[0.0, \"#0d0887\"], [0.1111111111111111, \"#46039f\"], [0.2222222222222222, \"#7201a8\"], [0.3333333333333333, \"#9c179e\"], [0.4444444444444444, \"#bd3786\"], [0.5555555555555556, \"#d8576b\"], [0.6666666666666666, \"#ed7953\"], [0.7777777777777778, \"#fb9f3a\"], [0.8888888888888888, \"#fdca26\"], [1.0, \"#f0f921\"]], \"type\": \"heatmapgl\"}], \"histogram\": [{\"marker\": {\"colorbar\": {\"outlinewidth\": 0, \"ticks\": \"\"}}, \"type\": \"histogram\"}], \"histogram2d\": [{\"colorbar\": {\"outlinewidth\": 0, \"ticks\": \"\"}, \"colorscale\": [[0.0, \"#0d0887\"], [0.1111111111111111, \"#46039f\"], [0.2222222222222222, \"#7201a8\"], [0.3333333333333333, \"#9c179e\"], [0.4444444444444444, \"#bd3786\"], [0.5555555555555556, \"#d8576b\"], [0.6666666666666666, \"#ed7953\"], [0.7777777777777778, \"#fb9f3a\"], [0.8888888888888888, \"#fdca26\"], [1.0, \"#f0f921\"]], \"type\": \"histogram2d\"}], \"histogram2dcontour\": [{\"colorbar\": {\"outlinewidth\": 0, \"ticks\": \"\"}, \"colorscale\": [[0.0, \"#0d0887\"], [0.1111111111111111, \"#46039f\"], [0.2222222222222222, \"#7201a8\"], [0.3333333333333333, \"#9c179e\"], [0.4444444444444444, \"#bd3786\"], [0.5555555555555556, \"#d8576b\"], [0.6666666666666666, \"#ed7953\"], [0.7777777777777778, \"#fb9f3a\"], [0.8888888888888888, \"#fdca26\"], [1.0, \"#f0f921\"]], \"type\": \"histogram2dcontour\"}], \"mesh3d\": [{\"colorbar\": {\"outlinewidth\": 0, \"ticks\": \"\"}, \"type\": \"mesh3d\"}], \"parcoords\": [{\"line\": {\"colorbar\": {\"outlinewidth\": 0, \"ticks\": \"\"}}, \"type\": \"parcoords\"}], \"pie\": [{\"automargin\": true, \"type\": \"pie\"}], \"scatter\": [{\"marker\": {\"colorbar\": {\"outlinewidth\": 0, \"ticks\": \"\"}}, \"type\": \"scatter\"}], \"scatter3d\": [{\"line\": {\"colorbar\": {\"outlinewidth\": 0, \"ticks\": \"\"}}, \"marker\": {\"colorbar\": {\"outlinewidth\": 0, \"ticks\": \"\"}}, \"type\": \"scatter3d\"}], \"scattercarpet\": [{\"marker\": {\"colorbar\": {\"outlinewidth\": 0, \"ticks\": \"\"}}, \"type\": \"scattercarpet\"}], \"scattergeo\": [{\"marker\": {\"colorbar\": {\"outlinewidth\": 0, \"ticks\": \"\"}}, \"type\": \"scattergeo\"}], \"scattergl\": [{\"marker\": {\"colorbar\": {\"outlinewidth\": 0, \"ticks\": \"\"}}, \"type\": \"scattergl\"}], \"scattermapbox\": [{\"marker\": {\"colorbar\": {\"outlinewidth\": 0, \"ticks\": \"\"}}, \"type\": \"scattermapbox\"}], \"scatterpolar\": [{\"marker\": {\"colorbar\": {\"outlinewidth\": 0, \"ticks\": \"\"}}, \"type\": \"scatterpolar\"}], \"scatterpolargl\": [{\"marker\": {\"colorbar\": {\"outlinewidth\": 0, \"ticks\": \"\"}}, \"type\": \"scatterpolargl\"}], \"scatterternary\": [{\"marker\": {\"colorbar\": {\"outlinewidth\": 0, \"ticks\": \"\"}}, \"type\": \"scatterternary\"}], \"surface\": [{\"colorbar\": {\"outlinewidth\": 0, \"ticks\": \"\"}, \"colorscale\": [[0.0, \"#0d0887\"], [0.1111111111111111, \"#46039f\"], [0.2222222222222222, \"#7201a8\"], [0.3333333333333333, \"#9c179e\"], [0.4444444444444444, \"#bd3786\"], [0.5555555555555556, \"#d8576b\"], [0.6666666666666666, \"#ed7953\"], [0.7777777777777778, \"#fb9f3a\"], [0.8888888888888888, \"#fdca26\"], [1.0, \"#f0f921\"]], \"type\": \"surface\"}], \"table\": [{\"cells\": {\"fill\": {\"color\": \"#EBF0F8\"}, \"line\": {\"color\": \"white\"}}, \"header\": {\"fill\": {\"color\": \"#C8D4E3\"}, \"line\": {\"color\": \"white\"}}, \"type\": \"table\"}]}, \"layout\": {\"annotationdefaults\": {\"arrowcolor\": \"#2a3f5f\", \"arrowhead\": 0, \"arrowwidth\": 1}, \"coloraxis\": {\"colorbar\": {\"outlinewidth\": 0, \"ticks\": \"\"}}, \"colorscale\": {\"diverging\": [[0, \"#8e0152\"], [0.1, \"#c51b7d\"], [0.2, \"#de77ae\"], [0.3, \"#f1b6da\"], [0.4, \"#fde0ef\"], [0.5, \"#f7f7f7\"], [0.6, \"#e6f5d0\"], [0.7, \"#b8e186\"], [0.8, \"#7fbc41\"], [0.9, \"#4d9221\"], [1, \"#276419\"]], \"sequential\": [[0.0, \"#0d0887\"], [0.1111111111111111, \"#46039f\"], [0.2222222222222222, \"#7201a8\"], [0.3333333333333333, \"#9c179e\"], [0.4444444444444444, \"#bd3786\"], [0.5555555555555556, \"#d8576b\"], [0.6666666666666666, \"#ed7953\"], [0.7777777777777778, \"#fb9f3a\"], [0.8888888888888888, \"#fdca26\"], [1.0, \"#f0f921\"]], \"sequentialminus\": [[0.0, \"#0d0887\"], [0.1111111111111111, \"#46039f\"], [0.2222222222222222, \"#7201a8\"], [0.3333333333333333, \"#9c179e\"], [0.4444444444444444, \"#bd3786\"], [0.5555555555555556, \"#d8576b\"], [0.6666666666666666, \"#ed7953\"], [0.7777777777777778, \"#fb9f3a\"], [0.8888888888888888, \"#fdca26\"], [1.0, \"#f0f921\"]]}, \"colorway\": [\"#636efa\", \"#EF553B\", \"#00cc96\", \"#ab63fa\", \"#FFA15A\", \"#19d3f3\", \"#FF6692\", \"#B6E880\", \"#FF97FF\", \"#FECB52\"], \"font\": {\"color\": \"#2a3f5f\"}, \"geo\": {\"bgcolor\": \"white\", \"lakecolor\": \"white\", \"landcolor\": \"#E5ECF6\", \"showlakes\": true, \"showland\": true, \"subunitcolor\": \"white\"}, \"hoverlabel\": {\"align\": \"left\"}, \"hovermode\": \"closest\", \"mapbox\": {\"style\": \"light\"}, \"paper_bgcolor\": \"white\", \"plot_bgcolor\": \"#E5ECF6\", \"polar\": {\"angularaxis\": {\"gridcolor\": \"white\", \"linecolor\": \"white\", \"ticks\": \"\"}, \"bgcolor\": \"#E5ECF6\", \"radialaxis\": {\"gridcolor\": \"white\", \"linecolor\": \"white\", \"ticks\": \"\"}}, \"scene\": {\"xaxis\": {\"backgroundcolor\": \"#E5ECF6\", \"gridcolor\": \"white\", \"gridwidth\": 2, \"linecolor\": \"white\", \"showbackground\": true, \"ticks\": \"\", \"zerolinecolor\": \"white\"}, \"yaxis\": {\"backgroundcolor\": \"#E5ECF6\", \"gridcolor\": \"white\", \"gridwidth\": 2, \"linecolor\": \"white\", \"showbackground\": true, \"ticks\": \"\", \"zerolinecolor\": \"white\"}, \"zaxis\": {\"backgroundcolor\": \"#E5ECF6\", \"gridcolor\": \"white\", \"gridwidth\": 2, \"linecolor\": \"white\", \"showbackground\": true, \"ticks\": \"\", \"zerolinecolor\": \"white\"}}, \"shapedefaults\": {\"line\": {\"color\": \"#2a3f5f\"}}, \"ternary\": {\"aaxis\": {\"gridcolor\": \"white\", \"linecolor\": \"white\", \"ticks\": \"\"}, \"baxis\": {\"gridcolor\": \"white\", \"linecolor\": \"white\", \"ticks\": \"\"}, \"bgcolor\": \"#E5ECF6\", \"caxis\": {\"gridcolor\": \"white\", \"linecolor\": \"white\", \"ticks\": \"\"}}, \"title\": {\"x\": 0.05}, \"xaxis\": {\"automargin\": true, \"gridcolor\": \"white\", \"linecolor\": \"white\", \"ticks\": \"\", \"title\": {\"standoff\": 15}, \"zerolinecolor\": \"white\", \"zerolinewidth\": 2}, \"yaxis\": {\"automargin\": true, \"gridcolor\": \"white\", \"linecolor\": \"white\", \"ticks\": \"\", \"title\": {\"standoff\": 15}, \"zerolinecolor\": \"white\", \"zerolinewidth\": 2}}}, \"title\": {\"font\": {\"color\": \"#4D5663\"}}, \"xaxis\": {\"gridcolor\": \"#E1E5ED\", \"showgrid\": true, \"tickfont\": {\"color\": \"#4D5663\"}, \"title\": {\"font\": {\"color\": \"#4D5663\"}, \"text\": \"\"}, \"zerolinecolor\": \"#E1E5ED\"}, \"yaxis\": {\"gridcolor\": \"#E1E5ED\", \"showgrid\": true, \"tickfont\": {\"color\": \"#4D5663\"}, \"title\": {\"font\": {\"color\": \"#4D5663\"}, \"text\": \"\"}, \"zerolinecolor\": \"#E1E5ED\"}},\n",
       "                        {\"showLink\": true, \"linkText\": \"Export to plot.ly\", \"plotlyServerURL\": \"https://plot.ly\", \"responsive\": true}\n",
       "                    ).then(function(){\n",
       "                            \n",
       "var gd = document.getElementById('7c356159-dd58-4a2e-8a51-7fe0e3813e1c');\n",
       "var x = new MutationObserver(function (mutations, observer) {{\n",
       "        var display = window.getComputedStyle(gd).display;\n",
       "        if (!display || display === 'none') {{\n",
       "            console.log([gd, 'removed!']);\n",
       "            Plotly.purge(gd);\n",
       "            observer.disconnect();\n",
       "        }}\n",
       "}});\n",
       "\n",
       "// Listen for the removal of the full notebook cells\n",
       "var notebookContainer = gd.closest('#notebook-container');\n",
       "if (notebookContainer) {{\n",
       "    x.observe(notebookContainer, {childList: true});\n",
       "}}\n",
       "\n",
       "// Listen for the clearing of the current output cell\n",
       "var outputEl = gd.closest('.output');\n",
       "if (outputEl) {{\n",
       "    x.observe(outputEl, {childList: true});\n",
       "}}\n",
       "\n",
       "                        })\n",
       "                };\n",
       "                });\n",
       "            </script>\n",
       "        </div>"
      ]
     },
     "metadata": {},
     "output_type": "display_data"
    }
   ],
   "source": [
    "df.iplot(kind='box')"
   ]
  },
  {
   "cell_type": "markdown",
   "metadata": {},
   "source": [
    "## 3d Surface"
   ]
  },
  {
   "cell_type": "code",
   "execution_count": 18,
   "metadata": {},
   "outputs": [
    {
     "data": {
      "application/vnd.plotly.v1+json": {
       "config": {
        "linkText": "Export to plot.ly",
        "plotlyServerURL": "https://plot.ly",
        "showLink": true
       },
       "data": [
        {
         "colorscale": [
          [
           0,
           "rgb(165,0,38)"
          ],
          [
           0.1,
           "rgb(215,48,39)"
          ],
          [
           0.2,
           "rgb(244,109,67)"
          ],
          [
           0.3,
           "rgb(253,174,97)"
          ],
          [
           0.4,
           "rgb(254,224,144)"
          ],
          [
           0.5,
           "rgb(255,255,191)"
          ],
          [
           0.6,
           "rgb(224,243,248)"
          ],
          [
           0.7,
           "rgb(171,217,233)"
          ],
          [
           0.8,
           "rgb(116,173,209)"
          ],
          [
           0.9,
           "rgb(69,117,180)"
          ],
          [
           1,
           "rgb(49,54,149)"
          ]
         ],
         "type": "surface",
         "x": [
          0,
          1,
          2,
          3,
          4
         ],
         "y": [
          "x",
          "y",
          "z"
         ],
         "z": [
          [
           1,
           2,
           3,
           4,
           5
          ],
          [
           10,
           20,
           30,
           20,
           10
          ],
          [
           5,
           4,
           3,
           2,
           1
          ]
         ]
        }
       ],
       "layout": {
        "legend": {
         "bgcolor": "#F5F6F9",
         "font": {
          "color": "#4D5663"
         }
        },
        "paper_bgcolor": "#F5F6F9",
        "plot_bgcolor": "#F5F6F9",
        "template": {
         "data": {
          "bar": [
           {
            "error_x": {
             "color": "#2a3f5f"
            },
            "error_y": {
             "color": "#2a3f5f"
            },
            "marker": {
             "line": {
              "color": "#E5ECF6",
              "width": 0.5
             }
            },
            "type": "bar"
           }
          ],
          "barpolar": [
           {
            "marker": {
             "line": {
              "color": "#E5ECF6",
              "width": 0.5
             }
            },
            "type": "barpolar"
           }
          ],
          "carpet": [
           {
            "aaxis": {
             "endlinecolor": "#2a3f5f",
             "gridcolor": "white",
             "linecolor": "white",
             "minorgridcolor": "white",
             "startlinecolor": "#2a3f5f"
            },
            "baxis": {
             "endlinecolor": "#2a3f5f",
             "gridcolor": "white",
             "linecolor": "white",
             "minorgridcolor": "white",
             "startlinecolor": "#2a3f5f"
            },
            "type": "carpet"
           }
          ],
          "choropleth": [
           {
            "colorbar": {
             "outlinewidth": 0,
             "ticks": ""
            },
            "type": "choropleth"
           }
          ],
          "contour": [
           {
            "colorbar": {
             "outlinewidth": 0,
             "ticks": ""
            },
            "colorscale": [
             [
              0,
              "#0d0887"
             ],
             [
              0.1111111111111111,
              "#46039f"
             ],
             [
              0.2222222222222222,
              "#7201a8"
             ],
             [
              0.3333333333333333,
              "#9c179e"
             ],
             [
              0.4444444444444444,
              "#bd3786"
             ],
             [
              0.5555555555555556,
              "#d8576b"
             ],
             [
              0.6666666666666666,
              "#ed7953"
             ],
             [
              0.7777777777777778,
              "#fb9f3a"
             ],
             [
              0.8888888888888888,
              "#fdca26"
             ],
             [
              1,
              "#f0f921"
             ]
            ],
            "type": "contour"
           }
          ],
          "contourcarpet": [
           {
            "colorbar": {
             "outlinewidth": 0,
             "ticks": ""
            },
            "type": "contourcarpet"
           }
          ],
          "heatmap": [
           {
            "colorbar": {
             "outlinewidth": 0,
             "ticks": ""
            },
            "colorscale": [
             [
              0,
              "#0d0887"
             ],
             [
              0.1111111111111111,
              "#46039f"
             ],
             [
              0.2222222222222222,
              "#7201a8"
             ],
             [
              0.3333333333333333,
              "#9c179e"
             ],
             [
              0.4444444444444444,
              "#bd3786"
             ],
             [
              0.5555555555555556,
              "#d8576b"
             ],
             [
              0.6666666666666666,
              "#ed7953"
             ],
             [
              0.7777777777777778,
              "#fb9f3a"
             ],
             [
              0.8888888888888888,
              "#fdca26"
             ],
             [
              1,
              "#f0f921"
             ]
            ],
            "type": "heatmap"
           }
          ],
          "heatmapgl": [
           {
            "colorbar": {
             "outlinewidth": 0,
             "ticks": ""
            },
            "colorscale": [
             [
              0,
              "#0d0887"
             ],
             [
              0.1111111111111111,
              "#46039f"
             ],
             [
              0.2222222222222222,
              "#7201a8"
             ],
             [
              0.3333333333333333,
              "#9c179e"
             ],
             [
              0.4444444444444444,
              "#bd3786"
             ],
             [
              0.5555555555555556,
              "#d8576b"
             ],
             [
              0.6666666666666666,
              "#ed7953"
             ],
             [
              0.7777777777777778,
              "#fb9f3a"
             ],
             [
              0.8888888888888888,
              "#fdca26"
             ],
             [
              1,
              "#f0f921"
             ]
            ],
            "type": "heatmapgl"
           }
          ],
          "histogram": [
           {
            "marker": {
             "colorbar": {
              "outlinewidth": 0,
              "ticks": ""
             }
            },
            "type": "histogram"
           }
          ],
          "histogram2d": [
           {
            "colorbar": {
             "outlinewidth": 0,
             "ticks": ""
            },
            "colorscale": [
             [
              0,
              "#0d0887"
             ],
             [
              0.1111111111111111,
              "#46039f"
             ],
             [
              0.2222222222222222,
              "#7201a8"
             ],
             [
              0.3333333333333333,
              "#9c179e"
             ],
             [
              0.4444444444444444,
              "#bd3786"
             ],
             [
              0.5555555555555556,
              "#d8576b"
             ],
             [
              0.6666666666666666,
              "#ed7953"
             ],
             [
              0.7777777777777778,
              "#fb9f3a"
             ],
             [
              0.8888888888888888,
              "#fdca26"
             ],
             [
              1,
              "#f0f921"
             ]
            ],
            "type": "histogram2d"
           }
          ],
          "histogram2dcontour": [
           {
            "colorbar": {
             "outlinewidth": 0,
             "ticks": ""
            },
            "colorscale": [
             [
              0,
              "#0d0887"
             ],
             [
              0.1111111111111111,
              "#46039f"
             ],
             [
              0.2222222222222222,
              "#7201a8"
             ],
             [
              0.3333333333333333,
              "#9c179e"
             ],
             [
              0.4444444444444444,
              "#bd3786"
             ],
             [
              0.5555555555555556,
              "#d8576b"
             ],
             [
              0.6666666666666666,
              "#ed7953"
             ],
             [
              0.7777777777777778,
              "#fb9f3a"
             ],
             [
              0.8888888888888888,
              "#fdca26"
             ],
             [
              1,
              "#f0f921"
             ]
            ],
            "type": "histogram2dcontour"
           }
          ],
          "mesh3d": [
           {
            "colorbar": {
             "outlinewidth": 0,
             "ticks": ""
            },
            "type": "mesh3d"
           }
          ],
          "parcoords": [
           {
            "line": {
             "colorbar": {
              "outlinewidth": 0,
              "ticks": ""
             }
            },
            "type": "parcoords"
           }
          ],
          "pie": [
           {
            "automargin": true,
            "type": "pie"
           }
          ],
          "scatter": [
           {
            "marker": {
             "colorbar": {
              "outlinewidth": 0,
              "ticks": ""
             }
            },
            "type": "scatter"
           }
          ],
          "scatter3d": [
           {
            "line": {
             "colorbar": {
              "outlinewidth": 0,
              "ticks": ""
             }
            },
            "marker": {
             "colorbar": {
              "outlinewidth": 0,
              "ticks": ""
             }
            },
            "type": "scatter3d"
           }
          ],
          "scattercarpet": [
           {
            "marker": {
             "colorbar": {
              "outlinewidth": 0,
              "ticks": ""
             }
            },
            "type": "scattercarpet"
           }
          ],
          "scattergeo": [
           {
            "marker": {
             "colorbar": {
              "outlinewidth": 0,
              "ticks": ""
             }
            },
            "type": "scattergeo"
           }
          ],
          "scattergl": [
           {
            "marker": {
             "colorbar": {
              "outlinewidth": 0,
              "ticks": ""
             }
            },
            "type": "scattergl"
           }
          ],
          "scattermapbox": [
           {
            "marker": {
             "colorbar": {
              "outlinewidth": 0,
              "ticks": ""
             }
            },
            "type": "scattermapbox"
           }
          ],
          "scatterpolar": [
           {
            "marker": {
             "colorbar": {
              "outlinewidth": 0,
              "ticks": ""
             }
            },
            "type": "scatterpolar"
           }
          ],
          "scatterpolargl": [
           {
            "marker": {
             "colorbar": {
              "outlinewidth": 0,
              "ticks": ""
             }
            },
            "type": "scatterpolargl"
           }
          ],
          "scatterternary": [
           {
            "marker": {
             "colorbar": {
              "outlinewidth": 0,
              "ticks": ""
             }
            },
            "type": "scatterternary"
           }
          ],
          "surface": [
           {
            "colorbar": {
             "outlinewidth": 0,
             "ticks": ""
            },
            "colorscale": [
             [
              0,
              "#0d0887"
             ],
             [
              0.1111111111111111,
              "#46039f"
             ],
             [
              0.2222222222222222,
              "#7201a8"
             ],
             [
              0.3333333333333333,
              "#9c179e"
             ],
             [
              0.4444444444444444,
              "#bd3786"
             ],
             [
              0.5555555555555556,
              "#d8576b"
             ],
             [
              0.6666666666666666,
              "#ed7953"
             ],
             [
              0.7777777777777778,
              "#fb9f3a"
             ],
             [
              0.8888888888888888,
              "#fdca26"
             ],
             [
              1,
              "#f0f921"
             ]
            ],
            "type": "surface"
           }
          ],
          "table": [
           {
            "cells": {
             "fill": {
              "color": "#EBF0F8"
             },
             "line": {
              "color": "white"
             }
            },
            "header": {
             "fill": {
              "color": "#C8D4E3"
             },
             "line": {
              "color": "white"
             }
            },
            "type": "table"
           }
          ]
         },
         "layout": {
          "annotationdefaults": {
           "arrowcolor": "#2a3f5f",
           "arrowhead": 0,
           "arrowwidth": 1
          },
          "coloraxis": {
           "colorbar": {
            "outlinewidth": 0,
            "ticks": ""
           }
          },
          "colorscale": {
           "diverging": [
            [
             0,
             "#8e0152"
            ],
            [
             0.1,
             "#c51b7d"
            ],
            [
             0.2,
             "#de77ae"
            ],
            [
             0.3,
             "#f1b6da"
            ],
            [
             0.4,
             "#fde0ef"
            ],
            [
             0.5,
             "#f7f7f7"
            ],
            [
             0.6,
             "#e6f5d0"
            ],
            [
             0.7,
             "#b8e186"
            ],
            [
             0.8,
             "#7fbc41"
            ],
            [
             0.9,
             "#4d9221"
            ],
            [
             1,
             "#276419"
            ]
           ],
           "sequential": [
            [
             0,
             "#0d0887"
            ],
            [
             0.1111111111111111,
             "#46039f"
            ],
            [
             0.2222222222222222,
             "#7201a8"
            ],
            [
             0.3333333333333333,
             "#9c179e"
            ],
            [
             0.4444444444444444,
             "#bd3786"
            ],
            [
             0.5555555555555556,
             "#d8576b"
            ],
            [
             0.6666666666666666,
             "#ed7953"
            ],
            [
             0.7777777777777778,
             "#fb9f3a"
            ],
            [
             0.8888888888888888,
             "#fdca26"
            ],
            [
             1,
             "#f0f921"
            ]
           ],
           "sequentialminus": [
            [
             0,
             "#0d0887"
            ],
            [
             0.1111111111111111,
             "#46039f"
            ],
            [
             0.2222222222222222,
             "#7201a8"
            ],
            [
             0.3333333333333333,
             "#9c179e"
            ],
            [
             0.4444444444444444,
             "#bd3786"
            ],
            [
             0.5555555555555556,
             "#d8576b"
            ],
            [
             0.6666666666666666,
             "#ed7953"
            ],
            [
             0.7777777777777778,
             "#fb9f3a"
            ],
            [
             0.8888888888888888,
             "#fdca26"
            ],
            [
             1,
             "#f0f921"
            ]
           ]
          },
          "colorway": [
           "#636efa",
           "#EF553B",
           "#00cc96",
           "#ab63fa",
           "#FFA15A",
           "#19d3f3",
           "#FF6692",
           "#B6E880",
           "#FF97FF",
           "#FECB52"
          ],
          "font": {
           "color": "#2a3f5f"
          },
          "geo": {
           "bgcolor": "white",
           "lakecolor": "white",
           "landcolor": "#E5ECF6",
           "showlakes": true,
           "showland": true,
           "subunitcolor": "white"
          },
          "hoverlabel": {
           "align": "left"
          },
          "hovermode": "closest",
          "mapbox": {
           "style": "light"
          },
          "paper_bgcolor": "white",
          "plot_bgcolor": "#E5ECF6",
          "polar": {
           "angularaxis": {
            "gridcolor": "white",
            "linecolor": "white",
            "ticks": ""
           },
           "bgcolor": "#E5ECF6",
           "radialaxis": {
            "gridcolor": "white",
            "linecolor": "white",
            "ticks": ""
           }
          },
          "scene": {
           "xaxis": {
            "backgroundcolor": "#E5ECF6",
            "gridcolor": "white",
            "gridwidth": 2,
            "linecolor": "white",
            "showbackground": true,
            "ticks": "",
            "zerolinecolor": "white"
           },
           "yaxis": {
            "backgroundcolor": "#E5ECF6",
            "gridcolor": "white",
            "gridwidth": 2,
            "linecolor": "white",
            "showbackground": true,
            "ticks": "",
            "zerolinecolor": "white"
           },
           "zaxis": {
            "backgroundcolor": "#E5ECF6",
            "gridcolor": "white",
            "gridwidth": 2,
            "linecolor": "white",
            "showbackground": true,
            "ticks": "",
            "zerolinecolor": "white"
           }
          },
          "shapedefaults": {
           "line": {
            "color": "#2a3f5f"
           }
          },
          "ternary": {
           "aaxis": {
            "gridcolor": "white",
            "linecolor": "white",
            "ticks": ""
           },
           "baxis": {
            "gridcolor": "white",
            "linecolor": "white",
            "ticks": ""
           },
           "bgcolor": "#E5ECF6",
           "caxis": {
            "gridcolor": "white",
            "linecolor": "white",
            "ticks": ""
           }
          },
          "title": {
           "x": 0.05
          },
          "xaxis": {
           "automargin": true,
           "gridcolor": "white",
           "linecolor": "white",
           "ticks": "",
           "title": {
            "standoff": 15
           },
           "zerolinecolor": "white",
           "zerolinewidth": 2
          },
          "yaxis": {
           "automargin": true,
           "gridcolor": "white",
           "linecolor": "white",
           "ticks": "",
           "title": {
            "standoff": 15
           },
           "zerolinecolor": "white",
           "zerolinewidth": 2
          }
         }
        },
        "title": {
         "font": {
          "color": "#4D5663"
         }
        },
        "xaxis": {
         "gridcolor": "#E1E5ED",
         "showgrid": true,
         "tickfont": {
          "color": "#4D5663"
         },
         "title": {
          "font": {
           "color": "#4D5663"
          },
          "text": ""
         },
         "zerolinecolor": "#E1E5ED"
        },
        "yaxis": {
         "gridcolor": "#E1E5ED",
         "showgrid": true,
         "tickfont": {
          "color": "#4D5663"
         },
         "title": {
          "font": {
           "color": "#4D5663"
          },
          "text": ""
         },
         "zerolinecolor": "#E1E5ED"
        }
       }
      },
      "text/html": [
       "<div>\n",
       "        \n",
       "        \n",
       "            <div id=\"ba6e40a9-fc59-481d-9617-168cef6ac2a5\" class=\"plotly-graph-div\" style=\"height:525px; width:100%;\"></div>\n",
       "            <script type=\"text/javascript\">\n",
       "                require([\"plotly\"], function(Plotly) {\n",
       "                    window.PLOTLYENV=window.PLOTLYENV || {};\n",
       "                    window.PLOTLYENV.BASE_URL='https://plot.ly';\n",
       "                    \n",
       "                if (document.getElementById(\"ba6e40a9-fc59-481d-9617-168cef6ac2a5\")) {\n",
       "                    Plotly.newPlot(\n",
       "                        'ba6e40a9-fc59-481d-9617-168cef6ac2a5',\n",
       "                        [{\"colorscale\": [[0.0, \"rgb(165,0,38)\"], [0.1, \"rgb(215,48,39)\"], [0.2, \"rgb(244,109,67)\"], [0.3, \"rgb(253,174,97)\"], [0.4, \"rgb(254,224,144)\"], [0.5, \"rgb(255,255,191)\"], [0.6, \"rgb(224,243,248)\"], [0.7, \"rgb(171,217,233)\"], [0.8, \"rgb(116,173,209)\"], [0.9, \"rgb(69,117,180)\"], [1.0, \"rgb(49,54,149)\"]], \"type\": \"surface\", \"x\": [0, 1, 2, 3, 4], \"y\": [\"x\", \"y\", \"z\"], \"z\": [[1, 2, 3, 4, 5], [10, 20, 30, 20, 10], [5, 4, 3, 2, 1]]}],\n",
       "                        {\"legend\": {\"bgcolor\": \"#F5F6F9\", \"font\": {\"color\": \"#4D5663\"}}, \"paper_bgcolor\": \"#F5F6F9\", \"plot_bgcolor\": \"#F5F6F9\", \"template\": {\"data\": {\"bar\": [{\"error_x\": {\"color\": \"#2a3f5f\"}, \"error_y\": {\"color\": \"#2a3f5f\"}, \"marker\": {\"line\": {\"color\": \"#E5ECF6\", \"width\": 0.5}}, \"type\": \"bar\"}], \"barpolar\": [{\"marker\": {\"line\": {\"color\": \"#E5ECF6\", \"width\": 0.5}}, \"type\": \"barpolar\"}], \"carpet\": [{\"aaxis\": {\"endlinecolor\": \"#2a3f5f\", \"gridcolor\": \"white\", \"linecolor\": \"white\", \"minorgridcolor\": \"white\", \"startlinecolor\": \"#2a3f5f\"}, \"baxis\": {\"endlinecolor\": \"#2a3f5f\", \"gridcolor\": \"white\", \"linecolor\": \"white\", \"minorgridcolor\": \"white\", \"startlinecolor\": \"#2a3f5f\"}, \"type\": \"carpet\"}], \"choropleth\": [{\"colorbar\": {\"outlinewidth\": 0, \"ticks\": \"\"}, \"type\": \"choropleth\"}], \"contour\": [{\"colorbar\": {\"outlinewidth\": 0, \"ticks\": \"\"}, \"colorscale\": [[0.0, \"#0d0887\"], [0.1111111111111111, \"#46039f\"], [0.2222222222222222, \"#7201a8\"], [0.3333333333333333, \"#9c179e\"], [0.4444444444444444, \"#bd3786\"], [0.5555555555555556, \"#d8576b\"], [0.6666666666666666, \"#ed7953\"], [0.7777777777777778, \"#fb9f3a\"], [0.8888888888888888, \"#fdca26\"], [1.0, \"#f0f921\"]], \"type\": \"contour\"}], \"contourcarpet\": [{\"colorbar\": {\"outlinewidth\": 0, \"ticks\": \"\"}, \"type\": \"contourcarpet\"}], \"heatmap\": [{\"colorbar\": {\"outlinewidth\": 0, \"ticks\": \"\"}, \"colorscale\": [[0.0, \"#0d0887\"], [0.1111111111111111, \"#46039f\"], [0.2222222222222222, \"#7201a8\"], [0.3333333333333333, \"#9c179e\"], [0.4444444444444444, \"#bd3786\"], [0.5555555555555556, \"#d8576b\"], [0.6666666666666666, \"#ed7953\"], [0.7777777777777778, \"#fb9f3a\"], [0.8888888888888888, \"#fdca26\"], [1.0, \"#f0f921\"]], \"type\": \"heatmap\"}], \"heatmapgl\": [{\"colorbar\": {\"outlinewidth\": 0, \"ticks\": \"\"}, \"colorscale\": [[0.0, \"#0d0887\"], [0.1111111111111111, \"#46039f\"], [0.2222222222222222, \"#7201a8\"], [0.3333333333333333, \"#9c179e\"], [0.4444444444444444, \"#bd3786\"], [0.5555555555555556, \"#d8576b\"], [0.6666666666666666, \"#ed7953\"], [0.7777777777777778, \"#fb9f3a\"], [0.8888888888888888, \"#fdca26\"], [1.0, \"#f0f921\"]], \"type\": \"heatmapgl\"}], \"histogram\": [{\"marker\": {\"colorbar\": {\"outlinewidth\": 0, \"ticks\": \"\"}}, \"type\": \"histogram\"}], \"histogram2d\": [{\"colorbar\": {\"outlinewidth\": 0, \"ticks\": \"\"}, \"colorscale\": [[0.0, \"#0d0887\"], [0.1111111111111111, \"#46039f\"], [0.2222222222222222, \"#7201a8\"], [0.3333333333333333, \"#9c179e\"], [0.4444444444444444, \"#bd3786\"], [0.5555555555555556, \"#d8576b\"], [0.6666666666666666, \"#ed7953\"], [0.7777777777777778, \"#fb9f3a\"], [0.8888888888888888, \"#fdca26\"], [1.0, \"#f0f921\"]], \"type\": \"histogram2d\"}], \"histogram2dcontour\": [{\"colorbar\": {\"outlinewidth\": 0, \"ticks\": \"\"}, \"colorscale\": [[0.0, \"#0d0887\"], [0.1111111111111111, \"#46039f\"], [0.2222222222222222, \"#7201a8\"], [0.3333333333333333, \"#9c179e\"], [0.4444444444444444, \"#bd3786\"], [0.5555555555555556, \"#d8576b\"], [0.6666666666666666, \"#ed7953\"], [0.7777777777777778, \"#fb9f3a\"], [0.8888888888888888, \"#fdca26\"], [1.0, \"#f0f921\"]], \"type\": \"histogram2dcontour\"}], \"mesh3d\": [{\"colorbar\": {\"outlinewidth\": 0, \"ticks\": \"\"}, \"type\": \"mesh3d\"}], \"parcoords\": [{\"line\": {\"colorbar\": {\"outlinewidth\": 0, \"ticks\": \"\"}}, \"type\": \"parcoords\"}], \"pie\": [{\"automargin\": true, \"type\": \"pie\"}], \"scatter\": [{\"marker\": {\"colorbar\": {\"outlinewidth\": 0, \"ticks\": \"\"}}, \"type\": \"scatter\"}], \"scatter3d\": [{\"line\": {\"colorbar\": {\"outlinewidth\": 0, \"ticks\": \"\"}}, \"marker\": {\"colorbar\": {\"outlinewidth\": 0, \"ticks\": \"\"}}, \"type\": \"scatter3d\"}], \"scattercarpet\": [{\"marker\": {\"colorbar\": {\"outlinewidth\": 0, \"ticks\": \"\"}}, \"type\": \"scattercarpet\"}], \"scattergeo\": [{\"marker\": {\"colorbar\": {\"outlinewidth\": 0, \"ticks\": \"\"}}, \"type\": \"scattergeo\"}], \"scattergl\": [{\"marker\": {\"colorbar\": {\"outlinewidth\": 0, \"ticks\": \"\"}}, \"type\": \"scattergl\"}], \"scattermapbox\": [{\"marker\": {\"colorbar\": {\"outlinewidth\": 0, \"ticks\": \"\"}}, \"type\": \"scattermapbox\"}], \"scatterpolar\": [{\"marker\": {\"colorbar\": {\"outlinewidth\": 0, \"ticks\": \"\"}}, \"type\": \"scatterpolar\"}], \"scatterpolargl\": [{\"marker\": {\"colorbar\": {\"outlinewidth\": 0, \"ticks\": \"\"}}, \"type\": \"scatterpolargl\"}], \"scatterternary\": [{\"marker\": {\"colorbar\": {\"outlinewidth\": 0, \"ticks\": \"\"}}, \"type\": \"scatterternary\"}], \"surface\": [{\"colorbar\": {\"outlinewidth\": 0, \"ticks\": \"\"}, \"colorscale\": [[0.0, \"#0d0887\"], [0.1111111111111111, \"#46039f\"], [0.2222222222222222, \"#7201a8\"], [0.3333333333333333, \"#9c179e\"], [0.4444444444444444, \"#bd3786\"], [0.5555555555555556, \"#d8576b\"], [0.6666666666666666, \"#ed7953\"], [0.7777777777777778, \"#fb9f3a\"], [0.8888888888888888, \"#fdca26\"], [1.0, \"#f0f921\"]], \"type\": \"surface\"}], \"table\": [{\"cells\": {\"fill\": {\"color\": \"#EBF0F8\"}, \"line\": {\"color\": \"white\"}}, \"header\": {\"fill\": {\"color\": \"#C8D4E3\"}, \"line\": {\"color\": \"white\"}}, \"type\": \"table\"}]}, \"layout\": {\"annotationdefaults\": {\"arrowcolor\": \"#2a3f5f\", \"arrowhead\": 0, \"arrowwidth\": 1}, \"coloraxis\": {\"colorbar\": {\"outlinewidth\": 0, \"ticks\": \"\"}}, \"colorscale\": {\"diverging\": [[0, \"#8e0152\"], [0.1, \"#c51b7d\"], [0.2, \"#de77ae\"], [0.3, \"#f1b6da\"], [0.4, \"#fde0ef\"], [0.5, \"#f7f7f7\"], [0.6, \"#e6f5d0\"], [0.7, \"#b8e186\"], [0.8, \"#7fbc41\"], [0.9, \"#4d9221\"], [1, \"#276419\"]], \"sequential\": [[0.0, \"#0d0887\"], [0.1111111111111111, \"#46039f\"], [0.2222222222222222, \"#7201a8\"], [0.3333333333333333, \"#9c179e\"], [0.4444444444444444, \"#bd3786\"], [0.5555555555555556, \"#d8576b\"], [0.6666666666666666, \"#ed7953\"], [0.7777777777777778, \"#fb9f3a\"], [0.8888888888888888, \"#fdca26\"], [1.0, \"#f0f921\"]], \"sequentialminus\": [[0.0, \"#0d0887\"], [0.1111111111111111, \"#46039f\"], [0.2222222222222222, \"#7201a8\"], [0.3333333333333333, \"#9c179e\"], [0.4444444444444444, \"#bd3786\"], [0.5555555555555556, \"#d8576b\"], [0.6666666666666666, \"#ed7953\"], [0.7777777777777778, \"#fb9f3a\"], [0.8888888888888888, \"#fdca26\"], [1.0, \"#f0f921\"]]}, \"colorway\": [\"#636efa\", \"#EF553B\", \"#00cc96\", \"#ab63fa\", \"#FFA15A\", \"#19d3f3\", \"#FF6692\", \"#B6E880\", \"#FF97FF\", \"#FECB52\"], \"font\": {\"color\": \"#2a3f5f\"}, \"geo\": {\"bgcolor\": \"white\", \"lakecolor\": \"white\", \"landcolor\": \"#E5ECF6\", \"showlakes\": true, \"showland\": true, \"subunitcolor\": \"white\"}, \"hoverlabel\": {\"align\": \"left\"}, \"hovermode\": \"closest\", \"mapbox\": {\"style\": \"light\"}, \"paper_bgcolor\": \"white\", \"plot_bgcolor\": \"#E5ECF6\", \"polar\": {\"angularaxis\": {\"gridcolor\": \"white\", \"linecolor\": \"white\", \"ticks\": \"\"}, \"bgcolor\": \"#E5ECF6\", \"radialaxis\": {\"gridcolor\": \"white\", \"linecolor\": \"white\", \"ticks\": \"\"}}, \"scene\": {\"xaxis\": {\"backgroundcolor\": \"#E5ECF6\", \"gridcolor\": \"white\", \"gridwidth\": 2, \"linecolor\": \"white\", \"showbackground\": true, \"ticks\": \"\", \"zerolinecolor\": \"white\"}, \"yaxis\": {\"backgroundcolor\": \"#E5ECF6\", \"gridcolor\": \"white\", \"gridwidth\": 2, \"linecolor\": \"white\", \"showbackground\": true, \"ticks\": \"\", \"zerolinecolor\": \"white\"}, \"zaxis\": {\"backgroundcolor\": \"#E5ECF6\", \"gridcolor\": \"white\", \"gridwidth\": 2, \"linecolor\": \"white\", \"showbackground\": true, \"ticks\": \"\", \"zerolinecolor\": \"white\"}}, \"shapedefaults\": {\"line\": {\"color\": \"#2a3f5f\"}}, \"ternary\": {\"aaxis\": {\"gridcolor\": \"white\", \"linecolor\": \"white\", \"ticks\": \"\"}, \"baxis\": {\"gridcolor\": \"white\", \"linecolor\": \"white\", \"ticks\": \"\"}, \"bgcolor\": \"#E5ECF6\", \"caxis\": {\"gridcolor\": \"white\", \"linecolor\": \"white\", \"ticks\": \"\"}}, \"title\": {\"x\": 0.05}, \"xaxis\": {\"automargin\": true, \"gridcolor\": \"white\", \"linecolor\": \"white\", \"ticks\": \"\", \"title\": {\"standoff\": 15}, \"zerolinecolor\": \"white\", \"zerolinewidth\": 2}, \"yaxis\": {\"automargin\": true, \"gridcolor\": \"white\", \"linecolor\": \"white\", \"ticks\": \"\", \"title\": {\"standoff\": 15}, \"zerolinecolor\": \"white\", \"zerolinewidth\": 2}}}, \"title\": {\"font\": {\"color\": \"#4D5663\"}}, \"xaxis\": {\"gridcolor\": \"#E1E5ED\", \"showgrid\": true, \"tickfont\": {\"color\": \"#4D5663\"}, \"title\": {\"font\": {\"color\": \"#4D5663\"}, \"text\": \"\"}, \"zerolinecolor\": \"#E1E5ED\"}, \"yaxis\": {\"gridcolor\": \"#E1E5ED\", \"showgrid\": true, \"tickfont\": {\"color\": \"#4D5663\"}, \"title\": {\"font\": {\"color\": \"#4D5663\"}, \"text\": \"\"}, \"zerolinecolor\": \"#E1E5ED\"}},\n",
       "                        {\"showLink\": true, \"linkText\": \"Export to plot.ly\", \"plotlyServerURL\": \"https://plot.ly\", \"responsive\": true}\n",
       "                    ).then(function(){\n",
       "                            \n",
       "var gd = document.getElementById('ba6e40a9-fc59-481d-9617-168cef6ac2a5');\n",
       "var x = new MutationObserver(function (mutations, observer) {{\n",
       "        var display = window.getComputedStyle(gd).display;\n",
       "        if (!display || display === 'none') {{\n",
       "            console.log([gd, 'removed!']);\n",
       "            Plotly.purge(gd);\n",
       "            observer.disconnect();\n",
       "        }}\n",
       "}});\n",
       "\n",
       "// Listen for the removal of the full notebook cells\n",
       "var notebookContainer = gd.closest('#notebook-container');\n",
       "if (notebookContainer) {{\n",
       "    x.observe(notebookContainer, {childList: true});\n",
       "}}\n",
       "\n",
       "// Listen for the clearing of the current output cell\n",
       "var outputEl = gd.closest('.output');\n",
       "if (outputEl) {{\n",
       "    x.observe(outputEl, {childList: true});\n",
       "}}\n",
       "\n",
       "                        })\n",
       "                };\n",
       "                });\n",
       "            </script>\n",
       "        </div>"
      ]
     },
     "metadata": {},
     "output_type": "display_data"
    }
   ],
   "source": [
    "df3 = pd.DataFrame({'x':[1,2,3,4,5],'y':[10,20,30,20,10],'z':[5,4,3,2,1]})\n",
    "df3.iplot(kind='surface',colorscale='rdylbu')"
   ]
  },
  {
   "cell_type": "markdown",
   "metadata": {},
   "source": [
    "## Spread"
   ]
  },
  {
   "cell_type": "code",
   "execution_count": 19,
   "metadata": {},
   "outputs": [
    {
     "data": {
      "application/vnd.plotly.v1+json": {
       "config": {
        "linkText": "Export to plot.ly",
        "plotlyServerURL": "https://plot.ly",
        "showLink": true
       },
       "data": [
        {
         "line": {
          "color": "rgba(255, 153, 51, 1.0)",
          "dash": "solid",
          "shape": "linear",
          "width": 1.3
         },
         "mode": "lines",
         "name": "A",
         "text": "",
         "type": "scatter",
         "x": [
          0,
          1,
          2,
          3,
          4,
          5,
          6,
          7,
          8,
          9,
          10,
          11,
          12,
          13,
          14,
          15,
          16,
          17,
          18,
          19,
          20,
          21,
          22,
          23,
          24,
          25,
          26,
          27,
          28,
          29,
          30,
          31,
          32,
          33,
          34,
          35,
          36,
          37,
          38,
          39,
          40,
          41,
          42,
          43,
          44,
          45,
          46,
          47,
          48,
          49,
          50,
          51,
          52,
          53,
          54,
          55,
          56,
          57,
          58,
          59,
          60,
          61,
          62,
          63,
          64,
          65,
          66,
          67,
          68,
          69,
          70,
          71,
          72,
          73,
          74,
          75,
          76,
          77,
          78,
          79,
          80,
          81,
          82,
          83,
          84,
          85,
          86,
          87,
          88,
          89,
          90,
          91,
          92,
          93,
          94,
          95,
          96,
          97,
          98,
          99
         ],
         "y": [
          -1.7375580925953535,
          2.9798425210708013,
          -1.0545567985659783,
          0.43389954846861545,
          0.8589522332349308,
          -0.3616114246746602,
          0.08129228111193294,
          -0.03170409927917186,
          -0.07583003895429322,
          -0.6170785337602537,
          0.42007342224209826,
          0.7540336618917531,
          -1.6267688839452992,
          -0.08424646600581756,
          1.0709970757483533,
          0.5344614223479325,
          0.5216582988407987,
          0.2902307834729736,
          0.7713333875300337,
          0.09970764861362018,
          -0.41312988541264173,
          0.23725117555436426,
          0.45540014559384057,
          1.3437792550907464,
          1.6371399457193123,
          -0.23440245785819436,
          -0.48637618154310797,
          -0.579834773798158,
          0.8680435160846539,
          0.7551041963764679,
          -0.08772136484334801,
          0.23371341703090623,
          -1.888646992185423,
          0.5940755907760089,
          1.163188230279187,
          -0.3558795302103094,
          0.4718600454918289,
          -0.35910477190998,
          0.061048874961931045,
          -0.8558643812248122,
          -1.5357472961911194,
          -0.8504932576852609,
          -0.6133178054476308,
          0.9491908322184918,
          0.1776564608865159,
          -0.5718821378304894,
          1.65243316834657,
          -0.11087061947532537,
          0.4910980324309401,
          1.0764950552633994,
          -1.975933995127861,
          0.718412236621663,
          1.0187483843386271,
          -0.4126656589335081,
          -0.5094811755581428,
          1.7238104909238607,
          1.0072177937726334,
          -0.9928195231370098,
          -0.004184549781906393,
          -2.206243361106769,
          -0.34148567476745917,
          -0.3599903270515361,
          0.2785410168023459,
          0.8266359753344356,
          -1.3400718186115126,
          -0.71604405770814,
          -0.9467350650309536,
          1.7565657592263497,
          -1.3808407040749415,
          0.8249918219638933,
          0.5923865214093382,
          0.5489722527089953,
          0.2510612143960188,
          0.5770236369391516,
          -0.9603380055434259,
          2.204799410979961,
          0.41105016526569715,
          0.683944392199121,
          -0.11000348830948538,
          0.6414176378270837,
          1.0266347930797186,
          -1.388195851084029,
          0.8182178748924435,
          -1.3204232028558036,
          -0.5545671097481487,
          0.4039389218568765,
          2.202724388868758,
          -0.9633456260593918,
          -0.21789950334872957,
          -0.22701260850651195,
          1.1924378269478273,
          -0.7278425474496786,
          0.004091598726279457,
          0.7057661322179745,
          1.5454160265945245,
          -0.8387144737436726,
          -0.9116345050477735,
          0.22195334624997998,
          -0.28163161499145284,
          -1.2385386113755583
         ]
        },
        {
         "line": {
          "color": "rgba(55, 128, 191, 1.0)",
          "dash": "solid",
          "shape": "linear",
          "width": 1.3
         },
         "mode": "lines",
         "name": "B",
         "text": "",
         "type": "scatter",
         "x": [
          0,
          1,
          2,
          3,
          4,
          5,
          6,
          7,
          8,
          9,
          10,
          11,
          12,
          13,
          14,
          15,
          16,
          17,
          18,
          19,
          20,
          21,
          22,
          23,
          24,
          25,
          26,
          27,
          28,
          29,
          30,
          31,
          32,
          33,
          34,
          35,
          36,
          37,
          38,
          39,
          40,
          41,
          42,
          43,
          44,
          45,
          46,
          47,
          48,
          49,
          50,
          51,
          52,
          53,
          54,
          55,
          56,
          57,
          58,
          59,
          60,
          61,
          62,
          63,
          64,
          65,
          66,
          67,
          68,
          69,
          70,
          71,
          72,
          73,
          74,
          75,
          76,
          77,
          78,
          79,
          80,
          81,
          82,
          83,
          84,
          85,
          86,
          87,
          88,
          89,
          90,
          91,
          92,
          93,
          94,
          95,
          96,
          97,
          98,
          99
         ],
         "y": [
          -0.6134635286282765,
          -0.5893938086424193,
          0.08133950161229865,
          0.5398200529846118,
          -1.286750376942333,
          -0.6788265991475018,
          0.6422798598704085,
          -1.1326000096188251,
          -1.4089405831255573,
          -0.1696111304011945,
          -0.8359408788600723,
          -0.056670528140848435,
          -0.10987441558624364,
          1.2252867700864356,
          0.9736400059389726,
          -0.8950702416491216,
          0.5849635299220757,
          -0.5591568492862687,
          1.093907468885399,
          -0.04032620964770699,
          -1.8570080445362416,
          1.063435867461458,
          0.30940121247962055,
          0.20356504119969962,
          0.5413491586427932,
          -0.9985516843900909,
          -0.38598464007661815,
          -2.470204057674452,
          -1.5660784847207427,
          0.6995069319307801,
          0.16873701963464874,
          -2.0917394748944713,
          -0.7018420852463064,
          -0.5091045350909177,
          0.5365362801017167,
          0.268070152134566,
          0.16998613045411123,
          -0.2814630034389793,
          -0.6881656758762982,
          0.3353977553560339,
          -0.4122357782615829,
          0.0713069113135744,
          0.5152980887432727,
          0.1173874661122881,
          0.6291036361334134,
          -0.6239223136538199,
          -0.7908673470758846,
          -0.20854907806217174,
          -0.7554356412524142,
          0.5691658659371732,
          0.4872906627660704,
          -0.6568931090902709,
          -1.4697893098691848,
          0.7939963167521176,
          -0.5037514809518796,
          0.6925055921857803,
          -0.6636143919009947,
          -1.1972565402094348,
          0.7669709172631989,
          0.01664548860746999,
          -0.6201746376242857,
          0.18102028476958157,
          -1.3667500115858608,
          0.016728165945960598,
          1.4575891285742022,
          1.2241908183776857,
          -0.5199035148221082,
          0.9460580315295726,
          -0.24901303381143025,
          -1.1865166471453603,
          1.0594004271570268,
          -0.2271596090232071,
          -0.05009216598693693,
          -0.8742984971963792,
          -1.1035731765413361,
          1.5995978451621455,
          0.07624149161800622,
          -2.056466491887705,
          0.30959943849236954,
          0.5178775860951798,
          -0.10432507962391788,
          -0.17333177878384695,
          0.07609787115295705,
          -0.24644274238062452,
          -0.9241119671704282,
          -0.3624764326414089,
          -1.7236405281460883,
          0.4343231101268886,
          -0.15107912354535877,
          0.36364520144806667,
          -0.45587589815606516,
          -0.6584898542975601,
          -0.15310964482626382,
          0.13819890641935403,
          1.2455627682266015,
          1.8450891467052408,
          -0.616506351567455,
          0.954727000301093,
          -0.7673822279347278,
          -0.5754065115109609
         ]
        },
        {
         "connectgaps": false,
         "fill": "tozeroy",
         "line": {
          "color": "green",
          "dash": "solid",
          "shape": "linear",
          "width": 0.5
         },
         "mode": "lines",
         "name": "Spread",
         "showlegend": false,
         "type": "scatter",
         "x": [
          0,
          1,
          2,
          3,
          4,
          5,
          6,
          7,
          8,
          9,
          10,
          11,
          12,
          13,
          14,
          15,
          16,
          17,
          18,
          19,
          20,
          21,
          22,
          23,
          24,
          25,
          26,
          27,
          28,
          29,
          30,
          31,
          32,
          33,
          34,
          35,
          36,
          37,
          38,
          39,
          40,
          41,
          42,
          43,
          44,
          45,
          46,
          47,
          48,
          49,
          50,
          51,
          52,
          53,
          54,
          55,
          56,
          57,
          58,
          59,
          60,
          61,
          62,
          63,
          64,
          65,
          66,
          67,
          68,
          69,
          70,
          71,
          72,
          73,
          74,
          75,
          76,
          77,
          78,
          79,
          80,
          81,
          82,
          83,
          84,
          85,
          86,
          87,
          88,
          89,
          90,
          91,
          92,
          93,
          94,
          95,
          96,
          97,
          98,
          99
         ],
         "xaxis": "x2",
         "y": [
          "",
          3.5692363297132204,
          "",
          "",
          2.145702610177264,
          0.3172151744728416,
          "",
          1.1008959103396532,
          1.333110544171264,
          "",
          1.2560143011021705,
          0.8107041900326015,
          "",
          "",
          0.09735706980938075,
          1.4295316639970541,
          "",
          0.8493876327592423,
          "",
          0.14003385826132717,
          1.4438781591235998,
          "",
          0.14599893311422002,
          1.1402142138910467,
          1.0957907870765191,
          0.7641492265318965,
          "",
          1.8903692838762942,
          2.4341220008053965,
          0.0555972644456878,
          "",
          2.3254528919253774,
          "",
          1.1031801258669267,
          0.6266519501774702,
          "",
          0.30187391503771765,
          "",
          0.7492145508382292,
          "",
          "",
          "",
          "",
          0.8318033661062036,
          "",
          0.05204017582333054,
          2.4433005154224547,
          0.09767845858684637,
          1.2465336736833543,
          0.5073291893262262,
          "",
          1.3753053457119337,
          2.488537694207812,
          "",
          "",
          1.0313048987380804,
          1.6708321856736281,
          0.204437017072425,
          "",
          "",
          0.27868896285682654,
          "",
          1.6452910283882067,
          0.809907809388475,
          "",
          "",
          "",
          0.8105077276967771,
          "",
          2.0115084691092537,
          "",
          0.7761318617322024,
          0.30115338038295575,
          1.451322134135531,
          0.14323517099791028,
          0.6052015658178156,
          0.33480867364769096,
          2.740410884086826,
          "",
          0.12354005173190397,
          1.1309598727036365,
          "",
          0.7421200037394864,
          "",
          0.3695448574222795,
          0.7664153544982855,
          3.9263649170148462,
          "",
          "",
          "",
          1.6483137251038924,
          "",
          0.15720124355254328,
          0.5675672257986204,
          0.299853258367923,
          "",
          "",
          "",
          0.48575061294327493,
          ""
         ],
         "yaxis": "y2"
        },
        {
         "connectgaps": false,
         "fill": "tozeroy",
         "line": {
          "color": "red",
          "dash": "solid",
          "shape": "linear",
          "width": 0.5
         },
         "mode": "lines",
         "name": "Spread",
         "showlegend": false,
         "type": "scatter",
         "x": [
          0,
          1,
          2,
          3,
          4,
          5,
          6,
          7,
          8,
          9,
          10,
          11,
          12,
          13,
          14,
          15,
          16,
          17,
          18,
          19,
          20,
          21,
          22,
          23,
          24,
          25,
          26,
          27,
          28,
          29,
          30,
          31,
          32,
          33,
          34,
          35,
          36,
          37,
          38,
          39,
          40,
          41,
          42,
          43,
          44,
          45,
          46,
          47,
          48,
          49,
          50,
          51,
          52,
          53,
          54,
          55,
          56,
          57,
          58,
          59,
          60,
          61,
          62,
          63,
          64,
          65,
          66,
          67,
          68,
          69,
          70,
          71,
          72,
          73,
          74,
          75,
          76,
          77,
          78,
          79,
          80,
          81,
          82,
          83,
          84,
          85,
          86,
          87,
          88,
          89,
          90,
          91,
          92,
          93,
          94,
          95,
          96,
          97,
          98,
          99
         ],
         "xaxis": "x2",
         "y": [
          -1.124094563967077,
          "",
          -1.135896300178277,
          -0.10592050451599633,
          "",
          "",
          -0.5609875787584755,
          "",
          "",
          -0.4474674033590592,
          "",
          "",
          -1.5168944683590555,
          -1.3095332360922531,
          "",
          "",
          -0.06330523108127695,
          "",
          -0.32257408135536525,
          "",
          "",
          -0.8261846919070936,
          "",
          "",
          "",
          "",
          -0.10039154146648982,
          "",
          "",
          "",
          -0.25645838447799674,
          "",
          -1.1868049069391167,
          "",
          "",
          -0.6239496823448754,
          "",
          -0.07764176847100074,
          "",
          -1.1912621365808462,
          -1.1235115179295365,
          -0.9218001689988352,
          -1.1286158941909035,
          "",
          -0.4514471752468975,
          "",
          "",
          "",
          "",
          "",
          -2.463224657893931,
          "",
          "",
          -1.2066619756856256,
          -0.005729694606263158,
          "",
          "",
          "",
          -0.7711554670451053,
          -2.222888849714239,
          "",
          -0.5410106118211176,
          "",
          "",
          -2.797660947185715,
          -1.9402348760858257,
          -0.42683155020884544,
          "",
          -1.1318276702635113,
          "",
          -0.46701390574768853,
          "",
          "",
          "",
          "",
          "",
          "",
          "",
          -0.4196029268018549,
          "",
          "",
          -1.2148640723001822,
          "",
          -1.073980460475179,
          "",
          "",
          "",
          -1.3976687361862803,
          -0.0668203798033708,
          -0.5906578099545786,
          "",
          -0.06935269315211845,
          "",
          "",
          "",
          -2.6838036204489133,
          -0.2951281534803185,
          -0.732773654051113,
          "",
          -0.6631320998645974
         ],
         "yaxis": "y2"
        }
       ],
       "layout": {
        "hovermode": "x",
        "legend": {
         "bgcolor": "#F5F6F9",
         "font": {
          "color": "#4D5663"
         }
        },
        "paper_bgcolor": "#F5F6F9",
        "plot_bgcolor": "#F5F6F9",
        "template": {
         "data": {
          "bar": [
           {
            "error_x": {
             "color": "#2a3f5f"
            },
            "error_y": {
             "color": "#2a3f5f"
            },
            "marker": {
             "line": {
              "color": "#E5ECF6",
              "width": 0.5
             }
            },
            "type": "bar"
           }
          ],
          "barpolar": [
           {
            "marker": {
             "line": {
              "color": "#E5ECF6",
              "width": 0.5
             }
            },
            "type": "barpolar"
           }
          ],
          "carpet": [
           {
            "aaxis": {
             "endlinecolor": "#2a3f5f",
             "gridcolor": "white",
             "linecolor": "white",
             "minorgridcolor": "white",
             "startlinecolor": "#2a3f5f"
            },
            "baxis": {
             "endlinecolor": "#2a3f5f",
             "gridcolor": "white",
             "linecolor": "white",
             "minorgridcolor": "white",
             "startlinecolor": "#2a3f5f"
            },
            "type": "carpet"
           }
          ],
          "choropleth": [
           {
            "colorbar": {
             "outlinewidth": 0,
             "ticks": ""
            },
            "type": "choropleth"
           }
          ],
          "contour": [
           {
            "colorbar": {
             "outlinewidth": 0,
             "ticks": ""
            },
            "colorscale": [
             [
              0,
              "#0d0887"
             ],
             [
              0.1111111111111111,
              "#46039f"
             ],
             [
              0.2222222222222222,
              "#7201a8"
             ],
             [
              0.3333333333333333,
              "#9c179e"
             ],
             [
              0.4444444444444444,
              "#bd3786"
             ],
             [
              0.5555555555555556,
              "#d8576b"
             ],
             [
              0.6666666666666666,
              "#ed7953"
             ],
             [
              0.7777777777777778,
              "#fb9f3a"
             ],
             [
              0.8888888888888888,
              "#fdca26"
             ],
             [
              1,
              "#f0f921"
             ]
            ],
            "type": "contour"
           }
          ],
          "contourcarpet": [
           {
            "colorbar": {
             "outlinewidth": 0,
             "ticks": ""
            },
            "type": "contourcarpet"
           }
          ],
          "heatmap": [
           {
            "colorbar": {
             "outlinewidth": 0,
             "ticks": ""
            },
            "colorscale": [
             [
              0,
              "#0d0887"
             ],
             [
              0.1111111111111111,
              "#46039f"
             ],
             [
              0.2222222222222222,
              "#7201a8"
             ],
             [
              0.3333333333333333,
              "#9c179e"
             ],
             [
              0.4444444444444444,
              "#bd3786"
             ],
             [
              0.5555555555555556,
              "#d8576b"
             ],
             [
              0.6666666666666666,
              "#ed7953"
             ],
             [
              0.7777777777777778,
              "#fb9f3a"
             ],
             [
              0.8888888888888888,
              "#fdca26"
             ],
             [
              1,
              "#f0f921"
             ]
            ],
            "type": "heatmap"
           }
          ],
          "heatmapgl": [
           {
            "colorbar": {
             "outlinewidth": 0,
             "ticks": ""
            },
            "colorscale": [
             [
              0,
              "#0d0887"
             ],
             [
              0.1111111111111111,
              "#46039f"
             ],
             [
              0.2222222222222222,
              "#7201a8"
             ],
             [
              0.3333333333333333,
              "#9c179e"
             ],
             [
              0.4444444444444444,
              "#bd3786"
             ],
             [
              0.5555555555555556,
              "#d8576b"
             ],
             [
              0.6666666666666666,
              "#ed7953"
             ],
             [
              0.7777777777777778,
              "#fb9f3a"
             ],
             [
              0.8888888888888888,
              "#fdca26"
             ],
             [
              1,
              "#f0f921"
             ]
            ],
            "type": "heatmapgl"
           }
          ],
          "histogram": [
           {
            "marker": {
             "colorbar": {
              "outlinewidth": 0,
              "ticks": ""
             }
            },
            "type": "histogram"
           }
          ],
          "histogram2d": [
           {
            "colorbar": {
             "outlinewidth": 0,
             "ticks": ""
            },
            "colorscale": [
             [
              0,
              "#0d0887"
             ],
             [
              0.1111111111111111,
              "#46039f"
             ],
             [
              0.2222222222222222,
              "#7201a8"
             ],
             [
              0.3333333333333333,
              "#9c179e"
             ],
             [
              0.4444444444444444,
              "#bd3786"
             ],
             [
              0.5555555555555556,
              "#d8576b"
             ],
             [
              0.6666666666666666,
              "#ed7953"
             ],
             [
              0.7777777777777778,
              "#fb9f3a"
             ],
             [
              0.8888888888888888,
              "#fdca26"
             ],
             [
              1,
              "#f0f921"
             ]
            ],
            "type": "histogram2d"
           }
          ],
          "histogram2dcontour": [
           {
            "colorbar": {
             "outlinewidth": 0,
             "ticks": ""
            },
            "colorscale": [
             [
              0,
              "#0d0887"
             ],
             [
              0.1111111111111111,
              "#46039f"
             ],
             [
              0.2222222222222222,
              "#7201a8"
             ],
             [
              0.3333333333333333,
              "#9c179e"
             ],
             [
              0.4444444444444444,
              "#bd3786"
             ],
             [
              0.5555555555555556,
              "#d8576b"
             ],
             [
              0.6666666666666666,
              "#ed7953"
             ],
             [
              0.7777777777777778,
              "#fb9f3a"
             ],
             [
              0.8888888888888888,
              "#fdca26"
             ],
             [
              1,
              "#f0f921"
             ]
            ],
            "type": "histogram2dcontour"
           }
          ],
          "mesh3d": [
           {
            "colorbar": {
             "outlinewidth": 0,
             "ticks": ""
            },
            "type": "mesh3d"
           }
          ],
          "parcoords": [
           {
            "line": {
             "colorbar": {
              "outlinewidth": 0,
              "ticks": ""
             }
            },
            "type": "parcoords"
           }
          ],
          "pie": [
           {
            "automargin": true,
            "type": "pie"
           }
          ],
          "scatter": [
           {
            "marker": {
             "colorbar": {
              "outlinewidth": 0,
              "ticks": ""
             }
            },
            "type": "scatter"
           }
          ],
          "scatter3d": [
           {
            "line": {
             "colorbar": {
              "outlinewidth": 0,
              "ticks": ""
             }
            },
            "marker": {
             "colorbar": {
              "outlinewidth": 0,
              "ticks": ""
             }
            },
            "type": "scatter3d"
           }
          ],
          "scattercarpet": [
           {
            "marker": {
             "colorbar": {
              "outlinewidth": 0,
              "ticks": ""
             }
            },
            "type": "scattercarpet"
           }
          ],
          "scattergeo": [
           {
            "marker": {
             "colorbar": {
              "outlinewidth": 0,
              "ticks": ""
             }
            },
            "type": "scattergeo"
           }
          ],
          "scattergl": [
           {
            "marker": {
             "colorbar": {
              "outlinewidth": 0,
              "ticks": ""
             }
            },
            "type": "scattergl"
           }
          ],
          "scattermapbox": [
           {
            "marker": {
             "colorbar": {
              "outlinewidth": 0,
              "ticks": ""
             }
            },
            "type": "scattermapbox"
           }
          ],
          "scatterpolar": [
           {
            "marker": {
             "colorbar": {
              "outlinewidth": 0,
              "ticks": ""
             }
            },
            "type": "scatterpolar"
           }
          ],
          "scatterpolargl": [
           {
            "marker": {
             "colorbar": {
              "outlinewidth": 0,
              "ticks": ""
             }
            },
            "type": "scatterpolargl"
           }
          ],
          "scatterternary": [
           {
            "marker": {
             "colorbar": {
              "outlinewidth": 0,
              "ticks": ""
             }
            },
            "type": "scatterternary"
           }
          ],
          "surface": [
           {
            "colorbar": {
             "outlinewidth": 0,
             "ticks": ""
            },
            "colorscale": [
             [
              0,
              "#0d0887"
             ],
             [
              0.1111111111111111,
              "#46039f"
             ],
             [
              0.2222222222222222,
              "#7201a8"
             ],
             [
              0.3333333333333333,
              "#9c179e"
             ],
             [
              0.4444444444444444,
              "#bd3786"
             ],
             [
              0.5555555555555556,
              "#d8576b"
             ],
             [
              0.6666666666666666,
              "#ed7953"
             ],
             [
              0.7777777777777778,
              "#fb9f3a"
             ],
             [
              0.8888888888888888,
              "#fdca26"
             ],
             [
              1,
              "#f0f921"
             ]
            ],
            "type": "surface"
           }
          ],
          "table": [
           {
            "cells": {
             "fill": {
              "color": "#EBF0F8"
             },
             "line": {
              "color": "white"
             }
            },
            "header": {
             "fill": {
              "color": "#C8D4E3"
             },
             "line": {
              "color": "white"
             }
            },
            "type": "table"
           }
          ]
         },
         "layout": {
          "annotationdefaults": {
           "arrowcolor": "#2a3f5f",
           "arrowhead": 0,
           "arrowwidth": 1
          },
          "coloraxis": {
           "colorbar": {
            "outlinewidth": 0,
            "ticks": ""
           }
          },
          "colorscale": {
           "diverging": [
            [
             0,
             "#8e0152"
            ],
            [
             0.1,
             "#c51b7d"
            ],
            [
             0.2,
             "#de77ae"
            ],
            [
             0.3,
             "#f1b6da"
            ],
            [
             0.4,
             "#fde0ef"
            ],
            [
             0.5,
             "#f7f7f7"
            ],
            [
             0.6,
             "#e6f5d0"
            ],
            [
             0.7,
             "#b8e186"
            ],
            [
             0.8,
             "#7fbc41"
            ],
            [
             0.9,
             "#4d9221"
            ],
            [
             1,
             "#276419"
            ]
           ],
           "sequential": [
            [
             0,
             "#0d0887"
            ],
            [
             0.1111111111111111,
             "#46039f"
            ],
            [
             0.2222222222222222,
             "#7201a8"
            ],
            [
             0.3333333333333333,
             "#9c179e"
            ],
            [
             0.4444444444444444,
             "#bd3786"
            ],
            [
             0.5555555555555556,
             "#d8576b"
            ],
            [
             0.6666666666666666,
             "#ed7953"
            ],
            [
             0.7777777777777778,
             "#fb9f3a"
            ],
            [
             0.8888888888888888,
             "#fdca26"
            ],
            [
             1,
             "#f0f921"
            ]
           ],
           "sequentialminus": [
            [
             0,
             "#0d0887"
            ],
            [
             0.1111111111111111,
             "#46039f"
            ],
            [
             0.2222222222222222,
             "#7201a8"
            ],
            [
             0.3333333333333333,
             "#9c179e"
            ],
            [
             0.4444444444444444,
             "#bd3786"
            ],
            [
             0.5555555555555556,
             "#d8576b"
            ],
            [
             0.6666666666666666,
             "#ed7953"
            ],
            [
             0.7777777777777778,
             "#fb9f3a"
            ],
            [
             0.8888888888888888,
             "#fdca26"
            ],
            [
             1,
             "#f0f921"
            ]
           ]
          },
          "colorway": [
           "#636efa",
           "#EF553B",
           "#00cc96",
           "#ab63fa",
           "#FFA15A",
           "#19d3f3",
           "#FF6692",
           "#B6E880",
           "#FF97FF",
           "#FECB52"
          ],
          "font": {
           "color": "#2a3f5f"
          },
          "geo": {
           "bgcolor": "white",
           "lakecolor": "white",
           "landcolor": "#E5ECF6",
           "showlakes": true,
           "showland": true,
           "subunitcolor": "white"
          },
          "hoverlabel": {
           "align": "left"
          },
          "hovermode": "closest",
          "mapbox": {
           "style": "light"
          },
          "paper_bgcolor": "white",
          "plot_bgcolor": "#E5ECF6",
          "polar": {
           "angularaxis": {
            "gridcolor": "white",
            "linecolor": "white",
            "ticks": ""
           },
           "bgcolor": "#E5ECF6",
           "radialaxis": {
            "gridcolor": "white",
            "linecolor": "white",
            "ticks": ""
           }
          },
          "scene": {
           "xaxis": {
            "backgroundcolor": "#E5ECF6",
            "gridcolor": "white",
            "gridwidth": 2,
            "linecolor": "white",
            "showbackground": true,
            "ticks": "",
            "zerolinecolor": "white"
           },
           "yaxis": {
            "backgroundcolor": "#E5ECF6",
            "gridcolor": "white",
            "gridwidth": 2,
            "linecolor": "white",
            "showbackground": true,
            "ticks": "",
            "zerolinecolor": "white"
           },
           "zaxis": {
            "backgroundcolor": "#E5ECF6",
            "gridcolor": "white",
            "gridwidth": 2,
            "linecolor": "white",
            "showbackground": true,
            "ticks": "",
            "zerolinecolor": "white"
           }
          },
          "shapedefaults": {
           "line": {
            "color": "#2a3f5f"
           }
          },
          "ternary": {
           "aaxis": {
            "gridcolor": "white",
            "linecolor": "white",
            "ticks": ""
           },
           "baxis": {
            "gridcolor": "white",
            "linecolor": "white",
            "ticks": ""
           },
           "bgcolor": "#E5ECF6",
           "caxis": {
            "gridcolor": "white",
            "linecolor": "white",
            "ticks": ""
           }
          },
          "title": {
           "x": 0.05
          },
          "xaxis": {
           "automargin": true,
           "gridcolor": "white",
           "linecolor": "white",
           "ticks": "",
           "title": {
            "standoff": 15
           },
           "zerolinecolor": "white",
           "zerolinewidth": 2
          },
          "yaxis": {
           "automargin": true,
           "gridcolor": "white",
           "linecolor": "white",
           "ticks": "",
           "title": {
            "standoff": 15
           },
           "zerolinecolor": "white",
           "zerolinewidth": 2
          }
         }
        },
        "title": {
         "font": {
          "color": "#4D5663"
         }
        },
        "xaxis": {
         "gridcolor": "#E1E5ED",
         "showgrid": true,
         "tickfont": {
          "color": "#4D5663"
         },
         "title": {
          "font": {
           "color": "#4D5663"
          },
          "text": ""
         },
         "zerolinecolor": "#E1E5ED"
        },
        "xaxis2": {
         "anchor": "y2",
         "gridcolor": "#E1E5ED",
         "showgrid": true,
         "showticklabels": false,
         "tickfont": {
          "color": "#4D5663"
         },
         "title": {
          "font": {
           "color": "#4D5663"
          },
          "text": ""
         },
         "zerolinecolor": "#E1E5ED"
        },
        "yaxis": {
         "domain": [
          0.3,
          1
         ],
         "gridcolor": "#E1E5ED",
         "showgrid": true,
         "tickfont": {
          "color": "#4D5663"
         },
         "title": {
          "font": {
           "color": "#4D5663"
          },
          "text": ""
         },
         "zerolinecolor": "#E1E5ED"
        },
        "yaxis2": {
         "domain": [
          0,
          0.25
         ],
         "gridcolor": "#E1E5ED",
         "showgrid": true,
         "tickfont": {
          "color": "#4D5663"
         },
         "title": {
          "font": {
           "color": "#4D5663"
          },
          "text": "Spread"
         },
         "zerolinecolor": "#E1E5ED"
        }
       }
      },
      "text/html": [
       "<div>\n",
       "        \n",
       "        \n",
       "            <div id=\"71395033-4f7c-40d4-9801-6dfd56b06758\" class=\"plotly-graph-div\" style=\"height:525px; width:100%;\"></div>\n",
       "            <script type=\"text/javascript\">\n",
       "                require([\"plotly\"], function(Plotly) {\n",
       "                    window.PLOTLYENV=window.PLOTLYENV || {};\n",
       "                    window.PLOTLYENV.BASE_URL='https://plot.ly';\n",
       "                    \n",
       "                if (document.getElementById(\"71395033-4f7c-40d4-9801-6dfd56b06758\")) {\n",
       "                    Plotly.newPlot(\n",
       "                        '71395033-4f7c-40d4-9801-6dfd56b06758',\n",
       "                        [{\"line\": {\"color\": \"rgba(255, 153, 51, 1.0)\", \"dash\": \"solid\", \"shape\": \"linear\", \"width\": 1.3}, \"mode\": \"lines\", \"name\": \"A\", \"text\": \"\", \"type\": \"scatter\", \"x\": [0, 1, 2, 3, 4, 5, 6, 7, 8, 9, 10, 11, 12, 13, 14, 15, 16, 17, 18, 19, 20, 21, 22, 23, 24, 25, 26, 27, 28, 29, 30, 31, 32, 33, 34, 35, 36, 37, 38, 39, 40, 41, 42, 43, 44, 45, 46, 47, 48, 49, 50, 51, 52, 53, 54, 55, 56, 57, 58, 59, 60, 61, 62, 63, 64, 65, 66, 67, 68, 69, 70, 71, 72, 73, 74, 75, 76, 77, 78, 79, 80, 81, 82, 83, 84, 85, 86, 87, 88, 89, 90, 91, 92, 93, 94, 95, 96, 97, 98, 99], \"y\": [-1.7375580925953535, 2.9798425210708013, -1.0545567985659783, 0.43389954846861545, 0.8589522332349308, -0.3616114246746602, 0.08129228111193294, -0.03170409927917186, -0.07583003895429322, -0.6170785337602537, 0.42007342224209826, 0.7540336618917531, -1.6267688839452992, -0.08424646600581756, 1.0709970757483533, 0.5344614223479325, 0.5216582988407987, 0.2902307834729736, 0.7713333875300337, 0.09970764861362018, -0.41312988541264173, 0.23725117555436426, 0.45540014559384057, 1.3437792550907464, 1.6371399457193123, -0.23440245785819436, -0.48637618154310797, -0.579834773798158, 0.8680435160846539, 0.7551041963764679, -0.08772136484334801, 0.23371341703090623, -1.888646992185423, 0.5940755907760089, 1.163188230279187, -0.3558795302103094, 0.4718600454918289, -0.35910477190998, 0.061048874961931045, -0.8558643812248122, -1.5357472961911194, -0.8504932576852609, -0.6133178054476308, 0.9491908322184918, 0.1776564608865159, -0.5718821378304894, 1.65243316834657, -0.11087061947532537, 0.4910980324309401, 1.0764950552633994, -1.975933995127861, 0.718412236621663, 1.0187483843386271, -0.4126656589335081, -0.5094811755581428, 1.7238104909238607, 1.0072177937726334, -0.9928195231370098, -0.004184549781906393, -2.206243361106769, -0.34148567476745917, -0.3599903270515361, 0.2785410168023459, 0.8266359753344356, -1.3400718186115126, -0.71604405770814, -0.9467350650309536, 1.7565657592263497, -1.3808407040749415, 0.8249918219638933, 0.5923865214093382, 0.5489722527089953, 0.2510612143960188, 0.5770236369391516, -0.9603380055434259, 2.204799410979961, 0.41105016526569715, 0.683944392199121, -0.11000348830948538, 0.6414176378270837, 1.0266347930797186, -1.388195851084029, 0.8182178748924435, -1.3204232028558036, -0.5545671097481487, 0.4039389218568765, 2.202724388868758, -0.9633456260593918, -0.21789950334872957, -0.22701260850651195, 1.1924378269478273, -0.7278425474496786, 0.004091598726279457, 0.7057661322179745, 1.5454160265945245, -0.8387144737436726, -0.9116345050477735, 0.22195334624997998, -0.28163161499145284, -1.2385386113755583]}, {\"line\": {\"color\": \"rgba(55, 128, 191, 1.0)\", \"dash\": \"solid\", \"shape\": \"linear\", \"width\": 1.3}, \"mode\": \"lines\", \"name\": \"B\", \"text\": \"\", \"type\": \"scatter\", \"x\": [0, 1, 2, 3, 4, 5, 6, 7, 8, 9, 10, 11, 12, 13, 14, 15, 16, 17, 18, 19, 20, 21, 22, 23, 24, 25, 26, 27, 28, 29, 30, 31, 32, 33, 34, 35, 36, 37, 38, 39, 40, 41, 42, 43, 44, 45, 46, 47, 48, 49, 50, 51, 52, 53, 54, 55, 56, 57, 58, 59, 60, 61, 62, 63, 64, 65, 66, 67, 68, 69, 70, 71, 72, 73, 74, 75, 76, 77, 78, 79, 80, 81, 82, 83, 84, 85, 86, 87, 88, 89, 90, 91, 92, 93, 94, 95, 96, 97, 98, 99], \"y\": [-0.6134635286282765, -0.5893938086424193, 0.08133950161229865, 0.5398200529846118, -1.286750376942333, -0.6788265991475018, 0.6422798598704085, -1.1326000096188251, -1.4089405831255573, -0.1696111304011945, -0.8359408788600723, -0.056670528140848435, -0.10987441558624364, 1.2252867700864356, 0.9736400059389726, -0.8950702416491216, 0.5849635299220757, -0.5591568492862687, 1.093907468885399, -0.04032620964770699, -1.8570080445362416, 1.063435867461458, 0.30940121247962055, 0.20356504119969962, 0.5413491586427932, -0.9985516843900909, -0.38598464007661815, -2.470204057674452, -1.5660784847207427, 0.6995069319307801, 0.16873701963464874, -2.0917394748944713, -0.7018420852463064, -0.5091045350909177, 0.5365362801017167, 0.268070152134566, 0.16998613045411123, -0.2814630034389793, -0.6881656758762982, 0.3353977553560339, -0.4122357782615829, 0.0713069113135744, 0.5152980887432727, 0.1173874661122881, 0.6291036361334134, -0.6239223136538199, -0.7908673470758846, -0.20854907806217174, -0.7554356412524142, 0.5691658659371732, 0.4872906627660704, -0.6568931090902709, -1.4697893098691848, 0.7939963167521176, -0.5037514809518796, 0.6925055921857803, -0.6636143919009947, -1.1972565402094348, 0.7669709172631989, 0.01664548860746999, -0.6201746376242857, 0.18102028476958157, -1.3667500115858608, 0.016728165945960598, 1.4575891285742022, 1.2241908183776857, -0.5199035148221082, 0.9460580315295726, -0.24901303381143025, -1.1865166471453603, 1.0594004271570268, -0.2271596090232071, -0.05009216598693693, -0.8742984971963792, -1.1035731765413361, 1.5995978451621455, 0.07624149161800622, -2.056466491887705, 0.30959943849236954, 0.5178775860951798, -0.10432507962391788, -0.17333177878384695, 0.07609787115295705, -0.24644274238062452, -0.9241119671704282, -0.3624764326414089, -1.7236405281460883, 0.4343231101268886, -0.15107912354535877, 0.36364520144806667, -0.45587589815606516, -0.6584898542975601, -0.15310964482626382, 0.13819890641935403, 1.2455627682266015, 1.8450891467052408, -0.616506351567455, 0.954727000301093, -0.7673822279347278, -0.5754065115109609]}, {\"connectgaps\": false, \"fill\": \"tozeroy\", \"line\": {\"color\": \"green\", \"dash\": \"solid\", \"shape\": \"linear\", \"width\": 0.5}, \"mode\": \"lines\", \"name\": \"Spread\", \"showlegend\": false, \"type\": \"scatter\", \"x\": [0, 1, 2, 3, 4, 5, 6, 7, 8, 9, 10, 11, 12, 13, 14, 15, 16, 17, 18, 19, 20, 21, 22, 23, 24, 25, 26, 27, 28, 29, 30, 31, 32, 33, 34, 35, 36, 37, 38, 39, 40, 41, 42, 43, 44, 45, 46, 47, 48, 49, 50, 51, 52, 53, 54, 55, 56, 57, 58, 59, 60, 61, 62, 63, 64, 65, 66, 67, 68, 69, 70, 71, 72, 73, 74, 75, 76, 77, 78, 79, 80, 81, 82, 83, 84, 85, 86, 87, 88, 89, 90, 91, 92, 93, 94, 95, 96, 97, 98, 99], \"xaxis\": \"x2\", \"y\": [\"\", 3.5692363297132204, \"\", \"\", 2.145702610177264, 0.3172151744728416, \"\", 1.1008959103396532, 1.333110544171264, \"\", 1.2560143011021705, 0.8107041900326015, \"\", \"\", 0.09735706980938075, 1.4295316639970541, \"\", 0.8493876327592423, \"\", 0.14003385826132717, 1.4438781591235998, \"\", 0.14599893311422002, 1.1402142138910467, 1.0957907870765191, 0.7641492265318965, \"\", 1.8903692838762942, 2.4341220008053965, 0.0555972644456878, \"\", 2.3254528919253774, \"\", 1.1031801258669267, 0.6266519501774702, \"\", 0.30187391503771765, \"\", 0.7492145508382292, \"\", \"\", \"\", \"\", 0.8318033661062036, \"\", 0.05204017582333054, 2.4433005154224547, 0.09767845858684637, 1.2465336736833543, 0.5073291893262262, \"\", 1.3753053457119337, 2.488537694207812, \"\", \"\", 1.0313048987380804, 1.6708321856736281, 0.204437017072425, \"\", \"\", 0.27868896285682654, \"\", 1.6452910283882067, 0.809907809388475, \"\", \"\", \"\", 0.8105077276967771, \"\", 2.0115084691092537, \"\", 0.7761318617322024, 0.30115338038295575, 1.451322134135531, 0.14323517099791028, 0.6052015658178156, 0.33480867364769096, 2.740410884086826, \"\", 0.12354005173190397, 1.1309598727036365, \"\", 0.7421200037394864, \"\", 0.3695448574222795, 0.7664153544982855, 3.9263649170148462, \"\", \"\", \"\", 1.6483137251038924, \"\", 0.15720124355254328, 0.5675672257986204, 0.299853258367923, \"\", \"\", \"\", 0.48575061294327493, \"\"], \"yaxis\": \"y2\"}, {\"connectgaps\": false, \"fill\": \"tozeroy\", \"line\": {\"color\": \"red\", \"dash\": \"solid\", \"shape\": \"linear\", \"width\": 0.5}, \"mode\": \"lines\", \"name\": \"Spread\", \"showlegend\": false, \"type\": \"scatter\", \"x\": [0, 1, 2, 3, 4, 5, 6, 7, 8, 9, 10, 11, 12, 13, 14, 15, 16, 17, 18, 19, 20, 21, 22, 23, 24, 25, 26, 27, 28, 29, 30, 31, 32, 33, 34, 35, 36, 37, 38, 39, 40, 41, 42, 43, 44, 45, 46, 47, 48, 49, 50, 51, 52, 53, 54, 55, 56, 57, 58, 59, 60, 61, 62, 63, 64, 65, 66, 67, 68, 69, 70, 71, 72, 73, 74, 75, 76, 77, 78, 79, 80, 81, 82, 83, 84, 85, 86, 87, 88, 89, 90, 91, 92, 93, 94, 95, 96, 97, 98, 99], \"xaxis\": \"x2\", \"y\": [-1.124094563967077, \"\", -1.135896300178277, -0.10592050451599633, \"\", \"\", -0.5609875787584755, \"\", \"\", -0.4474674033590592, \"\", \"\", -1.5168944683590555, -1.3095332360922531, \"\", \"\", -0.06330523108127695, \"\", -0.32257408135536525, \"\", \"\", -0.8261846919070936, \"\", \"\", \"\", \"\", -0.10039154146648982, \"\", \"\", \"\", -0.25645838447799674, \"\", -1.1868049069391167, \"\", \"\", -0.6239496823448754, \"\", -0.07764176847100074, \"\", -1.1912621365808462, -1.1235115179295365, -0.9218001689988352, -1.1286158941909035, \"\", -0.4514471752468975, \"\", \"\", \"\", \"\", \"\", -2.463224657893931, \"\", \"\", -1.2066619756856256, -0.005729694606263158, \"\", \"\", \"\", -0.7711554670451053, -2.222888849714239, \"\", -0.5410106118211176, \"\", \"\", -2.797660947185715, -1.9402348760858257, -0.42683155020884544, \"\", -1.1318276702635113, \"\", -0.46701390574768853, \"\", \"\", \"\", \"\", \"\", \"\", \"\", -0.4196029268018549, \"\", \"\", -1.2148640723001822, \"\", -1.073980460475179, \"\", \"\", \"\", -1.3976687361862803, -0.0668203798033708, -0.5906578099545786, \"\", -0.06935269315211845, \"\", \"\", \"\", -2.6838036204489133, -0.2951281534803185, -0.732773654051113, \"\", -0.6631320998645974], \"yaxis\": \"y2\"}],\n",
       "                        {\"hovermode\": \"x\", \"legend\": {\"bgcolor\": \"#F5F6F9\", \"font\": {\"color\": \"#4D5663\"}}, \"paper_bgcolor\": \"#F5F6F9\", \"plot_bgcolor\": \"#F5F6F9\", \"template\": {\"data\": {\"bar\": [{\"error_x\": {\"color\": \"#2a3f5f\"}, \"error_y\": {\"color\": \"#2a3f5f\"}, \"marker\": {\"line\": {\"color\": \"#E5ECF6\", \"width\": 0.5}}, \"type\": \"bar\"}], \"barpolar\": [{\"marker\": {\"line\": {\"color\": \"#E5ECF6\", \"width\": 0.5}}, \"type\": \"barpolar\"}], \"carpet\": [{\"aaxis\": {\"endlinecolor\": \"#2a3f5f\", \"gridcolor\": \"white\", \"linecolor\": \"white\", \"minorgridcolor\": \"white\", \"startlinecolor\": \"#2a3f5f\"}, \"baxis\": {\"endlinecolor\": \"#2a3f5f\", \"gridcolor\": \"white\", \"linecolor\": \"white\", \"minorgridcolor\": \"white\", \"startlinecolor\": \"#2a3f5f\"}, \"type\": \"carpet\"}], \"choropleth\": [{\"colorbar\": {\"outlinewidth\": 0, \"ticks\": \"\"}, \"type\": \"choropleth\"}], \"contour\": [{\"colorbar\": {\"outlinewidth\": 0, \"ticks\": \"\"}, \"colorscale\": [[0.0, \"#0d0887\"], [0.1111111111111111, \"#46039f\"], [0.2222222222222222, \"#7201a8\"], [0.3333333333333333, \"#9c179e\"], [0.4444444444444444, \"#bd3786\"], [0.5555555555555556, \"#d8576b\"], [0.6666666666666666, \"#ed7953\"], [0.7777777777777778, \"#fb9f3a\"], [0.8888888888888888, \"#fdca26\"], [1.0, \"#f0f921\"]], \"type\": \"contour\"}], \"contourcarpet\": [{\"colorbar\": {\"outlinewidth\": 0, \"ticks\": \"\"}, \"type\": \"contourcarpet\"}], \"heatmap\": [{\"colorbar\": {\"outlinewidth\": 0, \"ticks\": \"\"}, \"colorscale\": [[0.0, \"#0d0887\"], [0.1111111111111111, \"#46039f\"], [0.2222222222222222, \"#7201a8\"], [0.3333333333333333, \"#9c179e\"], [0.4444444444444444, \"#bd3786\"], [0.5555555555555556, \"#d8576b\"], [0.6666666666666666, \"#ed7953\"], [0.7777777777777778, \"#fb9f3a\"], [0.8888888888888888, \"#fdca26\"], [1.0, \"#f0f921\"]], \"type\": \"heatmap\"}], \"heatmapgl\": [{\"colorbar\": {\"outlinewidth\": 0, \"ticks\": \"\"}, \"colorscale\": [[0.0, \"#0d0887\"], [0.1111111111111111, \"#46039f\"], [0.2222222222222222, \"#7201a8\"], [0.3333333333333333, \"#9c179e\"], [0.4444444444444444, \"#bd3786\"], [0.5555555555555556, \"#d8576b\"], [0.6666666666666666, \"#ed7953\"], [0.7777777777777778, \"#fb9f3a\"], [0.8888888888888888, \"#fdca26\"], [1.0, \"#f0f921\"]], \"type\": \"heatmapgl\"}], \"histogram\": [{\"marker\": {\"colorbar\": {\"outlinewidth\": 0, \"ticks\": \"\"}}, \"type\": \"histogram\"}], \"histogram2d\": [{\"colorbar\": {\"outlinewidth\": 0, \"ticks\": \"\"}, \"colorscale\": [[0.0, \"#0d0887\"], [0.1111111111111111, \"#46039f\"], [0.2222222222222222, \"#7201a8\"], [0.3333333333333333, \"#9c179e\"], [0.4444444444444444, \"#bd3786\"], [0.5555555555555556, \"#d8576b\"], [0.6666666666666666, \"#ed7953\"], [0.7777777777777778, \"#fb9f3a\"], [0.8888888888888888, \"#fdca26\"], [1.0, \"#f0f921\"]], \"type\": \"histogram2d\"}], \"histogram2dcontour\": [{\"colorbar\": {\"outlinewidth\": 0, \"ticks\": \"\"}, \"colorscale\": [[0.0, \"#0d0887\"], [0.1111111111111111, \"#46039f\"], [0.2222222222222222, \"#7201a8\"], [0.3333333333333333, \"#9c179e\"], [0.4444444444444444, \"#bd3786\"], [0.5555555555555556, \"#d8576b\"], [0.6666666666666666, \"#ed7953\"], [0.7777777777777778, \"#fb9f3a\"], [0.8888888888888888, \"#fdca26\"], [1.0, \"#f0f921\"]], \"type\": \"histogram2dcontour\"}], \"mesh3d\": [{\"colorbar\": {\"outlinewidth\": 0, \"ticks\": \"\"}, \"type\": \"mesh3d\"}], \"parcoords\": [{\"line\": {\"colorbar\": {\"outlinewidth\": 0, \"ticks\": \"\"}}, \"type\": \"parcoords\"}], \"pie\": [{\"automargin\": true, \"type\": \"pie\"}], \"scatter\": [{\"marker\": {\"colorbar\": {\"outlinewidth\": 0, \"ticks\": \"\"}}, \"type\": \"scatter\"}], \"scatter3d\": [{\"line\": {\"colorbar\": {\"outlinewidth\": 0, \"ticks\": \"\"}}, \"marker\": {\"colorbar\": {\"outlinewidth\": 0, \"ticks\": \"\"}}, \"type\": \"scatter3d\"}], \"scattercarpet\": [{\"marker\": {\"colorbar\": {\"outlinewidth\": 0, \"ticks\": \"\"}}, \"type\": \"scattercarpet\"}], \"scattergeo\": [{\"marker\": {\"colorbar\": {\"outlinewidth\": 0, \"ticks\": \"\"}}, \"type\": \"scattergeo\"}], \"scattergl\": [{\"marker\": {\"colorbar\": {\"outlinewidth\": 0, \"ticks\": \"\"}}, \"type\": \"scattergl\"}], \"scattermapbox\": [{\"marker\": {\"colorbar\": {\"outlinewidth\": 0, \"ticks\": \"\"}}, \"type\": \"scattermapbox\"}], \"scatterpolar\": [{\"marker\": {\"colorbar\": {\"outlinewidth\": 0, \"ticks\": \"\"}}, \"type\": \"scatterpolar\"}], \"scatterpolargl\": [{\"marker\": {\"colorbar\": {\"outlinewidth\": 0, \"ticks\": \"\"}}, \"type\": \"scatterpolargl\"}], \"scatterternary\": [{\"marker\": {\"colorbar\": {\"outlinewidth\": 0, \"ticks\": \"\"}}, \"type\": \"scatterternary\"}], \"surface\": [{\"colorbar\": {\"outlinewidth\": 0, \"ticks\": \"\"}, \"colorscale\": [[0.0, \"#0d0887\"], [0.1111111111111111, \"#46039f\"], [0.2222222222222222, \"#7201a8\"], [0.3333333333333333, \"#9c179e\"], [0.4444444444444444, \"#bd3786\"], [0.5555555555555556, \"#d8576b\"], [0.6666666666666666, \"#ed7953\"], [0.7777777777777778, \"#fb9f3a\"], [0.8888888888888888, \"#fdca26\"], [1.0, \"#f0f921\"]], \"type\": \"surface\"}], \"table\": [{\"cells\": {\"fill\": {\"color\": \"#EBF0F8\"}, \"line\": {\"color\": \"white\"}}, \"header\": {\"fill\": {\"color\": \"#C8D4E3\"}, \"line\": {\"color\": \"white\"}}, \"type\": \"table\"}]}, \"layout\": {\"annotationdefaults\": {\"arrowcolor\": \"#2a3f5f\", \"arrowhead\": 0, \"arrowwidth\": 1}, \"coloraxis\": {\"colorbar\": {\"outlinewidth\": 0, \"ticks\": \"\"}}, \"colorscale\": {\"diverging\": [[0, \"#8e0152\"], [0.1, \"#c51b7d\"], [0.2, \"#de77ae\"], [0.3, \"#f1b6da\"], [0.4, \"#fde0ef\"], [0.5, \"#f7f7f7\"], [0.6, \"#e6f5d0\"], [0.7, \"#b8e186\"], [0.8, \"#7fbc41\"], [0.9, \"#4d9221\"], [1, \"#276419\"]], \"sequential\": [[0.0, \"#0d0887\"], [0.1111111111111111, \"#46039f\"], [0.2222222222222222, \"#7201a8\"], [0.3333333333333333, \"#9c179e\"], [0.4444444444444444, \"#bd3786\"], [0.5555555555555556, \"#d8576b\"], [0.6666666666666666, \"#ed7953\"], [0.7777777777777778, \"#fb9f3a\"], [0.8888888888888888, \"#fdca26\"], [1.0, \"#f0f921\"]], \"sequentialminus\": [[0.0, \"#0d0887\"], [0.1111111111111111, \"#46039f\"], [0.2222222222222222, \"#7201a8\"], [0.3333333333333333, \"#9c179e\"], [0.4444444444444444, \"#bd3786\"], [0.5555555555555556, \"#d8576b\"], [0.6666666666666666, \"#ed7953\"], [0.7777777777777778, \"#fb9f3a\"], [0.8888888888888888, \"#fdca26\"], [1.0, \"#f0f921\"]]}, \"colorway\": [\"#636efa\", \"#EF553B\", \"#00cc96\", \"#ab63fa\", \"#FFA15A\", \"#19d3f3\", \"#FF6692\", \"#B6E880\", \"#FF97FF\", \"#FECB52\"], \"font\": {\"color\": \"#2a3f5f\"}, \"geo\": {\"bgcolor\": \"white\", \"lakecolor\": \"white\", \"landcolor\": \"#E5ECF6\", \"showlakes\": true, \"showland\": true, \"subunitcolor\": \"white\"}, \"hoverlabel\": {\"align\": \"left\"}, \"hovermode\": \"closest\", \"mapbox\": {\"style\": \"light\"}, \"paper_bgcolor\": \"white\", \"plot_bgcolor\": \"#E5ECF6\", \"polar\": {\"angularaxis\": {\"gridcolor\": \"white\", \"linecolor\": \"white\", \"ticks\": \"\"}, \"bgcolor\": \"#E5ECF6\", \"radialaxis\": {\"gridcolor\": \"white\", \"linecolor\": \"white\", \"ticks\": \"\"}}, \"scene\": {\"xaxis\": {\"backgroundcolor\": \"#E5ECF6\", \"gridcolor\": \"white\", \"gridwidth\": 2, \"linecolor\": \"white\", \"showbackground\": true, \"ticks\": \"\", \"zerolinecolor\": \"white\"}, \"yaxis\": {\"backgroundcolor\": \"#E5ECF6\", \"gridcolor\": \"white\", \"gridwidth\": 2, \"linecolor\": \"white\", \"showbackground\": true, \"ticks\": \"\", \"zerolinecolor\": \"white\"}, \"zaxis\": {\"backgroundcolor\": \"#E5ECF6\", \"gridcolor\": \"white\", \"gridwidth\": 2, \"linecolor\": \"white\", \"showbackground\": true, \"ticks\": \"\", \"zerolinecolor\": \"white\"}}, \"shapedefaults\": {\"line\": {\"color\": \"#2a3f5f\"}}, \"ternary\": {\"aaxis\": {\"gridcolor\": \"white\", \"linecolor\": \"white\", \"ticks\": \"\"}, \"baxis\": {\"gridcolor\": \"white\", \"linecolor\": \"white\", \"ticks\": \"\"}, \"bgcolor\": \"#E5ECF6\", \"caxis\": {\"gridcolor\": \"white\", \"linecolor\": \"white\", \"ticks\": \"\"}}, \"title\": {\"x\": 0.05}, \"xaxis\": {\"automargin\": true, \"gridcolor\": \"white\", \"linecolor\": \"white\", \"ticks\": \"\", \"title\": {\"standoff\": 15}, \"zerolinecolor\": \"white\", \"zerolinewidth\": 2}, \"yaxis\": {\"automargin\": true, \"gridcolor\": \"white\", \"linecolor\": \"white\", \"ticks\": \"\", \"title\": {\"standoff\": 15}, \"zerolinecolor\": \"white\", \"zerolinewidth\": 2}}}, \"title\": {\"font\": {\"color\": \"#4D5663\"}}, \"xaxis\": {\"gridcolor\": \"#E1E5ED\", \"showgrid\": true, \"tickfont\": {\"color\": \"#4D5663\"}, \"title\": {\"font\": {\"color\": \"#4D5663\"}, \"text\": \"\"}, \"zerolinecolor\": \"#E1E5ED\"}, \"xaxis2\": {\"anchor\": \"y2\", \"gridcolor\": \"#E1E5ED\", \"showgrid\": true, \"showticklabels\": false, \"tickfont\": {\"color\": \"#4D5663\"}, \"title\": {\"font\": {\"color\": \"#4D5663\"}, \"text\": \"\"}, \"zerolinecolor\": \"#E1E5ED\"}, \"yaxis\": {\"domain\": [0.3, 1], \"gridcolor\": \"#E1E5ED\", \"showgrid\": true, \"tickfont\": {\"color\": \"#4D5663\"}, \"title\": {\"font\": {\"color\": \"#4D5663\"}, \"text\": \"\"}, \"zerolinecolor\": \"#E1E5ED\"}, \"yaxis2\": {\"domain\": [0, 0.25], \"gridcolor\": \"#E1E5ED\", \"showgrid\": true, \"tickfont\": {\"color\": \"#4D5663\"}, \"title\": {\"font\": {\"color\": \"#4D5663\"}, \"text\": \"Spread\"}, \"zerolinecolor\": \"#E1E5ED\"}},\n",
       "                        {\"showLink\": true, \"linkText\": \"Export to plot.ly\", \"plotlyServerURL\": \"https://plot.ly\", \"responsive\": true}\n",
       "                    ).then(function(){\n",
       "                            \n",
       "var gd = document.getElementById('71395033-4f7c-40d4-9801-6dfd56b06758');\n",
       "var x = new MutationObserver(function (mutations, observer) {{\n",
       "        var display = window.getComputedStyle(gd).display;\n",
       "        if (!display || display === 'none') {{\n",
       "            console.log([gd, 'removed!']);\n",
       "            Plotly.purge(gd);\n",
       "            observer.disconnect();\n",
       "        }}\n",
       "}});\n",
       "\n",
       "// Listen for the removal of the full notebook cells\n",
       "var notebookContainer = gd.closest('#notebook-container');\n",
       "if (notebookContainer) {{\n",
       "    x.observe(notebookContainer, {childList: true});\n",
       "}}\n",
       "\n",
       "// Listen for the clearing of the current output cell\n",
       "var outputEl = gd.closest('.output');\n",
       "if (outputEl) {{\n",
       "    x.observe(outputEl, {childList: true});\n",
       "}}\n",
       "\n",
       "                        })\n",
       "                };\n",
       "                });\n",
       "            </script>\n",
       "        </div>"
      ]
     },
     "metadata": {},
     "output_type": "display_data"
    }
   ],
   "source": [
    "df[['A','B']].iplot(kind='spread')"
   ]
  },
  {
   "cell_type": "markdown",
   "metadata": {},
   "source": [
    "## histogram"
   ]
  },
  {
   "cell_type": "code",
   "execution_count": 20,
   "metadata": {},
   "outputs": [
    {
     "data": {
      "application/vnd.plotly.v1+json": {
       "config": {
        "linkText": "Export to plot.ly",
        "plotlyServerURL": "https://plot.ly",
        "showLink": true
       },
       "data": [
        {
         "histfunc": "count",
         "histnorm": "",
         "marker": {
          "color": "rgba(255, 153, 51, 1.0)",
          "line": {
           "color": "#4D5663",
           "width": 1.3
          }
         },
         "name": "A",
         "nbinsx": 25,
         "opacity": 0.8,
         "orientation": "v",
         "type": "histogram",
         "x": [
          -1.7375580925953535,
          2.9798425210708013,
          -1.0545567985659783,
          0.43389954846861545,
          0.8589522332349308,
          -0.3616114246746602,
          0.08129228111193294,
          -0.03170409927917186,
          -0.07583003895429322,
          -0.6170785337602537,
          0.42007342224209826,
          0.7540336618917531,
          -1.6267688839452992,
          -0.08424646600581756,
          1.0709970757483533,
          0.5344614223479325,
          0.5216582988407987,
          0.2902307834729736,
          0.7713333875300337,
          0.09970764861362018,
          -0.41312988541264173,
          0.23725117555436426,
          0.45540014559384057,
          1.3437792550907464,
          1.6371399457193123,
          -0.23440245785819436,
          -0.48637618154310797,
          -0.579834773798158,
          0.8680435160846539,
          0.7551041963764679,
          -0.08772136484334801,
          0.23371341703090623,
          -1.888646992185423,
          0.5940755907760089,
          1.163188230279187,
          -0.3558795302103094,
          0.4718600454918289,
          -0.35910477190998,
          0.061048874961931045,
          -0.8558643812248122,
          -1.5357472961911194,
          -0.8504932576852609,
          -0.6133178054476308,
          0.9491908322184918,
          0.1776564608865159,
          -0.5718821378304894,
          1.65243316834657,
          -0.11087061947532537,
          0.4910980324309401,
          1.0764950552633994,
          -1.975933995127861,
          0.718412236621663,
          1.0187483843386271,
          -0.4126656589335081,
          -0.5094811755581428,
          1.7238104909238607,
          1.0072177937726334,
          -0.9928195231370098,
          -0.004184549781906393,
          -2.206243361106769,
          -0.34148567476745917,
          -0.3599903270515361,
          0.2785410168023459,
          0.8266359753344356,
          -1.3400718186115126,
          -0.71604405770814,
          -0.9467350650309536,
          1.7565657592263497,
          -1.3808407040749415,
          0.8249918219638933,
          0.5923865214093382,
          0.5489722527089953,
          0.2510612143960188,
          0.5770236369391516,
          -0.9603380055434259,
          2.204799410979961,
          0.41105016526569715,
          0.683944392199121,
          -0.11000348830948538,
          0.6414176378270837,
          1.0266347930797186,
          -1.388195851084029,
          0.8182178748924435,
          -1.3204232028558036,
          -0.5545671097481487,
          0.4039389218568765,
          2.202724388868758,
          -0.9633456260593918,
          -0.21789950334872957,
          -0.22701260850651195,
          1.1924378269478273,
          -0.7278425474496786,
          0.004091598726279457,
          0.7057661322179745,
          1.5454160265945245,
          -0.8387144737436726,
          -0.9116345050477735,
          0.22195334624997998,
          -0.28163161499145284,
          -1.2385386113755583
         ]
        }
       ],
       "layout": {
        "barmode": "overlay",
        "legend": {
         "bgcolor": "#F5F6F9",
         "font": {
          "color": "#4D5663"
         }
        },
        "paper_bgcolor": "#F5F6F9",
        "plot_bgcolor": "#F5F6F9",
        "template": {
         "data": {
          "bar": [
           {
            "error_x": {
             "color": "#2a3f5f"
            },
            "error_y": {
             "color": "#2a3f5f"
            },
            "marker": {
             "line": {
              "color": "#E5ECF6",
              "width": 0.5
             }
            },
            "type": "bar"
           }
          ],
          "barpolar": [
           {
            "marker": {
             "line": {
              "color": "#E5ECF6",
              "width": 0.5
             }
            },
            "type": "barpolar"
           }
          ],
          "carpet": [
           {
            "aaxis": {
             "endlinecolor": "#2a3f5f",
             "gridcolor": "white",
             "linecolor": "white",
             "minorgridcolor": "white",
             "startlinecolor": "#2a3f5f"
            },
            "baxis": {
             "endlinecolor": "#2a3f5f",
             "gridcolor": "white",
             "linecolor": "white",
             "minorgridcolor": "white",
             "startlinecolor": "#2a3f5f"
            },
            "type": "carpet"
           }
          ],
          "choropleth": [
           {
            "colorbar": {
             "outlinewidth": 0,
             "ticks": ""
            },
            "type": "choropleth"
           }
          ],
          "contour": [
           {
            "colorbar": {
             "outlinewidth": 0,
             "ticks": ""
            },
            "colorscale": [
             [
              0,
              "#0d0887"
             ],
             [
              0.1111111111111111,
              "#46039f"
             ],
             [
              0.2222222222222222,
              "#7201a8"
             ],
             [
              0.3333333333333333,
              "#9c179e"
             ],
             [
              0.4444444444444444,
              "#bd3786"
             ],
             [
              0.5555555555555556,
              "#d8576b"
             ],
             [
              0.6666666666666666,
              "#ed7953"
             ],
             [
              0.7777777777777778,
              "#fb9f3a"
             ],
             [
              0.8888888888888888,
              "#fdca26"
             ],
             [
              1,
              "#f0f921"
             ]
            ],
            "type": "contour"
           }
          ],
          "contourcarpet": [
           {
            "colorbar": {
             "outlinewidth": 0,
             "ticks": ""
            },
            "type": "contourcarpet"
           }
          ],
          "heatmap": [
           {
            "colorbar": {
             "outlinewidth": 0,
             "ticks": ""
            },
            "colorscale": [
             [
              0,
              "#0d0887"
             ],
             [
              0.1111111111111111,
              "#46039f"
             ],
             [
              0.2222222222222222,
              "#7201a8"
             ],
             [
              0.3333333333333333,
              "#9c179e"
             ],
             [
              0.4444444444444444,
              "#bd3786"
             ],
             [
              0.5555555555555556,
              "#d8576b"
             ],
             [
              0.6666666666666666,
              "#ed7953"
             ],
             [
              0.7777777777777778,
              "#fb9f3a"
             ],
             [
              0.8888888888888888,
              "#fdca26"
             ],
             [
              1,
              "#f0f921"
             ]
            ],
            "type": "heatmap"
           }
          ],
          "heatmapgl": [
           {
            "colorbar": {
             "outlinewidth": 0,
             "ticks": ""
            },
            "colorscale": [
             [
              0,
              "#0d0887"
             ],
             [
              0.1111111111111111,
              "#46039f"
             ],
             [
              0.2222222222222222,
              "#7201a8"
             ],
             [
              0.3333333333333333,
              "#9c179e"
             ],
             [
              0.4444444444444444,
              "#bd3786"
             ],
             [
              0.5555555555555556,
              "#d8576b"
             ],
             [
              0.6666666666666666,
              "#ed7953"
             ],
             [
              0.7777777777777778,
              "#fb9f3a"
             ],
             [
              0.8888888888888888,
              "#fdca26"
             ],
             [
              1,
              "#f0f921"
             ]
            ],
            "type": "heatmapgl"
           }
          ],
          "histogram": [
           {
            "marker": {
             "colorbar": {
              "outlinewidth": 0,
              "ticks": ""
             }
            },
            "type": "histogram"
           }
          ],
          "histogram2d": [
           {
            "colorbar": {
             "outlinewidth": 0,
             "ticks": ""
            },
            "colorscale": [
             [
              0,
              "#0d0887"
             ],
             [
              0.1111111111111111,
              "#46039f"
             ],
             [
              0.2222222222222222,
              "#7201a8"
             ],
             [
              0.3333333333333333,
              "#9c179e"
             ],
             [
              0.4444444444444444,
              "#bd3786"
             ],
             [
              0.5555555555555556,
              "#d8576b"
             ],
             [
              0.6666666666666666,
              "#ed7953"
             ],
             [
              0.7777777777777778,
              "#fb9f3a"
             ],
             [
              0.8888888888888888,
              "#fdca26"
             ],
             [
              1,
              "#f0f921"
             ]
            ],
            "type": "histogram2d"
           }
          ],
          "histogram2dcontour": [
           {
            "colorbar": {
             "outlinewidth": 0,
             "ticks": ""
            },
            "colorscale": [
             [
              0,
              "#0d0887"
             ],
             [
              0.1111111111111111,
              "#46039f"
             ],
             [
              0.2222222222222222,
              "#7201a8"
             ],
             [
              0.3333333333333333,
              "#9c179e"
             ],
             [
              0.4444444444444444,
              "#bd3786"
             ],
             [
              0.5555555555555556,
              "#d8576b"
             ],
             [
              0.6666666666666666,
              "#ed7953"
             ],
             [
              0.7777777777777778,
              "#fb9f3a"
             ],
             [
              0.8888888888888888,
              "#fdca26"
             ],
             [
              1,
              "#f0f921"
             ]
            ],
            "type": "histogram2dcontour"
           }
          ],
          "mesh3d": [
           {
            "colorbar": {
             "outlinewidth": 0,
             "ticks": ""
            },
            "type": "mesh3d"
           }
          ],
          "parcoords": [
           {
            "line": {
             "colorbar": {
              "outlinewidth": 0,
              "ticks": ""
             }
            },
            "type": "parcoords"
           }
          ],
          "pie": [
           {
            "automargin": true,
            "type": "pie"
           }
          ],
          "scatter": [
           {
            "marker": {
             "colorbar": {
              "outlinewidth": 0,
              "ticks": ""
             }
            },
            "type": "scatter"
           }
          ],
          "scatter3d": [
           {
            "line": {
             "colorbar": {
              "outlinewidth": 0,
              "ticks": ""
             }
            },
            "marker": {
             "colorbar": {
              "outlinewidth": 0,
              "ticks": ""
             }
            },
            "type": "scatter3d"
           }
          ],
          "scattercarpet": [
           {
            "marker": {
             "colorbar": {
              "outlinewidth": 0,
              "ticks": ""
             }
            },
            "type": "scattercarpet"
           }
          ],
          "scattergeo": [
           {
            "marker": {
             "colorbar": {
              "outlinewidth": 0,
              "ticks": ""
             }
            },
            "type": "scattergeo"
           }
          ],
          "scattergl": [
           {
            "marker": {
             "colorbar": {
              "outlinewidth": 0,
              "ticks": ""
             }
            },
            "type": "scattergl"
           }
          ],
          "scattermapbox": [
           {
            "marker": {
             "colorbar": {
              "outlinewidth": 0,
              "ticks": ""
             }
            },
            "type": "scattermapbox"
           }
          ],
          "scatterpolar": [
           {
            "marker": {
             "colorbar": {
              "outlinewidth": 0,
              "ticks": ""
             }
            },
            "type": "scatterpolar"
           }
          ],
          "scatterpolargl": [
           {
            "marker": {
             "colorbar": {
              "outlinewidth": 0,
              "ticks": ""
             }
            },
            "type": "scatterpolargl"
           }
          ],
          "scatterternary": [
           {
            "marker": {
             "colorbar": {
              "outlinewidth": 0,
              "ticks": ""
             }
            },
            "type": "scatterternary"
           }
          ],
          "surface": [
           {
            "colorbar": {
             "outlinewidth": 0,
             "ticks": ""
            },
            "colorscale": [
             [
              0,
              "#0d0887"
             ],
             [
              0.1111111111111111,
              "#46039f"
             ],
             [
              0.2222222222222222,
              "#7201a8"
             ],
             [
              0.3333333333333333,
              "#9c179e"
             ],
             [
              0.4444444444444444,
              "#bd3786"
             ],
             [
              0.5555555555555556,
              "#d8576b"
             ],
             [
              0.6666666666666666,
              "#ed7953"
             ],
             [
              0.7777777777777778,
              "#fb9f3a"
             ],
             [
              0.8888888888888888,
              "#fdca26"
             ],
             [
              1,
              "#f0f921"
             ]
            ],
            "type": "surface"
           }
          ],
          "table": [
           {
            "cells": {
             "fill": {
              "color": "#EBF0F8"
             },
             "line": {
              "color": "white"
             }
            },
            "header": {
             "fill": {
              "color": "#C8D4E3"
             },
             "line": {
              "color": "white"
             }
            },
            "type": "table"
           }
          ]
         },
         "layout": {
          "annotationdefaults": {
           "arrowcolor": "#2a3f5f",
           "arrowhead": 0,
           "arrowwidth": 1
          },
          "coloraxis": {
           "colorbar": {
            "outlinewidth": 0,
            "ticks": ""
           }
          },
          "colorscale": {
           "diverging": [
            [
             0,
             "#8e0152"
            ],
            [
             0.1,
             "#c51b7d"
            ],
            [
             0.2,
             "#de77ae"
            ],
            [
             0.3,
             "#f1b6da"
            ],
            [
             0.4,
             "#fde0ef"
            ],
            [
             0.5,
             "#f7f7f7"
            ],
            [
             0.6,
             "#e6f5d0"
            ],
            [
             0.7,
             "#b8e186"
            ],
            [
             0.8,
             "#7fbc41"
            ],
            [
             0.9,
             "#4d9221"
            ],
            [
             1,
             "#276419"
            ]
           ],
           "sequential": [
            [
             0,
             "#0d0887"
            ],
            [
             0.1111111111111111,
             "#46039f"
            ],
            [
             0.2222222222222222,
             "#7201a8"
            ],
            [
             0.3333333333333333,
             "#9c179e"
            ],
            [
             0.4444444444444444,
             "#bd3786"
            ],
            [
             0.5555555555555556,
             "#d8576b"
            ],
            [
             0.6666666666666666,
             "#ed7953"
            ],
            [
             0.7777777777777778,
             "#fb9f3a"
            ],
            [
             0.8888888888888888,
             "#fdca26"
            ],
            [
             1,
             "#f0f921"
            ]
           ],
           "sequentialminus": [
            [
             0,
             "#0d0887"
            ],
            [
             0.1111111111111111,
             "#46039f"
            ],
            [
             0.2222222222222222,
             "#7201a8"
            ],
            [
             0.3333333333333333,
             "#9c179e"
            ],
            [
             0.4444444444444444,
             "#bd3786"
            ],
            [
             0.5555555555555556,
             "#d8576b"
            ],
            [
             0.6666666666666666,
             "#ed7953"
            ],
            [
             0.7777777777777778,
             "#fb9f3a"
            ],
            [
             0.8888888888888888,
             "#fdca26"
            ],
            [
             1,
             "#f0f921"
            ]
           ]
          },
          "colorway": [
           "#636efa",
           "#EF553B",
           "#00cc96",
           "#ab63fa",
           "#FFA15A",
           "#19d3f3",
           "#FF6692",
           "#B6E880",
           "#FF97FF",
           "#FECB52"
          ],
          "font": {
           "color": "#2a3f5f"
          },
          "geo": {
           "bgcolor": "white",
           "lakecolor": "white",
           "landcolor": "#E5ECF6",
           "showlakes": true,
           "showland": true,
           "subunitcolor": "white"
          },
          "hoverlabel": {
           "align": "left"
          },
          "hovermode": "closest",
          "mapbox": {
           "style": "light"
          },
          "paper_bgcolor": "white",
          "plot_bgcolor": "#E5ECF6",
          "polar": {
           "angularaxis": {
            "gridcolor": "white",
            "linecolor": "white",
            "ticks": ""
           },
           "bgcolor": "#E5ECF6",
           "radialaxis": {
            "gridcolor": "white",
            "linecolor": "white",
            "ticks": ""
           }
          },
          "scene": {
           "xaxis": {
            "backgroundcolor": "#E5ECF6",
            "gridcolor": "white",
            "gridwidth": 2,
            "linecolor": "white",
            "showbackground": true,
            "ticks": "",
            "zerolinecolor": "white"
           },
           "yaxis": {
            "backgroundcolor": "#E5ECF6",
            "gridcolor": "white",
            "gridwidth": 2,
            "linecolor": "white",
            "showbackground": true,
            "ticks": "",
            "zerolinecolor": "white"
           },
           "zaxis": {
            "backgroundcolor": "#E5ECF6",
            "gridcolor": "white",
            "gridwidth": 2,
            "linecolor": "white",
            "showbackground": true,
            "ticks": "",
            "zerolinecolor": "white"
           }
          },
          "shapedefaults": {
           "line": {
            "color": "#2a3f5f"
           }
          },
          "ternary": {
           "aaxis": {
            "gridcolor": "white",
            "linecolor": "white",
            "ticks": ""
           },
           "baxis": {
            "gridcolor": "white",
            "linecolor": "white",
            "ticks": ""
           },
           "bgcolor": "#E5ECF6",
           "caxis": {
            "gridcolor": "white",
            "linecolor": "white",
            "ticks": ""
           }
          },
          "title": {
           "x": 0.05
          },
          "xaxis": {
           "automargin": true,
           "gridcolor": "white",
           "linecolor": "white",
           "ticks": "",
           "title": {
            "standoff": 15
           },
           "zerolinecolor": "white",
           "zerolinewidth": 2
          },
          "yaxis": {
           "automargin": true,
           "gridcolor": "white",
           "linecolor": "white",
           "ticks": "",
           "title": {
            "standoff": 15
           },
           "zerolinecolor": "white",
           "zerolinewidth": 2
          }
         }
        },
        "title": {
         "font": {
          "color": "#4D5663"
         }
        },
        "xaxis": {
         "gridcolor": "#E1E5ED",
         "showgrid": true,
         "tickfont": {
          "color": "#4D5663"
         },
         "title": {
          "font": {
           "color": "#4D5663"
          },
          "text": ""
         },
         "zerolinecolor": "#E1E5ED"
        },
        "yaxis": {
         "gridcolor": "#E1E5ED",
         "showgrid": true,
         "tickfont": {
          "color": "#4D5663"
         },
         "title": {
          "font": {
           "color": "#4D5663"
          },
          "text": ""
         },
         "zerolinecolor": "#E1E5ED"
        }
       }
      },
      "text/html": [
       "<div>\n",
       "        \n",
       "        \n",
       "            <div id=\"393798de-b731-475a-9716-da22903de72b\" class=\"plotly-graph-div\" style=\"height:525px; width:100%;\"></div>\n",
       "            <script type=\"text/javascript\">\n",
       "                require([\"plotly\"], function(Plotly) {\n",
       "                    window.PLOTLYENV=window.PLOTLYENV || {};\n",
       "                    window.PLOTLYENV.BASE_URL='https://plot.ly';\n",
       "                    \n",
       "                if (document.getElementById(\"393798de-b731-475a-9716-da22903de72b\")) {\n",
       "                    Plotly.newPlot(\n",
       "                        '393798de-b731-475a-9716-da22903de72b',\n",
       "                        [{\"histfunc\": \"count\", \"histnorm\": \"\", \"marker\": {\"color\": \"rgba(255, 153, 51, 1.0)\", \"line\": {\"color\": \"#4D5663\", \"width\": 1.3}}, \"name\": \"A\", \"nbinsx\": 25, \"opacity\": 0.8, \"orientation\": \"v\", \"type\": \"histogram\", \"x\": [-1.7375580925953535, 2.9798425210708013, -1.0545567985659783, 0.43389954846861545, 0.8589522332349308, -0.3616114246746602, 0.08129228111193294, -0.03170409927917186, -0.07583003895429322, -0.6170785337602537, 0.42007342224209826, 0.7540336618917531, -1.6267688839452992, -0.08424646600581756, 1.0709970757483533, 0.5344614223479325, 0.5216582988407987, 0.2902307834729736, 0.7713333875300337, 0.09970764861362018, -0.41312988541264173, 0.23725117555436426, 0.45540014559384057, 1.3437792550907464, 1.6371399457193123, -0.23440245785819436, -0.48637618154310797, -0.579834773798158, 0.8680435160846539, 0.7551041963764679, -0.08772136484334801, 0.23371341703090623, -1.888646992185423, 0.5940755907760089, 1.163188230279187, -0.3558795302103094, 0.4718600454918289, -0.35910477190998, 0.061048874961931045, -0.8558643812248122, -1.5357472961911194, -0.8504932576852609, -0.6133178054476308, 0.9491908322184918, 0.1776564608865159, -0.5718821378304894, 1.65243316834657, -0.11087061947532537, 0.4910980324309401, 1.0764950552633994, -1.975933995127861, 0.718412236621663, 1.0187483843386271, -0.4126656589335081, -0.5094811755581428, 1.7238104909238607, 1.0072177937726334, -0.9928195231370098, -0.004184549781906393, -2.206243361106769, -0.34148567476745917, -0.3599903270515361, 0.2785410168023459, 0.8266359753344356, -1.3400718186115126, -0.71604405770814, -0.9467350650309536, 1.7565657592263497, -1.3808407040749415, 0.8249918219638933, 0.5923865214093382, 0.5489722527089953, 0.2510612143960188, 0.5770236369391516, -0.9603380055434259, 2.204799410979961, 0.41105016526569715, 0.683944392199121, -0.11000348830948538, 0.6414176378270837, 1.0266347930797186, -1.388195851084029, 0.8182178748924435, -1.3204232028558036, -0.5545671097481487, 0.4039389218568765, 2.202724388868758, -0.9633456260593918, -0.21789950334872957, -0.22701260850651195, 1.1924378269478273, -0.7278425474496786, 0.004091598726279457, 0.7057661322179745, 1.5454160265945245, -0.8387144737436726, -0.9116345050477735, 0.22195334624997998, -0.28163161499145284, -1.2385386113755583]}],\n",
       "                        {\"barmode\": \"overlay\", \"legend\": {\"bgcolor\": \"#F5F6F9\", \"font\": {\"color\": \"#4D5663\"}}, \"paper_bgcolor\": \"#F5F6F9\", \"plot_bgcolor\": \"#F5F6F9\", \"template\": {\"data\": {\"bar\": [{\"error_x\": {\"color\": \"#2a3f5f\"}, \"error_y\": {\"color\": \"#2a3f5f\"}, \"marker\": {\"line\": {\"color\": \"#E5ECF6\", \"width\": 0.5}}, \"type\": \"bar\"}], \"barpolar\": [{\"marker\": {\"line\": {\"color\": \"#E5ECF6\", \"width\": 0.5}}, \"type\": \"barpolar\"}], \"carpet\": [{\"aaxis\": {\"endlinecolor\": \"#2a3f5f\", \"gridcolor\": \"white\", \"linecolor\": \"white\", \"minorgridcolor\": \"white\", \"startlinecolor\": \"#2a3f5f\"}, \"baxis\": {\"endlinecolor\": \"#2a3f5f\", \"gridcolor\": \"white\", \"linecolor\": \"white\", \"minorgridcolor\": \"white\", \"startlinecolor\": \"#2a3f5f\"}, \"type\": \"carpet\"}], \"choropleth\": [{\"colorbar\": {\"outlinewidth\": 0, \"ticks\": \"\"}, \"type\": \"choropleth\"}], \"contour\": [{\"colorbar\": {\"outlinewidth\": 0, \"ticks\": \"\"}, \"colorscale\": [[0.0, \"#0d0887\"], [0.1111111111111111, \"#46039f\"], [0.2222222222222222, \"#7201a8\"], [0.3333333333333333, \"#9c179e\"], [0.4444444444444444, \"#bd3786\"], [0.5555555555555556, \"#d8576b\"], [0.6666666666666666, \"#ed7953\"], [0.7777777777777778, \"#fb9f3a\"], [0.8888888888888888, \"#fdca26\"], [1.0, \"#f0f921\"]], \"type\": \"contour\"}], \"contourcarpet\": [{\"colorbar\": {\"outlinewidth\": 0, \"ticks\": \"\"}, \"type\": \"contourcarpet\"}], \"heatmap\": [{\"colorbar\": {\"outlinewidth\": 0, \"ticks\": \"\"}, \"colorscale\": [[0.0, \"#0d0887\"], [0.1111111111111111, \"#46039f\"], [0.2222222222222222, \"#7201a8\"], [0.3333333333333333, \"#9c179e\"], [0.4444444444444444, \"#bd3786\"], [0.5555555555555556, \"#d8576b\"], [0.6666666666666666, \"#ed7953\"], [0.7777777777777778, \"#fb9f3a\"], [0.8888888888888888, \"#fdca26\"], [1.0, \"#f0f921\"]], \"type\": \"heatmap\"}], \"heatmapgl\": [{\"colorbar\": {\"outlinewidth\": 0, \"ticks\": \"\"}, \"colorscale\": [[0.0, \"#0d0887\"], [0.1111111111111111, \"#46039f\"], [0.2222222222222222, \"#7201a8\"], [0.3333333333333333, \"#9c179e\"], [0.4444444444444444, \"#bd3786\"], [0.5555555555555556, \"#d8576b\"], [0.6666666666666666, \"#ed7953\"], [0.7777777777777778, \"#fb9f3a\"], [0.8888888888888888, \"#fdca26\"], [1.0, \"#f0f921\"]], \"type\": \"heatmapgl\"}], \"histogram\": [{\"marker\": {\"colorbar\": {\"outlinewidth\": 0, \"ticks\": \"\"}}, \"type\": \"histogram\"}], \"histogram2d\": [{\"colorbar\": {\"outlinewidth\": 0, \"ticks\": \"\"}, \"colorscale\": [[0.0, \"#0d0887\"], [0.1111111111111111, \"#46039f\"], [0.2222222222222222, \"#7201a8\"], [0.3333333333333333, \"#9c179e\"], [0.4444444444444444, \"#bd3786\"], [0.5555555555555556, \"#d8576b\"], [0.6666666666666666, \"#ed7953\"], [0.7777777777777778, \"#fb9f3a\"], [0.8888888888888888, \"#fdca26\"], [1.0, \"#f0f921\"]], \"type\": \"histogram2d\"}], \"histogram2dcontour\": [{\"colorbar\": {\"outlinewidth\": 0, \"ticks\": \"\"}, \"colorscale\": [[0.0, \"#0d0887\"], [0.1111111111111111, \"#46039f\"], [0.2222222222222222, \"#7201a8\"], [0.3333333333333333, \"#9c179e\"], [0.4444444444444444, \"#bd3786\"], [0.5555555555555556, \"#d8576b\"], [0.6666666666666666, \"#ed7953\"], [0.7777777777777778, \"#fb9f3a\"], [0.8888888888888888, \"#fdca26\"], [1.0, \"#f0f921\"]], \"type\": \"histogram2dcontour\"}], \"mesh3d\": [{\"colorbar\": {\"outlinewidth\": 0, \"ticks\": \"\"}, \"type\": \"mesh3d\"}], \"parcoords\": [{\"line\": {\"colorbar\": {\"outlinewidth\": 0, \"ticks\": \"\"}}, \"type\": \"parcoords\"}], \"pie\": [{\"automargin\": true, \"type\": \"pie\"}], \"scatter\": [{\"marker\": {\"colorbar\": {\"outlinewidth\": 0, \"ticks\": \"\"}}, \"type\": \"scatter\"}], \"scatter3d\": [{\"line\": {\"colorbar\": {\"outlinewidth\": 0, \"ticks\": \"\"}}, \"marker\": {\"colorbar\": {\"outlinewidth\": 0, \"ticks\": \"\"}}, \"type\": \"scatter3d\"}], \"scattercarpet\": [{\"marker\": {\"colorbar\": {\"outlinewidth\": 0, \"ticks\": \"\"}}, \"type\": \"scattercarpet\"}], \"scattergeo\": [{\"marker\": {\"colorbar\": {\"outlinewidth\": 0, \"ticks\": \"\"}}, \"type\": \"scattergeo\"}], \"scattergl\": [{\"marker\": {\"colorbar\": {\"outlinewidth\": 0, \"ticks\": \"\"}}, \"type\": \"scattergl\"}], \"scattermapbox\": [{\"marker\": {\"colorbar\": {\"outlinewidth\": 0, \"ticks\": \"\"}}, \"type\": \"scattermapbox\"}], \"scatterpolar\": [{\"marker\": {\"colorbar\": {\"outlinewidth\": 0, \"ticks\": \"\"}}, \"type\": \"scatterpolar\"}], \"scatterpolargl\": [{\"marker\": {\"colorbar\": {\"outlinewidth\": 0, \"ticks\": \"\"}}, \"type\": \"scatterpolargl\"}], \"scatterternary\": [{\"marker\": {\"colorbar\": {\"outlinewidth\": 0, \"ticks\": \"\"}}, \"type\": \"scatterternary\"}], \"surface\": [{\"colorbar\": {\"outlinewidth\": 0, \"ticks\": \"\"}, \"colorscale\": [[0.0, \"#0d0887\"], [0.1111111111111111, \"#46039f\"], [0.2222222222222222, \"#7201a8\"], [0.3333333333333333, \"#9c179e\"], [0.4444444444444444, \"#bd3786\"], [0.5555555555555556, \"#d8576b\"], [0.6666666666666666, \"#ed7953\"], [0.7777777777777778, \"#fb9f3a\"], [0.8888888888888888, \"#fdca26\"], [1.0, \"#f0f921\"]], \"type\": \"surface\"}], \"table\": [{\"cells\": {\"fill\": {\"color\": \"#EBF0F8\"}, \"line\": {\"color\": \"white\"}}, \"header\": {\"fill\": {\"color\": \"#C8D4E3\"}, \"line\": {\"color\": \"white\"}}, \"type\": \"table\"}]}, \"layout\": {\"annotationdefaults\": {\"arrowcolor\": \"#2a3f5f\", \"arrowhead\": 0, \"arrowwidth\": 1}, \"coloraxis\": {\"colorbar\": {\"outlinewidth\": 0, \"ticks\": \"\"}}, \"colorscale\": {\"diverging\": [[0, \"#8e0152\"], [0.1, \"#c51b7d\"], [0.2, \"#de77ae\"], [0.3, \"#f1b6da\"], [0.4, \"#fde0ef\"], [0.5, \"#f7f7f7\"], [0.6, \"#e6f5d0\"], [0.7, \"#b8e186\"], [0.8, \"#7fbc41\"], [0.9, \"#4d9221\"], [1, \"#276419\"]], \"sequential\": [[0.0, \"#0d0887\"], [0.1111111111111111, \"#46039f\"], [0.2222222222222222, \"#7201a8\"], [0.3333333333333333, \"#9c179e\"], [0.4444444444444444, \"#bd3786\"], [0.5555555555555556, \"#d8576b\"], [0.6666666666666666, \"#ed7953\"], [0.7777777777777778, \"#fb9f3a\"], [0.8888888888888888, \"#fdca26\"], [1.0, \"#f0f921\"]], \"sequentialminus\": [[0.0, \"#0d0887\"], [0.1111111111111111, \"#46039f\"], [0.2222222222222222, \"#7201a8\"], [0.3333333333333333, \"#9c179e\"], [0.4444444444444444, \"#bd3786\"], [0.5555555555555556, \"#d8576b\"], [0.6666666666666666, \"#ed7953\"], [0.7777777777777778, \"#fb9f3a\"], [0.8888888888888888, \"#fdca26\"], [1.0, \"#f0f921\"]]}, \"colorway\": [\"#636efa\", \"#EF553B\", \"#00cc96\", \"#ab63fa\", \"#FFA15A\", \"#19d3f3\", \"#FF6692\", \"#B6E880\", \"#FF97FF\", \"#FECB52\"], \"font\": {\"color\": \"#2a3f5f\"}, \"geo\": {\"bgcolor\": \"white\", \"lakecolor\": \"white\", \"landcolor\": \"#E5ECF6\", \"showlakes\": true, \"showland\": true, \"subunitcolor\": \"white\"}, \"hoverlabel\": {\"align\": \"left\"}, \"hovermode\": \"closest\", \"mapbox\": {\"style\": \"light\"}, \"paper_bgcolor\": \"white\", \"plot_bgcolor\": \"#E5ECF6\", \"polar\": {\"angularaxis\": {\"gridcolor\": \"white\", \"linecolor\": \"white\", \"ticks\": \"\"}, \"bgcolor\": \"#E5ECF6\", \"radialaxis\": {\"gridcolor\": \"white\", \"linecolor\": \"white\", \"ticks\": \"\"}}, \"scene\": {\"xaxis\": {\"backgroundcolor\": \"#E5ECF6\", \"gridcolor\": \"white\", \"gridwidth\": 2, \"linecolor\": \"white\", \"showbackground\": true, \"ticks\": \"\", \"zerolinecolor\": \"white\"}, \"yaxis\": {\"backgroundcolor\": \"#E5ECF6\", \"gridcolor\": \"white\", \"gridwidth\": 2, \"linecolor\": \"white\", \"showbackground\": true, \"ticks\": \"\", \"zerolinecolor\": \"white\"}, \"zaxis\": {\"backgroundcolor\": \"#E5ECF6\", \"gridcolor\": \"white\", \"gridwidth\": 2, \"linecolor\": \"white\", \"showbackground\": true, \"ticks\": \"\", \"zerolinecolor\": \"white\"}}, \"shapedefaults\": {\"line\": {\"color\": \"#2a3f5f\"}}, \"ternary\": {\"aaxis\": {\"gridcolor\": \"white\", \"linecolor\": \"white\", \"ticks\": \"\"}, \"baxis\": {\"gridcolor\": \"white\", \"linecolor\": \"white\", \"ticks\": \"\"}, \"bgcolor\": \"#E5ECF6\", \"caxis\": {\"gridcolor\": \"white\", \"linecolor\": \"white\", \"ticks\": \"\"}}, \"title\": {\"x\": 0.05}, \"xaxis\": {\"automargin\": true, \"gridcolor\": \"white\", \"linecolor\": \"white\", \"ticks\": \"\", \"title\": {\"standoff\": 15}, \"zerolinecolor\": \"white\", \"zerolinewidth\": 2}, \"yaxis\": {\"automargin\": true, \"gridcolor\": \"white\", \"linecolor\": \"white\", \"ticks\": \"\", \"title\": {\"standoff\": 15}, \"zerolinecolor\": \"white\", \"zerolinewidth\": 2}}}, \"title\": {\"font\": {\"color\": \"#4D5663\"}}, \"xaxis\": {\"gridcolor\": \"#E1E5ED\", \"showgrid\": true, \"tickfont\": {\"color\": \"#4D5663\"}, \"title\": {\"font\": {\"color\": \"#4D5663\"}, \"text\": \"\"}, \"zerolinecolor\": \"#E1E5ED\"}, \"yaxis\": {\"gridcolor\": \"#E1E5ED\", \"showgrid\": true, \"tickfont\": {\"color\": \"#4D5663\"}, \"title\": {\"font\": {\"color\": \"#4D5663\"}, \"text\": \"\"}, \"zerolinecolor\": \"#E1E5ED\"}},\n",
       "                        {\"showLink\": true, \"linkText\": \"Export to plot.ly\", \"plotlyServerURL\": \"https://plot.ly\", \"responsive\": true}\n",
       "                    ).then(function(){\n",
       "                            \n",
       "var gd = document.getElementById('393798de-b731-475a-9716-da22903de72b');\n",
       "var x = new MutationObserver(function (mutations, observer) {{\n",
       "        var display = window.getComputedStyle(gd).display;\n",
       "        if (!display || display === 'none') {{\n",
       "            console.log([gd, 'removed!']);\n",
       "            Plotly.purge(gd);\n",
       "            observer.disconnect();\n",
       "        }}\n",
       "}});\n",
       "\n",
       "// Listen for the removal of the full notebook cells\n",
       "var notebookContainer = gd.closest('#notebook-container');\n",
       "if (notebookContainer) {{\n",
       "    x.observe(notebookContainer, {childList: true});\n",
       "}}\n",
       "\n",
       "// Listen for the clearing of the current output cell\n",
       "var outputEl = gd.closest('.output');\n",
       "if (outputEl) {{\n",
       "    x.observe(outputEl, {childList: true});\n",
       "}}\n",
       "\n",
       "                        })\n",
       "                };\n",
       "                });\n",
       "            </script>\n",
       "        </div>"
      ]
     },
     "metadata": {},
     "output_type": "display_data"
    }
   ],
   "source": [
    "df['A'].iplot(kind='hist',bins=25)"
   ]
  },
  {
   "cell_type": "code",
   "execution_count": 21,
   "metadata": {},
   "outputs": [
    {
     "data": {
      "application/vnd.plotly.v1+json": {
       "config": {
        "linkText": "Export to plot.ly",
        "plotlyServerURL": "https://plot.ly",
        "showLink": true
       },
       "data": [
        {
         "marker": {
          "color": [
           "rgb(255, 153, 51)",
           "rgb(55, 128, 191)",
           "rgb(50, 171, 96)",
           "rgb(128, 0, 128)",
           "rgb(219, 64, 82)",
           "rgb(0, 128, 128)",
           "rgb(255, 255, 51)",
           "rgb(128, 128, 0)",
           "rgb(251, 128, 114)",
           "rgb(128, 177, 211)"
          ],
          "line": {
           "width": 1.3
          },
          "size": [
           64,
           63,
           86,
           63,
           30,
           52,
           40,
           81,
           46,
           49,
           43,
           47,
           69,
           57,
           40,
           47,
           104,
           107,
           45,
           69,
           45,
           65,
           107,
           38,
           30,
           16,
           86,
           61,
           37,
           83,
           80,
           76,
           53,
           74,
           15,
           92,
           42,
           106,
           80,
           63,
           97,
           51,
           67,
           53,
           65,
           38,
           78,
           23,
           66,
           86,
           62,
           71,
           64,
           49,
           84,
           63,
           62,
           20,
           93,
           45,
           71,
           39,
           72,
           57,
           59,
           67,
           73,
           12,
           35,
           49,
           63,
           79,
           12,
           91,
           59,
           53,
           44,
           58,
           64,
           39,
           53,
           59,
           63,
           49,
           91,
           25,
           112,
           79,
           40,
           65,
           88,
           74,
           53,
           87,
           53,
           24,
           66,
           66,
           32,
           106
          ],
          "symbol": "circle"
         },
         "mode": "markers",
         "text": "",
         "type": "scatter",
         "x": [
          -1.7375580925953535,
          2.9798425210708013,
          -1.0545567985659783,
          0.43389954846861545,
          0.8589522332349308,
          -0.3616114246746602,
          0.08129228111193294,
          -0.03170409927917186,
          -0.07583003895429322,
          -0.6170785337602537,
          0.42007342224209826,
          0.7540336618917531,
          -1.6267688839452992,
          -0.08424646600581756,
          1.0709970757483533,
          0.5344614223479325,
          0.5216582988407987,
          0.2902307834729736,
          0.7713333875300337,
          0.09970764861362018,
          -0.41312988541264173,
          0.23725117555436426,
          0.45540014559384057,
          1.3437792550907464,
          1.6371399457193123,
          -0.23440245785819436,
          -0.48637618154310797,
          -0.579834773798158,
          0.8680435160846539,
          0.7551041963764679,
          -0.08772136484334801,
          0.23371341703090623,
          -1.888646992185423,
          0.5940755907760089,
          1.163188230279187,
          -0.3558795302103094,
          0.4718600454918289,
          -0.35910477190998,
          0.061048874961931045,
          -0.8558643812248122,
          -1.5357472961911194,
          -0.8504932576852609,
          -0.6133178054476308,
          0.9491908322184918,
          0.1776564608865159,
          -0.5718821378304894,
          1.65243316834657,
          -0.11087061947532537,
          0.4910980324309401,
          1.0764950552633994,
          -1.975933995127861,
          0.718412236621663,
          1.0187483843386271,
          -0.4126656589335081,
          -0.5094811755581428,
          1.7238104909238607,
          1.0072177937726334,
          -0.9928195231370098,
          -0.004184549781906393,
          -2.206243361106769,
          -0.34148567476745917,
          -0.3599903270515361,
          0.2785410168023459,
          0.8266359753344356,
          -1.3400718186115126,
          -0.71604405770814,
          -0.9467350650309536,
          1.7565657592263497,
          -1.3808407040749415,
          0.8249918219638933,
          0.5923865214093382,
          0.5489722527089953,
          0.2510612143960188,
          0.5770236369391516,
          -0.9603380055434259,
          2.204799410979961,
          0.41105016526569715,
          0.683944392199121,
          -0.11000348830948538,
          0.6414176378270837,
          1.0266347930797186,
          -1.388195851084029,
          0.8182178748924435,
          -1.3204232028558036,
          -0.5545671097481487,
          0.4039389218568765,
          2.202724388868758,
          -0.9633456260593918,
          -0.21789950334872957,
          -0.22701260850651195,
          1.1924378269478273,
          -0.7278425474496786,
          0.004091598726279457,
          0.7057661322179745,
          1.5454160265945245,
          -0.8387144737436726,
          -0.9116345050477735,
          0.22195334624997998,
          -0.28163161499145284,
          -1.2385386113755583
         ],
         "y": [
          -0.6134635286282765,
          -0.5893938086424193,
          0.08133950161229865,
          0.5398200529846118,
          -1.286750376942333,
          -0.6788265991475018,
          0.6422798598704085,
          -1.1326000096188251,
          -1.4089405831255573,
          -0.1696111304011945,
          -0.8359408788600723,
          -0.056670528140848435,
          -0.10987441558624364,
          1.2252867700864356,
          0.9736400059389726,
          -0.8950702416491216,
          0.5849635299220757,
          -0.5591568492862687,
          1.093907468885399,
          -0.04032620964770699,
          -1.8570080445362416,
          1.063435867461458,
          0.30940121247962055,
          0.20356504119969962,
          0.5413491586427932,
          -0.9985516843900909,
          -0.38598464007661815,
          -2.470204057674452,
          -1.5660784847207427,
          0.6995069319307801,
          0.16873701963464874,
          -2.0917394748944713,
          -0.7018420852463064,
          -0.5091045350909177,
          0.5365362801017167,
          0.268070152134566,
          0.16998613045411123,
          -0.2814630034389793,
          -0.6881656758762982,
          0.3353977553560339,
          -0.4122357782615829,
          0.0713069113135744,
          0.5152980887432727,
          0.1173874661122881,
          0.6291036361334134,
          -0.6239223136538199,
          -0.7908673470758846,
          -0.20854907806217174,
          -0.7554356412524142,
          0.5691658659371732,
          0.4872906627660704,
          -0.6568931090902709,
          -1.4697893098691848,
          0.7939963167521176,
          -0.5037514809518796,
          0.6925055921857803,
          -0.6636143919009947,
          -1.1972565402094348,
          0.7669709172631989,
          0.01664548860746999,
          -0.6201746376242857,
          0.18102028476958157,
          -1.3667500115858608,
          0.016728165945960598,
          1.4575891285742022,
          1.2241908183776857,
          -0.5199035148221082,
          0.9460580315295726,
          -0.24901303381143025,
          -1.1865166471453603,
          1.0594004271570268,
          -0.2271596090232071,
          -0.05009216598693693,
          -0.8742984971963792,
          -1.1035731765413361,
          1.5995978451621455,
          0.07624149161800622,
          -2.056466491887705,
          0.30959943849236954,
          0.5178775860951798,
          -0.10432507962391788,
          -0.17333177878384695,
          0.07609787115295705,
          -0.24644274238062452,
          -0.9241119671704282,
          -0.3624764326414089,
          -1.7236405281460883,
          0.4343231101268886,
          -0.15107912354535877,
          0.36364520144806667,
          -0.45587589815606516,
          -0.6584898542975601,
          -0.15310964482626382,
          0.13819890641935403,
          1.2455627682266015,
          1.8450891467052408,
          -0.616506351567455,
          0.954727000301093,
          -0.7673822279347278,
          -0.5754065115109609
         ]
        }
       ],
       "layout": {
        "legend": {
         "bgcolor": "#F5F6F9",
         "font": {
          "color": "#4D5663"
         }
        },
        "paper_bgcolor": "#F5F6F9",
        "plot_bgcolor": "#F5F6F9",
        "template": {
         "data": {
          "bar": [
           {
            "error_x": {
             "color": "#2a3f5f"
            },
            "error_y": {
             "color": "#2a3f5f"
            },
            "marker": {
             "line": {
              "color": "#E5ECF6",
              "width": 0.5
             }
            },
            "type": "bar"
           }
          ],
          "barpolar": [
           {
            "marker": {
             "line": {
              "color": "#E5ECF6",
              "width": 0.5
             }
            },
            "type": "barpolar"
           }
          ],
          "carpet": [
           {
            "aaxis": {
             "endlinecolor": "#2a3f5f",
             "gridcolor": "white",
             "linecolor": "white",
             "minorgridcolor": "white",
             "startlinecolor": "#2a3f5f"
            },
            "baxis": {
             "endlinecolor": "#2a3f5f",
             "gridcolor": "white",
             "linecolor": "white",
             "minorgridcolor": "white",
             "startlinecolor": "#2a3f5f"
            },
            "type": "carpet"
           }
          ],
          "choropleth": [
           {
            "colorbar": {
             "outlinewidth": 0,
             "ticks": ""
            },
            "type": "choropleth"
           }
          ],
          "contour": [
           {
            "colorbar": {
             "outlinewidth": 0,
             "ticks": ""
            },
            "colorscale": [
             [
              0,
              "#0d0887"
             ],
             [
              0.1111111111111111,
              "#46039f"
             ],
             [
              0.2222222222222222,
              "#7201a8"
             ],
             [
              0.3333333333333333,
              "#9c179e"
             ],
             [
              0.4444444444444444,
              "#bd3786"
             ],
             [
              0.5555555555555556,
              "#d8576b"
             ],
             [
              0.6666666666666666,
              "#ed7953"
             ],
             [
              0.7777777777777778,
              "#fb9f3a"
             ],
             [
              0.8888888888888888,
              "#fdca26"
             ],
             [
              1,
              "#f0f921"
             ]
            ],
            "type": "contour"
           }
          ],
          "contourcarpet": [
           {
            "colorbar": {
             "outlinewidth": 0,
             "ticks": ""
            },
            "type": "contourcarpet"
           }
          ],
          "heatmap": [
           {
            "colorbar": {
             "outlinewidth": 0,
             "ticks": ""
            },
            "colorscale": [
             [
              0,
              "#0d0887"
             ],
             [
              0.1111111111111111,
              "#46039f"
             ],
             [
              0.2222222222222222,
              "#7201a8"
             ],
             [
              0.3333333333333333,
              "#9c179e"
             ],
             [
              0.4444444444444444,
              "#bd3786"
             ],
             [
              0.5555555555555556,
              "#d8576b"
             ],
             [
              0.6666666666666666,
              "#ed7953"
             ],
             [
              0.7777777777777778,
              "#fb9f3a"
             ],
             [
              0.8888888888888888,
              "#fdca26"
             ],
             [
              1,
              "#f0f921"
             ]
            ],
            "type": "heatmap"
           }
          ],
          "heatmapgl": [
           {
            "colorbar": {
             "outlinewidth": 0,
             "ticks": ""
            },
            "colorscale": [
             [
              0,
              "#0d0887"
             ],
             [
              0.1111111111111111,
              "#46039f"
             ],
             [
              0.2222222222222222,
              "#7201a8"
             ],
             [
              0.3333333333333333,
              "#9c179e"
             ],
             [
              0.4444444444444444,
              "#bd3786"
             ],
             [
              0.5555555555555556,
              "#d8576b"
             ],
             [
              0.6666666666666666,
              "#ed7953"
             ],
             [
              0.7777777777777778,
              "#fb9f3a"
             ],
             [
              0.8888888888888888,
              "#fdca26"
             ],
             [
              1,
              "#f0f921"
             ]
            ],
            "type": "heatmapgl"
           }
          ],
          "histogram": [
           {
            "marker": {
             "colorbar": {
              "outlinewidth": 0,
              "ticks": ""
             }
            },
            "type": "histogram"
           }
          ],
          "histogram2d": [
           {
            "colorbar": {
             "outlinewidth": 0,
             "ticks": ""
            },
            "colorscale": [
             [
              0,
              "#0d0887"
             ],
             [
              0.1111111111111111,
              "#46039f"
             ],
             [
              0.2222222222222222,
              "#7201a8"
             ],
             [
              0.3333333333333333,
              "#9c179e"
             ],
             [
              0.4444444444444444,
              "#bd3786"
             ],
             [
              0.5555555555555556,
              "#d8576b"
             ],
             [
              0.6666666666666666,
              "#ed7953"
             ],
             [
              0.7777777777777778,
              "#fb9f3a"
             ],
             [
              0.8888888888888888,
              "#fdca26"
             ],
             [
              1,
              "#f0f921"
             ]
            ],
            "type": "histogram2d"
           }
          ],
          "histogram2dcontour": [
           {
            "colorbar": {
             "outlinewidth": 0,
             "ticks": ""
            },
            "colorscale": [
             [
              0,
              "#0d0887"
             ],
             [
              0.1111111111111111,
              "#46039f"
             ],
             [
              0.2222222222222222,
              "#7201a8"
             ],
             [
              0.3333333333333333,
              "#9c179e"
             ],
             [
              0.4444444444444444,
              "#bd3786"
             ],
             [
              0.5555555555555556,
              "#d8576b"
             ],
             [
              0.6666666666666666,
              "#ed7953"
             ],
             [
              0.7777777777777778,
              "#fb9f3a"
             ],
             [
              0.8888888888888888,
              "#fdca26"
             ],
             [
              1,
              "#f0f921"
             ]
            ],
            "type": "histogram2dcontour"
           }
          ],
          "mesh3d": [
           {
            "colorbar": {
             "outlinewidth": 0,
             "ticks": ""
            },
            "type": "mesh3d"
           }
          ],
          "parcoords": [
           {
            "line": {
             "colorbar": {
              "outlinewidth": 0,
              "ticks": ""
             }
            },
            "type": "parcoords"
           }
          ],
          "pie": [
           {
            "automargin": true,
            "type": "pie"
           }
          ],
          "scatter": [
           {
            "marker": {
             "colorbar": {
              "outlinewidth": 0,
              "ticks": ""
             }
            },
            "type": "scatter"
           }
          ],
          "scatter3d": [
           {
            "line": {
             "colorbar": {
              "outlinewidth": 0,
              "ticks": ""
             }
            },
            "marker": {
             "colorbar": {
              "outlinewidth": 0,
              "ticks": ""
             }
            },
            "type": "scatter3d"
           }
          ],
          "scattercarpet": [
           {
            "marker": {
             "colorbar": {
              "outlinewidth": 0,
              "ticks": ""
             }
            },
            "type": "scattercarpet"
           }
          ],
          "scattergeo": [
           {
            "marker": {
             "colorbar": {
              "outlinewidth": 0,
              "ticks": ""
             }
            },
            "type": "scattergeo"
           }
          ],
          "scattergl": [
           {
            "marker": {
             "colorbar": {
              "outlinewidth": 0,
              "ticks": ""
             }
            },
            "type": "scattergl"
           }
          ],
          "scattermapbox": [
           {
            "marker": {
             "colorbar": {
              "outlinewidth": 0,
              "ticks": ""
             }
            },
            "type": "scattermapbox"
           }
          ],
          "scatterpolar": [
           {
            "marker": {
             "colorbar": {
              "outlinewidth": 0,
              "ticks": ""
             }
            },
            "type": "scatterpolar"
           }
          ],
          "scatterpolargl": [
           {
            "marker": {
             "colorbar": {
              "outlinewidth": 0,
              "ticks": ""
             }
            },
            "type": "scatterpolargl"
           }
          ],
          "scatterternary": [
           {
            "marker": {
             "colorbar": {
              "outlinewidth": 0,
              "ticks": ""
             }
            },
            "type": "scatterternary"
           }
          ],
          "surface": [
           {
            "colorbar": {
             "outlinewidth": 0,
             "ticks": ""
            },
            "colorscale": [
             [
              0,
              "#0d0887"
             ],
             [
              0.1111111111111111,
              "#46039f"
             ],
             [
              0.2222222222222222,
              "#7201a8"
             ],
             [
              0.3333333333333333,
              "#9c179e"
             ],
             [
              0.4444444444444444,
              "#bd3786"
             ],
             [
              0.5555555555555556,
              "#d8576b"
             ],
             [
              0.6666666666666666,
              "#ed7953"
             ],
             [
              0.7777777777777778,
              "#fb9f3a"
             ],
             [
              0.8888888888888888,
              "#fdca26"
             ],
             [
              1,
              "#f0f921"
             ]
            ],
            "type": "surface"
           }
          ],
          "table": [
           {
            "cells": {
             "fill": {
              "color": "#EBF0F8"
             },
             "line": {
              "color": "white"
             }
            },
            "header": {
             "fill": {
              "color": "#C8D4E3"
             },
             "line": {
              "color": "white"
             }
            },
            "type": "table"
           }
          ]
         },
         "layout": {
          "annotationdefaults": {
           "arrowcolor": "#2a3f5f",
           "arrowhead": 0,
           "arrowwidth": 1
          },
          "coloraxis": {
           "colorbar": {
            "outlinewidth": 0,
            "ticks": ""
           }
          },
          "colorscale": {
           "diverging": [
            [
             0,
             "#8e0152"
            ],
            [
             0.1,
             "#c51b7d"
            ],
            [
             0.2,
             "#de77ae"
            ],
            [
             0.3,
             "#f1b6da"
            ],
            [
             0.4,
             "#fde0ef"
            ],
            [
             0.5,
             "#f7f7f7"
            ],
            [
             0.6,
             "#e6f5d0"
            ],
            [
             0.7,
             "#b8e186"
            ],
            [
             0.8,
             "#7fbc41"
            ],
            [
             0.9,
             "#4d9221"
            ],
            [
             1,
             "#276419"
            ]
           ],
           "sequential": [
            [
             0,
             "#0d0887"
            ],
            [
             0.1111111111111111,
             "#46039f"
            ],
            [
             0.2222222222222222,
             "#7201a8"
            ],
            [
             0.3333333333333333,
             "#9c179e"
            ],
            [
             0.4444444444444444,
             "#bd3786"
            ],
            [
             0.5555555555555556,
             "#d8576b"
            ],
            [
             0.6666666666666666,
             "#ed7953"
            ],
            [
             0.7777777777777778,
             "#fb9f3a"
            ],
            [
             0.8888888888888888,
             "#fdca26"
            ],
            [
             1,
             "#f0f921"
            ]
           ],
           "sequentialminus": [
            [
             0,
             "#0d0887"
            ],
            [
             0.1111111111111111,
             "#46039f"
            ],
            [
             0.2222222222222222,
             "#7201a8"
            ],
            [
             0.3333333333333333,
             "#9c179e"
            ],
            [
             0.4444444444444444,
             "#bd3786"
            ],
            [
             0.5555555555555556,
             "#d8576b"
            ],
            [
             0.6666666666666666,
             "#ed7953"
            ],
            [
             0.7777777777777778,
             "#fb9f3a"
            ],
            [
             0.8888888888888888,
             "#fdca26"
            ],
            [
             1,
             "#f0f921"
            ]
           ]
          },
          "colorway": [
           "#636efa",
           "#EF553B",
           "#00cc96",
           "#ab63fa",
           "#FFA15A",
           "#19d3f3",
           "#FF6692",
           "#B6E880",
           "#FF97FF",
           "#FECB52"
          ],
          "font": {
           "color": "#2a3f5f"
          },
          "geo": {
           "bgcolor": "white",
           "lakecolor": "white",
           "landcolor": "#E5ECF6",
           "showlakes": true,
           "showland": true,
           "subunitcolor": "white"
          },
          "hoverlabel": {
           "align": "left"
          },
          "hovermode": "closest",
          "mapbox": {
           "style": "light"
          },
          "paper_bgcolor": "white",
          "plot_bgcolor": "#E5ECF6",
          "polar": {
           "angularaxis": {
            "gridcolor": "white",
            "linecolor": "white",
            "ticks": ""
           },
           "bgcolor": "#E5ECF6",
           "radialaxis": {
            "gridcolor": "white",
            "linecolor": "white",
            "ticks": ""
           }
          },
          "scene": {
           "xaxis": {
            "backgroundcolor": "#E5ECF6",
            "gridcolor": "white",
            "gridwidth": 2,
            "linecolor": "white",
            "showbackground": true,
            "ticks": "",
            "zerolinecolor": "white"
           },
           "yaxis": {
            "backgroundcolor": "#E5ECF6",
            "gridcolor": "white",
            "gridwidth": 2,
            "linecolor": "white",
            "showbackground": true,
            "ticks": "",
            "zerolinecolor": "white"
           },
           "zaxis": {
            "backgroundcolor": "#E5ECF6",
            "gridcolor": "white",
            "gridwidth": 2,
            "linecolor": "white",
            "showbackground": true,
            "ticks": "",
            "zerolinecolor": "white"
           }
          },
          "shapedefaults": {
           "line": {
            "color": "#2a3f5f"
           }
          },
          "ternary": {
           "aaxis": {
            "gridcolor": "white",
            "linecolor": "white",
            "ticks": ""
           },
           "baxis": {
            "gridcolor": "white",
            "linecolor": "white",
            "ticks": ""
           },
           "bgcolor": "#E5ECF6",
           "caxis": {
            "gridcolor": "white",
            "linecolor": "white",
            "ticks": ""
           }
          },
          "title": {
           "x": 0.05
          },
          "xaxis": {
           "automargin": true,
           "gridcolor": "white",
           "linecolor": "white",
           "ticks": "",
           "title": {
            "standoff": 15
           },
           "zerolinecolor": "white",
           "zerolinewidth": 2
          },
          "yaxis": {
           "automargin": true,
           "gridcolor": "white",
           "linecolor": "white",
           "ticks": "",
           "title": {
            "standoff": 15
           },
           "zerolinecolor": "white",
           "zerolinewidth": 2
          }
         }
        },
        "title": {
         "font": {
          "color": "#4D5663"
         }
        },
        "xaxis": {
         "gridcolor": "#E1E5ED",
         "showgrid": true,
         "tickfont": {
          "color": "#4D5663"
         },
         "title": {
          "font": {
           "color": "#4D5663"
          },
          "text": ""
         },
         "zerolinecolor": "#E1E5ED"
        },
        "yaxis": {
         "gridcolor": "#E1E5ED",
         "showgrid": true,
         "tickfont": {
          "color": "#4D5663"
         },
         "title": {
          "font": {
           "color": "#4D5663"
          },
          "text": ""
         },
         "zerolinecolor": "#E1E5ED"
        }
       }
      },
      "text/html": [
       "<div>\n",
       "        \n",
       "        \n",
       "            <div id=\"b6097266-e90b-446c-b1b3-1145ab352be9\" class=\"plotly-graph-div\" style=\"height:525px; width:100%;\"></div>\n",
       "            <script type=\"text/javascript\">\n",
       "                require([\"plotly\"], function(Plotly) {\n",
       "                    window.PLOTLYENV=window.PLOTLYENV || {};\n",
       "                    window.PLOTLYENV.BASE_URL='https://plot.ly';\n",
       "                    \n",
       "                if (document.getElementById(\"b6097266-e90b-446c-b1b3-1145ab352be9\")) {\n",
       "                    Plotly.newPlot(\n",
       "                        'b6097266-e90b-446c-b1b3-1145ab352be9',\n",
       "                        [{\"marker\": {\"color\": [\"rgb(255, 153, 51)\", \"rgb(55, 128, 191)\", \"rgb(50, 171, 96)\", \"rgb(128, 0, 128)\", \"rgb(219, 64, 82)\", \"rgb(0, 128, 128)\", \"rgb(255, 255, 51)\", \"rgb(128, 128, 0)\", \"rgb(251, 128, 114)\", \"rgb(128, 177, 211)\"], \"line\": {\"width\": 1.3}, \"size\": [64, 63, 86, 63, 30, 52, 40, 81, 46, 49, 43, 47, 69, 57, 40, 47, 104, 107, 45, 69, 45, 65, 107, 38, 30, 16, 86, 61, 37, 83, 80, 76, 53, 74, 15, 92, 42, 106, 80, 63, 97, 51, 67, 53, 65, 38, 78, 23, 66, 86, 62, 71, 64, 49, 84, 63, 62, 20, 93, 45, 71, 39, 72, 57, 59, 67, 73, 12, 35, 49, 63, 79, 12, 91, 59, 53, 44, 58, 64, 39, 53, 59, 63, 49, 91, 25, 112, 79, 40, 65, 88, 74, 53, 87, 53, 24, 66, 66, 32, 106], \"symbol\": \"circle\"}, \"mode\": \"markers\", \"text\": \"\", \"type\": \"scatter\", \"x\": [-1.7375580925953535, 2.9798425210708013, -1.0545567985659783, 0.43389954846861545, 0.8589522332349308, -0.3616114246746602, 0.08129228111193294, -0.03170409927917186, -0.07583003895429322, -0.6170785337602537, 0.42007342224209826, 0.7540336618917531, -1.6267688839452992, -0.08424646600581756, 1.0709970757483533, 0.5344614223479325, 0.5216582988407987, 0.2902307834729736, 0.7713333875300337, 0.09970764861362018, -0.41312988541264173, 0.23725117555436426, 0.45540014559384057, 1.3437792550907464, 1.6371399457193123, -0.23440245785819436, -0.48637618154310797, -0.579834773798158, 0.8680435160846539, 0.7551041963764679, -0.08772136484334801, 0.23371341703090623, -1.888646992185423, 0.5940755907760089, 1.163188230279187, -0.3558795302103094, 0.4718600454918289, -0.35910477190998, 0.061048874961931045, -0.8558643812248122, -1.5357472961911194, -0.8504932576852609, -0.6133178054476308, 0.9491908322184918, 0.1776564608865159, -0.5718821378304894, 1.65243316834657, -0.11087061947532537, 0.4910980324309401, 1.0764950552633994, -1.975933995127861, 0.718412236621663, 1.0187483843386271, -0.4126656589335081, -0.5094811755581428, 1.7238104909238607, 1.0072177937726334, -0.9928195231370098, -0.004184549781906393, -2.206243361106769, -0.34148567476745917, -0.3599903270515361, 0.2785410168023459, 0.8266359753344356, -1.3400718186115126, -0.71604405770814, -0.9467350650309536, 1.7565657592263497, -1.3808407040749415, 0.8249918219638933, 0.5923865214093382, 0.5489722527089953, 0.2510612143960188, 0.5770236369391516, -0.9603380055434259, 2.204799410979961, 0.41105016526569715, 0.683944392199121, -0.11000348830948538, 0.6414176378270837, 1.0266347930797186, -1.388195851084029, 0.8182178748924435, -1.3204232028558036, -0.5545671097481487, 0.4039389218568765, 2.202724388868758, -0.9633456260593918, -0.21789950334872957, -0.22701260850651195, 1.1924378269478273, -0.7278425474496786, 0.004091598726279457, 0.7057661322179745, 1.5454160265945245, -0.8387144737436726, -0.9116345050477735, 0.22195334624997998, -0.28163161499145284, -1.2385386113755583], \"y\": [-0.6134635286282765, -0.5893938086424193, 0.08133950161229865, 0.5398200529846118, -1.286750376942333, -0.6788265991475018, 0.6422798598704085, -1.1326000096188251, -1.4089405831255573, -0.1696111304011945, -0.8359408788600723, -0.056670528140848435, -0.10987441558624364, 1.2252867700864356, 0.9736400059389726, -0.8950702416491216, 0.5849635299220757, -0.5591568492862687, 1.093907468885399, -0.04032620964770699, -1.8570080445362416, 1.063435867461458, 0.30940121247962055, 0.20356504119969962, 0.5413491586427932, -0.9985516843900909, -0.38598464007661815, -2.470204057674452, -1.5660784847207427, 0.6995069319307801, 0.16873701963464874, -2.0917394748944713, -0.7018420852463064, -0.5091045350909177, 0.5365362801017167, 0.268070152134566, 0.16998613045411123, -0.2814630034389793, -0.6881656758762982, 0.3353977553560339, -0.4122357782615829, 0.0713069113135744, 0.5152980887432727, 0.1173874661122881, 0.6291036361334134, -0.6239223136538199, -0.7908673470758846, -0.20854907806217174, -0.7554356412524142, 0.5691658659371732, 0.4872906627660704, -0.6568931090902709, -1.4697893098691848, 0.7939963167521176, -0.5037514809518796, 0.6925055921857803, -0.6636143919009947, -1.1972565402094348, 0.7669709172631989, 0.01664548860746999, -0.6201746376242857, 0.18102028476958157, -1.3667500115858608, 0.016728165945960598, 1.4575891285742022, 1.2241908183776857, -0.5199035148221082, 0.9460580315295726, -0.24901303381143025, -1.1865166471453603, 1.0594004271570268, -0.2271596090232071, -0.05009216598693693, -0.8742984971963792, -1.1035731765413361, 1.5995978451621455, 0.07624149161800622, -2.056466491887705, 0.30959943849236954, 0.5178775860951798, -0.10432507962391788, -0.17333177878384695, 0.07609787115295705, -0.24644274238062452, -0.9241119671704282, -0.3624764326414089, -1.7236405281460883, 0.4343231101268886, -0.15107912354535877, 0.36364520144806667, -0.45587589815606516, -0.6584898542975601, -0.15310964482626382, 0.13819890641935403, 1.2455627682266015, 1.8450891467052408, -0.616506351567455, 0.954727000301093, -0.7673822279347278, -0.5754065115109609]}],\n",
       "                        {\"legend\": {\"bgcolor\": \"#F5F6F9\", \"font\": {\"color\": \"#4D5663\"}}, \"paper_bgcolor\": \"#F5F6F9\", \"plot_bgcolor\": \"#F5F6F9\", \"template\": {\"data\": {\"bar\": [{\"error_x\": {\"color\": \"#2a3f5f\"}, \"error_y\": {\"color\": \"#2a3f5f\"}, \"marker\": {\"line\": {\"color\": \"#E5ECF6\", \"width\": 0.5}}, \"type\": \"bar\"}], \"barpolar\": [{\"marker\": {\"line\": {\"color\": \"#E5ECF6\", \"width\": 0.5}}, \"type\": \"barpolar\"}], \"carpet\": [{\"aaxis\": {\"endlinecolor\": \"#2a3f5f\", \"gridcolor\": \"white\", \"linecolor\": \"white\", \"minorgridcolor\": \"white\", \"startlinecolor\": \"#2a3f5f\"}, \"baxis\": {\"endlinecolor\": \"#2a3f5f\", \"gridcolor\": \"white\", \"linecolor\": \"white\", \"minorgridcolor\": \"white\", \"startlinecolor\": \"#2a3f5f\"}, \"type\": \"carpet\"}], \"choropleth\": [{\"colorbar\": {\"outlinewidth\": 0, \"ticks\": \"\"}, \"type\": \"choropleth\"}], \"contour\": [{\"colorbar\": {\"outlinewidth\": 0, \"ticks\": \"\"}, \"colorscale\": [[0.0, \"#0d0887\"], [0.1111111111111111, \"#46039f\"], [0.2222222222222222, \"#7201a8\"], [0.3333333333333333, \"#9c179e\"], [0.4444444444444444, \"#bd3786\"], [0.5555555555555556, \"#d8576b\"], [0.6666666666666666, \"#ed7953\"], [0.7777777777777778, \"#fb9f3a\"], [0.8888888888888888, \"#fdca26\"], [1.0, \"#f0f921\"]], \"type\": \"contour\"}], \"contourcarpet\": [{\"colorbar\": {\"outlinewidth\": 0, \"ticks\": \"\"}, \"type\": \"contourcarpet\"}], \"heatmap\": [{\"colorbar\": {\"outlinewidth\": 0, \"ticks\": \"\"}, \"colorscale\": [[0.0, \"#0d0887\"], [0.1111111111111111, \"#46039f\"], [0.2222222222222222, \"#7201a8\"], [0.3333333333333333, \"#9c179e\"], [0.4444444444444444, \"#bd3786\"], [0.5555555555555556, \"#d8576b\"], [0.6666666666666666, \"#ed7953\"], [0.7777777777777778, \"#fb9f3a\"], [0.8888888888888888, \"#fdca26\"], [1.0, \"#f0f921\"]], \"type\": \"heatmap\"}], \"heatmapgl\": [{\"colorbar\": {\"outlinewidth\": 0, \"ticks\": \"\"}, \"colorscale\": [[0.0, \"#0d0887\"], [0.1111111111111111, \"#46039f\"], [0.2222222222222222, \"#7201a8\"], [0.3333333333333333, \"#9c179e\"], [0.4444444444444444, \"#bd3786\"], [0.5555555555555556, \"#d8576b\"], [0.6666666666666666, \"#ed7953\"], [0.7777777777777778, \"#fb9f3a\"], [0.8888888888888888, \"#fdca26\"], [1.0, \"#f0f921\"]], \"type\": \"heatmapgl\"}], \"histogram\": [{\"marker\": {\"colorbar\": {\"outlinewidth\": 0, \"ticks\": \"\"}}, \"type\": \"histogram\"}], \"histogram2d\": [{\"colorbar\": {\"outlinewidth\": 0, \"ticks\": \"\"}, \"colorscale\": [[0.0, \"#0d0887\"], [0.1111111111111111, \"#46039f\"], [0.2222222222222222, \"#7201a8\"], [0.3333333333333333, \"#9c179e\"], [0.4444444444444444, \"#bd3786\"], [0.5555555555555556, \"#d8576b\"], [0.6666666666666666, \"#ed7953\"], [0.7777777777777778, \"#fb9f3a\"], [0.8888888888888888, \"#fdca26\"], [1.0, \"#f0f921\"]], \"type\": \"histogram2d\"}], \"histogram2dcontour\": [{\"colorbar\": {\"outlinewidth\": 0, \"ticks\": \"\"}, \"colorscale\": [[0.0, \"#0d0887\"], [0.1111111111111111, \"#46039f\"], [0.2222222222222222, \"#7201a8\"], [0.3333333333333333, \"#9c179e\"], [0.4444444444444444, \"#bd3786\"], [0.5555555555555556, \"#d8576b\"], [0.6666666666666666, \"#ed7953\"], [0.7777777777777778, \"#fb9f3a\"], [0.8888888888888888, \"#fdca26\"], [1.0, \"#f0f921\"]], \"type\": \"histogram2dcontour\"}], \"mesh3d\": [{\"colorbar\": {\"outlinewidth\": 0, \"ticks\": \"\"}, \"type\": \"mesh3d\"}], \"parcoords\": [{\"line\": {\"colorbar\": {\"outlinewidth\": 0, \"ticks\": \"\"}}, \"type\": \"parcoords\"}], \"pie\": [{\"automargin\": true, \"type\": \"pie\"}], \"scatter\": [{\"marker\": {\"colorbar\": {\"outlinewidth\": 0, \"ticks\": \"\"}}, \"type\": \"scatter\"}], \"scatter3d\": [{\"line\": {\"colorbar\": {\"outlinewidth\": 0, \"ticks\": \"\"}}, \"marker\": {\"colorbar\": {\"outlinewidth\": 0, \"ticks\": \"\"}}, \"type\": \"scatter3d\"}], \"scattercarpet\": [{\"marker\": {\"colorbar\": {\"outlinewidth\": 0, \"ticks\": \"\"}}, \"type\": \"scattercarpet\"}], \"scattergeo\": [{\"marker\": {\"colorbar\": {\"outlinewidth\": 0, \"ticks\": \"\"}}, \"type\": \"scattergeo\"}], \"scattergl\": [{\"marker\": {\"colorbar\": {\"outlinewidth\": 0, \"ticks\": \"\"}}, \"type\": \"scattergl\"}], \"scattermapbox\": [{\"marker\": {\"colorbar\": {\"outlinewidth\": 0, \"ticks\": \"\"}}, \"type\": \"scattermapbox\"}], \"scatterpolar\": [{\"marker\": {\"colorbar\": {\"outlinewidth\": 0, \"ticks\": \"\"}}, \"type\": \"scatterpolar\"}], \"scatterpolargl\": [{\"marker\": {\"colorbar\": {\"outlinewidth\": 0, \"ticks\": \"\"}}, \"type\": \"scatterpolargl\"}], \"scatterternary\": [{\"marker\": {\"colorbar\": {\"outlinewidth\": 0, \"ticks\": \"\"}}, \"type\": \"scatterternary\"}], \"surface\": [{\"colorbar\": {\"outlinewidth\": 0, \"ticks\": \"\"}, \"colorscale\": [[0.0, \"#0d0887\"], [0.1111111111111111, \"#46039f\"], [0.2222222222222222, \"#7201a8\"], [0.3333333333333333, \"#9c179e\"], [0.4444444444444444, \"#bd3786\"], [0.5555555555555556, \"#d8576b\"], [0.6666666666666666, \"#ed7953\"], [0.7777777777777778, \"#fb9f3a\"], [0.8888888888888888, \"#fdca26\"], [1.0, \"#f0f921\"]], \"type\": \"surface\"}], \"table\": [{\"cells\": {\"fill\": {\"color\": \"#EBF0F8\"}, \"line\": {\"color\": \"white\"}}, \"header\": {\"fill\": {\"color\": \"#C8D4E3\"}, \"line\": {\"color\": \"white\"}}, \"type\": \"table\"}]}, \"layout\": {\"annotationdefaults\": {\"arrowcolor\": \"#2a3f5f\", \"arrowhead\": 0, \"arrowwidth\": 1}, \"coloraxis\": {\"colorbar\": {\"outlinewidth\": 0, \"ticks\": \"\"}}, \"colorscale\": {\"diverging\": [[0, \"#8e0152\"], [0.1, \"#c51b7d\"], [0.2, \"#de77ae\"], [0.3, \"#f1b6da\"], [0.4, \"#fde0ef\"], [0.5, \"#f7f7f7\"], [0.6, \"#e6f5d0\"], [0.7, \"#b8e186\"], [0.8, \"#7fbc41\"], [0.9, \"#4d9221\"], [1, \"#276419\"]], \"sequential\": [[0.0, \"#0d0887\"], [0.1111111111111111, \"#46039f\"], [0.2222222222222222, \"#7201a8\"], [0.3333333333333333, \"#9c179e\"], [0.4444444444444444, \"#bd3786\"], [0.5555555555555556, \"#d8576b\"], [0.6666666666666666, \"#ed7953\"], [0.7777777777777778, \"#fb9f3a\"], [0.8888888888888888, \"#fdca26\"], [1.0, \"#f0f921\"]], \"sequentialminus\": [[0.0, \"#0d0887\"], [0.1111111111111111, \"#46039f\"], [0.2222222222222222, \"#7201a8\"], [0.3333333333333333, \"#9c179e\"], [0.4444444444444444, \"#bd3786\"], [0.5555555555555556, \"#d8576b\"], [0.6666666666666666, \"#ed7953\"], [0.7777777777777778, \"#fb9f3a\"], [0.8888888888888888, \"#fdca26\"], [1.0, \"#f0f921\"]]}, \"colorway\": [\"#636efa\", \"#EF553B\", \"#00cc96\", \"#ab63fa\", \"#FFA15A\", \"#19d3f3\", \"#FF6692\", \"#B6E880\", \"#FF97FF\", \"#FECB52\"], \"font\": {\"color\": \"#2a3f5f\"}, \"geo\": {\"bgcolor\": \"white\", \"lakecolor\": \"white\", \"landcolor\": \"#E5ECF6\", \"showlakes\": true, \"showland\": true, \"subunitcolor\": \"white\"}, \"hoverlabel\": {\"align\": \"left\"}, \"hovermode\": \"closest\", \"mapbox\": {\"style\": \"light\"}, \"paper_bgcolor\": \"white\", \"plot_bgcolor\": \"#E5ECF6\", \"polar\": {\"angularaxis\": {\"gridcolor\": \"white\", \"linecolor\": \"white\", \"ticks\": \"\"}, \"bgcolor\": \"#E5ECF6\", \"radialaxis\": {\"gridcolor\": \"white\", \"linecolor\": \"white\", \"ticks\": \"\"}}, \"scene\": {\"xaxis\": {\"backgroundcolor\": \"#E5ECF6\", \"gridcolor\": \"white\", \"gridwidth\": 2, \"linecolor\": \"white\", \"showbackground\": true, \"ticks\": \"\", \"zerolinecolor\": \"white\"}, \"yaxis\": {\"backgroundcolor\": \"#E5ECF6\", \"gridcolor\": \"white\", \"gridwidth\": 2, \"linecolor\": \"white\", \"showbackground\": true, \"ticks\": \"\", \"zerolinecolor\": \"white\"}, \"zaxis\": {\"backgroundcolor\": \"#E5ECF6\", \"gridcolor\": \"white\", \"gridwidth\": 2, \"linecolor\": \"white\", \"showbackground\": true, \"ticks\": \"\", \"zerolinecolor\": \"white\"}}, \"shapedefaults\": {\"line\": {\"color\": \"#2a3f5f\"}}, \"ternary\": {\"aaxis\": {\"gridcolor\": \"white\", \"linecolor\": \"white\", \"ticks\": \"\"}, \"baxis\": {\"gridcolor\": \"white\", \"linecolor\": \"white\", \"ticks\": \"\"}, \"bgcolor\": \"#E5ECF6\", \"caxis\": {\"gridcolor\": \"white\", \"linecolor\": \"white\", \"ticks\": \"\"}}, \"title\": {\"x\": 0.05}, \"xaxis\": {\"automargin\": true, \"gridcolor\": \"white\", \"linecolor\": \"white\", \"ticks\": \"\", \"title\": {\"standoff\": 15}, \"zerolinecolor\": \"white\", \"zerolinewidth\": 2}, \"yaxis\": {\"automargin\": true, \"gridcolor\": \"white\", \"linecolor\": \"white\", \"ticks\": \"\", \"title\": {\"standoff\": 15}, \"zerolinecolor\": \"white\", \"zerolinewidth\": 2}}}, \"title\": {\"font\": {\"color\": \"#4D5663\"}}, \"xaxis\": {\"gridcolor\": \"#E1E5ED\", \"showgrid\": true, \"tickfont\": {\"color\": \"#4D5663\"}, \"title\": {\"font\": {\"color\": \"#4D5663\"}, \"text\": \"\"}, \"zerolinecolor\": \"#E1E5ED\"}, \"yaxis\": {\"gridcolor\": \"#E1E5ED\", \"showgrid\": true, \"tickfont\": {\"color\": \"#4D5663\"}, \"title\": {\"font\": {\"color\": \"#4D5663\"}, \"text\": \"\"}, \"zerolinecolor\": \"#E1E5ED\"}},\n",
       "                        {\"showLink\": true, \"linkText\": \"Export to plot.ly\", \"plotlyServerURL\": \"https://plot.ly\", \"responsive\": true}\n",
       "                    ).then(function(){\n",
       "                            \n",
       "var gd = document.getElementById('b6097266-e90b-446c-b1b3-1145ab352be9');\n",
       "var x = new MutationObserver(function (mutations, observer) {{\n",
       "        var display = window.getComputedStyle(gd).display;\n",
       "        if (!display || display === 'none') {{\n",
       "            console.log([gd, 'removed!']);\n",
       "            Plotly.purge(gd);\n",
       "            observer.disconnect();\n",
       "        }}\n",
       "}});\n",
       "\n",
       "// Listen for the removal of the full notebook cells\n",
       "var notebookContainer = gd.closest('#notebook-container');\n",
       "if (notebookContainer) {{\n",
       "    x.observe(notebookContainer, {childList: true});\n",
       "}}\n",
       "\n",
       "// Listen for the clearing of the current output cell\n",
       "var outputEl = gd.closest('.output');\n",
       "if (outputEl) {{\n",
       "    x.observe(outputEl, {childList: true});\n",
       "}}\n",
       "\n",
       "                        })\n",
       "                };\n",
       "                });\n",
       "            </script>\n",
       "        </div>"
      ]
     },
     "metadata": {},
     "output_type": "display_data"
    }
   ],
   "source": [
    "df.iplot(kind='bubble',x='A',y='B',size='C')"
   ]
  },
  {
   "cell_type": "markdown",
   "metadata": {},
   "source": [
    "## scatter_matrix()\n",
    "\n",
    "Similar to sns.pairplot()"
   ]
  },
  {
   "cell_type": "code",
   "execution_count": 19,
   "metadata": {},
   "outputs": [
    {
     "data": {
      "application/vnd.plotly.v1+json": {
       "config": {
        "linkText": "Export to plot.ly",
        "plotlyServerURL": "https://plot.ly",
        "showLink": true
       },
       "data": [
        {
         "histfunc": "count",
         "histnorm": "",
         "marker": {
          "color": "rgba(255, 153, 51, 1.0)",
          "line": {
           "color": "#4D5663",
           "width": 1.3
          }
         },
         "name": "A",
         "nbinsx": 10,
         "opacity": 0.8,
         "orientation": "v",
         "type": "histogram",
         "x": [
          0.18180147100568378,
          1.5259192689018692,
          0.05462294231575913,
          0.9620187466870544,
          -0.8222317972353985,
          0.7376470999818598,
          2.565985906181714,
          0.45318891947069434,
          -0.7944341338944605,
          -0.510126656582334,
          -0.9279436084824904,
          -0.38582825472318943,
          -1.0585984220855162,
          -0.28142164905234013,
          -1.304093003517012,
          0.4108270136410678,
          -0.10346544680396652,
          0.5617701761410218,
          0.85012983817341,
          3.317883997906613,
          -1.2299377046771796,
          0.25242616334301704,
          0.666193159529929,
          1.7045686417950345,
          0.498369859604301,
          0.23512199526112346,
          0.22984712263275214,
          0.8220670942653372,
          -0.9316373038318361,
          -0.8133372654487864,
          -0.46110710582125797,
          -0.24278069894988633,
          -0.8630495311027098,
          -0.6081179940499232,
          -0.865440005067351,
          0.7610663665742564,
          1.8432998947747365,
          -0.07397753301994585,
          1.2526255147764,
          0.24191455996561825,
          0.34153841092758647,
          -1.9422391912833021,
          0.7005106327478433,
          -0.3570699705775189,
          -0.8979044540436244,
          0.9859533728204699,
          -1.8204159688232633,
          -1.8586740366818395,
          2.6255447880383476,
          1.346073392634325,
          0.5979131610295954,
          -0.6310181064983286,
          0.8816181367002941,
          -0.1515878669143682,
          0.8456908150738301,
          -0.38068740665033257,
          -0.22882880642843273,
          -1.2497193075271134,
          -0.32799052248708443,
          0.5542548888575435,
          0.5162621729738979,
          0.5052772815135701,
          -0.8389817204410998,
          0.7343318481787172,
          -2.460730589526606,
          0.28645634659926655,
          -0.9063842375940628,
          -0.22856404887446638,
          1.4399839172547648,
          0.9100393480703535,
          0.30345896102269737,
          -0.3628974932078356,
          2.6357498627413234,
          -0.04345923574737296,
          1.3175291949692673,
          -1.4097706927018359,
          -0.0013831737211759429,
          0.615107557829702,
          -1.3055548676624311,
          1.3269096276100592,
          -0.10099406571398988,
          -1.2285382037135435,
          0.6383911443821109,
          0.8095396542057248,
          1.578418175405204,
          1.29756306823381,
          1.3601169081451077,
          -0.9318513011710051,
          1.3562493690636221,
          1.1791950798063475,
          -1.5955980790180853,
          -1.6539255583729817,
          0.7454896604604655,
          0.3735470472051365,
          -0.9326919686873352,
          1.2921650415699764,
          0.42137119617613156,
          0.9584105309789688,
          -0.20506831241674106,
          -0.18068170494210395
         ],
         "xaxis": "x",
         "yaxis": "y"
        },
        {
         "line": {
          "color": "rgba(128, 128, 128, 1.0)",
          "dash": "solid",
          "shape": "linear",
          "width": 1.3
         },
         "marker": {
          "size": 2,
          "symbol": "circle"
         },
         "mode": "markers",
         "name": "A",
         "text": "",
         "type": "scatter",
         "x": [
          -0.5469159121855168,
          1.5335809116120382,
          0.5450059258553076,
          -0.22104960314383473,
          -0.5811744619592863,
          -1.5789371370541645,
          -0.7775105969731255,
          1.8482416029564626,
          0.9499766028082592,
          -1.1807702951371561,
          0.673402969165375,
          0.10968590216898477,
          0.94833518416273,
          -0.23820594456410177,
          0.03786911034547954,
          -0.7313326589482242,
          1.4951879849297345,
          1.322939037942328,
          1.1527097158964639,
          1.2777010918437115,
          0.2536271035352632,
          -1.123312146421919,
          0.1720374449477272,
          0.4554752710834215,
          0.2131548091143007,
          -2.421571653781463,
          -0.8934145530787032,
          -0.7434670473055622,
          0.9023851424718344,
          -0.9733925428652126,
          -1.0227709180223288,
          0.4389819748978042,
          -1.4808771020430385,
          0.4252559303133159,
          -0.17955468538184405,
          -0.13740613622164452,
          0.5906686674451844,
          -1.2585520255880729,
          -1.2005986769674541,
          0.17501548638667636,
          0.816542863672658,
          1.2687247022875778,
          -0.33235363701544357,
          -0.04491296104917363,
          0.22963030295067036,
          -0.7907740153569986,
          2.4977502116425643,
          1.8524978992909702,
          -1.0212862618211531,
          -1.4898227950445981,
          0.20286667913810377,
          0.6472271133999958,
          0.864318620544289,
          1.072337435155135,
          -0.6729759496197661,
          0.11487167345738228,
          0.12864576528653754,
          -0.3399781036195837,
          -0.10495757480919374,
          -1.0814833488113416,
          0.11755515163294711,
          -0.42032940379103945,
          2.6975658894744328,
          -0.5243773982830336,
          0.8848766341227842,
          -0.2913040488918608,
          0.23727600462759454,
          -0.7135668972565455,
          -1.459476599906761,
          -0.35197246830748175,
          0.549119470213196,
          -0.2589892305388133,
          -2.146266616222206,
          -0.7183043476033817,
          -2.4145493056618084,
          -0.6665903031659891,
          -0.30145931495287637,
          -1.8176098280733644,
          -1.2239748761199158,
          0.5728590024490764,
          -0.45030906165483175,
          0.66018912629835,
          1.0838905040801134,
          -1.3587905656125694,
          -0.5121278860434562,
          -0.1044871821195812,
          0.222331854394566,
          -0.16068147766711421,
          -1.0861720614921715,
          0.9068570766941219,
          1.4219783958444223,
          -0.7303199502159592,
          -0.3960750521023138,
          -0.03223460954078357,
          0.7973555751939901,
          -0.7856486090191648,
          -0.35867504944759665,
          -1.5527243814003926,
          -0.4898324652797188,
          0.7233795774815167
         ],
         "xaxis": "x2",
         "y": [
          0.18180147100568378,
          1.5259192689018692,
          0.05462294231575913,
          0.9620187466870544,
          -0.8222317972353985,
          0.7376470999818598,
          2.565985906181714,
          0.45318891947069434,
          -0.7944341338944605,
          -0.510126656582334,
          -0.9279436084824904,
          -0.38582825472318943,
          -1.0585984220855162,
          -0.28142164905234013,
          -1.304093003517012,
          0.4108270136410678,
          -0.10346544680396652,
          0.5617701761410218,
          0.85012983817341,
          3.317883997906613,
          -1.2299377046771796,
          0.25242616334301704,
          0.666193159529929,
          1.7045686417950345,
          0.498369859604301,
          0.23512199526112346,
          0.22984712263275214,
          0.8220670942653372,
          -0.9316373038318361,
          -0.8133372654487864,
          -0.46110710582125797,
          -0.24278069894988633,
          -0.8630495311027098,
          -0.6081179940499232,
          -0.865440005067351,
          0.7610663665742564,
          1.8432998947747365,
          -0.07397753301994585,
          1.2526255147764,
          0.24191455996561825,
          0.34153841092758647,
          -1.9422391912833021,
          0.7005106327478433,
          -0.3570699705775189,
          -0.8979044540436244,
          0.9859533728204699,
          -1.8204159688232633,
          -1.8586740366818395,
          2.6255447880383476,
          1.346073392634325,
          0.5979131610295954,
          -0.6310181064983286,
          0.8816181367002941,
          -0.1515878669143682,
          0.8456908150738301,
          -0.38068740665033257,
          -0.22882880642843273,
          -1.2497193075271134,
          -0.32799052248708443,
          0.5542548888575435,
          0.5162621729738979,
          0.5052772815135701,
          -0.8389817204410998,
          0.7343318481787172,
          -2.460730589526606,
          0.28645634659926655,
          -0.9063842375940628,
          -0.22856404887446638,
          1.4399839172547648,
          0.9100393480703535,
          0.30345896102269737,
          -0.3628974932078356,
          2.6357498627413234,
          -0.04345923574737296,
          1.3175291949692673,
          -1.4097706927018359,
          -0.0013831737211759429,
          0.615107557829702,
          -1.3055548676624311,
          1.3269096276100592,
          -0.10099406571398988,
          -1.2285382037135435,
          0.6383911443821109,
          0.8095396542057248,
          1.578418175405204,
          1.29756306823381,
          1.3601169081451077,
          -0.9318513011710051,
          1.3562493690636221,
          1.1791950798063475,
          -1.5955980790180853,
          -1.6539255583729817,
          0.7454896604604655,
          0.3735470472051365,
          -0.9326919686873352,
          1.2921650415699764,
          0.42137119617613156,
          0.9584105309789688,
          -0.20506831241674106,
          -0.18068170494210395
         ],
         "yaxis": "y2"
        },
        {
         "line": {
          "color": "rgba(128, 128, 128, 1.0)",
          "dash": "solid",
          "shape": "linear",
          "width": 1.3
         },
         "marker": {
          "size": 2,
          "symbol": "circle"
         },
         "mode": "markers",
         "name": "A",
         "text": "",
         "type": "scatter",
         "x": [
          0.1686932092281815,
          1.0328131315641254,
          -0.36454268342269186,
          1.26875314456932,
          -0.7293546821848843,
          1.0223750890003422,
          -2.3990170795591155,
          -0.3224330884639071,
          -1.1127502144935488,
          0.27805180086125036,
          -1.6192712093764778,
          0.5522938811583652,
          0.16596072666402317,
          -0.4427821933047732,
          -1.2773507600617164,
          0.28032190761938197,
          -0.6382245923166383,
          -1.2846859775303165,
          1.312855303533158,
          -0.22563909656268133,
          1.0266475228428276,
          -0.6069164279849912,
          0.2123709869302311,
          -0.2899127761710966,
          0.039694662384039806,
          -1.381786882184596,
          1.6177950329862125,
          0.570332602573185,
          0.6579598651692635,
          0.8628463705204259,
          -1.281260906555398,
          -1.330901792141282,
          0.46112681779407355,
          -1.206855126114699,
          -0.07367191003817267,
          0.7654233778416981,
          -0.6880559910563467,
          -0.2604083477294942,
          -0.5064539730848476,
          0.45116380358815483,
          -1.1790756271340508,
          -0.16452165654951054,
          1.5012251376187193,
          0.014714692059038331,
          0.5158276661987844,
          1.2724775489620699,
          -0.7852792994821955,
          -0.465307467475932,
          0.34897937264926887,
          -1.0505894896581416,
          -0.578983848588057,
          0.239310603321956,
          0.43855478686956506,
          1.0061472366585098,
          0.3746619843517988,
          0.7237034968882138,
          0.2198279533553722,
          -0.7969577455352174,
          0.09256643670117436,
          0.689119453098922,
          1.2745295055725188,
          -0.691970114547277,
          0.16038877562918785,
          -0.8293173227942326,
          0.7743696030934961,
          0.6422796194637943,
          1.0836979431167522,
          0.3611426655567145,
          -0.36740374300299156,
          0.37931865983790786,
          0.7464160503580077,
          0.2209541083266774,
          -1.370120714022927,
          -0.7636897431780868,
          -1.9275593139022884,
          -0.6533403415953668,
          -0.90565212855155,
          1.3196462127373443,
          0.8194783808993695,
          -0.4244039145622759,
          1.1853512768256445,
          0.7729561149737242,
          0.1395548530344274,
          -0.5624653329596475,
          -0.3523192585423655,
          1.7436203130096126,
          0.17259255088922626,
          1.092757105706978,
          -0.26379546894779904,
          0.06826700708597289,
          0.040778907074701706,
          1.453051252614507,
          0.23719196735242684,
          0.28226145756702553,
          -1.546600001664014,
          0.4011571565271534,
          -0.48054775171076525,
          -2.2732358196579847,
          0.38096123577391827,
          -0.6936629291337045
         ],
         "xaxis": "x3",
         "y": [
          0.18180147100568378,
          1.5259192689018692,
          0.05462294231575913,
          0.9620187466870544,
          -0.8222317972353985,
          0.7376470999818598,
          2.565985906181714,
          0.45318891947069434,
          -0.7944341338944605,
          -0.510126656582334,
          -0.9279436084824904,
          -0.38582825472318943,
          -1.0585984220855162,
          -0.28142164905234013,
          -1.304093003517012,
          0.4108270136410678,
          -0.10346544680396652,
          0.5617701761410218,
          0.85012983817341,
          3.317883997906613,
          -1.2299377046771796,
          0.25242616334301704,
          0.666193159529929,
          1.7045686417950345,
          0.498369859604301,
          0.23512199526112346,
          0.22984712263275214,
          0.8220670942653372,
          -0.9316373038318361,
          -0.8133372654487864,
          -0.46110710582125797,
          -0.24278069894988633,
          -0.8630495311027098,
          -0.6081179940499232,
          -0.865440005067351,
          0.7610663665742564,
          1.8432998947747365,
          -0.07397753301994585,
          1.2526255147764,
          0.24191455996561825,
          0.34153841092758647,
          -1.9422391912833021,
          0.7005106327478433,
          -0.3570699705775189,
          -0.8979044540436244,
          0.9859533728204699,
          -1.8204159688232633,
          -1.8586740366818395,
          2.6255447880383476,
          1.346073392634325,
          0.5979131610295954,
          -0.6310181064983286,
          0.8816181367002941,
          -0.1515878669143682,
          0.8456908150738301,
          -0.38068740665033257,
          -0.22882880642843273,
          -1.2497193075271134,
          -0.32799052248708443,
          0.5542548888575435,
          0.5162621729738979,
          0.5052772815135701,
          -0.8389817204410998,
          0.7343318481787172,
          -2.460730589526606,
          0.28645634659926655,
          -0.9063842375940628,
          -0.22856404887446638,
          1.4399839172547648,
          0.9100393480703535,
          0.30345896102269737,
          -0.3628974932078356,
          2.6357498627413234,
          -0.04345923574737296,
          1.3175291949692673,
          -1.4097706927018359,
          -0.0013831737211759429,
          0.615107557829702,
          -1.3055548676624311,
          1.3269096276100592,
          -0.10099406571398988,
          -1.2285382037135435,
          0.6383911443821109,
          0.8095396542057248,
          1.578418175405204,
          1.29756306823381,
          1.3601169081451077,
          -0.9318513011710051,
          1.3562493690636221,
          1.1791950798063475,
          -1.5955980790180853,
          -1.6539255583729817,
          0.7454896604604655,
          0.3735470472051365,
          -0.9326919686873352,
          1.2921650415699764,
          0.42137119617613156,
          0.9584105309789688,
          -0.20506831241674106,
          -0.18068170494210395
         ],
         "yaxis": "y3"
        },
        {
         "line": {
          "color": "rgba(128, 128, 128, 1.0)",
          "dash": "solid",
          "shape": "linear",
          "width": 1.3
         },
         "marker": {
          "size": 2,
          "symbol": "circle"
         },
         "mode": "markers",
         "name": "A",
         "text": "",
         "type": "scatter",
         "x": [
          -0.2987620016573524,
          0.5856710023298739,
          0.031296639417608546,
          0.8250528503730282,
          -1.473290930804679,
          -0.9517326409191724,
          2.3743161950331144,
          -1.8296060962471408,
          -0.6387615110845835,
          1.4460622953201945,
          0.03971990073304708,
          -0.31268222003971635,
          -0.982492539143231,
          0.1824855017747259,
          -1.0361921486024919,
          0.34760565704225904,
          0.6925751155450205,
          -0.3693607582480481,
          -0.3449539166740733,
          -0.39179442342051624,
          0.5022408487468865,
          0.2605286061239689,
          0.004575926439469356,
          -0.3953370227932897,
          1.2826009861597745,
          1.0566443045816543,
          -0.7197130284979981,
          -1.0705014437071068,
          0.4915572284288318,
          -1.7209602812628102,
          1.162852045938196,
          0.17586017482655789,
          0.022307473917991143,
          0.4982938461520577,
          0.655127870610559,
          -0.47047209971519716,
          1.4158028633015007,
          -0.7130840138427691,
          0.48211482379937914,
          0.43845318085798624,
          -1.4500993581324517,
          -0.23595625723701635,
          0.8434555096522347,
          -1.609285641738247,
          -0.5931779346818965,
          0.7015421730797939,
          0.17884901814887,
          0.797470154285368,
          0.12789059575800615,
          -0.5383413660815077,
          -0.9925198409950517,
          0.13093051267534628,
          -0.2769682126580611,
          1.620229033911083,
          -0.5679830629877168,
          -1.3721337571217125,
          -1.748539086714276,
          -2.1611027179767373,
          0.7700537412254298,
          -0.45442613009989125,
          -0.808004692494974,
          -0.6377901686512377,
          1.4909997041265368,
          0.18325574932005026,
          0.4712774376187271,
          -0.524090138506383,
          -0.23232788050333017,
          1.0999480160820305,
          -0.7842364054071148,
          -0.8996922250838094,
          0.7662520789851596,
          -1.536654774195429,
          0.38285126522198415,
          0.8337709958796933,
          -0.4172783387910231,
          -0.9840846833282685,
          0.6000148666329089,
          -0.9055288956249931,
          -0.6133631405953454,
          1.9565117442952757,
          0.1441319472477782,
          1.069925126282556,
          -0.47975143036567186,
          -1.8335171431477462,
          -0.0076920202370756195,
          -0.14457847090136428,
          0.6215826092194757,
          -2.2457849180881015,
          -0.1777547716686796,
          -1.1018983499480848,
          -0.20122337116145445,
          -1.9387556311398395,
          1.0967315511089437,
          0.0651971757059661,
          -0.41852366901752325,
          0.5236168188263617,
          -0.00033749631630545596,
          0.9119846043009965,
          1.0594214785836582,
          0.1570254530931209
         ],
         "xaxis": "x4",
         "y": [
          0.18180147100568378,
          1.5259192689018692,
          0.05462294231575913,
          0.9620187466870544,
          -0.8222317972353985,
          0.7376470999818598,
          2.565985906181714,
          0.45318891947069434,
          -0.7944341338944605,
          -0.510126656582334,
          -0.9279436084824904,
          -0.38582825472318943,
          -1.0585984220855162,
          -0.28142164905234013,
          -1.304093003517012,
          0.4108270136410678,
          -0.10346544680396652,
          0.5617701761410218,
          0.85012983817341,
          3.317883997906613,
          -1.2299377046771796,
          0.25242616334301704,
          0.666193159529929,
          1.7045686417950345,
          0.498369859604301,
          0.23512199526112346,
          0.22984712263275214,
          0.8220670942653372,
          -0.9316373038318361,
          -0.8133372654487864,
          -0.46110710582125797,
          -0.24278069894988633,
          -0.8630495311027098,
          -0.6081179940499232,
          -0.865440005067351,
          0.7610663665742564,
          1.8432998947747365,
          -0.07397753301994585,
          1.2526255147764,
          0.24191455996561825,
          0.34153841092758647,
          -1.9422391912833021,
          0.7005106327478433,
          -0.3570699705775189,
          -0.8979044540436244,
          0.9859533728204699,
          -1.8204159688232633,
          -1.8586740366818395,
          2.6255447880383476,
          1.346073392634325,
          0.5979131610295954,
          -0.6310181064983286,
          0.8816181367002941,
          -0.1515878669143682,
          0.8456908150738301,
          -0.38068740665033257,
          -0.22882880642843273,
          -1.2497193075271134,
          -0.32799052248708443,
          0.5542548888575435,
          0.5162621729738979,
          0.5052772815135701,
          -0.8389817204410998,
          0.7343318481787172,
          -2.460730589526606,
          0.28645634659926655,
          -0.9063842375940628,
          -0.22856404887446638,
          1.4399839172547648,
          0.9100393480703535,
          0.30345896102269737,
          -0.3628974932078356,
          2.6357498627413234,
          -0.04345923574737296,
          1.3175291949692673,
          -1.4097706927018359,
          -0.0013831737211759429,
          0.615107557829702,
          -1.3055548676624311,
          1.3269096276100592,
          -0.10099406571398988,
          -1.2285382037135435,
          0.6383911443821109,
          0.8095396542057248,
          1.578418175405204,
          1.29756306823381,
          1.3601169081451077,
          -0.9318513011710051,
          1.3562493690636221,
          1.1791950798063475,
          -1.5955980790180853,
          -1.6539255583729817,
          0.7454896604604655,
          0.3735470472051365,
          -0.9326919686873352,
          1.2921650415699764,
          0.42137119617613156,
          0.9584105309789688,
          -0.20506831241674106,
          -0.18068170494210395
         ],
         "yaxis": "y4"
        },
        {
         "line": {
          "color": "rgba(128, 128, 128, 1.0)",
          "dash": "solid",
          "shape": "linear",
          "width": 1.3
         },
         "marker": {
          "size": 2,
          "symbol": "circle"
         },
         "mode": "markers",
         "name": "B",
         "text": "",
         "type": "scatter",
         "x": [
          0.18180147100568378,
          1.5259192689018692,
          0.05462294231575913,
          0.9620187466870544,
          -0.8222317972353985,
          0.7376470999818598,
          2.565985906181714,
          0.45318891947069434,
          -0.7944341338944605,
          -0.510126656582334,
          -0.9279436084824904,
          -0.38582825472318943,
          -1.0585984220855162,
          -0.28142164905234013,
          -1.304093003517012,
          0.4108270136410678,
          -0.10346544680396652,
          0.5617701761410218,
          0.85012983817341,
          3.317883997906613,
          -1.2299377046771796,
          0.25242616334301704,
          0.666193159529929,
          1.7045686417950345,
          0.498369859604301,
          0.23512199526112346,
          0.22984712263275214,
          0.8220670942653372,
          -0.9316373038318361,
          -0.8133372654487864,
          -0.46110710582125797,
          -0.24278069894988633,
          -0.8630495311027098,
          -0.6081179940499232,
          -0.865440005067351,
          0.7610663665742564,
          1.8432998947747365,
          -0.07397753301994585,
          1.2526255147764,
          0.24191455996561825,
          0.34153841092758647,
          -1.9422391912833021,
          0.7005106327478433,
          -0.3570699705775189,
          -0.8979044540436244,
          0.9859533728204699,
          -1.8204159688232633,
          -1.8586740366818395,
          2.6255447880383476,
          1.346073392634325,
          0.5979131610295954,
          -0.6310181064983286,
          0.8816181367002941,
          -0.1515878669143682,
          0.8456908150738301,
          -0.38068740665033257,
          -0.22882880642843273,
          -1.2497193075271134,
          -0.32799052248708443,
          0.5542548888575435,
          0.5162621729738979,
          0.5052772815135701,
          -0.8389817204410998,
          0.7343318481787172,
          -2.460730589526606,
          0.28645634659926655,
          -0.9063842375940628,
          -0.22856404887446638,
          1.4399839172547648,
          0.9100393480703535,
          0.30345896102269737,
          -0.3628974932078356,
          2.6357498627413234,
          -0.04345923574737296,
          1.3175291949692673,
          -1.4097706927018359,
          -0.0013831737211759429,
          0.615107557829702,
          -1.3055548676624311,
          1.3269096276100592,
          -0.10099406571398988,
          -1.2285382037135435,
          0.6383911443821109,
          0.8095396542057248,
          1.578418175405204,
          1.29756306823381,
          1.3601169081451077,
          -0.9318513011710051,
          1.3562493690636221,
          1.1791950798063475,
          -1.5955980790180853,
          -1.6539255583729817,
          0.7454896604604655,
          0.3735470472051365,
          -0.9326919686873352,
          1.2921650415699764,
          0.42137119617613156,
          0.9584105309789688,
          -0.20506831241674106,
          -0.18068170494210395
         ],
         "xaxis": "x5",
         "y": [
          -0.5469159121855168,
          1.5335809116120382,
          0.5450059258553076,
          -0.22104960314383473,
          -0.5811744619592863,
          -1.5789371370541645,
          -0.7775105969731255,
          1.8482416029564626,
          0.9499766028082592,
          -1.1807702951371561,
          0.673402969165375,
          0.10968590216898477,
          0.94833518416273,
          -0.23820594456410177,
          0.03786911034547954,
          -0.7313326589482242,
          1.4951879849297345,
          1.322939037942328,
          1.1527097158964639,
          1.2777010918437115,
          0.2536271035352632,
          -1.123312146421919,
          0.1720374449477272,
          0.4554752710834215,
          0.2131548091143007,
          -2.421571653781463,
          -0.8934145530787032,
          -0.7434670473055622,
          0.9023851424718344,
          -0.9733925428652126,
          -1.0227709180223288,
          0.4389819748978042,
          -1.4808771020430385,
          0.4252559303133159,
          -0.17955468538184405,
          -0.13740613622164452,
          0.5906686674451844,
          -1.2585520255880729,
          -1.2005986769674541,
          0.17501548638667636,
          0.816542863672658,
          1.2687247022875778,
          -0.33235363701544357,
          -0.04491296104917363,
          0.22963030295067036,
          -0.7907740153569986,
          2.4977502116425643,
          1.8524978992909702,
          -1.0212862618211531,
          -1.4898227950445981,
          0.20286667913810377,
          0.6472271133999958,
          0.864318620544289,
          1.072337435155135,
          -0.6729759496197661,
          0.11487167345738228,
          0.12864576528653754,
          -0.3399781036195837,
          -0.10495757480919374,
          -1.0814833488113416,
          0.11755515163294711,
          -0.42032940379103945,
          2.6975658894744328,
          -0.5243773982830336,
          0.8848766341227842,
          -0.2913040488918608,
          0.23727600462759454,
          -0.7135668972565455,
          -1.459476599906761,
          -0.35197246830748175,
          0.549119470213196,
          -0.2589892305388133,
          -2.146266616222206,
          -0.7183043476033817,
          -2.4145493056618084,
          -0.6665903031659891,
          -0.30145931495287637,
          -1.8176098280733644,
          -1.2239748761199158,
          0.5728590024490764,
          -0.45030906165483175,
          0.66018912629835,
          1.0838905040801134,
          -1.3587905656125694,
          -0.5121278860434562,
          -0.1044871821195812,
          0.222331854394566,
          -0.16068147766711421,
          -1.0861720614921715,
          0.9068570766941219,
          1.4219783958444223,
          -0.7303199502159592,
          -0.3960750521023138,
          -0.03223460954078357,
          0.7973555751939901,
          -0.7856486090191648,
          -0.35867504944759665,
          -1.5527243814003926,
          -0.4898324652797188,
          0.7233795774815167
         ],
         "yaxis": "y5"
        },
        {
         "histfunc": "count",
         "histnorm": "",
         "marker": {
          "color": "rgba(55, 128, 191, 1.0)",
          "line": {
           "color": "#4D5663",
           "width": 1.3
          }
         },
         "name": "B",
         "nbinsx": 10,
         "opacity": 0.8,
         "orientation": "v",
         "type": "histogram",
         "x": [
          -0.5469159121855168,
          1.5335809116120382,
          0.5450059258553076,
          -0.22104960314383473,
          -0.5811744619592863,
          -1.5789371370541645,
          -0.7775105969731255,
          1.8482416029564626,
          0.9499766028082592,
          -1.1807702951371561,
          0.673402969165375,
          0.10968590216898477,
          0.94833518416273,
          -0.23820594456410177,
          0.03786911034547954,
          -0.7313326589482242,
          1.4951879849297345,
          1.322939037942328,
          1.1527097158964639,
          1.2777010918437115,
          0.2536271035352632,
          -1.123312146421919,
          0.1720374449477272,
          0.4554752710834215,
          0.2131548091143007,
          -2.421571653781463,
          -0.8934145530787032,
          -0.7434670473055622,
          0.9023851424718344,
          -0.9733925428652126,
          -1.0227709180223288,
          0.4389819748978042,
          -1.4808771020430385,
          0.4252559303133159,
          -0.17955468538184405,
          -0.13740613622164452,
          0.5906686674451844,
          -1.2585520255880729,
          -1.2005986769674541,
          0.17501548638667636,
          0.816542863672658,
          1.2687247022875778,
          -0.33235363701544357,
          -0.04491296104917363,
          0.22963030295067036,
          -0.7907740153569986,
          2.4977502116425643,
          1.8524978992909702,
          -1.0212862618211531,
          -1.4898227950445981,
          0.20286667913810377,
          0.6472271133999958,
          0.864318620544289,
          1.072337435155135,
          -0.6729759496197661,
          0.11487167345738228,
          0.12864576528653754,
          -0.3399781036195837,
          -0.10495757480919374,
          -1.0814833488113416,
          0.11755515163294711,
          -0.42032940379103945,
          2.6975658894744328,
          -0.5243773982830336,
          0.8848766341227842,
          -0.2913040488918608,
          0.23727600462759454,
          -0.7135668972565455,
          -1.459476599906761,
          -0.35197246830748175,
          0.549119470213196,
          -0.2589892305388133,
          -2.146266616222206,
          -0.7183043476033817,
          -2.4145493056618084,
          -0.6665903031659891,
          -0.30145931495287637,
          -1.8176098280733644,
          -1.2239748761199158,
          0.5728590024490764,
          -0.45030906165483175,
          0.66018912629835,
          1.0838905040801134,
          -1.3587905656125694,
          -0.5121278860434562,
          -0.1044871821195812,
          0.222331854394566,
          -0.16068147766711421,
          -1.0861720614921715,
          0.9068570766941219,
          1.4219783958444223,
          -0.7303199502159592,
          -0.3960750521023138,
          -0.03223460954078357,
          0.7973555751939901,
          -0.7856486090191648,
          -0.35867504944759665,
          -1.5527243814003926,
          -0.4898324652797188,
          0.7233795774815167
         ],
         "xaxis": "x6",
         "yaxis": "y6"
        },
        {
         "line": {
          "color": "rgba(128, 128, 128, 1.0)",
          "dash": "solid",
          "shape": "linear",
          "width": 1.3
         },
         "marker": {
          "size": 2,
          "symbol": "circle"
         },
         "mode": "markers",
         "name": "B",
         "text": "",
         "type": "scatter",
         "x": [
          0.1686932092281815,
          1.0328131315641254,
          -0.36454268342269186,
          1.26875314456932,
          -0.7293546821848843,
          1.0223750890003422,
          -2.3990170795591155,
          -0.3224330884639071,
          -1.1127502144935488,
          0.27805180086125036,
          -1.6192712093764778,
          0.5522938811583652,
          0.16596072666402317,
          -0.4427821933047732,
          -1.2773507600617164,
          0.28032190761938197,
          -0.6382245923166383,
          -1.2846859775303165,
          1.312855303533158,
          -0.22563909656268133,
          1.0266475228428276,
          -0.6069164279849912,
          0.2123709869302311,
          -0.2899127761710966,
          0.039694662384039806,
          -1.381786882184596,
          1.6177950329862125,
          0.570332602573185,
          0.6579598651692635,
          0.8628463705204259,
          -1.281260906555398,
          -1.330901792141282,
          0.46112681779407355,
          -1.206855126114699,
          -0.07367191003817267,
          0.7654233778416981,
          -0.6880559910563467,
          -0.2604083477294942,
          -0.5064539730848476,
          0.45116380358815483,
          -1.1790756271340508,
          -0.16452165654951054,
          1.5012251376187193,
          0.014714692059038331,
          0.5158276661987844,
          1.2724775489620699,
          -0.7852792994821955,
          -0.465307467475932,
          0.34897937264926887,
          -1.0505894896581416,
          -0.578983848588057,
          0.239310603321956,
          0.43855478686956506,
          1.0061472366585098,
          0.3746619843517988,
          0.7237034968882138,
          0.2198279533553722,
          -0.7969577455352174,
          0.09256643670117436,
          0.689119453098922,
          1.2745295055725188,
          -0.691970114547277,
          0.16038877562918785,
          -0.8293173227942326,
          0.7743696030934961,
          0.6422796194637943,
          1.0836979431167522,
          0.3611426655567145,
          -0.36740374300299156,
          0.37931865983790786,
          0.7464160503580077,
          0.2209541083266774,
          -1.370120714022927,
          -0.7636897431780868,
          -1.9275593139022884,
          -0.6533403415953668,
          -0.90565212855155,
          1.3196462127373443,
          0.8194783808993695,
          -0.4244039145622759,
          1.1853512768256445,
          0.7729561149737242,
          0.1395548530344274,
          -0.5624653329596475,
          -0.3523192585423655,
          1.7436203130096126,
          0.17259255088922626,
          1.092757105706978,
          -0.26379546894779904,
          0.06826700708597289,
          0.040778907074701706,
          1.453051252614507,
          0.23719196735242684,
          0.28226145756702553,
          -1.546600001664014,
          0.4011571565271534,
          -0.48054775171076525,
          -2.2732358196579847,
          0.38096123577391827,
          -0.6936629291337045
         ],
         "xaxis": "x7",
         "y": [
          -0.5469159121855168,
          1.5335809116120382,
          0.5450059258553076,
          -0.22104960314383473,
          -0.5811744619592863,
          -1.5789371370541645,
          -0.7775105969731255,
          1.8482416029564626,
          0.9499766028082592,
          -1.1807702951371561,
          0.673402969165375,
          0.10968590216898477,
          0.94833518416273,
          -0.23820594456410177,
          0.03786911034547954,
          -0.7313326589482242,
          1.4951879849297345,
          1.322939037942328,
          1.1527097158964639,
          1.2777010918437115,
          0.2536271035352632,
          -1.123312146421919,
          0.1720374449477272,
          0.4554752710834215,
          0.2131548091143007,
          -2.421571653781463,
          -0.8934145530787032,
          -0.7434670473055622,
          0.9023851424718344,
          -0.9733925428652126,
          -1.0227709180223288,
          0.4389819748978042,
          -1.4808771020430385,
          0.4252559303133159,
          -0.17955468538184405,
          -0.13740613622164452,
          0.5906686674451844,
          -1.2585520255880729,
          -1.2005986769674541,
          0.17501548638667636,
          0.816542863672658,
          1.2687247022875778,
          -0.33235363701544357,
          -0.04491296104917363,
          0.22963030295067036,
          -0.7907740153569986,
          2.4977502116425643,
          1.8524978992909702,
          -1.0212862618211531,
          -1.4898227950445981,
          0.20286667913810377,
          0.6472271133999958,
          0.864318620544289,
          1.072337435155135,
          -0.6729759496197661,
          0.11487167345738228,
          0.12864576528653754,
          -0.3399781036195837,
          -0.10495757480919374,
          -1.0814833488113416,
          0.11755515163294711,
          -0.42032940379103945,
          2.6975658894744328,
          -0.5243773982830336,
          0.8848766341227842,
          -0.2913040488918608,
          0.23727600462759454,
          -0.7135668972565455,
          -1.459476599906761,
          -0.35197246830748175,
          0.549119470213196,
          -0.2589892305388133,
          -2.146266616222206,
          -0.7183043476033817,
          -2.4145493056618084,
          -0.6665903031659891,
          -0.30145931495287637,
          -1.8176098280733644,
          -1.2239748761199158,
          0.5728590024490764,
          -0.45030906165483175,
          0.66018912629835,
          1.0838905040801134,
          -1.3587905656125694,
          -0.5121278860434562,
          -0.1044871821195812,
          0.222331854394566,
          -0.16068147766711421,
          -1.0861720614921715,
          0.9068570766941219,
          1.4219783958444223,
          -0.7303199502159592,
          -0.3960750521023138,
          -0.03223460954078357,
          0.7973555751939901,
          -0.7856486090191648,
          -0.35867504944759665,
          -1.5527243814003926,
          -0.4898324652797188,
          0.7233795774815167
         ],
         "yaxis": "y7"
        },
        {
         "line": {
          "color": "rgba(128, 128, 128, 1.0)",
          "dash": "solid",
          "shape": "linear",
          "width": 1.3
         },
         "marker": {
          "size": 2,
          "symbol": "circle"
         },
         "mode": "markers",
         "name": "B",
         "text": "",
         "type": "scatter",
         "x": [
          -0.2987620016573524,
          0.5856710023298739,
          0.031296639417608546,
          0.8250528503730282,
          -1.473290930804679,
          -0.9517326409191724,
          2.3743161950331144,
          -1.8296060962471408,
          -0.6387615110845835,
          1.4460622953201945,
          0.03971990073304708,
          -0.31268222003971635,
          -0.982492539143231,
          0.1824855017747259,
          -1.0361921486024919,
          0.34760565704225904,
          0.6925751155450205,
          -0.3693607582480481,
          -0.3449539166740733,
          -0.39179442342051624,
          0.5022408487468865,
          0.2605286061239689,
          0.004575926439469356,
          -0.3953370227932897,
          1.2826009861597745,
          1.0566443045816543,
          -0.7197130284979981,
          -1.0705014437071068,
          0.4915572284288318,
          -1.7209602812628102,
          1.162852045938196,
          0.17586017482655789,
          0.022307473917991143,
          0.4982938461520577,
          0.655127870610559,
          -0.47047209971519716,
          1.4158028633015007,
          -0.7130840138427691,
          0.48211482379937914,
          0.43845318085798624,
          -1.4500993581324517,
          -0.23595625723701635,
          0.8434555096522347,
          -1.609285641738247,
          -0.5931779346818965,
          0.7015421730797939,
          0.17884901814887,
          0.797470154285368,
          0.12789059575800615,
          -0.5383413660815077,
          -0.9925198409950517,
          0.13093051267534628,
          -0.2769682126580611,
          1.620229033911083,
          -0.5679830629877168,
          -1.3721337571217125,
          -1.748539086714276,
          -2.1611027179767373,
          0.7700537412254298,
          -0.45442613009989125,
          -0.808004692494974,
          -0.6377901686512377,
          1.4909997041265368,
          0.18325574932005026,
          0.4712774376187271,
          -0.524090138506383,
          -0.23232788050333017,
          1.0999480160820305,
          -0.7842364054071148,
          -0.8996922250838094,
          0.7662520789851596,
          -1.536654774195429,
          0.38285126522198415,
          0.8337709958796933,
          -0.4172783387910231,
          -0.9840846833282685,
          0.6000148666329089,
          -0.9055288956249931,
          -0.6133631405953454,
          1.9565117442952757,
          0.1441319472477782,
          1.069925126282556,
          -0.47975143036567186,
          -1.8335171431477462,
          -0.0076920202370756195,
          -0.14457847090136428,
          0.6215826092194757,
          -2.2457849180881015,
          -0.1777547716686796,
          -1.1018983499480848,
          -0.20122337116145445,
          -1.9387556311398395,
          1.0967315511089437,
          0.0651971757059661,
          -0.41852366901752325,
          0.5236168188263617,
          -0.00033749631630545596,
          0.9119846043009965,
          1.0594214785836582,
          0.1570254530931209
         ],
         "xaxis": "x8",
         "y": [
          -0.5469159121855168,
          1.5335809116120382,
          0.5450059258553076,
          -0.22104960314383473,
          -0.5811744619592863,
          -1.5789371370541645,
          -0.7775105969731255,
          1.8482416029564626,
          0.9499766028082592,
          -1.1807702951371561,
          0.673402969165375,
          0.10968590216898477,
          0.94833518416273,
          -0.23820594456410177,
          0.03786911034547954,
          -0.7313326589482242,
          1.4951879849297345,
          1.322939037942328,
          1.1527097158964639,
          1.2777010918437115,
          0.2536271035352632,
          -1.123312146421919,
          0.1720374449477272,
          0.4554752710834215,
          0.2131548091143007,
          -2.421571653781463,
          -0.8934145530787032,
          -0.7434670473055622,
          0.9023851424718344,
          -0.9733925428652126,
          -1.0227709180223288,
          0.4389819748978042,
          -1.4808771020430385,
          0.4252559303133159,
          -0.17955468538184405,
          -0.13740613622164452,
          0.5906686674451844,
          -1.2585520255880729,
          -1.2005986769674541,
          0.17501548638667636,
          0.816542863672658,
          1.2687247022875778,
          -0.33235363701544357,
          -0.04491296104917363,
          0.22963030295067036,
          -0.7907740153569986,
          2.4977502116425643,
          1.8524978992909702,
          -1.0212862618211531,
          -1.4898227950445981,
          0.20286667913810377,
          0.6472271133999958,
          0.864318620544289,
          1.072337435155135,
          -0.6729759496197661,
          0.11487167345738228,
          0.12864576528653754,
          -0.3399781036195837,
          -0.10495757480919374,
          -1.0814833488113416,
          0.11755515163294711,
          -0.42032940379103945,
          2.6975658894744328,
          -0.5243773982830336,
          0.8848766341227842,
          -0.2913040488918608,
          0.23727600462759454,
          -0.7135668972565455,
          -1.459476599906761,
          -0.35197246830748175,
          0.549119470213196,
          -0.2589892305388133,
          -2.146266616222206,
          -0.7183043476033817,
          -2.4145493056618084,
          -0.6665903031659891,
          -0.30145931495287637,
          -1.8176098280733644,
          -1.2239748761199158,
          0.5728590024490764,
          -0.45030906165483175,
          0.66018912629835,
          1.0838905040801134,
          -1.3587905656125694,
          -0.5121278860434562,
          -0.1044871821195812,
          0.222331854394566,
          -0.16068147766711421,
          -1.0861720614921715,
          0.9068570766941219,
          1.4219783958444223,
          -0.7303199502159592,
          -0.3960750521023138,
          -0.03223460954078357,
          0.7973555751939901,
          -0.7856486090191648,
          -0.35867504944759665,
          -1.5527243814003926,
          -0.4898324652797188,
          0.7233795774815167
         ],
         "yaxis": "y8"
        },
        {
         "line": {
          "color": "rgba(128, 128, 128, 1.0)",
          "dash": "solid",
          "shape": "linear",
          "width": 1.3
         },
         "marker": {
          "size": 2,
          "symbol": "circle"
         },
         "mode": "markers",
         "name": "C",
         "text": "",
         "type": "scatter",
         "x": [
          0.18180147100568378,
          1.5259192689018692,
          0.05462294231575913,
          0.9620187466870544,
          -0.8222317972353985,
          0.7376470999818598,
          2.565985906181714,
          0.45318891947069434,
          -0.7944341338944605,
          -0.510126656582334,
          -0.9279436084824904,
          -0.38582825472318943,
          -1.0585984220855162,
          -0.28142164905234013,
          -1.304093003517012,
          0.4108270136410678,
          -0.10346544680396652,
          0.5617701761410218,
          0.85012983817341,
          3.317883997906613,
          -1.2299377046771796,
          0.25242616334301704,
          0.666193159529929,
          1.7045686417950345,
          0.498369859604301,
          0.23512199526112346,
          0.22984712263275214,
          0.8220670942653372,
          -0.9316373038318361,
          -0.8133372654487864,
          -0.46110710582125797,
          -0.24278069894988633,
          -0.8630495311027098,
          -0.6081179940499232,
          -0.865440005067351,
          0.7610663665742564,
          1.8432998947747365,
          -0.07397753301994585,
          1.2526255147764,
          0.24191455996561825,
          0.34153841092758647,
          -1.9422391912833021,
          0.7005106327478433,
          -0.3570699705775189,
          -0.8979044540436244,
          0.9859533728204699,
          -1.8204159688232633,
          -1.8586740366818395,
          2.6255447880383476,
          1.346073392634325,
          0.5979131610295954,
          -0.6310181064983286,
          0.8816181367002941,
          -0.1515878669143682,
          0.8456908150738301,
          -0.38068740665033257,
          -0.22882880642843273,
          -1.2497193075271134,
          -0.32799052248708443,
          0.5542548888575435,
          0.5162621729738979,
          0.5052772815135701,
          -0.8389817204410998,
          0.7343318481787172,
          -2.460730589526606,
          0.28645634659926655,
          -0.9063842375940628,
          -0.22856404887446638,
          1.4399839172547648,
          0.9100393480703535,
          0.30345896102269737,
          -0.3628974932078356,
          2.6357498627413234,
          -0.04345923574737296,
          1.3175291949692673,
          -1.4097706927018359,
          -0.0013831737211759429,
          0.615107557829702,
          -1.3055548676624311,
          1.3269096276100592,
          -0.10099406571398988,
          -1.2285382037135435,
          0.6383911443821109,
          0.8095396542057248,
          1.578418175405204,
          1.29756306823381,
          1.3601169081451077,
          -0.9318513011710051,
          1.3562493690636221,
          1.1791950798063475,
          -1.5955980790180853,
          -1.6539255583729817,
          0.7454896604604655,
          0.3735470472051365,
          -0.9326919686873352,
          1.2921650415699764,
          0.42137119617613156,
          0.9584105309789688,
          -0.20506831241674106,
          -0.18068170494210395
         ],
         "xaxis": "x9",
         "y": [
          0.1686932092281815,
          1.0328131315641254,
          -0.36454268342269186,
          1.26875314456932,
          -0.7293546821848843,
          1.0223750890003422,
          -2.3990170795591155,
          -0.3224330884639071,
          -1.1127502144935488,
          0.27805180086125036,
          -1.6192712093764778,
          0.5522938811583652,
          0.16596072666402317,
          -0.4427821933047732,
          -1.2773507600617164,
          0.28032190761938197,
          -0.6382245923166383,
          -1.2846859775303165,
          1.312855303533158,
          -0.22563909656268133,
          1.0266475228428276,
          -0.6069164279849912,
          0.2123709869302311,
          -0.2899127761710966,
          0.039694662384039806,
          -1.381786882184596,
          1.6177950329862125,
          0.570332602573185,
          0.6579598651692635,
          0.8628463705204259,
          -1.281260906555398,
          -1.330901792141282,
          0.46112681779407355,
          -1.206855126114699,
          -0.07367191003817267,
          0.7654233778416981,
          -0.6880559910563467,
          -0.2604083477294942,
          -0.5064539730848476,
          0.45116380358815483,
          -1.1790756271340508,
          -0.16452165654951054,
          1.5012251376187193,
          0.014714692059038331,
          0.5158276661987844,
          1.2724775489620699,
          -0.7852792994821955,
          -0.465307467475932,
          0.34897937264926887,
          -1.0505894896581416,
          -0.578983848588057,
          0.239310603321956,
          0.43855478686956506,
          1.0061472366585098,
          0.3746619843517988,
          0.7237034968882138,
          0.2198279533553722,
          -0.7969577455352174,
          0.09256643670117436,
          0.689119453098922,
          1.2745295055725188,
          -0.691970114547277,
          0.16038877562918785,
          -0.8293173227942326,
          0.7743696030934961,
          0.6422796194637943,
          1.0836979431167522,
          0.3611426655567145,
          -0.36740374300299156,
          0.37931865983790786,
          0.7464160503580077,
          0.2209541083266774,
          -1.370120714022927,
          -0.7636897431780868,
          -1.9275593139022884,
          -0.6533403415953668,
          -0.90565212855155,
          1.3196462127373443,
          0.8194783808993695,
          -0.4244039145622759,
          1.1853512768256445,
          0.7729561149737242,
          0.1395548530344274,
          -0.5624653329596475,
          -0.3523192585423655,
          1.7436203130096126,
          0.17259255088922626,
          1.092757105706978,
          -0.26379546894779904,
          0.06826700708597289,
          0.040778907074701706,
          1.453051252614507,
          0.23719196735242684,
          0.28226145756702553,
          -1.546600001664014,
          0.4011571565271534,
          -0.48054775171076525,
          -2.2732358196579847,
          0.38096123577391827,
          -0.6936629291337045
         ],
         "yaxis": "y9"
        },
        {
         "line": {
          "color": "rgba(128, 128, 128, 1.0)",
          "dash": "solid",
          "shape": "linear",
          "width": 1.3
         },
         "marker": {
          "size": 2,
          "symbol": "circle"
         },
         "mode": "markers",
         "name": "C",
         "text": "",
         "type": "scatter",
         "x": [
          -0.5469159121855168,
          1.5335809116120382,
          0.5450059258553076,
          -0.22104960314383473,
          -0.5811744619592863,
          -1.5789371370541645,
          -0.7775105969731255,
          1.8482416029564626,
          0.9499766028082592,
          -1.1807702951371561,
          0.673402969165375,
          0.10968590216898477,
          0.94833518416273,
          -0.23820594456410177,
          0.03786911034547954,
          -0.7313326589482242,
          1.4951879849297345,
          1.322939037942328,
          1.1527097158964639,
          1.2777010918437115,
          0.2536271035352632,
          -1.123312146421919,
          0.1720374449477272,
          0.4554752710834215,
          0.2131548091143007,
          -2.421571653781463,
          -0.8934145530787032,
          -0.7434670473055622,
          0.9023851424718344,
          -0.9733925428652126,
          -1.0227709180223288,
          0.4389819748978042,
          -1.4808771020430385,
          0.4252559303133159,
          -0.17955468538184405,
          -0.13740613622164452,
          0.5906686674451844,
          -1.2585520255880729,
          -1.2005986769674541,
          0.17501548638667636,
          0.816542863672658,
          1.2687247022875778,
          -0.33235363701544357,
          -0.04491296104917363,
          0.22963030295067036,
          -0.7907740153569986,
          2.4977502116425643,
          1.8524978992909702,
          -1.0212862618211531,
          -1.4898227950445981,
          0.20286667913810377,
          0.6472271133999958,
          0.864318620544289,
          1.072337435155135,
          -0.6729759496197661,
          0.11487167345738228,
          0.12864576528653754,
          -0.3399781036195837,
          -0.10495757480919374,
          -1.0814833488113416,
          0.11755515163294711,
          -0.42032940379103945,
          2.6975658894744328,
          -0.5243773982830336,
          0.8848766341227842,
          -0.2913040488918608,
          0.23727600462759454,
          -0.7135668972565455,
          -1.459476599906761,
          -0.35197246830748175,
          0.549119470213196,
          -0.2589892305388133,
          -2.146266616222206,
          -0.7183043476033817,
          -2.4145493056618084,
          -0.6665903031659891,
          -0.30145931495287637,
          -1.8176098280733644,
          -1.2239748761199158,
          0.5728590024490764,
          -0.45030906165483175,
          0.66018912629835,
          1.0838905040801134,
          -1.3587905656125694,
          -0.5121278860434562,
          -0.1044871821195812,
          0.222331854394566,
          -0.16068147766711421,
          -1.0861720614921715,
          0.9068570766941219,
          1.4219783958444223,
          -0.7303199502159592,
          -0.3960750521023138,
          -0.03223460954078357,
          0.7973555751939901,
          -0.7856486090191648,
          -0.35867504944759665,
          -1.5527243814003926,
          -0.4898324652797188,
          0.7233795774815167
         ],
         "xaxis": "x10",
         "y": [
          0.1686932092281815,
          1.0328131315641254,
          -0.36454268342269186,
          1.26875314456932,
          -0.7293546821848843,
          1.0223750890003422,
          -2.3990170795591155,
          -0.3224330884639071,
          -1.1127502144935488,
          0.27805180086125036,
          -1.6192712093764778,
          0.5522938811583652,
          0.16596072666402317,
          -0.4427821933047732,
          -1.2773507600617164,
          0.28032190761938197,
          -0.6382245923166383,
          -1.2846859775303165,
          1.312855303533158,
          -0.22563909656268133,
          1.0266475228428276,
          -0.6069164279849912,
          0.2123709869302311,
          -0.2899127761710966,
          0.039694662384039806,
          -1.381786882184596,
          1.6177950329862125,
          0.570332602573185,
          0.6579598651692635,
          0.8628463705204259,
          -1.281260906555398,
          -1.330901792141282,
          0.46112681779407355,
          -1.206855126114699,
          -0.07367191003817267,
          0.7654233778416981,
          -0.6880559910563467,
          -0.2604083477294942,
          -0.5064539730848476,
          0.45116380358815483,
          -1.1790756271340508,
          -0.16452165654951054,
          1.5012251376187193,
          0.014714692059038331,
          0.5158276661987844,
          1.2724775489620699,
          -0.7852792994821955,
          -0.465307467475932,
          0.34897937264926887,
          -1.0505894896581416,
          -0.578983848588057,
          0.239310603321956,
          0.43855478686956506,
          1.0061472366585098,
          0.3746619843517988,
          0.7237034968882138,
          0.2198279533553722,
          -0.7969577455352174,
          0.09256643670117436,
          0.689119453098922,
          1.2745295055725188,
          -0.691970114547277,
          0.16038877562918785,
          -0.8293173227942326,
          0.7743696030934961,
          0.6422796194637943,
          1.0836979431167522,
          0.3611426655567145,
          -0.36740374300299156,
          0.37931865983790786,
          0.7464160503580077,
          0.2209541083266774,
          -1.370120714022927,
          -0.7636897431780868,
          -1.9275593139022884,
          -0.6533403415953668,
          -0.90565212855155,
          1.3196462127373443,
          0.8194783808993695,
          -0.4244039145622759,
          1.1853512768256445,
          0.7729561149737242,
          0.1395548530344274,
          -0.5624653329596475,
          -0.3523192585423655,
          1.7436203130096126,
          0.17259255088922626,
          1.092757105706978,
          -0.26379546894779904,
          0.06826700708597289,
          0.040778907074701706,
          1.453051252614507,
          0.23719196735242684,
          0.28226145756702553,
          -1.546600001664014,
          0.4011571565271534,
          -0.48054775171076525,
          -2.2732358196579847,
          0.38096123577391827,
          -0.6936629291337045
         ],
         "yaxis": "y10"
        },
        {
         "histfunc": "count",
         "histnorm": "",
         "marker": {
          "color": "rgba(50, 171, 96, 1.0)",
          "line": {
           "color": "#4D5663",
           "width": 1.3
          }
         },
         "name": "C",
         "nbinsx": 10,
         "opacity": 0.8,
         "orientation": "v",
         "type": "histogram",
         "x": [
          0.1686932092281815,
          1.0328131315641254,
          -0.36454268342269186,
          1.26875314456932,
          -0.7293546821848843,
          1.0223750890003422,
          -2.3990170795591155,
          -0.3224330884639071,
          -1.1127502144935488,
          0.27805180086125036,
          -1.6192712093764778,
          0.5522938811583652,
          0.16596072666402317,
          -0.4427821933047732,
          -1.2773507600617164,
          0.28032190761938197,
          -0.6382245923166383,
          -1.2846859775303165,
          1.312855303533158,
          -0.22563909656268133,
          1.0266475228428276,
          -0.6069164279849912,
          0.2123709869302311,
          -0.2899127761710966,
          0.039694662384039806,
          -1.381786882184596,
          1.6177950329862125,
          0.570332602573185,
          0.6579598651692635,
          0.8628463705204259,
          -1.281260906555398,
          -1.330901792141282,
          0.46112681779407355,
          -1.206855126114699,
          -0.07367191003817267,
          0.7654233778416981,
          -0.6880559910563467,
          -0.2604083477294942,
          -0.5064539730848476,
          0.45116380358815483,
          -1.1790756271340508,
          -0.16452165654951054,
          1.5012251376187193,
          0.014714692059038331,
          0.5158276661987844,
          1.2724775489620699,
          -0.7852792994821955,
          -0.465307467475932,
          0.34897937264926887,
          -1.0505894896581416,
          -0.578983848588057,
          0.239310603321956,
          0.43855478686956506,
          1.0061472366585098,
          0.3746619843517988,
          0.7237034968882138,
          0.2198279533553722,
          -0.7969577455352174,
          0.09256643670117436,
          0.689119453098922,
          1.2745295055725188,
          -0.691970114547277,
          0.16038877562918785,
          -0.8293173227942326,
          0.7743696030934961,
          0.6422796194637943,
          1.0836979431167522,
          0.3611426655567145,
          -0.36740374300299156,
          0.37931865983790786,
          0.7464160503580077,
          0.2209541083266774,
          -1.370120714022927,
          -0.7636897431780868,
          -1.9275593139022884,
          -0.6533403415953668,
          -0.90565212855155,
          1.3196462127373443,
          0.8194783808993695,
          -0.4244039145622759,
          1.1853512768256445,
          0.7729561149737242,
          0.1395548530344274,
          -0.5624653329596475,
          -0.3523192585423655,
          1.7436203130096126,
          0.17259255088922626,
          1.092757105706978,
          -0.26379546894779904,
          0.06826700708597289,
          0.040778907074701706,
          1.453051252614507,
          0.23719196735242684,
          0.28226145756702553,
          -1.546600001664014,
          0.4011571565271534,
          -0.48054775171076525,
          -2.2732358196579847,
          0.38096123577391827,
          -0.6936629291337045
         ],
         "xaxis": "x11",
         "yaxis": "y11"
        },
        {
         "line": {
          "color": "rgba(128, 128, 128, 1.0)",
          "dash": "solid",
          "shape": "linear",
          "width": 1.3
         },
         "marker": {
          "size": 2,
          "symbol": "circle"
         },
         "mode": "markers",
         "name": "C",
         "text": "",
         "type": "scatter",
         "x": [
          -0.2987620016573524,
          0.5856710023298739,
          0.031296639417608546,
          0.8250528503730282,
          -1.473290930804679,
          -0.9517326409191724,
          2.3743161950331144,
          -1.8296060962471408,
          -0.6387615110845835,
          1.4460622953201945,
          0.03971990073304708,
          -0.31268222003971635,
          -0.982492539143231,
          0.1824855017747259,
          -1.0361921486024919,
          0.34760565704225904,
          0.6925751155450205,
          -0.3693607582480481,
          -0.3449539166740733,
          -0.39179442342051624,
          0.5022408487468865,
          0.2605286061239689,
          0.004575926439469356,
          -0.3953370227932897,
          1.2826009861597745,
          1.0566443045816543,
          -0.7197130284979981,
          -1.0705014437071068,
          0.4915572284288318,
          -1.7209602812628102,
          1.162852045938196,
          0.17586017482655789,
          0.022307473917991143,
          0.4982938461520577,
          0.655127870610559,
          -0.47047209971519716,
          1.4158028633015007,
          -0.7130840138427691,
          0.48211482379937914,
          0.43845318085798624,
          -1.4500993581324517,
          -0.23595625723701635,
          0.8434555096522347,
          -1.609285641738247,
          -0.5931779346818965,
          0.7015421730797939,
          0.17884901814887,
          0.797470154285368,
          0.12789059575800615,
          -0.5383413660815077,
          -0.9925198409950517,
          0.13093051267534628,
          -0.2769682126580611,
          1.620229033911083,
          -0.5679830629877168,
          -1.3721337571217125,
          -1.748539086714276,
          -2.1611027179767373,
          0.7700537412254298,
          -0.45442613009989125,
          -0.808004692494974,
          -0.6377901686512377,
          1.4909997041265368,
          0.18325574932005026,
          0.4712774376187271,
          -0.524090138506383,
          -0.23232788050333017,
          1.0999480160820305,
          -0.7842364054071148,
          -0.8996922250838094,
          0.7662520789851596,
          -1.536654774195429,
          0.38285126522198415,
          0.8337709958796933,
          -0.4172783387910231,
          -0.9840846833282685,
          0.6000148666329089,
          -0.9055288956249931,
          -0.6133631405953454,
          1.9565117442952757,
          0.1441319472477782,
          1.069925126282556,
          -0.47975143036567186,
          -1.8335171431477462,
          -0.0076920202370756195,
          -0.14457847090136428,
          0.6215826092194757,
          -2.2457849180881015,
          -0.1777547716686796,
          -1.1018983499480848,
          -0.20122337116145445,
          -1.9387556311398395,
          1.0967315511089437,
          0.0651971757059661,
          -0.41852366901752325,
          0.5236168188263617,
          -0.00033749631630545596,
          0.9119846043009965,
          1.0594214785836582,
          0.1570254530931209
         ],
         "xaxis": "x12",
         "y": [
          0.1686932092281815,
          1.0328131315641254,
          -0.36454268342269186,
          1.26875314456932,
          -0.7293546821848843,
          1.0223750890003422,
          -2.3990170795591155,
          -0.3224330884639071,
          -1.1127502144935488,
          0.27805180086125036,
          -1.6192712093764778,
          0.5522938811583652,
          0.16596072666402317,
          -0.4427821933047732,
          -1.2773507600617164,
          0.28032190761938197,
          -0.6382245923166383,
          -1.2846859775303165,
          1.312855303533158,
          -0.22563909656268133,
          1.0266475228428276,
          -0.6069164279849912,
          0.2123709869302311,
          -0.2899127761710966,
          0.039694662384039806,
          -1.381786882184596,
          1.6177950329862125,
          0.570332602573185,
          0.6579598651692635,
          0.8628463705204259,
          -1.281260906555398,
          -1.330901792141282,
          0.46112681779407355,
          -1.206855126114699,
          -0.07367191003817267,
          0.7654233778416981,
          -0.6880559910563467,
          -0.2604083477294942,
          -0.5064539730848476,
          0.45116380358815483,
          -1.1790756271340508,
          -0.16452165654951054,
          1.5012251376187193,
          0.014714692059038331,
          0.5158276661987844,
          1.2724775489620699,
          -0.7852792994821955,
          -0.465307467475932,
          0.34897937264926887,
          -1.0505894896581416,
          -0.578983848588057,
          0.239310603321956,
          0.43855478686956506,
          1.0061472366585098,
          0.3746619843517988,
          0.7237034968882138,
          0.2198279533553722,
          -0.7969577455352174,
          0.09256643670117436,
          0.689119453098922,
          1.2745295055725188,
          -0.691970114547277,
          0.16038877562918785,
          -0.8293173227942326,
          0.7743696030934961,
          0.6422796194637943,
          1.0836979431167522,
          0.3611426655567145,
          -0.36740374300299156,
          0.37931865983790786,
          0.7464160503580077,
          0.2209541083266774,
          -1.370120714022927,
          -0.7636897431780868,
          -1.9275593139022884,
          -0.6533403415953668,
          -0.90565212855155,
          1.3196462127373443,
          0.8194783808993695,
          -0.4244039145622759,
          1.1853512768256445,
          0.7729561149737242,
          0.1395548530344274,
          -0.5624653329596475,
          -0.3523192585423655,
          1.7436203130096126,
          0.17259255088922626,
          1.092757105706978,
          -0.26379546894779904,
          0.06826700708597289,
          0.040778907074701706,
          1.453051252614507,
          0.23719196735242684,
          0.28226145756702553,
          -1.546600001664014,
          0.4011571565271534,
          -0.48054775171076525,
          -2.2732358196579847,
          0.38096123577391827,
          -0.6936629291337045
         ],
         "yaxis": "y12"
        },
        {
         "line": {
          "color": "rgba(128, 128, 128, 1.0)",
          "dash": "solid",
          "shape": "linear",
          "width": 1.3
         },
         "marker": {
          "size": 2,
          "symbol": "circle"
         },
         "mode": "markers",
         "name": "D",
         "text": "",
         "type": "scatter",
         "x": [
          0.18180147100568378,
          1.5259192689018692,
          0.05462294231575913,
          0.9620187466870544,
          -0.8222317972353985,
          0.7376470999818598,
          2.565985906181714,
          0.45318891947069434,
          -0.7944341338944605,
          -0.510126656582334,
          -0.9279436084824904,
          -0.38582825472318943,
          -1.0585984220855162,
          -0.28142164905234013,
          -1.304093003517012,
          0.4108270136410678,
          -0.10346544680396652,
          0.5617701761410218,
          0.85012983817341,
          3.317883997906613,
          -1.2299377046771796,
          0.25242616334301704,
          0.666193159529929,
          1.7045686417950345,
          0.498369859604301,
          0.23512199526112346,
          0.22984712263275214,
          0.8220670942653372,
          -0.9316373038318361,
          -0.8133372654487864,
          -0.46110710582125797,
          -0.24278069894988633,
          -0.8630495311027098,
          -0.6081179940499232,
          -0.865440005067351,
          0.7610663665742564,
          1.8432998947747365,
          -0.07397753301994585,
          1.2526255147764,
          0.24191455996561825,
          0.34153841092758647,
          -1.9422391912833021,
          0.7005106327478433,
          -0.3570699705775189,
          -0.8979044540436244,
          0.9859533728204699,
          -1.8204159688232633,
          -1.8586740366818395,
          2.6255447880383476,
          1.346073392634325,
          0.5979131610295954,
          -0.6310181064983286,
          0.8816181367002941,
          -0.1515878669143682,
          0.8456908150738301,
          -0.38068740665033257,
          -0.22882880642843273,
          -1.2497193075271134,
          -0.32799052248708443,
          0.5542548888575435,
          0.5162621729738979,
          0.5052772815135701,
          -0.8389817204410998,
          0.7343318481787172,
          -2.460730589526606,
          0.28645634659926655,
          -0.9063842375940628,
          -0.22856404887446638,
          1.4399839172547648,
          0.9100393480703535,
          0.30345896102269737,
          -0.3628974932078356,
          2.6357498627413234,
          -0.04345923574737296,
          1.3175291949692673,
          -1.4097706927018359,
          -0.0013831737211759429,
          0.615107557829702,
          -1.3055548676624311,
          1.3269096276100592,
          -0.10099406571398988,
          -1.2285382037135435,
          0.6383911443821109,
          0.8095396542057248,
          1.578418175405204,
          1.29756306823381,
          1.3601169081451077,
          -0.9318513011710051,
          1.3562493690636221,
          1.1791950798063475,
          -1.5955980790180853,
          -1.6539255583729817,
          0.7454896604604655,
          0.3735470472051365,
          -0.9326919686873352,
          1.2921650415699764,
          0.42137119617613156,
          0.9584105309789688,
          -0.20506831241674106,
          -0.18068170494210395
         ],
         "xaxis": "x13",
         "y": [
          -0.2987620016573524,
          0.5856710023298739,
          0.031296639417608546,
          0.8250528503730282,
          -1.473290930804679,
          -0.9517326409191724,
          2.3743161950331144,
          -1.8296060962471408,
          -0.6387615110845835,
          1.4460622953201945,
          0.03971990073304708,
          -0.31268222003971635,
          -0.982492539143231,
          0.1824855017747259,
          -1.0361921486024919,
          0.34760565704225904,
          0.6925751155450205,
          -0.3693607582480481,
          -0.3449539166740733,
          -0.39179442342051624,
          0.5022408487468865,
          0.2605286061239689,
          0.004575926439469356,
          -0.3953370227932897,
          1.2826009861597745,
          1.0566443045816543,
          -0.7197130284979981,
          -1.0705014437071068,
          0.4915572284288318,
          -1.7209602812628102,
          1.162852045938196,
          0.17586017482655789,
          0.022307473917991143,
          0.4982938461520577,
          0.655127870610559,
          -0.47047209971519716,
          1.4158028633015007,
          -0.7130840138427691,
          0.48211482379937914,
          0.43845318085798624,
          -1.4500993581324517,
          -0.23595625723701635,
          0.8434555096522347,
          -1.609285641738247,
          -0.5931779346818965,
          0.7015421730797939,
          0.17884901814887,
          0.797470154285368,
          0.12789059575800615,
          -0.5383413660815077,
          -0.9925198409950517,
          0.13093051267534628,
          -0.2769682126580611,
          1.620229033911083,
          -0.5679830629877168,
          -1.3721337571217125,
          -1.748539086714276,
          -2.1611027179767373,
          0.7700537412254298,
          -0.45442613009989125,
          -0.808004692494974,
          -0.6377901686512377,
          1.4909997041265368,
          0.18325574932005026,
          0.4712774376187271,
          -0.524090138506383,
          -0.23232788050333017,
          1.0999480160820305,
          -0.7842364054071148,
          -0.8996922250838094,
          0.7662520789851596,
          -1.536654774195429,
          0.38285126522198415,
          0.8337709958796933,
          -0.4172783387910231,
          -0.9840846833282685,
          0.6000148666329089,
          -0.9055288956249931,
          -0.6133631405953454,
          1.9565117442952757,
          0.1441319472477782,
          1.069925126282556,
          -0.47975143036567186,
          -1.8335171431477462,
          -0.0076920202370756195,
          -0.14457847090136428,
          0.6215826092194757,
          -2.2457849180881015,
          -0.1777547716686796,
          -1.1018983499480848,
          -0.20122337116145445,
          -1.9387556311398395,
          1.0967315511089437,
          0.0651971757059661,
          -0.41852366901752325,
          0.5236168188263617,
          -0.00033749631630545596,
          0.9119846043009965,
          1.0594214785836582,
          0.1570254530931209
         ],
         "yaxis": "y13"
        },
        {
         "line": {
          "color": "rgba(128, 128, 128, 1.0)",
          "dash": "solid",
          "shape": "linear",
          "width": 1.3
         },
         "marker": {
          "size": 2,
          "symbol": "circle"
         },
         "mode": "markers",
         "name": "D",
         "text": "",
         "type": "scatter",
         "x": [
          -0.5469159121855168,
          1.5335809116120382,
          0.5450059258553076,
          -0.22104960314383473,
          -0.5811744619592863,
          -1.5789371370541645,
          -0.7775105969731255,
          1.8482416029564626,
          0.9499766028082592,
          -1.1807702951371561,
          0.673402969165375,
          0.10968590216898477,
          0.94833518416273,
          -0.23820594456410177,
          0.03786911034547954,
          -0.7313326589482242,
          1.4951879849297345,
          1.322939037942328,
          1.1527097158964639,
          1.2777010918437115,
          0.2536271035352632,
          -1.123312146421919,
          0.1720374449477272,
          0.4554752710834215,
          0.2131548091143007,
          -2.421571653781463,
          -0.8934145530787032,
          -0.7434670473055622,
          0.9023851424718344,
          -0.9733925428652126,
          -1.0227709180223288,
          0.4389819748978042,
          -1.4808771020430385,
          0.4252559303133159,
          -0.17955468538184405,
          -0.13740613622164452,
          0.5906686674451844,
          -1.2585520255880729,
          -1.2005986769674541,
          0.17501548638667636,
          0.816542863672658,
          1.2687247022875778,
          -0.33235363701544357,
          -0.04491296104917363,
          0.22963030295067036,
          -0.7907740153569986,
          2.4977502116425643,
          1.8524978992909702,
          -1.0212862618211531,
          -1.4898227950445981,
          0.20286667913810377,
          0.6472271133999958,
          0.864318620544289,
          1.072337435155135,
          -0.6729759496197661,
          0.11487167345738228,
          0.12864576528653754,
          -0.3399781036195837,
          -0.10495757480919374,
          -1.0814833488113416,
          0.11755515163294711,
          -0.42032940379103945,
          2.6975658894744328,
          -0.5243773982830336,
          0.8848766341227842,
          -0.2913040488918608,
          0.23727600462759454,
          -0.7135668972565455,
          -1.459476599906761,
          -0.35197246830748175,
          0.549119470213196,
          -0.2589892305388133,
          -2.146266616222206,
          -0.7183043476033817,
          -2.4145493056618084,
          -0.6665903031659891,
          -0.30145931495287637,
          -1.8176098280733644,
          -1.2239748761199158,
          0.5728590024490764,
          -0.45030906165483175,
          0.66018912629835,
          1.0838905040801134,
          -1.3587905656125694,
          -0.5121278860434562,
          -0.1044871821195812,
          0.222331854394566,
          -0.16068147766711421,
          -1.0861720614921715,
          0.9068570766941219,
          1.4219783958444223,
          -0.7303199502159592,
          -0.3960750521023138,
          -0.03223460954078357,
          0.7973555751939901,
          -0.7856486090191648,
          -0.35867504944759665,
          -1.5527243814003926,
          -0.4898324652797188,
          0.7233795774815167
         ],
         "xaxis": "x14",
         "y": [
          -0.2987620016573524,
          0.5856710023298739,
          0.031296639417608546,
          0.8250528503730282,
          -1.473290930804679,
          -0.9517326409191724,
          2.3743161950331144,
          -1.8296060962471408,
          -0.6387615110845835,
          1.4460622953201945,
          0.03971990073304708,
          -0.31268222003971635,
          -0.982492539143231,
          0.1824855017747259,
          -1.0361921486024919,
          0.34760565704225904,
          0.6925751155450205,
          -0.3693607582480481,
          -0.3449539166740733,
          -0.39179442342051624,
          0.5022408487468865,
          0.2605286061239689,
          0.004575926439469356,
          -0.3953370227932897,
          1.2826009861597745,
          1.0566443045816543,
          -0.7197130284979981,
          -1.0705014437071068,
          0.4915572284288318,
          -1.7209602812628102,
          1.162852045938196,
          0.17586017482655789,
          0.022307473917991143,
          0.4982938461520577,
          0.655127870610559,
          -0.47047209971519716,
          1.4158028633015007,
          -0.7130840138427691,
          0.48211482379937914,
          0.43845318085798624,
          -1.4500993581324517,
          -0.23595625723701635,
          0.8434555096522347,
          -1.609285641738247,
          -0.5931779346818965,
          0.7015421730797939,
          0.17884901814887,
          0.797470154285368,
          0.12789059575800615,
          -0.5383413660815077,
          -0.9925198409950517,
          0.13093051267534628,
          -0.2769682126580611,
          1.620229033911083,
          -0.5679830629877168,
          -1.3721337571217125,
          -1.748539086714276,
          -2.1611027179767373,
          0.7700537412254298,
          -0.45442613009989125,
          -0.808004692494974,
          -0.6377901686512377,
          1.4909997041265368,
          0.18325574932005026,
          0.4712774376187271,
          -0.524090138506383,
          -0.23232788050333017,
          1.0999480160820305,
          -0.7842364054071148,
          -0.8996922250838094,
          0.7662520789851596,
          -1.536654774195429,
          0.38285126522198415,
          0.8337709958796933,
          -0.4172783387910231,
          -0.9840846833282685,
          0.6000148666329089,
          -0.9055288956249931,
          -0.6133631405953454,
          1.9565117442952757,
          0.1441319472477782,
          1.069925126282556,
          -0.47975143036567186,
          -1.8335171431477462,
          -0.0076920202370756195,
          -0.14457847090136428,
          0.6215826092194757,
          -2.2457849180881015,
          -0.1777547716686796,
          -1.1018983499480848,
          -0.20122337116145445,
          -1.9387556311398395,
          1.0967315511089437,
          0.0651971757059661,
          -0.41852366901752325,
          0.5236168188263617,
          -0.00033749631630545596,
          0.9119846043009965,
          1.0594214785836582,
          0.1570254530931209
         ],
         "yaxis": "y14"
        },
        {
         "line": {
          "color": "rgba(128, 128, 128, 1.0)",
          "dash": "solid",
          "shape": "linear",
          "width": 1.3
         },
         "marker": {
          "size": 2,
          "symbol": "circle"
         },
         "mode": "markers",
         "name": "D",
         "text": "",
         "type": "scatter",
         "x": [
          0.1686932092281815,
          1.0328131315641254,
          -0.36454268342269186,
          1.26875314456932,
          -0.7293546821848843,
          1.0223750890003422,
          -2.3990170795591155,
          -0.3224330884639071,
          -1.1127502144935488,
          0.27805180086125036,
          -1.6192712093764778,
          0.5522938811583652,
          0.16596072666402317,
          -0.4427821933047732,
          -1.2773507600617164,
          0.28032190761938197,
          -0.6382245923166383,
          -1.2846859775303165,
          1.312855303533158,
          -0.22563909656268133,
          1.0266475228428276,
          -0.6069164279849912,
          0.2123709869302311,
          -0.2899127761710966,
          0.039694662384039806,
          -1.381786882184596,
          1.6177950329862125,
          0.570332602573185,
          0.6579598651692635,
          0.8628463705204259,
          -1.281260906555398,
          -1.330901792141282,
          0.46112681779407355,
          -1.206855126114699,
          -0.07367191003817267,
          0.7654233778416981,
          -0.6880559910563467,
          -0.2604083477294942,
          -0.5064539730848476,
          0.45116380358815483,
          -1.1790756271340508,
          -0.16452165654951054,
          1.5012251376187193,
          0.014714692059038331,
          0.5158276661987844,
          1.2724775489620699,
          -0.7852792994821955,
          -0.465307467475932,
          0.34897937264926887,
          -1.0505894896581416,
          -0.578983848588057,
          0.239310603321956,
          0.43855478686956506,
          1.0061472366585098,
          0.3746619843517988,
          0.7237034968882138,
          0.2198279533553722,
          -0.7969577455352174,
          0.09256643670117436,
          0.689119453098922,
          1.2745295055725188,
          -0.691970114547277,
          0.16038877562918785,
          -0.8293173227942326,
          0.7743696030934961,
          0.6422796194637943,
          1.0836979431167522,
          0.3611426655567145,
          -0.36740374300299156,
          0.37931865983790786,
          0.7464160503580077,
          0.2209541083266774,
          -1.370120714022927,
          -0.7636897431780868,
          -1.9275593139022884,
          -0.6533403415953668,
          -0.90565212855155,
          1.3196462127373443,
          0.8194783808993695,
          -0.4244039145622759,
          1.1853512768256445,
          0.7729561149737242,
          0.1395548530344274,
          -0.5624653329596475,
          -0.3523192585423655,
          1.7436203130096126,
          0.17259255088922626,
          1.092757105706978,
          -0.26379546894779904,
          0.06826700708597289,
          0.040778907074701706,
          1.453051252614507,
          0.23719196735242684,
          0.28226145756702553,
          -1.546600001664014,
          0.4011571565271534,
          -0.48054775171076525,
          -2.2732358196579847,
          0.38096123577391827,
          -0.6936629291337045
         ],
         "xaxis": "x15",
         "y": [
          -0.2987620016573524,
          0.5856710023298739,
          0.031296639417608546,
          0.8250528503730282,
          -1.473290930804679,
          -0.9517326409191724,
          2.3743161950331144,
          -1.8296060962471408,
          -0.6387615110845835,
          1.4460622953201945,
          0.03971990073304708,
          -0.31268222003971635,
          -0.982492539143231,
          0.1824855017747259,
          -1.0361921486024919,
          0.34760565704225904,
          0.6925751155450205,
          -0.3693607582480481,
          -0.3449539166740733,
          -0.39179442342051624,
          0.5022408487468865,
          0.2605286061239689,
          0.004575926439469356,
          -0.3953370227932897,
          1.2826009861597745,
          1.0566443045816543,
          -0.7197130284979981,
          -1.0705014437071068,
          0.4915572284288318,
          -1.7209602812628102,
          1.162852045938196,
          0.17586017482655789,
          0.022307473917991143,
          0.4982938461520577,
          0.655127870610559,
          -0.47047209971519716,
          1.4158028633015007,
          -0.7130840138427691,
          0.48211482379937914,
          0.43845318085798624,
          -1.4500993581324517,
          -0.23595625723701635,
          0.8434555096522347,
          -1.609285641738247,
          -0.5931779346818965,
          0.7015421730797939,
          0.17884901814887,
          0.797470154285368,
          0.12789059575800615,
          -0.5383413660815077,
          -0.9925198409950517,
          0.13093051267534628,
          -0.2769682126580611,
          1.620229033911083,
          -0.5679830629877168,
          -1.3721337571217125,
          -1.748539086714276,
          -2.1611027179767373,
          0.7700537412254298,
          -0.45442613009989125,
          -0.808004692494974,
          -0.6377901686512377,
          1.4909997041265368,
          0.18325574932005026,
          0.4712774376187271,
          -0.524090138506383,
          -0.23232788050333017,
          1.0999480160820305,
          -0.7842364054071148,
          -0.8996922250838094,
          0.7662520789851596,
          -1.536654774195429,
          0.38285126522198415,
          0.8337709958796933,
          -0.4172783387910231,
          -0.9840846833282685,
          0.6000148666329089,
          -0.9055288956249931,
          -0.6133631405953454,
          1.9565117442952757,
          0.1441319472477782,
          1.069925126282556,
          -0.47975143036567186,
          -1.8335171431477462,
          -0.0076920202370756195,
          -0.14457847090136428,
          0.6215826092194757,
          -2.2457849180881015,
          -0.1777547716686796,
          -1.1018983499480848,
          -0.20122337116145445,
          -1.9387556311398395,
          1.0967315511089437,
          0.0651971757059661,
          -0.41852366901752325,
          0.5236168188263617,
          -0.00033749631630545596,
          0.9119846043009965,
          1.0594214785836582,
          0.1570254530931209
         ],
         "yaxis": "y15"
        },
        {
         "histfunc": "count",
         "histnorm": "",
         "marker": {
          "color": "rgba(128, 0, 128, 1.0)",
          "line": {
           "color": "#4D5663",
           "width": 1.3
          }
         },
         "name": "D",
         "nbinsx": 10,
         "opacity": 0.8,
         "orientation": "v",
         "type": "histogram",
         "x": [
          -0.2987620016573524,
          0.5856710023298739,
          0.031296639417608546,
          0.8250528503730282,
          -1.473290930804679,
          -0.9517326409191724,
          2.3743161950331144,
          -1.8296060962471408,
          -0.6387615110845835,
          1.4460622953201945,
          0.03971990073304708,
          -0.31268222003971635,
          -0.982492539143231,
          0.1824855017747259,
          -1.0361921486024919,
          0.34760565704225904,
          0.6925751155450205,
          -0.3693607582480481,
          -0.3449539166740733,
          -0.39179442342051624,
          0.5022408487468865,
          0.2605286061239689,
          0.004575926439469356,
          -0.3953370227932897,
          1.2826009861597745,
          1.0566443045816543,
          -0.7197130284979981,
          -1.0705014437071068,
          0.4915572284288318,
          -1.7209602812628102,
          1.162852045938196,
          0.17586017482655789,
          0.022307473917991143,
          0.4982938461520577,
          0.655127870610559,
          -0.47047209971519716,
          1.4158028633015007,
          -0.7130840138427691,
          0.48211482379937914,
          0.43845318085798624,
          -1.4500993581324517,
          -0.23595625723701635,
          0.8434555096522347,
          -1.609285641738247,
          -0.5931779346818965,
          0.7015421730797939,
          0.17884901814887,
          0.797470154285368,
          0.12789059575800615,
          -0.5383413660815077,
          -0.9925198409950517,
          0.13093051267534628,
          -0.2769682126580611,
          1.620229033911083,
          -0.5679830629877168,
          -1.3721337571217125,
          -1.748539086714276,
          -2.1611027179767373,
          0.7700537412254298,
          -0.45442613009989125,
          -0.808004692494974,
          -0.6377901686512377,
          1.4909997041265368,
          0.18325574932005026,
          0.4712774376187271,
          -0.524090138506383,
          -0.23232788050333017,
          1.0999480160820305,
          -0.7842364054071148,
          -0.8996922250838094,
          0.7662520789851596,
          -1.536654774195429,
          0.38285126522198415,
          0.8337709958796933,
          -0.4172783387910231,
          -0.9840846833282685,
          0.6000148666329089,
          -0.9055288956249931,
          -0.6133631405953454,
          1.9565117442952757,
          0.1441319472477782,
          1.069925126282556,
          -0.47975143036567186,
          -1.8335171431477462,
          -0.0076920202370756195,
          -0.14457847090136428,
          0.6215826092194757,
          -2.2457849180881015,
          -0.1777547716686796,
          -1.1018983499480848,
          -0.20122337116145445,
          -1.9387556311398395,
          1.0967315511089437,
          0.0651971757059661,
          -0.41852366901752325,
          0.5236168188263617,
          -0.00033749631630545596,
          0.9119846043009965,
          1.0594214785836582,
          0.1570254530931209
         ],
         "xaxis": "x16",
         "yaxis": "y16"
        }
       ],
       "layout": {
        "bargap": 0.02,
        "legend": {
         "bgcolor": "#F5F6F9",
         "font": {
          "color": "#4D5663"
         }
        },
        "paper_bgcolor": "#F5F6F9",
        "plot_bgcolor": "#F5F6F9",
        "showlegend": false,
        "template": {
         "data": {
          "bar": [
           {
            "error_x": {
             "color": "#2a3f5f"
            },
            "error_y": {
             "color": "#2a3f5f"
            },
            "marker": {
             "line": {
              "color": "#E5ECF6",
              "width": 0.5
             }
            },
            "type": "bar"
           }
          ],
          "barpolar": [
           {
            "marker": {
             "line": {
              "color": "#E5ECF6",
              "width": 0.5
             }
            },
            "type": "barpolar"
           }
          ],
          "carpet": [
           {
            "aaxis": {
             "endlinecolor": "#2a3f5f",
             "gridcolor": "white",
             "linecolor": "white",
             "minorgridcolor": "white",
             "startlinecolor": "#2a3f5f"
            },
            "baxis": {
             "endlinecolor": "#2a3f5f",
             "gridcolor": "white",
             "linecolor": "white",
             "minorgridcolor": "white",
             "startlinecolor": "#2a3f5f"
            },
            "type": "carpet"
           }
          ],
          "choropleth": [
           {
            "colorbar": {
             "outlinewidth": 0,
             "ticks": ""
            },
            "type": "choropleth"
           }
          ],
          "contour": [
           {
            "colorbar": {
             "outlinewidth": 0,
             "ticks": ""
            },
            "colorscale": [
             [
              0,
              "#0d0887"
             ],
             [
              0.1111111111111111,
              "#46039f"
             ],
             [
              0.2222222222222222,
              "#7201a8"
             ],
             [
              0.3333333333333333,
              "#9c179e"
             ],
             [
              0.4444444444444444,
              "#bd3786"
             ],
             [
              0.5555555555555556,
              "#d8576b"
             ],
             [
              0.6666666666666666,
              "#ed7953"
             ],
             [
              0.7777777777777778,
              "#fb9f3a"
             ],
             [
              0.8888888888888888,
              "#fdca26"
             ],
             [
              1,
              "#f0f921"
             ]
            ],
            "type": "contour"
           }
          ],
          "contourcarpet": [
           {
            "colorbar": {
             "outlinewidth": 0,
             "ticks": ""
            },
            "type": "contourcarpet"
           }
          ],
          "heatmap": [
           {
            "colorbar": {
             "outlinewidth": 0,
             "ticks": ""
            },
            "colorscale": [
             [
              0,
              "#0d0887"
             ],
             [
              0.1111111111111111,
              "#46039f"
             ],
             [
              0.2222222222222222,
              "#7201a8"
             ],
             [
              0.3333333333333333,
              "#9c179e"
             ],
             [
              0.4444444444444444,
              "#bd3786"
             ],
             [
              0.5555555555555556,
              "#d8576b"
             ],
             [
              0.6666666666666666,
              "#ed7953"
             ],
             [
              0.7777777777777778,
              "#fb9f3a"
             ],
             [
              0.8888888888888888,
              "#fdca26"
             ],
             [
              1,
              "#f0f921"
             ]
            ],
            "type": "heatmap"
           }
          ],
          "heatmapgl": [
           {
            "colorbar": {
             "outlinewidth": 0,
             "ticks": ""
            },
            "colorscale": [
             [
              0,
              "#0d0887"
             ],
             [
              0.1111111111111111,
              "#46039f"
             ],
             [
              0.2222222222222222,
              "#7201a8"
             ],
             [
              0.3333333333333333,
              "#9c179e"
             ],
             [
              0.4444444444444444,
              "#bd3786"
             ],
             [
              0.5555555555555556,
              "#d8576b"
             ],
             [
              0.6666666666666666,
              "#ed7953"
             ],
             [
              0.7777777777777778,
              "#fb9f3a"
             ],
             [
              0.8888888888888888,
              "#fdca26"
             ],
             [
              1,
              "#f0f921"
             ]
            ],
            "type": "heatmapgl"
           }
          ],
          "histogram": [
           {
            "marker": {
             "colorbar": {
              "outlinewidth": 0,
              "ticks": ""
             }
            },
            "type": "histogram"
           }
          ],
          "histogram2d": [
           {
            "colorbar": {
             "outlinewidth": 0,
             "ticks": ""
            },
            "colorscale": [
             [
              0,
              "#0d0887"
             ],
             [
              0.1111111111111111,
              "#46039f"
             ],
             [
              0.2222222222222222,
              "#7201a8"
             ],
             [
              0.3333333333333333,
              "#9c179e"
             ],
             [
              0.4444444444444444,
              "#bd3786"
             ],
             [
              0.5555555555555556,
              "#d8576b"
             ],
             [
              0.6666666666666666,
              "#ed7953"
             ],
             [
              0.7777777777777778,
              "#fb9f3a"
             ],
             [
              0.8888888888888888,
              "#fdca26"
             ],
             [
              1,
              "#f0f921"
             ]
            ],
            "type": "histogram2d"
           }
          ],
          "histogram2dcontour": [
           {
            "colorbar": {
             "outlinewidth": 0,
             "ticks": ""
            },
            "colorscale": [
             [
              0,
              "#0d0887"
             ],
             [
              0.1111111111111111,
              "#46039f"
             ],
             [
              0.2222222222222222,
              "#7201a8"
             ],
             [
              0.3333333333333333,
              "#9c179e"
             ],
             [
              0.4444444444444444,
              "#bd3786"
             ],
             [
              0.5555555555555556,
              "#d8576b"
             ],
             [
              0.6666666666666666,
              "#ed7953"
             ],
             [
              0.7777777777777778,
              "#fb9f3a"
             ],
             [
              0.8888888888888888,
              "#fdca26"
             ],
             [
              1,
              "#f0f921"
             ]
            ],
            "type": "histogram2dcontour"
           }
          ],
          "mesh3d": [
           {
            "colorbar": {
             "outlinewidth": 0,
             "ticks": ""
            },
            "type": "mesh3d"
           }
          ],
          "parcoords": [
           {
            "line": {
             "colorbar": {
              "outlinewidth": 0,
              "ticks": ""
             }
            },
            "type": "parcoords"
           }
          ],
          "pie": [
           {
            "automargin": true,
            "type": "pie"
           }
          ],
          "scatter": [
           {
            "marker": {
             "colorbar": {
              "outlinewidth": 0,
              "ticks": ""
             }
            },
            "type": "scatter"
           }
          ],
          "scatter3d": [
           {
            "line": {
             "colorbar": {
              "outlinewidth": 0,
              "ticks": ""
             }
            },
            "marker": {
             "colorbar": {
              "outlinewidth": 0,
              "ticks": ""
             }
            },
            "type": "scatter3d"
           }
          ],
          "scattercarpet": [
           {
            "marker": {
             "colorbar": {
              "outlinewidth": 0,
              "ticks": ""
             }
            },
            "type": "scattercarpet"
           }
          ],
          "scattergeo": [
           {
            "marker": {
             "colorbar": {
              "outlinewidth": 0,
              "ticks": ""
             }
            },
            "type": "scattergeo"
           }
          ],
          "scattergl": [
           {
            "marker": {
             "colorbar": {
              "outlinewidth": 0,
              "ticks": ""
             }
            },
            "type": "scattergl"
           }
          ],
          "scattermapbox": [
           {
            "marker": {
             "colorbar": {
              "outlinewidth": 0,
              "ticks": ""
             }
            },
            "type": "scattermapbox"
           }
          ],
          "scatterpolar": [
           {
            "marker": {
             "colorbar": {
              "outlinewidth": 0,
              "ticks": ""
             }
            },
            "type": "scatterpolar"
           }
          ],
          "scatterpolargl": [
           {
            "marker": {
             "colorbar": {
              "outlinewidth": 0,
              "ticks": ""
             }
            },
            "type": "scatterpolargl"
           }
          ],
          "scatterternary": [
           {
            "marker": {
             "colorbar": {
              "outlinewidth": 0,
              "ticks": ""
             }
            },
            "type": "scatterternary"
           }
          ],
          "surface": [
           {
            "colorbar": {
             "outlinewidth": 0,
             "ticks": ""
            },
            "colorscale": [
             [
              0,
              "#0d0887"
             ],
             [
              0.1111111111111111,
              "#46039f"
             ],
             [
              0.2222222222222222,
              "#7201a8"
             ],
             [
              0.3333333333333333,
              "#9c179e"
             ],
             [
              0.4444444444444444,
              "#bd3786"
             ],
             [
              0.5555555555555556,
              "#d8576b"
             ],
             [
              0.6666666666666666,
              "#ed7953"
             ],
             [
              0.7777777777777778,
              "#fb9f3a"
             ],
             [
              0.8888888888888888,
              "#fdca26"
             ],
             [
              1,
              "#f0f921"
             ]
            ],
            "type": "surface"
           }
          ],
          "table": [
           {
            "cells": {
             "fill": {
              "color": "#EBF0F8"
             },
             "line": {
              "color": "white"
             }
            },
            "header": {
             "fill": {
              "color": "#C8D4E3"
             },
             "line": {
              "color": "white"
             }
            },
            "type": "table"
           }
          ]
         },
         "layout": {
          "annotationdefaults": {
           "arrowcolor": "#2a3f5f",
           "arrowhead": 0,
           "arrowwidth": 1
          },
          "coloraxis": {
           "colorbar": {
            "outlinewidth": 0,
            "ticks": ""
           }
          },
          "colorscale": {
           "diverging": [
            [
             0,
             "#8e0152"
            ],
            [
             0.1,
             "#c51b7d"
            ],
            [
             0.2,
             "#de77ae"
            ],
            [
             0.3,
             "#f1b6da"
            ],
            [
             0.4,
             "#fde0ef"
            ],
            [
             0.5,
             "#f7f7f7"
            ],
            [
             0.6,
             "#e6f5d0"
            ],
            [
             0.7,
             "#b8e186"
            ],
            [
             0.8,
             "#7fbc41"
            ],
            [
             0.9,
             "#4d9221"
            ],
            [
             1,
             "#276419"
            ]
           ],
           "sequential": [
            [
             0,
             "#0d0887"
            ],
            [
             0.1111111111111111,
             "#46039f"
            ],
            [
             0.2222222222222222,
             "#7201a8"
            ],
            [
             0.3333333333333333,
             "#9c179e"
            ],
            [
             0.4444444444444444,
             "#bd3786"
            ],
            [
             0.5555555555555556,
             "#d8576b"
            ],
            [
             0.6666666666666666,
             "#ed7953"
            ],
            [
             0.7777777777777778,
             "#fb9f3a"
            ],
            [
             0.8888888888888888,
             "#fdca26"
            ],
            [
             1,
             "#f0f921"
            ]
           ],
           "sequentialminus": [
            [
             0,
             "#0d0887"
            ],
            [
             0.1111111111111111,
             "#46039f"
            ],
            [
             0.2222222222222222,
             "#7201a8"
            ],
            [
             0.3333333333333333,
             "#9c179e"
            ],
            [
             0.4444444444444444,
             "#bd3786"
            ],
            [
             0.5555555555555556,
             "#d8576b"
            ],
            [
             0.6666666666666666,
             "#ed7953"
            ],
            [
             0.7777777777777778,
             "#fb9f3a"
            ],
            [
             0.8888888888888888,
             "#fdca26"
            ],
            [
             1,
             "#f0f921"
            ]
           ]
          },
          "colorway": [
           "#636efa",
           "#EF553B",
           "#00cc96",
           "#ab63fa",
           "#FFA15A",
           "#19d3f3",
           "#FF6692",
           "#B6E880",
           "#FF97FF",
           "#FECB52"
          ],
          "font": {
           "color": "#2a3f5f"
          },
          "geo": {
           "bgcolor": "white",
           "lakecolor": "white",
           "landcolor": "#E5ECF6",
           "showlakes": true,
           "showland": true,
           "subunitcolor": "white"
          },
          "hoverlabel": {
           "align": "left"
          },
          "hovermode": "closest",
          "mapbox": {
           "style": "light"
          },
          "paper_bgcolor": "white",
          "plot_bgcolor": "#E5ECF6",
          "polar": {
           "angularaxis": {
            "gridcolor": "white",
            "linecolor": "white",
            "ticks": ""
           },
           "bgcolor": "#E5ECF6",
           "radialaxis": {
            "gridcolor": "white",
            "linecolor": "white",
            "ticks": ""
           }
          },
          "scene": {
           "xaxis": {
            "backgroundcolor": "#E5ECF6",
            "gridcolor": "white",
            "gridwidth": 2,
            "linecolor": "white",
            "showbackground": true,
            "ticks": "",
            "zerolinecolor": "white"
           },
           "yaxis": {
            "backgroundcolor": "#E5ECF6",
            "gridcolor": "white",
            "gridwidth": 2,
            "linecolor": "white",
            "showbackground": true,
            "ticks": "",
            "zerolinecolor": "white"
           },
           "zaxis": {
            "backgroundcolor": "#E5ECF6",
            "gridcolor": "white",
            "gridwidth": 2,
            "linecolor": "white",
            "showbackground": true,
            "ticks": "",
            "zerolinecolor": "white"
           }
          },
          "shapedefaults": {
           "line": {
            "color": "#2a3f5f"
           }
          },
          "ternary": {
           "aaxis": {
            "gridcolor": "white",
            "linecolor": "white",
            "ticks": ""
           },
           "baxis": {
            "gridcolor": "white",
            "linecolor": "white",
            "ticks": ""
           },
           "bgcolor": "#E5ECF6",
           "caxis": {
            "gridcolor": "white",
            "linecolor": "white",
            "ticks": ""
           }
          },
          "title": {
           "x": 0.05
          },
          "xaxis": {
           "automargin": true,
           "gridcolor": "white",
           "linecolor": "white",
           "ticks": "",
           "title": {
            "standoff": 15
           },
           "zerolinecolor": "white",
           "zerolinewidth": 2
          },
          "yaxis": {
           "automargin": true,
           "gridcolor": "white",
           "linecolor": "white",
           "ticks": "",
           "title": {
            "standoff": 15
           },
           "zerolinecolor": "white",
           "zerolinewidth": 2
          }
         }
        },
        "title": {
         "font": {
          "color": "#4D5663"
         }
        },
        "xaxis": {
         "anchor": "y",
         "domain": [
          0,
          0.2125
         ],
         "gridcolor": "#E1E5ED",
         "showgrid": false,
         "tickfont": {
          "color": "#4D5663"
         },
         "title": {
          "font": {
           "color": "#4D5663"
          },
          "text": ""
         },
         "zerolinecolor": "#E1E5ED"
        },
        "xaxis10": {
         "anchor": "y10",
         "domain": [
          0.2625,
          0.475
         ],
         "gridcolor": "#E1E5ED",
         "showgrid": false,
         "tickfont": {
          "color": "#4D5663"
         },
         "title": {
          "font": {
           "color": "#4D5663"
          },
          "text": ""
         },
         "zerolinecolor": "#E1E5ED"
        },
        "xaxis11": {
         "anchor": "y11",
         "domain": [
          0.525,
          0.7375
         ],
         "gridcolor": "#E1E5ED",
         "showgrid": false,
         "tickfont": {
          "color": "#4D5663"
         },
         "title": {
          "font": {
           "color": "#4D5663"
          },
          "text": ""
         },
         "zerolinecolor": "#E1E5ED"
        },
        "xaxis12": {
         "anchor": "y12",
         "domain": [
          0.7875,
          1
         ],
         "gridcolor": "#E1E5ED",
         "showgrid": false,
         "tickfont": {
          "color": "#4D5663"
         },
         "title": {
          "font": {
           "color": "#4D5663"
          },
          "text": ""
         },
         "zerolinecolor": "#E1E5ED"
        },
        "xaxis13": {
         "anchor": "y13",
         "domain": [
          0,
          0.2125
         ],
         "gridcolor": "#E1E5ED",
         "showgrid": false,
         "tickfont": {
          "color": "#4D5663"
         },
         "title": {
          "font": {
           "color": "#4D5663"
          },
          "text": ""
         },
         "zerolinecolor": "#E1E5ED"
        },
        "xaxis14": {
         "anchor": "y14",
         "domain": [
          0.2625,
          0.475
         ],
         "gridcolor": "#E1E5ED",
         "showgrid": false,
         "tickfont": {
          "color": "#4D5663"
         },
         "title": {
          "font": {
           "color": "#4D5663"
          },
          "text": ""
         },
         "zerolinecolor": "#E1E5ED"
        },
        "xaxis15": {
         "anchor": "y15",
         "domain": [
          0.525,
          0.7375
         ],
         "gridcolor": "#E1E5ED",
         "showgrid": false,
         "tickfont": {
          "color": "#4D5663"
         },
         "title": {
          "font": {
           "color": "#4D5663"
          },
          "text": ""
         },
         "zerolinecolor": "#E1E5ED"
        },
        "xaxis16": {
         "anchor": "y16",
         "domain": [
          0.7875,
          1
         ],
         "gridcolor": "#E1E5ED",
         "showgrid": false,
         "tickfont": {
          "color": "#4D5663"
         },
         "title": {
          "font": {
           "color": "#4D5663"
          },
          "text": ""
         },
         "zerolinecolor": "#E1E5ED"
        },
        "xaxis2": {
         "anchor": "y2",
         "domain": [
          0.2625,
          0.475
         ],
         "gridcolor": "#E1E5ED",
         "showgrid": false,
         "tickfont": {
          "color": "#4D5663"
         },
         "title": {
          "font": {
           "color": "#4D5663"
          },
          "text": ""
         },
         "zerolinecolor": "#E1E5ED"
        },
        "xaxis3": {
         "anchor": "y3",
         "domain": [
          0.525,
          0.7375
         ],
         "gridcolor": "#E1E5ED",
         "showgrid": false,
         "tickfont": {
          "color": "#4D5663"
         },
         "title": {
          "font": {
           "color": "#4D5663"
          },
          "text": ""
         },
         "zerolinecolor": "#E1E5ED"
        },
        "xaxis4": {
         "anchor": "y4",
         "domain": [
          0.7875,
          1
         ],
         "gridcolor": "#E1E5ED",
         "showgrid": false,
         "tickfont": {
          "color": "#4D5663"
         },
         "title": {
          "font": {
           "color": "#4D5663"
          },
          "text": ""
         },
         "zerolinecolor": "#E1E5ED"
        },
        "xaxis5": {
         "anchor": "y5",
         "domain": [
          0,
          0.2125
         ],
         "gridcolor": "#E1E5ED",
         "showgrid": false,
         "tickfont": {
          "color": "#4D5663"
         },
         "title": {
          "font": {
           "color": "#4D5663"
          },
          "text": ""
         },
         "zerolinecolor": "#E1E5ED"
        },
        "xaxis6": {
         "anchor": "y6",
         "domain": [
          0.2625,
          0.475
         ],
         "gridcolor": "#E1E5ED",
         "showgrid": false,
         "tickfont": {
          "color": "#4D5663"
         },
         "title": {
          "font": {
           "color": "#4D5663"
          },
          "text": ""
         },
         "zerolinecolor": "#E1E5ED"
        },
        "xaxis7": {
         "anchor": "y7",
         "domain": [
          0.525,
          0.7375
         ],
         "gridcolor": "#E1E5ED",
         "showgrid": false,
         "tickfont": {
          "color": "#4D5663"
         },
         "title": {
          "font": {
           "color": "#4D5663"
          },
          "text": ""
         },
         "zerolinecolor": "#E1E5ED"
        },
        "xaxis8": {
         "anchor": "y8",
         "domain": [
          0.7875,
          1
         ],
         "gridcolor": "#E1E5ED",
         "showgrid": false,
         "tickfont": {
          "color": "#4D5663"
         },
         "title": {
          "font": {
           "color": "#4D5663"
          },
          "text": ""
         },
         "zerolinecolor": "#E1E5ED"
        },
        "xaxis9": {
         "anchor": "y9",
         "domain": [
          0,
          0.2125
         ],
         "gridcolor": "#E1E5ED",
         "showgrid": false,
         "tickfont": {
          "color": "#4D5663"
         },
         "title": {
          "font": {
           "color": "#4D5663"
          },
          "text": ""
         },
         "zerolinecolor": "#E1E5ED"
        },
        "yaxis": {
         "anchor": "x",
         "domain": [
          0.8025,
          1
         ],
         "gridcolor": "#E1E5ED",
         "showgrid": false,
         "tickfont": {
          "color": "#4D5663"
         },
         "title": {
          "font": {
           "color": "#4D5663"
          },
          "text": ""
         },
         "zerolinecolor": "#E1E5ED"
        },
        "yaxis10": {
         "anchor": "x10",
         "domain": [
          0.2675,
          0.465
         ],
         "gridcolor": "#E1E5ED",
         "showgrid": false,
         "tickfont": {
          "color": "#4D5663"
         },
         "title": {
          "font": {
           "color": "#4D5663"
          },
          "text": ""
         },
         "zerolinecolor": "#E1E5ED"
        },
        "yaxis11": {
         "anchor": "x11",
         "domain": [
          0.2675,
          0.465
         ],
         "gridcolor": "#E1E5ED",
         "showgrid": false,
         "tickfont": {
          "color": "#4D5663"
         },
         "title": {
          "font": {
           "color": "#4D5663"
          },
          "text": ""
         },
         "zerolinecolor": "#E1E5ED"
        },
        "yaxis12": {
         "anchor": "x12",
         "domain": [
          0.2675,
          0.465
         ],
         "gridcolor": "#E1E5ED",
         "showgrid": false,
         "tickfont": {
          "color": "#4D5663"
         },
         "title": {
          "font": {
           "color": "#4D5663"
          },
          "text": ""
         },
         "zerolinecolor": "#E1E5ED"
        },
        "yaxis13": {
         "anchor": "x13",
         "domain": [
          0,
          0.1975
         ],
         "gridcolor": "#E1E5ED",
         "showgrid": false,
         "tickfont": {
          "color": "#4D5663"
         },
         "title": {
          "font": {
           "color": "#4D5663"
          },
          "text": ""
         },
         "zerolinecolor": "#E1E5ED"
        },
        "yaxis14": {
         "anchor": "x14",
         "domain": [
          0,
          0.1975
         ],
         "gridcolor": "#E1E5ED",
         "showgrid": false,
         "tickfont": {
          "color": "#4D5663"
         },
         "title": {
          "font": {
           "color": "#4D5663"
          },
          "text": ""
         },
         "zerolinecolor": "#E1E5ED"
        },
        "yaxis15": {
         "anchor": "x15",
         "domain": [
          0,
          0.1975
         ],
         "gridcolor": "#E1E5ED",
         "showgrid": false,
         "tickfont": {
          "color": "#4D5663"
         },
         "title": {
          "font": {
           "color": "#4D5663"
          },
          "text": ""
         },
         "zerolinecolor": "#E1E5ED"
        },
        "yaxis16": {
         "anchor": "x16",
         "domain": [
          0,
          0.1975
         ],
         "gridcolor": "#E1E5ED",
         "showgrid": false,
         "tickfont": {
          "color": "#4D5663"
         },
         "title": {
          "font": {
           "color": "#4D5663"
          },
          "text": ""
         },
         "zerolinecolor": "#E1E5ED"
        },
        "yaxis2": {
         "anchor": "x2",
         "domain": [
          0.8025,
          1
         ],
         "gridcolor": "#E1E5ED",
         "showgrid": false,
         "tickfont": {
          "color": "#4D5663"
         },
         "title": {
          "font": {
           "color": "#4D5663"
          },
          "text": ""
         },
         "zerolinecolor": "#E1E5ED"
        },
        "yaxis3": {
         "anchor": "x3",
         "domain": [
          0.8025,
          1
         ],
         "gridcolor": "#E1E5ED",
         "showgrid": false,
         "tickfont": {
          "color": "#4D5663"
         },
         "title": {
          "font": {
           "color": "#4D5663"
          },
          "text": ""
         },
         "zerolinecolor": "#E1E5ED"
        },
        "yaxis4": {
         "anchor": "x4",
         "domain": [
          0.8025,
          1
         ],
         "gridcolor": "#E1E5ED",
         "showgrid": false,
         "tickfont": {
          "color": "#4D5663"
         },
         "title": {
          "font": {
           "color": "#4D5663"
          },
          "text": ""
         },
         "zerolinecolor": "#E1E5ED"
        },
        "yaxis5": {
         "anchor": "x5",
         "domain": [
          0.535,
          0.7325
         ],
         "gridcolor": "#E1E5ED",
         "showgrid": false,
         "tickfont": {
          "color": "#4D5663"
         },
         "title": {
          "font": {
           "color": "#4D5663"
          },
          "text": ""
         },
         "zerolinecolor": "#E1E5ED"
        },
        "yaxis6": {
         "anchor": "x6",
         "domain": [
          0.535,
          0.7325
         ],
         "gridcolor": "#E1E5ED",
         "showgrid": false,
         "tickfont": {
          "color": "#4D5663"
         },
         "title": {
          "font": {
           "color": "#4D5663"
          },
          "text": ""
         },
         "zerolinecolor": "#E1E5ED"
        },
        "yaxis7": {
         "anchor": "x7",
         "domain": [
          0.535,
          0.7325
         ],
         "gridcolor": "#E1E5ED",
         "showgrid": false,
         "tickfont": {
          "color": "#4D5663"
         },
         "title": {
          "font": {
           "color": "#4D5663"
          },
          "text": ""
         },
         "zerolinecolor": "#E1E5ED"
        },
        "yaxis8": {
         "anchor": "x8",
         "domain": [
          0.535,
          0.7325
         ],
         "gridcolor": "#E1E5ED",
         "showgrid": false,
         "tickfont": {
          "color": "#4D5663"
         },
         "title": {
          "font": {
           "color": "#4D5663"
          },
          "text": ""
         },
         "zerolinecolor": "#E1E5ED"
        },
        "yaxis9": {
         "anchor": "x9",
         "domain": [
          0.2675,
          0.465
         ],
         "gridcolor": "#E1E5ED",
         "showgrid": false,
         "tickfont": {
          "color": "#4D5663"
         },
         "title": {
          "font": {
           "color": "#4D5663"
          },
          "text": ""
         },
         "zerolinecolor": "#E1E5ED"
        }
       }
      },
      "text/html": [
       "<div>\n",
       "        \n",
       "        \n",
       "            <div id=\"7ea750e0-b65b-4614-9131-0fbd27056492\" class=\"plotly-graph-div\" style=\"height:525px; width:100%;\"></div>\n",
       "            <script type=\"text/javascript\">\n",
       "                require([\"plotly\"], function(Plotly) {\n",
       "                    window.PLOTLYENV=window.PLOTLYENV || {};\n",
       "                    window.PLOTLYENV.BASE_URL='https://plot.ly';\n",
       "                    \n",
       "                if (document.getElementById(\"7ea750e0-b65b-4614-9131-0fbd27056492\")) {\n",
       "                    Plotly.newPlot(\n",
       "                        '7ea750e0-b65b-4614-9131-0fbd27056492',\n",
       "                        [{\"histfunc\": \"count\", \"histnorm\": \"\", \"marker\": {\"color\": \"rgba(255, 153, 51, 1.0)\", \"line\": {\"color\": \"#4D5663\", \"width\": 1.3}}, \"name\": \"A\", \"nbinsx\": 10, \"opacity\": 0.8, \"orientation\": \"v\", \"type\": \"histogram\", \"x\": [0.18180147100568378, 1.5259192689018692, 0.05462294231575913, 0.9620187466870544, -0.8222317972353985, 0.7376470999818598, 2.565985906181714, 0.45318891947069434, -0.7944341338944605, -0.510126656582334, -0.9279436084824904, -0.38582825472318943, -1.0585984220855162, -0.28142164905234013, -1.304093003517012, 0.4108270136410678, -0.10346544680396652, 0.5617701761410218, 0.85012983817341, 3.317883997906613, -1.2299377046771796, 0.25242616334301704, 0.666193159529929, 1.7045686417950345, 0.498369859604301, 0.23512199526112346, 0.22984712263275214, 0.8220670942653372, -0.9316373038318361, -0.8133372654487864, -0.46110710582125797, -0.24278069894988633, -0.8630495311027098, -0.6081179940499232, -0.865440005067351, 0.7610663665742564, 1.8432998947747365, -0.07397753301994585, 1.2526255147764, 0.24191455996561825, 0.34153841092758647, -1.9422391912833021, 0.7005106327478433, -0.3570699705775189, -0.8979044540436244, 0.9859533728204699, -1.8204159688232633, -1.8586740366818395, 2.6255447880383476, 1.346073392634325, 0.5979131610295954, -0.6310181064983286, 0.8816181367002941, -0.1515878669143682, 0.8456908150738301, -0.38068740665033257, -0.22882880642843273, -1.2497193075271134, -0.32799052248708443, 0.5542548888575435, 0.5162621729738979, 0.5052772815135701, -0.8389817204410998, 0.7343318481787172, -2.460730589526606, 0.28645634659926655, -0.9063842375940628, -0.22856404887446638, 1.4399839172547648, 0.9100393480703535, 0.30345896102269737, -0.3628974932078356, 2.6357498627413234, -0.04345923574737296, 1.3175291949692673, -1.4097706927018359, -0.0013831737211759429, 0.615107557829702, -1.3055548676624311, 1.3269096276100592, -0.10099406571398988, -1.2285382037135435, 0.6383911443821109, 0.8095396542057248, 1.578418175405204, 1.29756306823381, 1.3601169081451077, -0.9318513011710051, 1.3562493690636221, 1.1791950798063475, -1.5955980790180853, -1.6539255583729817, 0.7454896604604655, 0.3735470472051365, -0.9326919686873352, 1.2921650415699764, 0.42137119617613156, 0.9584105309789688, -0.20506831241674106, -0.18068170494210395], \"xaxis\": \"x\", \"yaxis\": \"y\"}, {\"line\": {\"color\": \"rgba(128, 128, 128, 1.0)\", \"dash\": \"solid\", \"shape\": \"linear\", \"width\": 1.3}, \"marker\": {\"size\": 2, \"symbol\": \"circle\"}, \"mode\": \"markers\", \"name\": \"A\", \"text\": \"\", \"type\": \"scatter\", \"x\": [-0.5469159121855168, 1.5335809116120382, 0.5450059258553076, -0.22104960314383473, -0.5811744619592863, -1.5789371370541645, -0.7775105969731255, 1.8482416029564626, 0.9499766028082592, -1.1807702951371561, 0.673402969165375, 0.10968590216898477, 0.94833518416273, -0.23820594456410177, 0.03786911034547954, -0.7313326589482242, 1.4951879849297345, 1.322939037942328, 1.1527097158964639, 1.2777010918437115, 0.2536271035352632, -1.123312146421919, 0.1720374449477272, 0.4554752710834215, 0.2131548091143007, -2.421571653781463, -0.8934145530787032, -0.7434670473055622, 0.9023851424718344, -0.9733925428652126, -1.0227709180223288, 0.4389819748978042, -1.4808771020430385, 0.4252559303133159, -0.17955468538184405, -0.13740613622164452, 0.5906686674451844, -1.2585520255880729, -1.2005986769674541, 0.17501548638667636, 0.816542863672658, 1.2687247022875778, -0.33235363701544357, -0.04491296104917363, 0.22963030295067036, -0.7907740153569986, 2.4977502116425643, 1.8524978992909702, -1.0212862618211531, -1.4898227950445981, 0.20286667913810377, 0.6472271133999958, 0.864318620544289, 1.072337435155135, -0.6729759496197661, 0.11487167345738228, 0.12864576528653754, -0.3399781036195837, -0.10495757480919374, -1.0814833488113416, 0.11755515163294711, -0.42032940379103945, 2.6975658894744328, -0.5243773982830336, 0.8848766341227842, -0.2913040488918608, 0.23727600462759454, -0.7135668972565455, -1.459476599906761, -0.35197246830748175, 0.549119470213196, -0.2589892305388133, -2.146266616222206, -0.7183043476033817, -2.4145493056618084, -0.6665903031659891, -0.30145931495287637, -1.8176098280733644, -1.2239748761199158, 0.5728590024490764, -0.45030906165483175, 0.66018912629835, 1.0838905040801134, -1.3587905656125694, -0.5121278860434562, -0.1044871821195812, 0.222331854394566, -0.16068147766711421, -1.0861720614921715, 0.9068570766941219, 1.4219783958444223, -0.7303199502159592, -0.3960750521023138, -0.03223460954078357, 0.7973555751939901, -0.7856486090191648, -0.35867504944759665, -1.5527243814003926, -0.4898324652797188, 0.7233795774815167], \"xaxis\": \"x2\", \"y\": [0.18180147100568378, 1.5259192689018692, 0.05462294231575913, 0.9620187466870544, -0.8222317972353985, 0.7376470999818598, 2.565985906181714, 0.45318891947069434, -0.7944341338944605, -0.510126656582334, -0.9279436084824904, -0.38582825472318943, -1.0585984220855162, -0.28142164905234013, -1.304093003517012, 0.4108270136410678, -0.10346544680396652, 0.5617701761410218, 0.85012983817341, 3.317883997906613, -1.2299377046771796, 0.25242616334301704, 0.666193159529929, 1.7045686417950345, 0.498369859604301, 0.23512199526112346, 0.22984712263275214, 0.8220670942653372, -0.9316373038318361, -0.8133372654487864, -0.46110710582125797, -0.24278069894988633, -0.8630495311027098, -0.6081179940499232, -0.865440005067351, 0.7610663665742564, 1.8432998947747365, -0.07397753301994585, 1.2526255147764, 0.24191455996561825, 0.34153841092758647, -1.9422391912833021, 0.7005106327478433, -0.3570699705775189, -0.8979044540436244, 0.9859533728204699, -1.8204159688232633, -1.8586740366818395, 2.6255447880383476, 1.346073392634325, 0.5979131610295954, -0.6310181064983286, 0.8816181367002941, -0.1515878669143682, 0.8456908150738301, -0.38068740665033257, -0.22882880642843273, -1.2497193075271134, -0.32799052248708443, 0.5542548888575435, 0.5162621729738979, 0.5052772815135701, -0.8389817204410998, 0.7343318481787172, -2.460730589526606, 0.28645634659926655, -0.9063842375940628, -0.22856404887446638, 1.4399839172547648, 0.9100393480703535, 0.30345896102269737, -0.3628974932078356, 2.6357498627413234, -0.04345923574737296, 1.3175291949692673, -1.4097706927018359, -0.0013831737211759429, 0.615107557829702, -1.3055548676624311, 1.3269096276100592, -0.10099406571398988, -1.2285382037135435, 0.6383911443821109, 0.8095396542057248, 1.578418175405204, 1.29756306823381, 1.3601169081451077, -0.9318513011710051, 1.3562493690636221, 1.1791950798063475, -1.5955980790180853, -1.6539255583729817, 0.7454896604604655, 0.3735470472051365, -0.9326919686873352, 1.2921650415699764, 0.42137119617613156, 0.9584105309789688, -0.20506831241674106, -0.18068170494210395], \"yaxis\": \"y2\"}, {\"line\": {\"color\": \"rgba(128, 128, 128, 1.0)\", \"dash\": \"solid\", \"shape\": \"linear\", \"width\": 1.3}, \"marker\": {\"size\": 2, \"symbol\": \"circle\"}, \"mode\": \"markers\", \"name\": \"A\", \"text\": \"\", \"type\": \"scatter\", \"x\": [0.1686932092281815, 1.0328131315641254, -0.36454268342269186, 1.26875314456932, -0.7293546821848843, 1.0223750890003422, -2.3990170795591155, -0.3224330884639071, -1.1127502144935488, 0.27805180086125036, -1.6192712093764778, 0.5522938811583652, 0.16596072666402317, -0.4427821933047732, -1.2773507600617164, 0.28032190761938197, -0.6382245923166383, -1.2846859775303165, 1.312855303533158, -0.22563909656268133, 1.0266475228428276, -0.6069164279849912, 0.2123709869302311, -0.2899127761710966, 0.039694662384039806, -1.381786882184596, 1.6177950329862125, 0.570332602573185, 0.6579598651692635, 0.8628463705204259, -1.281260906555398, -1.330901792141282, 0.46112681779407355, -1.206855126114699, -0.07367191003817267, 0.7654233778416981, -0.6880559910563467, -0.2604083477294942, -0.5064539730848476, 0.45116380358815483, -1.1790756271340508, -0.16452165654951054, 1.5012251376187193, 0.014714692059038331, 0.5158276661987844, 1.2724775489620699, -0.7852792994821955, -0.465307467475932, 0.34897937264926887, -1.0505894896581416, -0.578983848588057, 0.239310603321956, 0.43855478686956506, 1.0061472366585098, 0.3746619843517988, 0.7237034968882138, 0.2198279533553722, -0.7969577455352174, 0.09256643670117436, 0.689119453098922, 1.2745295055725188, -0.691970114547277, 0.16038877562918785, -0.8293173227942326, 0.7743696030934961, 0.6422796194637943, 1.0836979431167522, 0.3611426655567145, -0.36740374300299156, 0.37931865983790786, 0.7464160503580077, 0.2209541083266774, -1.370120714022927, -0.7636897431780868, -1.9275593139022884, -0.6533403415953668, -0.90565212855155, 1.3196462127373443, 0.8194783808993695, -0.4244039145622759, 1.1853512768256445, 0.7729561149737242, 0.1395548530344274, -0.5624653329596475, -0.3523192585423655, 1.7436203130096126, 0.17259255088922626, 1.092757105706978, -0.26379546894779904, 0.06826700708597289, 0.040778907074701706, 1.453051252614507, 0.23719196735242684, 0.28226145756702553, -1.546600001664014, 0.4011571565271534, -0.48054775171076525, -2.2732358196579847, 0.38096123577391827, -0.6936629291337045], \"xaxis\": \"x3\", \"y\": [0.18180147100568378, 1.5259192689018692, 0.05462294231575913, 0.9620187466870544, -0.8222317972353985, 0.7376470999818598, 2.565985906181714, 0.45318891947069434, -0.7944341338944605, -0.510126656582334, -0.9279436084824904, -0.38582825472318943, -1.0585984220855162, -0.28142164905234013, -1.304093003517012, 0.4108270136410678, -0.10346544680396652, 0.5617701761410218, 0.85012983817341, 3.317883997906613, -1.2299377046771796, 0.25242616334301704, 0.666193159529929, 1.7045686417950345, 0.498369859604301, 0.23512199526112346, 0.22984712263275214, 0.8220670942653372, -0.9316373038318361, -0.8133372654487864, -0.46110710582125797, -0.24278069894988633, -0.8630495311027098, -0.6081179940499232, -0.865440005067351, 0.7610663665742564, 1.8432998947747365, -0.07397753301994585, 1.2526255147764, 0.24191455996561825, 0.34153841092758647, -1.9422391912833021, 0.7005106327478433, -0.3570699705775189, -0.8979044540436244, 0.9859533728204699, -1.8204159688232633, -1.8586740366818395, 2.6255447880383476, 1.346073392634325, 0.5979131610295954, -0.6310181064983286, 0.8816181367002941, -0.1515878669143682, 0.8456908150738301, -0.38068740665033257, -0.22882880642843273, -1.2497193075271134, -0.32799052248708443, 0.5542548888575435, 0.5162621729738979, 0.5052772815135701, -0.8389817204410998, 0.7343318481787172, -2.460730589526606, 0.28645634659926655, -0.9063842375940628, -0.22856404887446638, 1.4399839172547648, 0.9100393480703535, 0.30345896102269737, -0.3628974932078356, 2.6357498627413234, -0.04345923574737296, 1.3175291949692673, -1.4097706927018359, -0.0013831737211759429, 0.615107557829702, -1.3055548676624311, 1.3269096276100592, -0.10099406571398988, -1.2285382037135435, 0.6383911443821109, 0.8095396542057248, 1.578418175405204, 1.29756306823381, 1.3601169081451077, -0.9318513011710051, 1.3562493690636221, 1.1791950798063475, -1.5955980790180853, -1.6539255583729817, 0.7454896604604655, 0.3735470472051365, -0.9326919686873352, 1.2921650415699764, 0.42137119617613156, 0.9584105309789688, -0.20506831241674106, -0.18068170494210395], \"yaxis\": \"y3\"}, {\"line\": {\"color\": \"rgba(128, 128, 128, 1.0)\", \"dash\": \"solid\", \"shape\": \"linear\", \"width\": 1.3}, \"marker\": {\"size\": 2, \"symbol\": \"circle\"}, \"mode\": \"markers\", \"name\": \"A\", \"text\": \"\", \"type\": \"scatter\", \"x\": [-0.2987620016573524, 0.5856710023298739, 0.031296639417608546, 0.8250528503730282, -1.473290930804679, -0.9517326409191724, 2.3743161950331144, -1.8296060962471408, -0.6387615110845835, 1.4460622953201945, 0.03971990073304708, -0.31268222003971635, -0.982492539143231, 0.1824855017747259, -1.0361921486024919, 0.34760565704225904, 0.6925751155450205, -0.3693607582480481, -0.3449539166740733, -0.39179442342051624, 0.5022408487468865, 0.2605286061239689, 0.004575926439469356, -0.3953370227932897, 1.2826009861597745, 1.0566443045816543, -0.7197130284979981, -1.0705014437071068, 0.4915572284288318, -1.7209602812628102, 1.162852045938196, 0.17586017482655789, 0.022307473917991143, 0.4982938461520577, 0.655127870610559, -0.47047209971519716, 1.4158028633015007, -0.7130840138427691, 0.48211482379937914, 0.43845318085798624, -1.4500993581324517, -0.23595625723701635, 0.8434555096522347, -1.609285641738247, -0.5931779346818965, 0.7015421730797939, 0.17884901814887, 0.797470154285368, 0.12789059575800615, -0.5383413660815077, -0.9925198409950517, 0.13093051267534628, -0.2769682126580611, 1.620229033911083, -0.5679830629877168, -1.3721337571217125, -1.748539086714276, -2.1611027179767373, 0.7700537412254298, -0.45442613009989125, -0.808004692494974, -0.6377901686512377, 1.4909997041265368, 0.18325574932005026, 0.4712774376187271, -0.524090138506383, -0.23232788050333017, 1.0999480160820305, -0.7842364054071148, -0.8996922250838094, 0.7662520789851596, -1.536654774195429, 0.38285126522198415, 0.8337709958796933, -0.4172783387910231, -0.9840846833282685, 0.6000148666329089, -0.9055288956249931, -0.6133631405953454, 1.9565117442952757, 0.1441319472477782, 1.069925126282556, -0.47975143036567186, -1.8335171431477462, -0.0076920202370756195, -0.14457847090136428, 0.6215826092194757, -2.2457849180881015, -0.1777547716686796, -1.1018983499480848, -0.20122337116145445, -1.9387556311398395, 1.0967315511089437, 0.0651971757059661, -0.41852366901752325, 0.5236168188263617, -0.00033749631630545596, 0.9119846043009965, 1.0594214785836582, 0.1570254530931209], \"xaxis\": \"x4\", \"y\": [0.18180147100568378, 1.5259192689018692, 0.05462294231575913, 0.9620187466870544, -0.8222317972353985, 0.7376470999818598, 2.565985906181714, 0.45318891947069434, -0.7944341338944605, -0.510126656582334, -0.9279436084824904, -0.38582825472318943, -1.0585984220855162, -0.28142164905234013, -1.304093003517012, 0.4108270136410678, -0.10346544680396652, 0.5617701761410218, 0.85012983817341, 3.317883997906613, -1.2299377046771796, 0.25242616334301704, 0.666193159529929, 1.7045686417950345, 0.498369859604301, 0.23512199526112346, 0.22984712263275214, 0.8220670942653372, -0.9316373038318361, -0.8133372654487864, -0.46110710582125797, -0.24278069894988633, -0.8630495311027098, -0.6081179940499232, -0.865440005067351, 0.7610663665742564, 1.8432998947747365, -0.07397753301994585, 1.2526255147764, 0.24191455996561825, 0.34153841092758647, -1.9422391912833021, 0.7005106327478433, -0.3570699705775189, -0.8979044540436244, 0.9859533728204699, -1.8204159688232633, -1.8586740366818395, 2.6255447880383476, 1.346073392634325, 0.5979131610295954, -0.6310181064983286, 0.8816181367002941, -0.1515878669143682, 0.8456908150738301, -0.38068740665033257, -0.22882880642843273, -1.2497193075271134, -0.32799052248708443, 0.5542548888575435, 0.5162621729738979, 0.5052772815135701, -0.8389817204410998, 0.7343318481787172, -2.460730589526606, 0.28645634659926655, -0.9063842375940628, -0.22856404887446638, 1.4399839172547648, 0.9100393480703535, 0.30345896102269737, -0.3628974932078356, 2.6357498627413234, -0.04345923574737296, 1.3175291949692673, -1.4097706927018359, -0.0013831737211759429, 0.615107557829702, -1.3055548676624311, 1.3269096276100592, -0.10099406571398988, -1.2285382037135435, 0.6383911443821109, 0.8095396542057248, 1.578418175405204, 1.29756306823381, 1.3601169081451077, -0.9318513011710051, 1.3562493690636221, 1.1791950798063475, -1.5955980790180853, -1.6539255583729817, 0.7454896604604655, 0.3735470472051365, -0.9326919686873352, 1.2921650415699764, 0.42137119617613156, 0.9584105309789688, -0.20506831241674106, -0.18068170494210395], \"yaxis\": \"y4\"}, {\"line\": {\"color\": \"rgba(128, 128, 128, 1.0)\", \"dash\": \"solid\", \"shape\": \"linear\", \"width\": 1.3}, \"marker\": {\"size\": 2, \"symbol\": \"circle\"}, \"mode\": \"markers\", \"name\": \"B\", \"text\": \"\", \"type\": \"scatter\", \"x\": [0.18180147100568378, 1.5259192689018692, 0.05462294231575913, 0.9620187466870544, -0.8222317972353985, 0.7376470999818598, 2.565985906181714, 0.45318891947069434, -0.7944341338944605, -0.510126656582334, -0.9279436084824904, -0.38582825472318943, -1.0585984220855162, -0.28142164905234013, -1.304093003517012, 0.4108270136410678, -0.10346544680396652, 0.5617701761410218, 0.85012983817341, 3.317883997906613, -1.2299377046771796, 0.25242616334301704, 0.666193159529929, 1.7045686417950345, 0.498369859604301, 0.23512199526112346, 0.22984712263275214, 0.8220670942653372, -0.9316373038318361, -0.8133372654487864, -0.46110710582125797, -0.24278069894988633, -0.8630495311027098, -0.6081179940499232, -0.865440005067351, 0.7610663665742564, 1.8432998947747365, -0.07397753301994585, 1.2526255147764, 0.24191455996561825, 0.34153841092758647, -1.9422391912833021, 0.7005106327478433, -0.3570699705775189, -0.8979044540436244, 0.9859533728204699, -1.8204159688232633, -1.8586740366818395, 2.6255447880383476, 1.346073392634325, 0.5979131610295954, -0.6310181064983286, 0.8816181367002941, -0.1515878669143682, 0.8456908150738301, -0.38068740665033257, -0.22882880642843273, -1.2497193075271134, -0.32799052248708443, 0.5542548888575435, 0.5162621729738979, 0.5052772815135701, -0.8389817204410998, 0.7343318481787172, -2.460730589526606, 0.28645634659926655, -0.9063842375940628, -0.22856404887446638, 1.4399839172547648, 0.9100393480703535, 0.30345896102269737, -0.3628974932078356, 2.6357498627413234, -0.04345923574737296, 1.3175291949692673, -1.4097706927018359, -0.0013831737211759429, 0.615107557829702, -1.3055548676624311, 1.3269096276100592, -0.10099406571398988, -1.2285382037135435, 0.6383911443821109, 0.8095396542057248, 1.578418175405204, 1.29756306823381, 1.3601169081451077, -0.9318513011710051, 1.3562493690636221, 1.1791950798063475, -1.5955980790180853, -1.6539255583729817, 0.7454896604604655, 0.3735470472051365, -0.9326919686873352, 1.2921650415699764, 0.42137119617613156, 0.9584105309789688, -0.20506831241674106, -0.18068170494210395], \"xaxis\": \"x5\", \"y\": [-0.5469159121855168, 1.5335809116120382, 0.5450059258553076, -0.22104960314383473, -0.5811744619592863, -1.5789371370541645, -0.7775105969731255, 1.8482416029564626, 0.9499766028082592, -1.1807702951371561, 0.673402969165375, 0.10968590216898477, 0.94833518416273, -0.23820594456410177, 0.03786911034547954, -0.7313326589482242, 1.4951879849297345, 1.322939037942328, 1.1527097158964639, 1.2777010918437115, 0.2536271035352632, -1.123312146421919, 0.1720374449477272, 0.4554752710834215, 0.2131548091143007, -2.421571653781463, -0.8934145530787032, -0.7434670473055622, 0.9023851424718344, -0.9733925428652126, -1.0227709180223288, 0.4389819748978042, -1.4808771020430385, 0.4252559303133159, -0.17955468538184405, -0.13740613622164452, 0.5906686674451844, -1.2585520255880729, -1.2005986769674541, 0.17501548638667636, 0.816542863672658, 1.2687247022875778, -0.33235363701544357, -0.04491296104917363, 0.22963030295067036, -0.7907740153569986, 2.4977502116425643, 1.8524978992909702, -1.0212862618211531, -1.4898227950445981, 0.20286667913810377, 0.6472271133999958, 0.864318620544289, 1.072337435155135, -0.6729759496197661, 0.11487167345738228, 0.12864576528653754, -0.3399781036195837, -0.10495757480919374, -1.0814833488113416, 0.11755515163294711, -0.42032940379103945, 2.6975658894744328, -0.5243773982830336, 0.8848766341227842, -0.2913040488918608, 0.23727600462759454, -0.7135668972565455, -1.459476599906761, -0.35197246830748175, 0.549119470213196, -0.2589892305388133, -2.146266616222206, -0.7183043476033817, -2.4145493056618084, -0.6665903031659891, -0.30145931495287637, -1.8176098280733644, -1.2239748761199158, 0.5728590024490764, -0.45030906165483175, 0.66018912629835, 1.0838905040801134, -1.3587905656125694, -0.5121278860434562, -0.1044871821195812, 0.222331854394566, -0.16068147766711421, -1.0861720614921715, 0.9068570766941219, 1.4219783958444223, -0.7303199502159592, -0.3960750521023138, -0.03223460954078357, 0.7973555751939901, -0.7856486090191648, -0.35867504944759665, -1.5527243814003926, -0.4898324652797188, 0.7233795774815167], \"yaxis\": \"y5\"}, {\"histfunc\": \"count\", \"histnorm\": \"\", \"marker\": {\"color\": \"rgba(55, 128, 191, 1.0)\", \"line\": {\"color\": \"#4D5663\", \"width\": 1.3}}, \"name\": \"B\", \"nbinsx\": 10, \"opacity\": 0.8, \"orientation\": \"v\", \"type\": \"histogram\", \"x\": [-0.5469159121855168, 1.5335809116120382, 0.5450059258553076, -0.22104960314383473, -0.5811744619592863, -1.5789371370541645, -0.7775105969731255, 1.8482416029564626, 0.9499766028082592, -1.1807702951371561, 0.673402969165375, 0.10968590216898477, 0.94833518416273, -0.23820594456410177, 0.03786911034547954, -0.7313326589482242, 1.4951879849297345, 1.322939037942328, 1.1527097158964639, 1.2777010918437115, 0.2536271035352632, -1.123312146421919, 0.1720374449477272, 0.4554752710834215, 0.2131548091143007, -2.421571653781463, -0.8934145530787032, -0.7434670473055622, 0.9023851424718344, -0.9733925428652126, -1.0227709180223288, 0.4389819748978042, -1.4808771020430385, 0.4252559303133159, -0.17955468538184405, -0.13740613622164452, 0.5906686674451844, -1.2585520255880729, -1.2005986769674541, 0.17501548638667636, 0.816542863672658, 1.2687247022875778, -0.33235363701544357, -0.04491296104917363, 0.22963030295067036, -0.7907740153569986, 2.4977502116425643, 1.8524978992909702, -1.0212862618211531, -1.4898227950445981, 0.20286667913810377, 0.6472271133999958, 0.864318620544289, 1.072337435155135, -0.6729759496197661, 0.11487167345738228, 0.12864576528653754, -0.3399781036195837, -0.10495757480919374, -1.0814833488113416, 0.11755515163294711, -0.42032940379103945, 2.6975658894744328, -0.5243773982830336, 0.8848766341227842, -0.2913040488918608, 0.23727600462759454, -0.7135668972565455, -1.459476599906761, -0.35197246830748175, 0.549119470213196, -0.2589892305388133, -2.146266616222206, -0.7183043476033817, -2.4145493056618084, -0.6665903031659891, -0.30145931495287637, -1.8176098280733644, -1.2239748761199158, 0.5728590024490764, -0.45030906165483175, 0.66018912629835, 1.0838905040801134, -1.3587905656125694, -0.5121278860434562, -0.1044871821195812, 0.222331854394566, -0.16068147766711421, -1.0861720614921715, 0.9068570766941219, 1.4219783958444223, -0.7303199502159592, -0.3960750521023138, -0.03223460954078357, 0.7973555751939901, -0.7856486090191648, -0.35867504944759665, -1.5527243814003926, -0.4898324652797188, 0.7233795774815167], \"xaxis\": \"x6\", \"yaxis\": \"y6\"}, {\"line\": {\"color\": \"rgba(128, 128, 128, 1.0)\", \"dash\": \"solid\", \"shape\": \"linear\", \"width\": 1.3}, \"marker\": {\"size\": 2, \"symbol\": \"circle\"}, \"mode\": \"markers\", \"name\": \"B\", \"text\": \"\", \"type\": \"scatter\", \"x\": [0.1686932092281815, 1.0328131315641254, -0.36454268342269186, 1.26875314456932, -0.7293546821848843, 1.0223750890003422, -2.3990170795591155, -0.3224330884639071, -1.1127502144935488, 0.27805180086125036, -1.6192712093764778, 0.5522938811583652, 0.16596072666402317, -0.4427821933047732, -1.2773507600617164, 0.28032190761938197, -0.6382245923166383, -1.2846859775303165, 1.312855303533158, -0.22563909656268133, 1.0266475228428276, -0.6069164279849912, 0.2123709869302311, -0.2899127761710966, 0.039694662384039806, -1.381786882184596, 1.6177950329862125, 0.570332602573185, 0.6579598651692635, 0.8628463705204259, -1.281260906555398, -1.330901792141282, 0.46112681779407355, -1.206855126114699, -0.07367191003817267, 0.7654233778416981, -0.6880559910563467, -0.2604083477294942, -0.5064539730848476, 0.45116380358815483, -1.1790756271340508, -0.16452165654951054, 1.5012251376187193, 0.014714692059038331, 0.5158276661987844, 1.2724775489620699, -0.7852792994821955, -0.465307467475932, 0.34897937264926887, -1.0505894896581416, -0.578983848588057, 0.239310603321956, 0.43855478686956506, 1.0061472366585098, 0.3746619843517988, 0.7237034968882138, 0.2198279533553722, -0.7969577455352174, 0.09256643670117436, 0.689119453098922, 1.2745295055725188, -0.691970114547277, 0.16038877562918785, -0.8293173227942326, 0.7743696030934961, 0.6422796194637943, 1.0836979431167522, 0.3611426655567145, -0.36740374300299156, 0.37931865983790786, 0.7464160503580077, 0.2209541083266774, -1.370120714022927, -0.7636897431780868, -1.9275593139022884, -0.6533403415953668, -0.90565212855155, 1.3196462127373443, 0.8194783808993695, -0.4244039145622759, 1.1853512768256445, 0.7729561149737242, 0.1395548530344274, -0.5624653329596475, -0.3523192585423655, 1.7436203130096126, 0.17259255088922626, 1.092757105706978, -0.26379546894779904, 0.06826700708597289, 0.040778907074701706, 1.453051252614507, 0.23719196735242684, 0.28226145756702553, -1.546600001664014, 0.4011571565271534, -0.48054775171076525, -2.2732358196579847, 0.38096123577391827, -0.6936629291337045], \"xaxis\": \"x7\", \"y\": [-0.5469159121855168, 1.5335809116120382, 0.5450059258553076, -0.22104960314383473, -0.5811744619592863, -1.5789371370541645, -0.7775105969731255, 1.8482416029564626, 0.9499766028082592, -1.1807702951371561, 0.673402969165375, 0.10968590216898477, 0.94833518416273, -0.23820594456410177, 0.03786911034547954, -0.7313326589482242, 1.4951879849297345, 1.322939037942328, 1.1527097158964639, 1.2777010918437115, 0.2536271035352632, -1.123312146421919, 0.1720374449477272, 0.4554752710834215, 0.2131548091143007, -2.421571653781463, -0.8934145530787032, -0.7434670473055622, 0.9023851424718344, -0.9733925428652126, -1.0227709180223288, 0.4389819748978042, -1.4808771020430385, 0.4252559303133159, -0.17955468538184405, -0.13740613622164452, 0.5906686674451844, -1.2585520255880729, -1.2005986769674541, 0.17501548638667636, 0.816542863672658, 1.2687247022875778, -0.33235363701544357, -0.04491296104917363, 0.22963030295067036, -0.7907740153569986, 2.4977502116425643, 1.8524978992909702, -1.0212862618211531, -1.4898227950445981, 0.20286667913810377, 0.6472271133999958, 0.864318620544289, 1.072337435155135, -0.6729759496197661, 0.11487167345738228, 0.12864576528653754, -0.3399781036195837, -0.10495757480919374, -1.0814833488113416, 0.11755515163294711, -0.42032940379103945, 2.6975658894744328, -0.5243773982830336, 0.8848766341227842, -0.2913040488918608, 0.23727600462759454, -0.7135668972565455, -1.459476599906761, -0.35197246830748175, 0.549119470213196, -0.2589892305388133, -2.146266616222206, -0.7183043476033817, -2.4145493056618084, -0.6665903031659891, -0.30145931495287637, -1.8176098280733644, -1.2239748761199158, 0.5728590024490764, -0.45030906165483175, 0.66018912629835, 1.0838905040801134, -1.3587905656125694, -0.5121278860434562, -0.1044871821195812, 0.222331854394566, -0.16068147766711421, -1.0861720614921715, 0.9068570766941219, 1.4219783958444223, -0.7303199502159592, -0.3960750521023138, -0.03223460954078357, 0.7973555751939901, -0.7856486090191648, -0.35867504944759665, -1.5527243814003926, -0.4898324652797188, 0.7233795774815167], \"yaxis\": \"y7\"}, {\"line\": {\"color\": \"rgba(128, 128, 128, 1.0)\", \"dash\": \"solid\", \"shape\": \"linear\", \"width\": 1.3}, \"marker\": {\"size\": 2, \"symbol\": \"circle\"}, \"mode\": \"markers\", \"name\": \"B\", \"text\": \"\", \"type\": \"scatter\", \"x\": [-0.2987620016573524, 0.5856710023298739, 0.031296639417608546, 0.8250528503730282, -1.473290930804679, -0.9517326409191724, 2.3743161950331144, -1.8296060962471408, -0.6387615110845835, 1.4460622953201945, 0.03971990073304708, -0.31268222003971635, -0.982492539143231, 0.1824855017747259, -1.0361921486024919, 0.34760565704225904, 0.6925751155450205, -0.3693607582480481, -0.3449539166740733, -0.39179442342051624, 0.5022408487468865, 0.2605286061239689, 0.004575926439469356, -0.3953370227932897, 1.2826009861597745, 1.0566443045816543, -0.7197130284979981, -1.0705014437071068, 0.4915572284288318, -1.7209602812628102, 1.162852045938196, 0.17586017482655789, 0.022307473917991143, 0.4982938461520577, 0.655127870610559, -0.47047209971519716, 1.4158028633015007, -0.7130840138427691, 0.48211482379937914, 0.43845318085798624, -1.4500993581324517, -0.23595625723701635, 0.8434555096522347, -1.609285641738247, -0.5931779346818965, 0.7015421730797939, 0.17884901814887, 0.797470154285368, 0.12789059575800615, -0.5383413660815077, -0.9925198409950517, 0.13093051267534628, -0.2769682126580611, 1.620229033911083, -0.5679830629877168, -1.3721337571217125, -1.748539086714276, -2.1611027179767373, 0.7700537412254298, -0.45442613009989125, -0.808004692494974, -0.6377901686512377, 1.4909997041265368, 0.18325574932005026, 0.4712774376187271, -0.524090138506383, -0.23232788050333017, 1.0999480160820305, -0.7842364054071148, -0.8996922250838094, 0.7662520789851596, -1.536654774195429, 0.38285126522198415, 0.8337709958796933, -0.4172783387910231, -0.9840846833282685, 0.6000148666329089, -0.9055288956249931, -0.6133631405953454, 1.9565117442952757, 0.1441319472477782, 1.069925126282556, -0.47975143036567186, -1.8335171431477462, -0.0076920202370756195, -0.14457847090136428, 0.6215826092194757, -2.2457849180881015, -0.1777547716686796, -1.1018983499480848, -0.20122337116145445, -1.9387556311398395, 1.0967315511089437, 0.0651971757059661, -0.41852366901752325, 0.5236168188263617, -0.00033749631630545596, 0.9119846043009965, 1.0594214785836582, 0.1570254530931209], \"xaxis\": \"x8\", \"y\": [-0.5469159121855168, 1.5335809116120382, 0.5450059258553076, -0.22104960314383473, -0.5811744619592863, -1.5789371370541645, -0.7775105969731255, 1.8482416029564626, 0.9499766028082592, -1.1807702951371561, 0.673402969165375, 0.10968590216898477, 0.94833518416273, -0.23820594456410177, 0.03786911034547954, -0.7313326589482242, 1.4951879849297345, 1.322939037942328, 1.1527097158964639, 1.2777010918437115, 0.2536271035352632, -1.123312146421919, 0.1720374449477272, 0.4554752710834215, 0.2131548091143007, -2.421571653781463, -0.8934145530787032, -0.7434670473055622, 0.9023851424718344, -0.9733925428652126, -1.0227709180223288, 0.4389819748978042, -1.4808771020430385, 0.4252559303133159, -0.17955468538184405, -0.13740613622164452, 0.5906686674451844, -1.2585520255880729, -1.2005986769674541, 0.17501548638667636, 0.816542863672658, 1.2687247022875778, -0.33235363701544357, -0.04491296104917363, 0.22963030295067036, -0.7907740153569986, 2.4977502116425643, 1.8524978992909702, -1.0212862618211531, -1.4898227950445981, 0.20286667913810377, 0.6472271133999958, 0.864318620544289, 1.072337435155135, -0.6729759496197661, 0.11487167345738228, 0.12864576528653754, -0.3399781036195837, -0.10495757480919374, -1.0814833488113416, 0.11755515163294711, -0.42032940379103945, 2.6975658894744328, -0.5243773982830336, 0.8848766341227842, -0.2913040488918608, 0.23727600462759454, -0.7135668972565455, -1.459476599906761, -0.35197246830748175, 0.549119470213196, -0.2589892305388133, -2.146266616222206, -0.7183043476033817, -2.4145493056618084, -0.6665903031659891, -0.30145931495287637, -1.8176098280733644, -1.2239748761199158, 0.5728590024490764, -0.45030906165483175, 0.66018912629835, 1.0838905040801134, -1.3587905656125694, -0.5121278860434562, -0.1044871821195812, 0.222331854394566, -0.16068147766711421, -1.0861720614921715, 0.9068570766941219, 1.4219783958444223, -0.7303199502159592, -0.3960750521023138, -0.03223460954078357, 0.7973555751939901, -0.7856486090191648, -0.35867504944759665, -1.5527243814003926, -0.4898324652797188, 0.7233795774815167], \"yaxis\": \"y8\"}, {\"line\": {\"color\": \"rgba(128, 128, 128, 1.0)\", \"dash\": \"solid\", \"shape\": \"linear\", \"width\": 1.3}, \"marker\": {\"size\": 2, \"symbol\": \"circle\"}, \"mode\": \"markers\", \"name\": \"C\", \"text\": \"\", \"type\": \"scatter\", \"x\": [0.18180147100568378, 1.5259192689018692, 0.05462294231575913, 0.9620187466870544, -0.8222317972353985, 0.7376470999818598, 2.565985906181714, 0.45318891947069434, -0.7944341338944605, -0.510126656582334, -0.9279436084824904, -0.38582825472318943, -1.0585984220855162, -0.28142164905234013, -1.304093003517012, 0.4108270136410678, -0.10346544680396652, 0.5617701761410218, 0.85012983817341, 3.317883997906613, -1.2299377046771796, 0.25242616334301704, 0.666193159529929, 1.7045686417950345, 0.498369859604301, 0.23512199526112346, 0.22984712263275214, 0.8220670942653372, -0.9316373038318361, -0.8133372654487864, -0.46110710582125797, -0.24278069894988633, -0.8630495311027098, -0.6081179940499232, -0.865440005067351, 0.7610663665742564, 1.8432998947747365, -0.07397753301994585, 1.2526255147764, 0.24191455996561825, 0.34153841092758647, -1.9422391912833021, 0.7005106327478433, -0.3570699705775189, -0.8979044540436244, 0.9859533728204699, -1.8204159688232633, -1.8586740366818395, 2.6255447880383476, 1.346073392634325, 0.5979131610295954, -0.6310181064983286, 0.8816181367002941, -0.1515878669143682, 0.8456908150738301, -0.38068740665033257, -0.22882880642843273, -1.2497193075271134, -0.32799052248708443, 0.5542548888575435, 0.5162621729738979, 0.5052772815135701, -0.8389817204410998, 0.7343318481787172, -2.460730589526606, 0.28645634659926655, -0.9063842375940628, -0.22856404887446638, 1.4399839172547648, 0.9100393480703535, 0.30345896102269737, -0.3628974932078356, 2.6357498627413234, -0.04345923574737296, 1.3175291949692673, -1.4097706927018359, -0.0013831737211759429, 0.615107557829702, -1.3055548676624311, 1.3269096276100592, -0.10099406571398988, -1.2285382037135435, 0.6383911443821109, 0.8095396542057248, 1.578418175405204, 1.29756306823381, 1.3601169081451077, -0.9318513011710051, 1.3562493690636221, 1.1791950798063475, -1.5955980790180853, -1.6539255583729817, 0.7454896604604655, 0.3735470472051365, -0.9326919686873352, 1.2921650415699764, 0.42137119617613156, 0.9584105309789688, -0.20506831241674106, -0.18068170494210395], \"xaxis\": \"x9\", \"y\": [0.1686932092281815, 1.0328131315641254, -0.36454268342269186, 1.26875314456932, -0.7293546821848843, 1.0223750890003422, -2.3990170795591155, -0.3224330884639071, -1.1127502144935488, 0.27805180086125036, -1.6192712093764778, 0.5522938811583652, 0.16596072666402317, -0.4427821933047732, -1.2773507600617164, 0.28032190761938197, -0.6382245923166383, -1.2846859775303165, 1.312855303533158, -0.22563909656268133, 1.0266475228428276, -0.6069164279849912, 0.2123709869302311, -0.2899127761710966, 0.039694662384039806, -1.381786882184596, 1.6177950329862125, 0.570332602573185, 0.6579598651692635, 0.8628463705204259, -1.281260906555398, -1.330901792141282, 0.46112681779407355, -1.206855126114699, -0.07367191003817267, 0.7654233778416981, -0.6880559910563467, -0.2604083477294942, -0.5064539730848476, 0.45116380358815483, -1.1790756271340508, -0.16452165654951054, 1.5012251376187193, 0.014714692059038331, 0.5158276661987844, 1.2724775489620699, -0.7852792994821955, -0.465307467475932, 0.34897937264926887, -1.0505894896581416, -0.578983848588057, 0.239310603321956, 0.43855478686956506, 1.0061472366585098, 0.3746619843517988, 0.7237034968882138, 0.2198279533553722, -0.7969577455352174, 0.09256643670117436, 0.689119453098922, 1.2745295055725188, -0.691970114547277, 0.16038877562918785, -0.8293173227942326, 0.7743696030934961, 0.6422796194637943, 1.0836979431167522, 0.3611426655567145, -0.36740374300299156, 0.37931865983790786, 0.7464160503580077, 0.2209541083266774, -1.370120714022927, -0.7636897431780868, -1.9275593139022884, -0.6533403415953668, -0.90565212855155, 1.3196462127373443, 0.8194783808993695, -0.4244039145622759, 1.1853512768256445, 0.7729561149737242, 0.1395548530344274, -0.5624653329596475, -0.3523192585423655, 1.7436203130096126, 0.17259255088922626, 1.092757105706978, -0.26379546894779904, 0.06826700708597289, 0.040778907074701706, 1.453051252614507, 0.23719196735242684, 0.28226145756702553, -1.546600001664014, 0.4011571565271534, -0.48054775171076525, -2.2732358196579847, 0.38096123577391827, -0.6936629291337045], \"yaxis\": \"y9\"}, {\"line\": {\"color\": \"rgba(128, 128, 128, 1.0)\", \"dash\": \"solid\", \"shape\": \"linear\", \"width\": 1.3}, \"marker\": {\"size\": 2, \"symbol\": \"circle\"}, \"mode\": \"markers\", \"name\": \"C\", \"text\": \"\", \"type\": \"scatter\", \"x\": [-0.5469159121855168, 1.5335809116120382, 0.5450059258553076, -0.22104960314383473, -0.5811744619592863, -1.5789371370541645, -0.7775105969731255, 1.8482416029564626, 0.9499766028082592, -1.1807702951371561, 0.673402969165375, 0.10968590216898477, 0.94833518416273, -0.23820594456410177, 0.03786911034547954, -0.7313326589482242, 1.4951879849297345, 1.322939037942328, 1.1527097158964639, 1.2777010918437115, 0.2536271035352632, -1.123312146421919, 0.1720374449477272, 0.4554752710834215, 0.2131548091143007, -2.421571653781463, -0.8934145530787032, -0.7434670473055622, 0.9023851424718344, -0.9733925428652126, -1.0227709180223288, 0.4389819748978042, -1.4808771020430385, 0.4252559303133159, -0.17955468538184405, -0.13740613622164452, 0.5906686674451844, -1.2585520255880729, -1.2005986769674541, 0.17501548638667636, 0.816542863672658, 1.2687247022875778, -0.33235363701544357, -0.04491296104917363, 0.22963030295067036, -0.7907740153569986, 2.4977502116425643, 1.8524978992909702, -1.0212862618211531, -1.4898227950445981, 0.20286667913810377, 0.6472271133999958, 0.864318620544289, 1.072337435155135, -0.6729759496197661, 0.11487167345738228, 0.12864576528653754, -0.3399781036195837, -0.10495757480919374, -1.0814833488113416, 0.11755515163294711, -0.42032940379103945, 2.6975658894744328, -0.5243773982830336, 0.8848766341227842, -0.2913040488918608, 0.23727600462759454, -0.7135668972565455, -1.459476599906761, -0.35197246830748175, 0.549119470213196, -0.2589892305388133, -2.146266616222206, -0.7183043476033817, -2.4145493056618084, -0.6665903031659891, -0.30145931495287637, -1.8176098280733644, -1.2239748761199158, 0.5728590024490764, -0.45030906165483175, 0.66018912629835, 1.0838905040801134, -1.3587905656125694, -0.5121278860434562, -0.1044871821195812, 0.222331854394566, -0.16068147766711421, -1.0861720614921715, 0.9068570766941219, 1.4219783958444223, -0.7303199502159592, -0.3960750521023138, -0.03223460954078357, 0.7973555751939901, -0.7856486090191648, -0.35867504944759665, -1.5527243814003926, -0.4898324652797188, 0.7233795774815167], \"xaxis\": \"x10\", \"y\": [0.1686932092281815, 1.0328131315641254, -0.36454268342269186, 1.26875314456932, -0.7293546821848843, 1.0223750890003422, -2.3990170795591155, -0.3224330884639071, -1.1127502144935488, 0.27805180086125036, -1.6192712093764778, 0.5522938811583652, 0.16596072666402317, -0.4427821933047732, -1.2773507600617164, 0.28032190761938197, -0.6382245923166383, -1.2846859775303165, 1.312855303533158, -0.22563909656268133, 1.0266475228428276, -0.6069164279849912, 0.2123709869302311, -0.2899127761710966, 0.039694662384039806, -1.381786882184596, 1.6177950329862125, 0.570332602573185, 0.6579598651692635, 0.8628463705204259, -1.281260906555398, -1.330901792141282, 0.46112681779407355, -1.206855126114699, -0.07367191003817267, 0.7654233778416981, -0.6880559910563467, -0.2604083477294942, -0.5064539730848476, 0.45116380358815483, -1.1790756271340508, -0.16452165654951054, 1.5012251376187193, 0.014714692059038331, 0.5158276661987844, 1.2724775489620699, -0.7852792994821955, -0.465307467475932, 0.34897937264926887, -1.0505894896581416, -0.578983848588057, 0.239310603321956, 0.43855478686956506, 1.0061472366585098, 0.3746619843517988, 0.7237034968882138, 0.2198279533553722, -0.7969577455352174, 0.09256643670117436, 0.689119453098922, 1.2745295055725188, -0.691970114547277, 0.16038877562918785, -0.8293173227942326, 0.7743696030934961, 0.6422796194637943, 1.0836979431167522, 0.3611426655567145, -0.36740374300299156, 0.37931865983790786, 0.7464160503580077, 0.2209541083266774, -1.370120714022927, -0.7636897431780868, -1.9275593139022884, -0.6533403415953668, -0.90565212855155, 1.3196462127373443, 0.8194783808993695, -0.4244039145622759, 1.1853512768256445, 0.7729561149737242, 0.1395548530344274, -0.5624653329596475, -0.3523192585423655, 1.7436203130096126, 0.17259255088922626, 1.092757105706978, -0.26379546894779904, 0.06826700708597289, 0.040778907074701706, 1.453051252614507, 0.23719196735242684, 0.28226145756702553, -1.546600001664014, 0.4011571565271534, -0.48054775171076525, -2.2732358196579847, 0.38096123577391827, -0.6936629291337045], \"yaxis\": \"y10\"}, {\"histfunc\": \"count\", \"histnorm\": \"\", \"marker\": {\"color\": \"rgba(50, 171, 96, 1.0)\", \"line\": {\"color\": \"#4D5663\", \"width\": 1.3}}, \"name\": \"C\", \"nbinsx\": 10, \"opacity\": 0.8, \"orientation\": \"v\", \"type\": \"histogram\", \"x\": [0.1686932092281815, 1.0328131315641254, -0.36454268342269186, 1.26875314456932, -0.7293546821848843, 1.0223750890003422, -2.3990170795591155, -0.3224330884639071, -1.1127502144935488, 0.27805180086125036, -1.6192712093764778, 0.5522938811583652, 0.16596072666402317, -0.4427821933047732, -1.2773507600617164, 0.28032190761938197, -0.6382245923166383, -1.2846859775303165, 1.312855303533158, -0.22563909656268133, 1.0266475228428276, -0.6069164279849912, 0.2123709869302311, -0.2899127761710966, 0.039694662384039806, -1.381786882184596, 1.6177950329862125, 0.570332602573185, 0.6579598651692635, 0.8628463705204259, -1.281260906555398, -1.330901792141282, 0.46112681779407355, -1.206855126114699, -0.07367191003817267, 0.7654233778416981, -0.6880559910563467, -0.2604083477294942, -0.5064539730848476, 0.45116380358815483, -1.1790756271340508, -0.16452165654951054, 1.5012251376187193, 0.014714692059038331, 0.5158276661987844, 1.2724775489620699, -0.7852792994821955, -0.465307467475932, 0.34897937264926887, -1.0505894896581416, -0.578983848588057, 0.239310603321956, 0.43855478686956506, 1.0061472366585098, 0.3746619843517988, 0.7237034968882138, 0.2198279533553722, -0.7969577455352174, 0.09256643670117436, 0.689119453098922, 1.2745295055725188, -0.691970114547277, 0.16038877562918785, -0.8293173227942326, 0.7743696030934961, 0.6422796194637943, 1.0836979431167522, 0.3611426655567145, -0.36740374300299156, 0.37931865983790786, 0.7464160503580077, 0.2209541083266774, -1.370120714022927, -0.7636897431780868, -1.9275593139022884, -0.6533403415953668, -0.90565212855155, 1.3196462127373443, 0.8194783808993695, -0.4244039145622759, 1.1853512768256445, 0.7729561149737242, 0.1395548530344274, -0.5624653329596475, -0.3523192585423655, 1.7436203130096126, 0.17259255088922626, 1.092757105706978, -0.26379546894779904, 0.06826700708597289, 0.040778907074701706, 1.453051252614507, 0.23719196735242684, 0.28226145756702553, -1.546600001664014, 0.4011571565271534, -0.48054775171076525, -2.2732358196579847, 0.38096123577391827, -0.6936629291337045], \"xaxis\": \"x11\", \"yaxis\": \"y11\"}, {\"line\": {\"color\": \"rgba(128, 128, 128, 1.0)\", \"dash\": \"solid\", \"shape\": \"linear\", \"width\": 1.3}, \"marker\": {\"size\": 2, \"symbol\": \"circle\"}, \"mode\": \"markers\", \"name\": \"C\", \"text\": \"\", \"type\": \"scatter\", \"x\": [-0.2987620016573524, 0.5856710023298739, 0.031296639417608546, 0.8250528503730282, -1.473290930804679, -0.9517326409191724, 2.3743161950331144, -1.8296060962471408, -0.6387615110845835, 1.4460622953201945, 0.03971990073304708, -0.31268222003971635, -0.982492539143231, 0.1824855017747259, -1.0361921486024919, 0.34760565704225904, 0.6925751155450205, -0.3693607582480481, -0.3449539166740733, -0.39179442342051624, 0.5022408487468865, 0.2605286061239689, 0.004575926439469356, -0.3953370227932897, 1.2826009861597745, 1.0566443045816543, -0.7197130284979981, -1.0705014437071068, 0.4915572284288318, -1.7209602812628102, 1.162852045938196, 0.17586017482655789, 0.022307473917991143, 0.4982938461520577, 0.655127870610559, -0.47047209971519716, 1.4158028633015007, -0.7130840138427691, 0.48211482379937914, 0.43845318085798624, -1.4500993581324517, -0.23595625723701635, 0.8434555096522347, -1.609285641738247, -0.5931779346818965, 0.7015421730797939, 0.17884901814887, 0.797470154285368, 0.12789059575800615, -0.5383413660815077, -0.9925198409950517, 0.13093051267534628, -0.2769682126580611, 1.620229033911083, -0.5679830629877168, -1.3721337571217125, -1.748539086714276, -2.1611027179767373, 0.7700537412254298, -0.45442613009989125, -0.808004692494974, -0.6377901686512377, 1.4909997041265368, 0.18325574932005026, 0.4712774376187271, -0.524090138506383, -0.23232788050333017, 1.0999480160820305, -0.7842364054071148, -0.8996922250838094, 0.7662520789851596, -1.536654774195429, 0.38285126522198415, 0.8337709958796933, -0.4172783387910231, -0.9840846833282685, 0.6000148666329089, -0.9055288956249931, -0.6133631405953454, 1.9565117442952757, 0.1441319472477782, 1.069925126282556, -0.47975143036567186, -1.8335171431477462, -0.0076920202370756195, -0.14457847090136428, 0.6215826092194757, -2.2457849180881015, -0.1777547716686796, -1.1018983499480848, -0.20122337116145445, -1.9387556311398395, 1.0967315511089437, 0.0651971757059661, -0.41852366901752325, 0.5236168188263617, -0.00033749631630545596, 0.9119846043009965, 1.0594214785836582, 0.1570254530931209], \"xaxis\": \"x12\", \"y\": [0.1686932092281815, 1.0328131315641254, -0.36454268342269186, 1.26875314456932, -0.7293546821848843, 1.0223750890003422, -2.3990170795591155, -0.3224330884639071, -1.1127502144935488, 0.27805180086125036, -1.6192712093764778, 0.5522938811583652, 0.16596072666402317, -0.4427821933047732, -1.2773507600617164, 0.28032190761938197, -0.6382245923166383, -1.2846859775303165, 1.312855303533158, -0.22563909656268133, 1.0266475228428276, -0.6069164279849912, 0.2123709869302311, -0.2899127761710966, 0.039694662384039806, -1.381786882184596, 1.6177950329862125, 0.570332602573185, 0.6579598651692635, 0.8628463705204259, -1.281260906555398, -1.330901792141282, 0.46112681779407355, -1.206855126114699, -0.07367191003817267, 0.7654233778416981, -0.6880559910563467, -0.2604083477294942, -0.5064539730848476, 0.45116380358815483, -1.1790756271340508, -0.16452165654951054, 1.5012251376187193, 0.014714692059038331, 0.5158276661987844, 1.2724775489620699, -0.7852792994821955, -0.465307467475932, 0.34897937264926887, -1.0505894896581416, -0.578983848588057, 0.239310603321956, 0.43855478686956506, 1.0061472366585098, 0.3746619843517988, 0.7237034968882138, 0.2198279533553722, -0.7969577455352174, 0.09256643670117436, 0.689119453098922, 1.2745295055725188, -0.691970114547277, 0.16038877562918785, -0.8293173227942326, 0.7743696030934961, 0.6422796194637943, 1.0836979431167522, 0.3611426655567145, -0.36740374300299156, 0.37931865983790786, 0.7464160503580077, 0.2209541083266774, -1.370120714022927, -0.7636897431780868, -1.9275593139022884, -0.6533403415953668, -0.90565212855155, 1.3196462127373443, 0.8194783808993695, -0.4244039145622759, 1.1853512768256445, 0.7729561149737242, 0.1395548530344274, -0.5624653329596475, -0.3523192585423655, 1.7436203130096126, 0.17259255088922626, 1.092757105706978, -0.26379546894779904, 0.06826700708597289, 0.040778907074701706, 1.453051252614507, 0.23719196735242684, 0.28226145756702553, -1.546600001664014, 0.4011571565271534, -0.48054775171076525, -2.2732358196579847, 0.38096123577391827, -0.6936629291337045], \"yaxis\": \"y12\"}, {\"line\": {\"color\": \"rgba(128, 128, 128, 1.0)\", \"dash\": \"solid\", \"shape\": \"linear\", \"width\": 1.3}, \"marker\": {\"size\": 2, \"symbol\": \"circle\"}, \"mode\": \"markers\", \"name\": \"D\", \"text\": \"\", \"type\": \"scatter\", \"x\": [0.18180147100568378, 1.5259192689018692, 0.05462294231575913, 0.9620187466870544, -0.8222317972353985, 0.7376470999818598, 2.565985906181714, 0.45318891947069434, -0.7944341338944605, -0.510126656582334, -0.9279436084824904, -0.38582825472318943, -1.0585984220855162, -0.28142164905234013, -1.304093003517012, 0.4108270136410678, -0.10346544680396652, 0.5617701761410218, 0.85012983817341, 3.317883997906613, -1.2299377046771796, 0.25242616334301704, 0.666193159529929, 1.7045686417950345, 0.498369859604301, 0.23512199526112346, 0.22984712263275214, 0.8220670942653372, -0.9316373038318361, -0.8133372654487864, -0.46110710582125797, -0.24278069894988633, -0.8630495311027098, -0.6081179940499232, -0.865440005067351, 0.7610663665742564, 1.8432998947747365, -0.07397753301994585, 1.2526255147764, 0.24191455996561825, 0.34153841092758647, -1.9422391912833021, 0.7005106327478433, -0.3570699705775189, -0.8979044540436244, 0.9859533728204699, -1.8204159688232633, -1.8586740366818395, 2.6255447880383476, 1.346073392634325, 0.5979131610295954, -0.6310181064983286, 0.8816181367002941, -0.1515878669143682, 0.8456908150738301, -0.38068740665033257, -0.22882880642843273, -1.2497193075271134, -0.32799052248708443, 0.5542548888575435, 0.5162621729738979, 0.5052772815135701, -0.8389817204410998, 0.7343318481787172, -2.460730589526606, 0.28645634659926655, -0.9063842375940628, -0.22856404887446638, 1.4399839172547648, 0.9100393480703535, 0.30345896102269737, -0.3628974932078356, 2.6357498627413234, -0.04345923574737296, 1.3175291949692673, -1.4097706927018359, -0.0013831737211759429, 0.615107557829702, -1.3055548676624311, 1.3269096276100592, -0.10099406571398988, -1.2285382037135435, 0.6383911443821109, 0.8095396542057248, 1.578418175405204, 1.29756306823381, 1.3601169081451077, -0.9318513011710051, 1.3562493690636221, 1.1791950798063475, -1.5955980790180853, -1.6539255583729817, 0.7454896604604655, 0.3735470472051365, -0.9326919686873352, 1.2921650415699764, 0.42137119617613156, 0.9584105309789688, -0.20506831241674106, -0.18068170494210395], \"xaxis\": \"x13\", \"y\": [-0.2987620016573524, 0.5856710023298739, 0.031296639417608546, 0.8250528503730282, -1.473290930804679, -0.9517326409191724, 2.3743161950331144, -1.8296060962471408, -0.6387615110845835, 1.4460622953201945, 0.03971990073304708, -0.31268222003971635, -0.982492539143231, 0.1824855017747259, -1.0361921486024919, 0.34760565704225904, 0.6925751155450205, -0.3693607582480481, -0.3449539166740733, -0.39179442342051624, 0.5022408487468865, 0.2605286061239689, 0.004575926439469356, -0.3953370227932897, 1.2826009861597745, 1.0566443045816543, -0.7197130284979981, -1.0705014437071068, 0.4915572284288318, -1.7209602812628102, 1.162852045938196, 0.17586017482655789, 0.022307473917991143, 0.4982938461520577, 0.655127870610559, -0.47047209971519716, 1.4158028633015007, -0.7130840138427691, 0.48211482379937914, 0.43845318085798624, -1.4500993581324517, -0.23595625723701635, 0.8434555096522347, -1.609285641738247, -0.5931779346818965, 0.7015421730797939, 0.17884901814887, 0.797470154285368, 0.12789059575800615, -0.5383413660815077, -0.9925198409950517, 0.13093051267534628, -0.2769682126580611, 1.620229033911083, -0.5679830629877168, -1.3721337571217125, -1.748539086714276, -2.1611027179767373, 0.7700537412254298, -0.45442613009989125, -0.808004692494974, -0.6377901686512377, 1.4909997041265368, 0.18325574932005026, 0.4712774376187271, -0.524090138506383, -0.23232788050333017, 1.0999480160820305, -0.7842364054071148, -0.8996922250838094, 0.7662520789851596, -1.536654774195429, 0.38285126522198415, 0.8337709958796933, -0.4172783387910231, -0.9840846833282685, 0.6000148666329089, -0.9055288956249931, -0.6133631405953454, 1.9565117442952757, 0.1441319472477782, 1.069925126282556, -0.47975143036567186, -1.8335171431477462, -0.0076920202370756195, -0.14457847090136428, 0.6215826092194757, -2.2457849180881015, -0.1777547716686796, -1.1018983499480848, -0.20122337116145445, -1.9387556311398395, 1.0967315511089437, 0.0651971757059661, -0.41852366901752325, 0.5236168188263617, -0.00033749631630545596, 0.9119846043009965, 1.0594214785836582, 0.1570254530931209], \"yaxis\": \"y13\"}, {\"line\": {\"color\": \"rgba(128, 128, 128, 1.0)\", \"dash\": \"solid\", \"shape\": \"linear\", \"width\": 1.3}, \"marker\": {\"size\": 2, \"symbol\": \"circle\"}, \"mode\": \"markers\", \"name\": \"D\", \"text\": \"\", \"type\": \"scatter\", \"x\": [-0.5469159121855168, 1.5335809116120382, 0.5450059258553076, -0.22104960314383473, -0.5811744619592863, -1.5789371370541645, -0.7775105969731255, 1.8482416029564626, 0.9499766028082592, -1.1807702951371561, 0.673402969165375, 0.10968590216898477, 0.94833518416273, -0.23820594456410177, 0.03786911034547954, -0.7313326589482242, 1.4951879849297345, 1.322939037942328, 1.1527097158964639, 1.2777010918437115, 0.2536271035352632, -1.123312146421919, 0.1720374449477272, 0.4554752710834215, 0.2131548091143007, -2.421571653781463, -0.8934145530787032, -0.7434670473055622, 0.9023851424718344, -0.9733925428652126, -1.0227709180223288, 0.4389819748978042, -1.4808771020430385, 0.4252559303133159, -0.17955468538184405, -0.13740613622164452, 0.5906686674451844, -1.2585520255880729, -1.2005986769674541, 0.17501548638667636, 0.816542863672658, 1.2687247022875778, -0.33235363701544357, -0.04491296104917363, 0.22963030295067036, -0.7907740153569986, 2.4977502116425643, 1.8524978992909702, -1.0212862618211531, -1.4898227950445981, 0.20286667913810377, 0.6472271133999958, 0.864318620544289, 1.072337435155135, -0.6729759496197661, 0.11487167345738228, 0.12864576528653754, -0.3399781036195837, -0.10495757480919374, -1.0814833488113416, 0.11755515163294711, -0.42032940379103945, 2.6975658894744328, -0.5243773982830336, 0.8848766341227842, -0.2913040488918608, 0.23727600462759454, -0.7135668972565455, -1.459476599906761, -0.35197246830748175, 0.549119470213196, -0.2589892305388133, -2.146266616222206, -0.7183043476033817, -2.4145493056618084, -0.6665903031659891, -0.30145931495287637, -1.8176098280733644, -1.2239748761199158, 0.5728590024490764, -0.45030906165483175, 0.66018912629835, 1.0838905040801134, -1.3587905656125694, -0.5121278860434562, -0.1044871821195812, 0.222331854394566, -0.16068147766711421, -1.0861720614921715, 0.9068570766941219, 1.4219783958444223, -0.7303199502159592, -0.3960750521023138, -0.03223460954078357, 0.7973555751939901, -0.7856486090191648, -0.35867504944759665, -1.5527243814003926, -0.4898324652797188, 0.7233795774815167], \"xaxis\": \"x14\", \"y\": [-0.2987620016573524, 0.5856710023298739, 0.031296639417608546, 0.8250528503730282, -1.473290930804679, -0.9517326409191724, 2.3743161950331144, -1.8296060962471408, -0.6387615110845835, 1.4460622953201945, 0.03971990073304708, -0.31268222003971635, -0.982492539143231, 0.1824855017747259, -1.0361921486024919, 0.34760565704225904, 0.6925751155450205, -0.3693607582480481, -0.3449539166740733, -0.39179442342051624, 0.5022408487468865, 0.2605286061239689, 0.004575926439469356, -0.3953370227932897, 1.2826009861597745, 1.0566443045816543, -0.7197130284979981, -1.0705014437071068, 0.4915572284288318, -1.7209602812628102, 1.162852045938196, 0.17586017482655789, 0.022307473917991143, 0.4982938461520577, 0.655127870610559, -0.47047209971519716, 1.4158028633015007, -0.7130840138427691, 0.48211482379937914, 0.43845318085798624, -1.4500993581324517, -0.23595625723701635, 0.8434555096522347, -1.609285641738247, -0.5931779346818965, 0.7015421730797939, 0.17884901814887, 0.797470154285368, 0.12789059575800615, -0.5383413660815077, -0.9925198409950517, 0.13093051267534628, -0.2769682126580611, 1.620229033911083, -0.5679830629877168, -1.3721337571217125, -1.748539086714276, -2.1611027179767373, 0.7700537412254298, -0.45442613009989125, -0.808004692494974, -0.6377901686512377, 1.4909997041265368, 0.18325574932005026, 0.4712774376187271, -0.524090138506383, -0.23232788050333017, 1.0999480160820305, -0.7842364054071148, -0.8996922250838094, 0.7662520789851596, -1.536654774195429, 0.38285126522198415, 0.8337709958796933, -0.4172783387910231, -0.9840846833282685, 0.6000148666329089, -0.9055288956249931, -0.6133631405953454, 1.9565117442952757, 0.1441319472477782, 1.069925126282556, -0.47975143036567186, -1.8335171431477462, -0.0076920202370756195, -0.14457847090136428, 0.6215826092194757, -2.2457849180881015, -0.1777547716686796, -1.1018983499480848, -0.20122337116145445, -1.9387556311398395, 1.0967315511089437, 0.0651971757059661, -0.41852366901752325, 0.5236168188263617, -0.00033749631630545596, 0.9119846043009965, 1.0594214785836582, 0.1570254530931209], \"yaxis\": \"y14\"}, {\"line\": {\"color\": \"rgba(128, 128, 128, 1.0)\", \"dash\": \"solid\", \"shape\": \"linear\", \"width\": 1.3}, \"marker\": {\"size\": 2, \"symbol\": \"circle\"}, \"mode\": \"markers\", \"name\": \"D\", \"text\": \"\", \"type\": \"scatter\", \"x\": [0.1686932092281815, 1.0328131315641254, -0.36454268342269186, 1.26875314456932, -0.7293546821848843, 1.0223750890003422, -2.3990170795591155, -0.3224330884639071, -1.1127502144935488, 0.27805180086125036, -1.6192712093764778, 0.5522938811583652, 0.16596072666402317, -0.4427821933047732, -1.2773507600617164, 0.28032190761938197, -0.6382245923166383, -1.2846859775303165, 1.312855303533158, -0.22563909656268133, 1.0266475228428276, -0.6069164279849912, 0.2123709869302311, -0.2899127761710966, 0.039694662384039806, -1.381786882184596, 1.6177950329862125, 0.570332602573185, 0.6579598651692635, 0.8628463705204259, -1.281260906555398, -1.330901792141282, 0.46112681779407355, -1.206855126114699, -0.07367191003817267, 0.7654233778416981, -0.6880559910563467, -0.2604083477294942, -0.5064539730848476, 0.45116380358815483, -1.1790756271340508, -0.16452165654951054, 1.5012251376187193, 0.014714692059038331, 0.5158276661987844, 1.2724775489620699, -0.7852792994821955, -0.465307467475932, 0.34897937264926887, -1.0505894896581416, -0.578983848588057, 0.239310603321956, 0.43855478686956506, 1.0061472366585098, 0.3746619843517988, 0.7237034968882138, 0.2198279533553722, -0.7969577455352174, 0.09256643670117436, 0.689119453098922, 1.2745295055725188, -0.691970114547277, 0.16038877562918785, -0.8293173227942326, 0.7743696030934961, 0.6422796194637943, 1.0836979431167522, 0.3611426655567145, -0.36740374300299156, 0.37931865983790786, 0.7464160503580077, 0.2209541083266774, -1.370120714022927, -0.7636897431780868, -1.9275593139022884, -0.6533403415953668, -0.90565212855155, 1.3196462127373443, 0.8194783808993695, -0.4244039145622759, 1.1853512768256445, 0.7729561149737242, 0.1395548530344274, -0.5624653329596475, -0.3523192585423655, 1.7436203130096126, 0.17259255088922626, 1.092757105706978, -0.26379546894779904, 0.06826700708597289, 0.040778907074701706, 1.453051252614507, 0.23719196735242684, 0.28226145756702553, -1.546600001664014, 0.4011571565271534, -0.48054775171076525, -2.2732358196579847, 0.38096123577391827, -0.6936629291337045], \"xaxis\": \"x15\", \"y\": [-0.2987620016573524, 0.5856710023298739, 0.031296639417608546, 0.8250528503730282, -1.473290930804679, -0.9517326409191724, 2.3743161950331144, -1.8296060962471408, -0.6387615110845835, 1.4460622953201945, 0.03971990073304708, -0.31268222003971635, -0.982492539143231, 0.1824855017747259, -1.0361921486024919, 0.34760565704225904, 0.6925751155450205, -0.3693607582480481, -0.3449539166740733, -0.39179442342051624, 0.5022408487468865, 0.2605286061239689, 0.004575926439469356, -0.3953370227932897, 1.2826009861597745, 1.0566443045816543, -0.7197130284979981, -1.0705014437071068, 0.4915572284288318, -1.7209602812628102, 1.162852045938196, 0.17586017482655789, 0.022307473917991143, 0.4982938461520577, 0.655127870610559, -0.47047209971519716, 1.4158028633015007, -0.7130840138427691, 0.48211482379937914, 0.43845318085798624, -1.4500993581324517, -0.23595625723701635, 0.8434555096522347, -1.609285641738247, -0.5931779346818965, 0.7015421730797939, 0.17884901814887, 0.797470154285368, 0.12789059575800615, -0.5383413660815077, -0.9925198409950517, 0.13093051267534628, -0.2769682126580611, 1.620229033911083, -0.5679830629877168, -1.3721337571217125, -1.748539086714276, -2.1611027179767373, 0.7700537412254298, -0.45442613009989125, -0.808004692494974, -0.6377901686512377, 1.4909997041265368, 0.18325574932005026, 0.4712774376187271, -0.524090138506383, -0.23232788050333017, 1.0999480160820305, -0.7842364054071148, -0.8996922250838094, 0.7662520789851596, -1.536654774195429, 0.38285126522198415, 0.8337709958796933, -0.4172783387910231, -0.9840846833282685, 0.6000148666329089, -0.9055288956249931, -0.6133631405953454, 1.9565117442952757, 0.1441319472477782, 1.069925126282556, -0.47975143036567186, -1.8335171431477462, -0.0076920202370756195, -0.14457847090136428, 0.6215826092194757, -2.2457849180881015, -0.1777547716686796, -1.1018983499480848, -0.20122337116145445, -1.9387556311398395, 1.0967315511089437, 0.0651971757059661, -0.41852366901752325, 0.5236168188263617, -0.00033749631630545596, 0.9119846043009965, 1.0594214785836582, 0.1570254530931209], \"yaxis\": \"y15\"}, {\"histfunc\": \"count\", \"histnorm\": \"\", \"marker\": {\"color\": \"rgba(128, 0, 128, 1.0)\", \"line\": {\"color\": \"#4D5663\", \"width\": 1.3}}, \"name\": \"D\", \"nbinsx\": 10, \"opacity\": 0.8, \"orientation\": \"v\", \"type\": \"histogram\", \"x\": [-0.2987620016573524, 0.5856710023298739, 0.031296639417608546, 0.8250528503730282, -1.473290930804679, -0.9517326409191724, 2.3743161950331144, -1.8296060962471408, -0.6387615110845835, 1.4460622953201945, 0.03971990073304708, -0.31268222003971635, -0.982492539143231, 0.1824855017747259, -1.0361921486024919, 0.34760565704225904, 0.6925751155450205, -0.3693607582480481, -0.3449539166740733, -0.39179442342051624, 0.5022408487468865, 0.2605286061239689, 0.004575926439469356, -0.3953370227932897, 1.2826009861597745, 1.0566443045816543, -0.7197130284979981, -1.0705014437071068, 0.4915572284288318, -1.7209602812628102, 1.162852045938196, 0.17586017482655789, 0.022307473917991143, 0.4982938461520577, 0.655127870610559, -0.47047209971519716, 1.4158028633015007, -0.7130840138427691, 0.48211482379937914, 0.43845318085798624, -1.4500993581324517, -0.23595625723701635, 0.8434555096522347, -1.609285641738247, -0.5931779346818965, 0.7015421730797939, 0.17884901814887, 0.797470154285368, 0.12789059575800615, -0.5383413660815077, -0.9925198409950517, 0.13093051267534628, -0.2769682126580611, 1.620229033911083, -0.5679830629877168, -1.3721337571217125, -1.748539086714276, -2.1611027179767373, 0.7700537412254298, -0.45442613009989125, -0.808004692494974, -0.6377901686512377, 1.4909997041265368, 0.18325574932005026, 0.4712774376187271, -0.524090138506383, -0.23232788050333017, 1.0999480160820305, -0.7842364054071148, -0.8996922250838094, 0.7662520789851596, -1.536654774195429, 0.38285126522198415, 0.8337709958796933, -0.4172783387910231, -0.9840846833282685, 0.6000148666329089, -0.9055288956249931, -0.6133631405953454, 1.9565117442952757, 0.1441319472477782, 1.069925126282556, -0.47975143036567186, -1.8335171431477462, -0.0076920202370756195, -0.14457847090136428, 0.6215826092194757, -2.2457849180881015, -0.1777547716686796, -1.1018983499480848, -0.20122337116145445, -1.9387556311398395, 1.0967315511089437, 0.0651971757059661, -0.41852366901752325, 0.5236168188263617, -0.00033749631630545596, 0.9119846043009965, 1.0594214785836582, 0.1570254530931209], \"xaxis\": \"x16\", \"yaxis\": \"y16\"}],\n",
       "                        {\"bargap\": 0.02, \"legend\": {\"bgcolor\": \"#F5F6F9\", \"font\": {\"color\": \"#4D5663\"}}, \"paper_bgcolor\": \"#F5F6F9\", \"plot_bgcolor\": \"#F5F6F9\", \"showlegend\": false, \"template\": {\"data\": {\"bar\": [{\"error_x\": {\"color\": \"#2a3f5f\"}, \"error_y\": {\"color\": \"#2a3f5f\"}, \"marker\": {\"line\": {\"color\": \"#E5ECF6\", \"width\": 0.5}}, \"type\": \"bar\"}], \"barpolar\": [{\"marker\": {\"line\": {\"color\": \"#E5ECF6\", \"width\": 0.5}}, \"type\": \"barpolar\"}], \"carpet\": [{\"aaxis\": {\"endlinecolor\": \"#2a3f5f\", \"gridcolor\": \"white\", \"linecolor\": \"white\", \"minorgridcolor\": \"white\", \"startlinecolor\": \"#2a3f5f\"}, \"baxis\": {\"endlinecolor\": \"#2a3f5f\", \"gridcolor\": \"white\", \"linecolor\": \"white\", \"minorgridcolor\": \"white\", \"startlinecolor\": \"#2a3f5f\"}, \"type\": \"carpet\"}], \"choropleth\": [{\"colorbar\": {\"outlinewidth\": 0, \"ticks\": \"\"}, \"type\": \"choropleth\"}], \"contour\": [{\"colorbar\": {\"outlinewidth\": 0, \"ticks\": \"\"}, \"colorscale\": [[0.0, \"#0d0887\"], [0.1111111111111111, \"#46039f\"], [0.2222222222222222, \"#7201a8\"], [0.3333333333333333, \"#9c179e\"], [0.4444444444444444, \"#bd3786\"], [0.5555555555555556, \"#d8576b\"], [0.6666666666666666, \"#ed7953\"], [0.7777777777777778, \"#fb9f3a\"], [0.8888888888888888, \"#fdca26\"], [1.0, \"#f0f921\"]], \"type\": \"contour\"}], \"contourcarpet\": [{\"colorbar\": {\"outlinewidth\": 0, \"ticks\": \"\"}, \"type\": \"contourcarpet\"}], \"heatmap\": [{\"colorbar\": {\"outlinewidth\": 0, \"ticks\": \"\"}, \"colorscale\": [[0.0, \"#0d0887\"], [0.1111111111111111, \"#46039f\"], [0.2222222222222222, \"#7201a8\"], [0.3333333333333333, \"#9c179e\"], [0.4444444444444444, \"#bd3786\"], [0.5555555555555556, \"#d8576b\"], [0.6666666666666666, \"#ed7953\"], [0.7777777777777778, \"#fb9f3a\"], [0.8888888888888888, \"#fdca26\"], [1.0, \"#f0f921\"]], \"type\": \"heatmap\"}], \"heatmapgl\": [{\"colorbar\": {\"outlinewidth\": 0, \"ticks\": \"\"}, \"colorscale\": [[0.0, \"#0d0887\"], [0.1111111111111111, \"#46039f\"], [0.2222222222222222, \"#7201a8\"], [0.3333333333333333, \"#9c179e\"], [0.4444444444444444, \"#bd3786\"], [0.5555555555555556, \"#d8576b\"], [0.6666666666666666, \"#ed7953\"], [0.7777777777777778, \"#fb9f3a\"], [0.8888888888888888, \"#fdca26\"], [1.0, \"#f0f921\"]], \"type\": \"heatmapgl\"}], \"histogram\": [{\"marker\": {\"colorbar\": {\"outlinewidth\": 0, \"ticks\": \"\"}}, \"type\": \"histogram\"}], \"histogram2d\": [{\"colorbar\": {\"outlinewidth\": 0, \"ticks\": \"\"}, \"colorscale\": [[0.0, \"#0d0887\"], [0.1111111111111111, \"#46039f\"], [0.2222222222222222, \"#7201a8\"], [0.3333333333333333, \"#9c179e\"], [0.4444444444444444, \"#bd3786\"], [0.5555555555555556, \"#d8576b\"], [0.6666666666666666, \"#ed7953\"], [0.7777777777777778, \"#fb9f3a\"], [0.8888888888888888, \"#fdca26\"], [1.0, \"#f0f921\"]], \"type\": \"histogram2d\"}], \"histogram2dcontour\": [{\"colorbar\": {\"outlinewidth\": 0, \"ticks\": \"\"}, \"colorscale\": [[0.0, \"#0d0887\"], [0.1111111111111111, \"#46039f\"], [0.2222222222222222, \"#7201a8\"], [0.3333333333333333, \"#9c179e\"], [0.4444444444444444, \"#bd3786\"], [0.5555555555555556, \"#d8576b\"], [0.6666666666666666, \"#ed7953\"], [0.7777777777777778, \"#fb9f3a\"], [0.8888888888888888, \"#fdca26\"], [1.0, \"#f0f921\"]], \"type\": \"histogram2dcontour\"}], \"mesh3d\": [{\"colorbar\": {\"outlinewidth\": 0, \"ticks\": \"\"}, \"type\": \"mesh3d\"}], \"parcoords\": [{\"line\": {\"colorbar\": {\"outlinewidth\": 0, \"ticks\": \"\"}}, \"type\": \"parcoords\"}], \"pie\": [{\"automargin\": true, \"type\": \"pie\"}], \"scatter\": [{\"marker\": {\"colorbar\": {\"outlinewidth\": 0, \"ticks\": \"\"}}, \"type\": \"scatter\"}], \"scatter3d\": [{\"line\": {\"colorbar\": {\"outlinewidth\": 0, \"ticks\": \"\"}}, \"marker\": {\"colorbar\": {\"outlinewidth\": 0, \"ticks\": \"\"}}, \"type\": \"scatter3d\"}], \"scattercarpet\": [{\"marker\": {\"colorbar\": {\"outlinewidth\": 0, \"ticks\": \"\"}}, \"type\": \"scattercarpet\"}], \"scattergeo\": [{\"marker\": {\"colorbar\": {\"outlinewidth\": 0, \"ticks\": \"\"}}, \"type\": \"scattergeo\"}], \"scattergl\": [{\"marker\": {\"colorbar\": {\"outlinewidth\": 0, \"ticks\": \"\"}}, \"type\": \"scattergl\"}], \"scattermapbox\": [{\"marker\": {\"colorbar\": {\"outlinewidth\": 0, \"ticks\": \"\"}}, \"type\": \"scattermapbox\"}], \"scatterpolar\": [{\"marker\": {\"colorbar\": {\"outlinewidth\": 0, \"ticks\": \"\"}}, \"type\": \"scatterpolar\"}], \"scatterpolargl\": [{\"marker\": {\"colorbar\": {\"outlinewidth\": 0, \"ticks\": \"\"}}, \"type\": \"scatterpolargl\"}], \"scatterternary\": [{\"marker\": {\"colorbar\": {\"outlinewidth\": 0, \"ticks\": \"\"}}, \"type\": \"scatterternary\"}], \"surface\": [{\"colorbar\": {\"outlinewidth\": 0, \"ticks\": \"\"}, \"colorscale\": [[0.0, \"#0d0887\"], [0.1111111111111111, \"#46039f\"], [0.2222222222222222, \"#7201a8\"], [0.3333333333333333, \"#9c179e\"], [0.4444444444444444, \"#bd3786\"], [0.5555555555555556, \"#d8576b\"], [0.6666666666666666, \"#ed7953\"], [0.7777777777777778, \"#fb9f3a\"], [0.8888888888888888, \"#fdca26\"], [1.0, \"#f0f921\"]], \"type\": \"surface\"}], \"table\": [{\"cells\": {\"fill\": {\"color\": \"#EBF0F8\"}, \"line\": {\"color\": \"white\"}}, \"header\": {\"fill\": {\"color\": \"#C8D4E3\"}, \"line\": {\"color\": \"white\"}}, \"type\": \"table\"}]}, \"layout\": {\"annotationdefaults\": {\"arrowcolor\": \"#2a3f5f\", \"arrowhead\": 0, \"arrowwidth\": 1}, \"coloraxis\": {\"colorbar\": {\"outlinewidth\": 0, \"ticks\": \"\"}}, \"colorscale\": {\"diverging\": [[0, \"#8e0152\"], [0.1, \"#c51b7d\"], [0.2, \"#de77ae\"], [0.3, \"#f1b6da\"], [0.4, \"#fde0ef\"], [0.5, \"#f7f7f7\"], [0.6, \"#e6f5d0\"], [0.7, \"#b8e186\"], [0.8, \"#7fbc41\"], [0.9, \"#4d9221\"], [1, \"#276419\"]], \"sequential\": [[0.0, \"#0d0887\"], [0.1111111111111111, \"#46039f\"], [0.2222222222222222, \"#7201a8\"], [0.3333333333333333, \"#9c179e\"], [0.4444444444444444, \"#bd3786\"], [0.5555555555555556, \"#d8576b\"], [0.6666666666666666, \"#ed7953\"], [0.7777777777777778, \"#fb9f3a\"], [0.8888888888888888, \"#fdca26\"], [1.0, \"#f0f921\"]], \"sequentialminus\": [[0.0, \"#0d0887\"], [0.1111111111111111, \"#46039f\"], [0.2222222222222222, \"#7201a8\"], [0.3333333333333333, \"#9c179e\"], [0.4444444444444444, \"#bd3786\"], [0.5555555555555556, \"#d8576b\"], [0.6666666666666666, \"#ed7953\"], [0.7777777777777778, \"#fb9f3a\"], [0.8888888888888888, \"#fdca26\"], [1.0, \"#f0f921\"]]}, \"colorway\": [\"#636efa\", \"#EF553B\", \"#00cc96\", \"#ab63fa\", \"#FFA15A\", \"#19d3f3\", \"#FF6692\", \"#B6E880\", \"#FF97FF\", \"#FECB52\"], \"font\": {\"color\": \"#2a3f5f\"}, \"geo\": {\"bgcolor\": \"white\", \"lakecolor\": \"white\", \"landcolor\": \"#E5ECF6\", \"showlakes\": true, \"showland\": true, \"subunitcolor\": \"white\"}, \"hoverlabel\": {\"align\": \"left\"}, \"hovermode\": \"closest\", \"mapbox\": {\"style\": \"light\"}, \"paper_bgcolor\": \"white\", \"plot_bgcolor\": \"#E5ECF6\", \"polar\": {\"angularaxis\": {\"gridcolor\": \"white\", \"linecolor\": \"white\", \"ticks\": \"\"}, \"bgcolor\": \"#E5ECF6\", \"radialaxis\": {\"gridcolor\": \"white\", \"linecolor\": \"white\", \"ticks\": \"\"}}, \"scene\": {\"xaxis\": {\"backgroundcolor\": \"#E5ECF6\", \"gridcolor\": \"white\", \"gridwidth\": 2, \"linecolor\": \"white\", \"showbackground\": true, \"ticks\": \"\", \"zerolinecolor\": \"white\"}, \"yaxis\": {\"backgroundcolor\": \"#E5ECF6\", \"gridcolor\": \"white\", \"gridwidth\": 2, \"linecolor\": \"white\", \"showbackground\": true, \"ticks\": \"\", \"zerolinecolor\": \"white\"}, \"zaxis\": {\"backgroundcolor\": \"#E5ECF6\", \"gridcolor\": \"white\", \"gridwidth\": 2, \"linecolor\": \"white\", \"showbackground\": true, \"ticks\": \"\", \"zerolinecolor\": \"white\"}}, \"shapedefaults\": {\"line\": {\"color\": \"#2a3f5f\"}}, \"ternary\": {\"aaxis\": {\"gridcolor\": \"white\", \"linecolor\": \"white\", \"ticks\": \"\"}, \"baxis\": {\"gridcolor\": \"white\", \"linecolor\": \"white\", \"ticks\": \"\"}, \"bgcolor\": \"#E5ECF6\", \"caxis\": {\"gridcolor\": \"white\", \"linecolor\": \"white\", \"ticks\": \"\"}}, \"title\": {\"x\": 0.05}, \"xaxis\": {\"automargin\": true, \"gridcolor\": \"white\", \"linecolor\": \"white\", \"ticks\": \"\", \"title\": {\"standoff\": 15}, \"zerolinecolor\": \"white\", \"zerolinewidth\": 2}, \"yaxis\": {\"automargin\": true, \"gridcolor\": \"white\", \"linecolor\": \"white\", \"ticks\": \"\", \"title\": {\"standoff\": 15}, \"zerolinecolor\": \"white\", \"zerolinewidth\": 2}}}, \"title\": {\"font\": {\"color\": \"#4D5663\"}}, \"xaxis\": {\"anchor\": \"y\", \"domain\": [0.0, 0.2125], \"gridcolor\": \"#E1E5ED\", \"showgrid\": false, \"tickfont\": {\"color\": \"#4D5663\"}, \"title\": {\"font\": {\"color\": \"#4D5663\"}, \"text\": \"\"}, \"zerolinecolor\": \"#E1E5ED\"}, \"xaxis10\": {\"anchor\": \"y10\", \"domain\": [0.2625, 0.475], \"gridcolor\": \"#E1E5ED\", \"showgrid\": false, \"tickfont\": {\"color\": \"#4D5663\"}, \"title\": {\"font\": {\"color\": \"#4D5663\"}, \"text\": \"\"}, \"zerolinecolor\": \"#E1E5ED\"}, \"xaxis11\": {\"anchor\": \"y11\", \"domain\": [0.525, 0.7375], \"gridcolor\": \"#E1E5ED\", \"showgrid\": false, \"tickfont\": {\"color\": \"#4D5663\"}, \"title\": {\"font\": {\"color\": \"#4D5663\"}, \"text\": \"\"}, \"zerolinecolor\": \"#E1E5ED\"}, \"xaxis12\": {\"anchor\": \"y12\", \"domain\": [0.7875, 1.0], \"gridcolor\": \"#E1E5ED\", \"showgrid\": false, \"tickfont\": {\"color\": \"#4D5663\"}, \"title\": {\"font\": {\"color\": \"#4D5663\"}, \"text\": \"\"}, \"zerolinecolor\": \"#E1E5ED\"}, \"xaxis13\": {\"anchor\": \"y13\", \"domain\": [0.0, 0.2125], \"gridcolor\": \"#E1E5ED\", \"showgrid\": false, \"tickfont\": {\"color\": \"#4D5663\"}, \"title\": {\"font\": {\"color\": \"#4D5663\"}, \"text\": \"\"}, \"zerolinecolor\": \"#E1E5ED\"}, \"xaxis14\": {\"anchor\": \"y14\", \"domain\": [0.2625, 0.475], \"gridcolor\": \"#E1E5ED\", \"showgrid\": false, \"tickfont\": {\"color\": \"#4D5663\"}, \"title\": {\"font\": {\"color\": \"#4D5663\"}, \"text\": \"\"}, \"zerolinecolor\": \"#E1E5ED\"}, \"xaxis15\": {\"anchor\": \"y15\", \"domain\": [0.525, 0.7375], \"gridcolor\": \"#E1E5ED\", \"showgrid\": false, \"tickfont\": {\"color\": \"#4D5663\"}, \"title\": {\"font\": {\"color\": \"#4D5663\"}, \"text\": \"\"}, \"zerolinecolor\": \"#E1E5ED\"}, \"xaxis16\": {\"anchor\": \"y16\", \"domain\": [0.7875, 1.0], \"gridcolor\": \"#E1E5ED\", \"showgrid\": false, \"tickfont\": {\"color\": \"#4D5663\"}, \"title\": {\"font\": {\"color\": \"#4D5663\"}, \"text\": \"\"}, \"zerolinecolor\": \"#E1E5ED\"}, \"xaxis2\": {\"anchor\": \"y2\", \"domain\": [0.2625, 0.475], \"gridcolor\": \"#E1E5ED\", \"showgrid\": false, \"tickfont\": {\"color\": \"#4D5663\"}, \"title\": {\"font\": {\"color\": \"#4D5663\"}, \"text\": \"\"}, \"zerolinecolor\": \"#E1E5ED\"}, \"xaxis3\": {\"anchor\": \"y3\", \"domain\": [0.525, 0.7375], \"gridcolor\": \"#E1E5ED\", \"showgrid\": false, \"tickfont\": {\"color\": \"#4D5663\"}, \"title\": {\"font\": {\"color\": \"#4D5663\"}, \"text\": \"\"}, \"zerolinecolor\": \"#E1E5ED\"}, \"xaxis4\": {\"anchor\": \"y4\", \"domain\": [0.7875, 1.0], \"gridcolor\": \"#E1E5ED\", \"showgrid\": false, \"tickfont\": {\"color\": \"#4D5663\"}, \"title\": {\"font\": {\"color\": \"#4D5663\"}, \"text\": \"\"}, \"zerolinecolor\": \"#E1E5ED\"}, \"xaxis5\": {\"anchor\": \"y5\", \"domain\": [0.0, 0.2125], \"gridcolor\": \"#E1E5ED\", \"showgrid\": false, \"tickfont\": {\"color\": \"#4D5663\"}, \"title\": {\"font\": {\"color\": \"#4D5663\"}, \"text\": \"\"}, \"zerolinecolor\": \"#E1E5ED\"}, \"xaxis6\": {\"anchor\": \"y6\", \"domain\": [0.2625, 0.475], \"gridcolor\": \"#E1E5ED\", \"showgrid\": false, \"tickfont\": {\"color\": \"#4D5663\"}, \"title\": {\"font\": {\"color\": \"#4D5663\"}, \"text\": \"\"}, \"zerolinecolor\": \"#E1E5ED\"}, \"xaxis7\": {\"anchor\": \"y7\", \"domain\": [0.525, 0.7375], \"gridcolor\": \"#E1E5ED\", \"showgrid\": false, \"tickfont\": {\"color\": \"#4D5663\"}, \"title\": {\"font\": {\"color\": \"#4D5663\"}, \"text\": \"\"}, \"zerolinecolor\": \"#E1E5ED\"}, \"xaxis8\": {\"anchor\": \"y8\", \"domain\": [0.7875, 1.0], \"gridcolor\": \"#E1E5ED\", \"showgrid\": false, \"tickfont\": {\"color\": \"#4D5663\"}, \"title\": {\"font\": {\"color\": \"#4D5663\"}, \"text\": \"\"}, \"zerolinecolor\": \"#E1E5ED\"}, \"xaxis9\": {\"anchor\": \"y9\", \"domain\": [0.0, 0.2125], \"gridcolor\": \"#E1E5ED\", \"showgrid\": false, \"tickfont\": {\"color\": \"#4D5663\"}, \"title\": {\"font\": {\"color\": \"#4D5663\"}, \"text\": \"\"}, \"zerolinecolor\": \"#E1E5ED\"}, \"yaxis\": {\"anchor\": \"x\", \"domain\": [0.8025, 1.0], \"gridcolor\": \"#E1E5ED\", \"showgrid\": false, \"tickfont\": {\"color\": \"#4D5663\"}, \"title\": {\"font\": {\"color\": \"#4D5663\"}, \"text\": \"\"}, \"zerolinecolor\": \"#E1E5ED\"}, \"yaxis10\": {\"anchor\": \"x10\", \"domain\": [0.2675, 0.465], \"gridcolor\": \"#E1E5ED\", \"showgrid\": false, \"tickfont\": {\"color\": \"#4D5663\"}, \"title\": {\"font\": {\"color\": \"#4D5663\"}, \"text\": \"\"}, \"zerolinecolor\": \"#E1E5ED\"}, \"yaxis11\": {\"anchor\": \"x11\", \"domain\": [0.2675, 0.465], \"gridcolor\": \"#E1E5ED\", \"showgrid\": false, \"tickfont\": {\"color\": \"#4D5663\"}, \"title\": {\"font\": {\"color\": \"#4D5663\"}, \"text\": \"\"}, \"zerolinecolor\": \"#E1E5ED\"}, \"yaxis12\": {\"anchor\": \"x12\", \"domain\": [0.2675, 0.465], \"gridcolor\": \"#E1E5ED\", \"showgrid\": false, \"tickfont\": {\"color\": \"#4D5663\"}, \"title\": {\"font\": {\"color\": \"#4D5663\"}, \"text\": \"\"}, \"zerolinecolor\": \"#E1E5ED\"}, \"yaxis13\": {\"anchor\": \"x13\", \"domain\": [0.0, 0.1975], \"gridcolor\": \"#E1E5ED\", \"showgrid\": false, \"tickfont\": {\"color\": \"#4D5663\"}, \"title\": {\"font\": {\"color\": \"#4D5663\"}, \"text\": \"\"}, \"zerolinecolor\": \"#E1E5ED\"}, \"yaxis14\": {\"anchor\": \"x14\", \"domain\": [0.0, 0.1975], \"gridcolor\": \"#E1E5ED\", \"showgrid\": false, \"tickfont\": {\"color\": \"#4D5663\"}, \"title\": {\"font\": {\"color\": \"#4D5663\"}, \"text\": \"\"}, \"zerolinecolor\": \"#E1E5ED\"}, \"yaxis15\": {\"anchor\": \"x15\", \"domain\": [0.0, 0.1975], \"gridcolor\": \"#E1E5ED\", \"showgrid\": false, \"tickfont\": {\"color\": \"#4D5663\"}, \"title\": {\"font\": {\"color\": \"#4D5663\"}, \"text\": \"\"}, \"zerolinecolor\": \"#E1E5ED\"}, \"yaxis16\": {\"anchor\": \"x16\", \"domain\": [0.0, 0.1975], \"gridcolor\": \"#E1E5ED\", \"showgrid\": false, \"tickfont\": {\"color\": \"#4D5663\"}, \"title\": {\"font\": {\"color\": \"#4D5663\"}, \"text\": \"\"}, \"zerolinecolor\": \"#E1E5ED\"}, \"yaxis2\": {\"anchor\": \"x2\", \"domain\": [0.8025, 1.0], \"gridcolor\": \"#E1E5ED\", \"showgrid\": false, \"tickfont\": {\"color\": \"#4D5663\"}, \"title\": {\"font\": {\"color\": \"#4D5663\"}, \"text\": \"\"}, \"zerolinecolor\": \"#E1E5ED\"}, \"yaxis3\": {\"anchor\": \"x3\", \"domain\": [0.8025, 1.0], \"gridcolor\": \"#E1E5ED\", \"showgrid\": false, \"tickfont\": {\"color\": \"#4D5663\"}, \"title\": {\"font\": {\"color\": \"#4D5663\"}, \"text\": \"\"}, \"zerolinecolor\": \"#E1E5ED\"}, \"yaxis4\": {\"anchor\": \"x4\", \"domain\": [0.8025, 1.0], \"gridcolor\": \"#E1E5ED\", \"showgrid\": false, \"tickfont\": {\"color\": \"#4D5663\"}, \"title\": {\"font\": {\"color\": \"#4D5663\"}, \"text\": \"\"}, \"zerolinecolor\": \"#E1E5ED\"}, \"yaxis5\": {\"anchor\": \"x5\", \"domain\": [0.535, 0.7325], \"gridcolor\": \"#E1E5ED\", \"showgrid\": false, \"tickfont\": {\"color\": \"#4D5663\"}, \"title\": {\"font\": {\"color\": \"#4D5663\"}, \"text\": \"\"}, \"zerolinecolor\": \"#E1E5ED\"}, \"yaxis6\": {\"anchor\": \"x6\", \"domain\": [0.535, 0.7325], \"gridcolor\": \"#E1E5ED\", \"showgrid\": false, \"tickfont\": {\"color\": \"#4D5663\"}, \"title\": {\"font\": {\"color\": \"#4D5663\"}, \"text\": \"\"}, \"zerolinecolor\": \"#E1E5ED\"}, \"yaxis7\": {\"anchor\": \"x7\", \"domain\": [0.535, 0.7325], \"gridcolor\": \"#E1E5ED\", \"showgrid\": false, \"tickfont\": {\"color\": \"#4D5663\"}, \"title\": {\"font\": {\"color\": \"#4D5663\"}, \"text\": \"\"}, \"zerolinecolor\": \"#E1E5ED\"}, \"yaxis8\": {\"anchor\": \"x8\", \"domain\": [0.535, 0.7325], \"gridcolor\": \"#E1E5ED\", \"showgrid\": false, \"tickfont\": {\"color\": \"#4D5663\"}, \"title\": {\"font\": {\"color\": \"#4D5663\"}, \"text\": \"\"}, \"zerolinecolor\": \"#E1E5ED\"}, \"yaxis9\": {\"anchor\": \"x9\", \"domain\": [0.2675, 0.465], \"gridcolor\": \"#E1E5ED\", \"showgrid\": false, \"tickfont\": {\"color\": \"#4D5663\"}, \"title\": {\"font\": {\"color\": \"#4D5663\"}, \"text\": \"\"}, \"zerolinecolor\": \"#E1E5ED\"}},\n",
       "                        {\"showLink\": true, \"linkText\": \"Export to plot.ly\", \"plotlyServerURL\": \"https://plot.ly\", \"responsive\": true}\n",
       "                    ).then(function(){\n",
       "                            \n",
       "var gd = document.getElementById('7ea750e0-b65b-4614-9131-0fbd27056492');\n",
       "var x = new MutationObserver(function (mutations, observer) {{\n",
       "        var display = window.getComputedStyle(gd).display;\n",
       "        if (!display || display === 'none') {{\n",
       "            console.log([gd, 'removed!']);\n",
       "            Plotly.purge(gd);\n",
       "            observer.disconnect();\n",
       "        }}\n",
       "}});\n",
       "\n",
       "// Listen for the removal of the full notebook cells\n",
       "var notebookContainer = gd.closest('#notebook-container');\n",
       "if (notebookContainer) {{\n",
       "    x.observe(notebookContainer, {childList: true});\n",
       "}}\n",
       "\n",
       "// Listen for the clearing of the current output cell\n",
       "var outputEl = gd.closest('.output');\n",
       "if (outputEl) {{\n",
       "    x.observe(outputEl, {childList: true});\n",
       "}}\n",
       "\n",
       "                        })\n",
       "                };\n",
       "                });\n",
       "            </script>\n",
       "        </div>"
      ]
     },
     "metadata": {},
     "output_type": "display_data"
    }
   ],
   "source": [
    "df.scatter_matrix()"
   ]
  },
  {
   "cell_type": "markdown",
   "metadata": {
    "collapsed": true
   },
   "source": [
    "# Great Job! Keep Practice!"
   ]
  },
  {
   "cell_type": "code",
   "execution_count": null,
   "metadata": {},
   "outputs": [],
   "source": []
  }
 ],
 "metadata": {
  "kernelspec": {
   "display_name": "Python 3",
   "language": "python",
   "name": "python3"
  },
  "language_info": {
   "codemirror_mode": {
    "name": "ipython",
    "version": 3
   },
   "file_extension": ".py",
   "mimetype": "text/x-python",
   "name": "python",
   "nbconvert_exporter": "python",
   "pygments_lexer": "ipython3",
   "version": "3.7.4"
  }
 },
 "nbformat": 4,
 "nbformat_minor": 1
}
